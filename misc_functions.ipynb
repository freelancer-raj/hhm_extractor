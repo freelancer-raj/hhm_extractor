{
 "cells": [
  {
   "cell_type": "code",
   "execution_count": null,
   "metadata": {},
   "outputs": [],
   "source": [
    "!pip freeze > requirements.txt"
   ]
  },
  {
   "cell_type": "code",
   "execution_count": 1,
   "metadata": {},
   "outputs": [],
   "source": [
    "import spacy\n",
    "import os\n",
    "import pandas as pd\n",
    "from spacy_wordnet.wordnet_annotator import WordnetAnnotator \n",
    "from collections import defaultdict\n",
    "import ast\n",
    "from tqdm import tqdm"
   ]
  },
  {
   "cell_type": "markdown",
   "metadata": {},
   "source": [
    "###### Constants"
   ]
  },
  {
   "cell_type": "code",
   "execution_count": null,
   "metadata": {},
   "outputs": [],
   "source": [
    "window = 15"
   ]
  },
  {
   "cell_type": "code",
   "execution_count": null,
   "metadata": {},
   "outputs": [],
   "source": []
  },
  {
   "cell_type": "code",
   "execution_count": null,
   "metadata": {},
   "outputs": [],
   "source": [
    "data_directory = os.path.join(os.getcwd(), \"data\")\n",
    "corpus_fpath = os.path.join(data_directory, \"corpus.txt\")\n",
    "out_file = os.path.join(data_directory, \"noun_context_corpus.txt\")"
   ]
  },
  {
   "cell_type": "code",
   "execution_count": null,
   "metadata": {},
   "outputs": [],
   "source": [
    "with open(corpus_fpath, \"r\") as f:\n",
    "    corpus_data = f.readlines()\n"
   ]
  },
  {
   "cell_type": "code",
   "execution_count": null,
   "metadata": {},
   "outputs": [],
   "source": [
    "with open(out_file, \"w\") as f:\n",
    "    for txt_line in corpus_data:\n",
    "        nlp_data = nlp(txt_line.replace(\"\\n\", \"\"))\n",
    "        max_tokens = len(nlp_data)\n",
    "        for i, tok in enumerate(nlp_data):\n",
    "            if \"NN\" in tok.tag_:\n",
    "                start = max(0, i-window)\n",
    "                end = min(i+window, max_tokens)\n",
    "                left_context = [t.text for t in nlp_data[start:i]]\n",
    "                right_context = [t.text for t in nlp_data[i:end]]\n",
    "                noun_in_context = \" \".join(left_context + right_context)\n",
    "                f.write(f\"{tok.text} - {noun_in_context}\\n\")"
   ]
  },
  {
   "cell_type": "code",
   "execution_count": null,
   "metadata": {},
   "outputs": [],
   "source": [
    "nlp_data[2]"
   ]
  },
  {
   "cell_type": "code",
   "execution_count": null,
   "metadata": {},
   "outputs": [],
   "source": [
    "def prepare_corpus_data_with_context(corpus_filepath, window=5, force_update=False):\n",
    "    nlp = spacy.load('en')\n",
    "    with open(corpus_fpath, \"r\") as f:\n",
    "        corpus_data = f.readlines()\n",
    "    out_file = os.path.join(os.path.dirname(corpus_fpath), f\"window_{window}_context_corpus.txt\")\n",
    "    contextual_data = []\n",
    "    if os.path.exists(out_file) and (not force_update):\n",
    "        print(\"Found preexisting file. Loading context data from file\")\n",
    "        with open(out_file, \"r\") as f:\n",
    "            contextual_data = f.readlines()\n",
    "    else:\n",
    "        print(\"No pre created corpus found, or force update flag is true. Generating contextual data from corpus\")\n",
    "        with open(out_file, \"w\") as f:\n",
    "            for txt_line in corpus_data:\n",
    "                nlp_data = nlp(txt_line.replace(\"\\n\", \"\"))\n",
    "                max_tokens = len(nlp_data)\n",
    "                for i, tok in enumerate(nlp_data):\n",
    "                    if \"NN\" in tok.tag_:\n",
    "                        start = max(0, i-window)\n",
    "                        end = min(i+window, max_tokens)\n",
    "                        left_context = [t.text for t in nlp_data[start:i]] + [f\"<{tok.text}>\"]\n",
    "                        right_context = [t.text for t in nlp_data[i+1:end]]\n",
    "                        noun_in_context = f\"<{tok.text}> - {' '.join(left_context + right_context)}\"\n",
    "                        contextual_data.append(noun_in_context)\n",
    "                        f.write(noun_in_context + \"\\n\")\n",
    "    return contextual_data\n"
   ]
  },
  {
   "cell_type": "code",
   "execution_count": null,
   "metadata": {},
   "outputs": [],
   "source": [
    "contextual_data = prepare_corpus_data_with_context(corpus_fpath, window, force_update=True)"
   ]
  },
  {
   "cell_type": "code",
   "execution_count": null,
   "metadata": {},
   "outputs": [],
   "source": [
    "contextual_data"
   ]
  },
  {
   "cell_type": "code",
   "execution_count": null,
   "metadata": {},
   "outputs": [],
   "source": [
    "def get_sense_group_from_corpus(context_data, wsd_model, sense_vectors, output_file):\n",
    "    output = {\n",
    "        \"word\": [],\n",
    "        \"context\": [],\n",
    "        \"sense_id\": [],\n",
    "        \"sense_group_name\": [],\n",
    "        \"sense_group_num\": [],\n",
    "        \"sense_probability\": [],\n",
    "        \"related_senses\": []\n",
    "    }\n",
    "    \n",
    "    for row in context_data:\n",
    "        word, ctx = row.split(' - ')\n",
    "        sense_id, sense_probs = wsd_model.disambiguate(corpus_data, test_word)\n",
    "        sense_probability = max(sense_probs)\n",
    "        sense_group_name, sense_group_num = sense_id.split(\"#\")\n",
    "        related_senses = [r_senseid for r_senseid,_ in sense_vectors.wv.most_similar(sense_id)]\n",
    "        related_senses_l2 = [r_senseid for r_senseid,_ in sense_vectors.wv.most_similar(related_sense) for related_sense in related_senses]\n",
    "        output[\"word\"].append(word)\n",
    "        output[\"context\"].append(ctx)\n",
    "        output[\"sense_id\"].append(sense_id)\n",
    "        output[\"sense_group_name\"].append(sense_group_name)\n",
    "        output[\"sense_group_num\"].append(sense_group_num)\n",
    "        output[\"sense_probability\"].append(sense_probability)\n",
    "        output[\"related_senses\"].append(related_senses+related_senses_l2)\n",
    "    \n",
    "    output_df = pd.DataFrame(output)\n",
    "    output_df.to_csv(output_file, index=False)\n",
    "    \n",
    "    return output_df"
   ]
  },
  {
   "cell_type": "code",
   "execution_count": null,
   "metadata": {},
   "outputs": [],
   "source": [
    "import nltk\n",
    "nltk.download('wordnet')\n",
    "from nltk.corpus import wordnet as wn"
   ]
  },
  {
   "cell_type": "code",
   "execution_count": null,
   "metadata": {},
   "outputs": [],
   "source": [
    "nlp = spacy.load(\"en\")\n",
    "nlp.add_pipe(WordnetAnnotator(nlp.lang), after='tagger')"
   ]
  },
  {
   "cell_type": "code",
   "execution_count": null,
   "metadata": {},
   "outputs": [],
   "source": [
    "token = nlp('prices')[0]"
   ]
  },
  {
   "cell_type": "code",
   "execution_count": null,
   "metadata": {},
   "outputs": [],
   "source": [
    "token._.wordnet.synsets()[0].hyponyms()"
   ]
  },
  {
   "cell_type": "code",
   "execution_count": null,
   "metadata": {},
   "outputs": [],
   "source": [
    "token._.wordnet.synsets()[0].part_meronyms()  "
   ]
  },
  {
   "cell_type": "markdown",
   "metadata": {},
   "source": [
    "#### HHM Algo - \n",
    "\n",
    "###### For hypernym extraction\n",
    "1. Create empty dict of hypernyms  -   \n",
    "    ```\n",
    "    {\n",
    "\t\"word_num\": [{\n",
    "\t\t\"hypernym_1\": {\n",
    "\t\t\t\"rev_map\": {\n",
    "\t\t\t\t\"direct\": [{\n",
    "\t\t\t\t\t\"sense_id\": synset_object\n",
    "\t\t\t\t}],\n",
    "\t\t\t\t\"L1\": [{}],\n",
    "\t\t\t\t\"L2\": [{}]\n",
    "\t\t\t},\n",
    "\t\t\t\"weight\": num\n",
    "\t\t},\n",
    "\t\t\"hypernym_2\": {}\n",
    "\t}]}\n",
    "    ```\n",
    "- For each word in data \n",
    "    - extract hypernym from synset mappings for word#number - Highest weight(8)\n",
    "    - extract hypernym for all other synset mappings(5)\n",
    "    - For each related word level 1 \n",
    "        - Extract hypernym for word#number - weight(3)\n",
    "        - Extract hypernym for all others - weight(2)\n",
    "    - For each related word level 2\n",
    "        - Extract hypernym for word#number - weight(1)\n",
    "        - Extract hypernym for all others - weight(0.5)\n",
    "    - Keep adding the hypernym weight to the right key. \n",
    "    - Identify the right hypernym - One with highest weight and present in data, else next highest, and so on.\n",
    "    - maintain a reverse map for each hypernym(for hyponymy calculation)\n",
    "\n",
    "##### For hyponymy\n",
    "1. Initialize dict for hyponyms - ```{word: [hyponym1, hyponym2, ...]}```\n",
    "- Use rev map created in previous step to identify hyponyms of the noun under consideration.\n",
    "- For each entry in rev_map, get hyponyms from the synset object. Maintain the direct, L1, L2 structure.\n",
    "- Extract and preserve hyponyms that exist in the data\n",
    "\n",
    "##### For meronymy\n",
    "1. Use hypernymy-hyponymy relation to create a tree structure. \n",
    "2. For each level of the tree, identify meronyms for each node, and preserve common meronyms, that are also present in the data."
   ]
  },
  {
   "cell_type": "markdown",
   "metadata": {},
   "source": [
    "#### Hypernymy extractor"
   ]
  },
  {
   "cell_type": "code",
   "execution_count": null,
   "metadata": {},
   "outputs": [],
   "source": [
    "weights = {\n",
    "    \"direct_match\": 8,\n",
    "    \"direct_nomatch\": 5,\n",
    "    \"l1_match\": 3,\n",
    "    \"l1_nomatch\": 2,\n",
    "    \"l2_match\": 1,\n",
    "    \"l2_nomatch\": 0.5,\n",
    "}"
   ]
  },
  {
   "cell_type": "code",
   "execution_count": null,
   "metadata": {},
   "outputs": [],
   "source": [
    "import spacy\n",
    "import os\n",
    "import pandas as pd\n",
    "from spacy_wordnet.wordnet_annotator import WordnetAnnotator \n",
    "\n",
    "nlp = spacy.load(\"en\")\n",
    "nlp.add_pipe(WordnetAnnotator(nlp.lang), after='tagger')\n",
    "\n",
    "\n",
    "df = pd.read_csv(\"corpus_sense_mapping.csv\")\n",
    "df.head(n=20)"
   ]
  },
  {
   "cell_type": "code",
   "execution_count": null,
   "metadata": {},
   "outputs": [],
   "source": [
    "def generate_hypernymy(word, idx, hypernymy_dict, level=\"l1\"):\n",
    "    token = nlp(str(word))[0]\n",
    "    synsets = token._.wordnet.synsets()\n",
    "    for syn in synsets:\n",
    "        if syn.name().split(\".n.\")[0] == word and int(syn.name().split(\".n.\")[1]) == idx:\n",
    "            match_str = \"match\"\n",
    "        else:\n",
    "            match_str = \"nomatch\"\n",
    "\n",
    "        hypernym_syn = syn.hypernyms()\n",
    "        hyponym_syn = syn.hyponyms()\n",
    "        meronym_syn = syn.part_meronyms()\n",
    "        if len(hypernym_syn) >0:\n",
    "            hypernym = hypernym_syn[0].name().split('.')[0]\n",
    "            rev_map = {\n",
    "                f\"{word}#{idx}\":syn,\n",
    "                \"hyponyms\": [hyp.name().split(\".\")[0] for hyp in hyponym_syn],\n",
    "                \"meronyms\": [mero.name().split(\".\")[0] for mero in meronym_syn]\n",
    "            }\n",
    "            if level in hypernymy_dict[hypernym][\"rev_map\"]:\n",
    "                hypernymy_dict[hypernym][\"rev_map\"][level].append(rev_map) \n",
    "            else:\n",
    "                hypernymy_dict[hypernym][\"rev_map\"][level] = [rev_map]\n",
    "\n",
    "            if \"sum_weight\" in hypernymy_dict[hypernym]:\n",
    "                hypernymy_dict[hypernym][\"sum_weight\"] += weights[f\"{level}_{match_str}\"]\n",
    "            else:\n",
    "                hypernymy_dict[hypernym][\"sum_weight\"] = weights[f\"{level}_{match_str}\"]"
   ]
  },
  {
   "cell_type": "code",
   "execution_count": null,
   "metadata": {},
   "outputs": [],
   "source": [
    "def extract_hyponyms_meronym(hypernymy_dict, hypernym, kind=\"hyponyms\"):\n",
    "    nym = []\n",
    "    reverse_map = hypernymy_dict[hypernym]['rev_map']\n",
    "    extract_from = []\n",
    "    if \"direct\" in reverse_map:\n",
    "        extract_from.append(\"direct\")\n",
    "    if \"l1\" in reverse_map:\n",
    "        extract_from.append(\"l1\")\n",
    "    \n",
    "    for relation in extract_from:\n",
    "        num_relations = len(reverse_map[relation])\n",
    "        for i in range(num_relations):\n",
    "            nym += reverse_map[relation][i][kind]\n",
    "            \n",
    "    return list(set(nym))\n",
    "            "
   ]
  },
  {
   "cell_type": "code",
   "execution_count": null,
   "metadata": {},
   "outputs": [],
   "source": [
    "all_hypernymy = []\n",
    "all_hhm_map = []\n",
    "all_hyponyms = []\n",
    "all_meronyms = []\n",
    "num_words = len(df)\n",
    "for _, row in tqdm(df[[\"sense_group_name\", \"sense_group_num\", \"related_senses\"]].iterrows(), total=num_words):\n",
    "    word, idx, r_senses = row\n",
    "    \n",
    "    hypernymy_dict = defaultdict(lambda: defaultdict(dict))\n",
    "    generate_hypernymy(word, idx, hypernymy_dict, level=\"direct\")\n",
    "    r_senses_list = ast.literal_eval(r_senses)\n",
    "    for w in r_senses_list:\n",
    "        related_word, related_idx = str(w).split(\"#\")\n",
    "        generate_hypernymy(related_word, related_idx, hypernymy_dict)\n",
    "    if len(hypernymy_dict)>0:\n",
    "        hypernymy_dict_sorted = {k: v for k, v in sorted(hypernymy_dict.items(), key=lambda item: item[1]['sum_weight'], reverse=True)}\n",
    "        hypernym_name = list(hypernymy_dict_sorted.keys())[0]\n",
    "        \n",
    "        hyponyms = extract_hyponyms_meronym(hypernymy_dict_sorted, hypernym_name, kind=\"hyponyms\")\n",
    "        meronyms = extract_hyponyms_meronym(hypernymy_dict_sorted, hypernym_name, kind=\"meronyms\")\n",
    "        \n",
    "        all_hypernyms.append(hypernym_name)\n",
    "        all_hyponyms.append(hyponyms)\n",
    "        all_meronyms.append(meronyms)\n",
    "        all_hhm_map.append(hypernymy_dict_sorted)\n",
    "    else:\n",
    "        all_hypernyms.append(\"--NA--\")\n",
    "        all_hyponyms.append(\"--NA--\")\n",
    "        all_meronyms.append(\"--NA--\")\n",
    "        all_hhm_map.append(hypernymy_dict)"
   ]
  },
  {
   "cell_type": "code",
   "execution_count": null,
   "metadata": {},
   "outputs": [],
   "source": [
    "extract_hyponyms_meronym(all_hhm_map[0], 'sanskrit', kind=\"hyponyms\")"
   ]
  },
  {
   "cell_type": "code",
   "execution_count": null,
   "metadata": {},
   "outputs": [],
   "source": [
    "all_meronyms"
   ]
  },
  {
   "cell_type": "markdown",
   "metadata": {},
   "source": [
    "#### Hyponymy"
   ]
  },
  {
   "cell_type": "code",
   "execution_count": null,
   "metadata": {
    "scrolled": true
   },
   "outputs": [],
   "source": [
    "num_vals = len(all_hypernymy[2][all_hypernyms[2]][\"rev_map\"][\"direct\"])\n",
    "hyponyms = []\n",
    "meronyms = []\n",
    "for i in range(0,num_vals):\n",
    "    print(list(all_hypernymy[2][all_hypernyms[2]][\"rev_map\"][\"direct\"][i].values())[0].part_meronyms())"
   ]
  },
  {
   "cell_type": "code",
   "execution_count": null,
   "metadata": {},
   "outputs": [],
   "source": [
    "num_vals2 = len(all_hypernymy[0][all_hypernyms[0]][\"rev_map\"][\"l1\"])\n",
    "for i in range(0,num_vals2):\n",
    "    print(list(all_hypernymy[0][all_hypernyms[0]][\"rev_map\"][\"l1\"][i].values())[0].part_meronyms())"
   ]
  },
  {
   "cell_type": "markdown",
   "metadata": {},
   "source": [
    "#### Graph"
   ]
  },
  {
   "cell_type": "code",
   "execution_count": 436,
   "metadata": {},
   "outputs": [],
   "source": [
    "hhm_mappings_file = os.path.join(\"hhm_mappings.csv\")\n",
    "sense_group_dataframe = pd.read_csv(hhm_mappings_file)"
   ]
  },
  {
   "cell_type": "code",
   "execution_count": 454,
   "metadata": {
    "scrolled": true
   },
   "outputs": [
    {
     "data": {
      "text/html": [
       "<div>\n",
       "<style scoped>\n",
       "    .dataframe tbody tr th:only-of-type {\n",
       "        vertical-align: middle;\n",
       "    }\n",
       "\n",
       "    .dataframe tbody tr th {\n",
       "        vertical-align: top;\n",
       "    }\n",
       "\n",
       "    .dataframe thead th {\n",
       "        text-align: right;\n",
       "    }\n",
       "</style>\n",
       "<table border=\"1\" class=\"dataframe\">\n",
       "  <thead>\n",
       "    <tr style=\"text-align: right;\">\n",
       "      <th></th>\n",
       "      <th>Unnamed: 0</th>\n",
       "      <th>word</th>\n",
       "      <th>context</th>\n",
       "      <th>sense_id</th>\n",
       "      <th>sense_group_name</th>\n",
       "      <th>sense_group_num</th>\n",
       "      <th>sense_probability</th>\n",
       "      <th>related_senses</th>\n",
       "      <th>hhm_map</th>\n",
       "      <th>hypernym</th>\n",
       "      <th>hyponym</th>\n",
       "      <th>meronym</th>\n",
       "      <th>hypernym_from_corpus</th>\n",
       "      <th>hyponym_from_corpus</th>\n",
       "      <th>meronym_from_corpus</th>\n",
       "    </tr>\n",
       "  </thead>\n",
       "  <tbody>\n",
       "    <tr>\n",
       "      <th>1321</th>\n",
       "      <td>1321</td>\n",
       "      <td>&lt;Smile&gt;</td>\n",
       "      <td>good first day back at workpretty happy &lt;Smile&gt;\\n</td>\n",
       "      <td>Smile#2</td>\n",
       "      <td>Smile</td>\n",
       "      <td>2</td>\n",
       "      <td>0.975815</td>\n",
       "      <td>['smile#1', 'wink#2', 'Wink#2', 'WINK#1', 'smi...</td>\n",
       "      <td>{'facial_expression': defaultdict(&lt;class 'dict...</td>\n",
       "      <td>facial_expression</td>\n",
       "      <td>['pout', 'simper', 'smirk', 'cheap_shot']</td>\n",
       "      <td>[]</td>\n",
       "      <td>remark</td>\n",
       "      <td>[]</td>\n",
       "      <td>[]</td>\n",
       "    </tr>\n",
       "    <tr>\n",
       "      <th>1322</th>\n",
       "      <td>1322</td>\n",
       "      <td>&lt;cold&gt;</td>\n",
       "      <td>&lt;cold&gt; hard ignorance to the amount of work th...</td>\n",
       "      <td>cold#1</td>\n",
       "      <td>cold</td>\n",
       "      <td>1</td>\n",
       "      <td>0.990678</td>\n",
       "      <td>['COLD#2', 'Cold#2', 'cool#3', 'hot#4', 'windy...</td>\n",
       "      <td>{'change': defaultdict(&lt;class 'dict'&gt;, {'rev_m...</td>\n",
       "      <td>change</td>\n",
       "      <td>['quench', 'drip-dry', 'spray-dry', 'dehydrate...</td>\n",
       "      <td>[]</td>\n",
       "      <td>make</td>\n",
       "      <td>['air', 'ice', 'water']</td>\n",
       "      <td>[]</td>\n",
       "    </tr>\n",
       "    <tr>\n",
       "      <th>1323</th>\n",
       "      <td>1323</td>\n",
       "      <td>&lt;ignorance&gt;</td>\n",
       "      <td>cold hard &lt;ignorance&gt; to the amount of work th...</td>\n",
       "      <td>ignorance#1</td>\n",
       "      <td>ignorance</td>\n",
       "      <td>1</td>\n",
       "      <td>0.941543</td>\n",
       "      <td>['Ignorance#2', 'Willful#3', 'Malice#2', 'Gree...</td>\n",
       "      <td>{'malevolence': defaultdict(&lt;class 'dict'&gt;, {'...</td>\n",
       "      <td>malevolence</td>\n",
       "      <td>['malice', 'vindictiveness', 'maleficence']</td>\n",
       "      <td>[]</td>\n",
       "      <td>hate</td>\n",
       "      <td>[]</td>\n",
       "      <td>[]</td>\n",
       "    </tr>\n",
       "    <tr>\n",
       "      <th>1324</th>\n",
       "      <td>1324</td>\n",
       "      <td>&lt;amount&gt;</td>\n",
       "      <td>cold hard ignorance to the &lt;amount&gt; of work th...</td>\n",
       "      <td>amount#1</td>\n",
       "      <td>amount</td>\n",
       "      <td>1</td>\n",
       "      <td>0.982760</td>\n",
       "      <td>['Amount#2', 'Quantity#2', 'Proportion#2', 'Nu...</td>\n",
       "      <td>{'magnitude': defaultdict(&lt;class 'dict'&gt;, {'re...</td>\n",
       "      <td>magnitude</td>\n",
       "      <td>['decrease', 'quantity', 'critical_mass', 'dol...</td>\n",
       "      <td>[]</td>\n",
       "      <td>name</td>\n",
       "      <td>['number']</td>\n",
       "      <td>[]</td>\n",
       "    </tr>\n",
       "    <tr>\n",
       "      <th>1325</th>\n",
       "      <td>1325</td>\n",
       "      <td>&lt;work&gt;</td>\n",
       "      <td>cold hard ignorance to the amount of &lt;work&gt; th...</td>\n",
       "      <td>work#5</td>\n",
       "      <td>work</td>\n",
       "      <td>5</td>\n",
       "      <td>0.993187</td>\n",
       "      <td>['Endeavours#1', 'laborious_task#5', 'Professi...</td>\n",
       "      <td>{'activity': defaultdict(&lt;class 'dict'&gt;, {'rev...</td>\n",
       "      <td>activity</td>\n",
       "      <td>['logging', 'undertaking', 'foray', 'loose_end...</td>\n",
       "      <td>[]</td>\n",
       "      <td>body</td>\n",
       "      <td>['best', 'care', 'essay', 'job']</td>\n",
       "      <td>[]</td>\n",
       "    </tr>\n",
       "    <tr>\n",
       "      <th>1326</th>\n",
       "      <td>1326</td>\n",
       "      <td>&lt;google&gt;</td>\n",
       "      <td>a quick &lt;google&gt; tells me that they re the fam...</td>\n",
       "      <td>google#1</td>\n",
       "      <td>google</td>\n",
       "      <td>1</td>\n",
       "      <td>0.506213</td>\n",
       "      <td>['Google_Analytics#1', 'Gmail_Google#1', 'Ever...</td>\n",
       "      <td>{'research': defaultdict(&lt;class 'dict'&gt;, {'rev...</td>\n",
       "      <td>research</td>\n",
       "      <td>[]</td>\n",
       "      <td>[]</td>\n",
       "      <td>utter</td>\n",
       "      <td>[]</td>\n",
       "      <td>[]</td>\n",
       "    </tr>\n",
       "    <tr>\n",
       "      <th>1327</th>\n",
       "      <td>1327</td>\n",
       "      <td>&lt;family&gt;</td>\n",
       "      <td>a quick google tells me that they re the &lt;fami...</td>\n",
       "      <td>family#4</td>\n",
       "      <td>family</td>\n",
       "      <td>4</td>\n",
       "      <td>0.966598</td>\n",
       "      <td>['FAMILY#2', 'Family#2', 'upbringing#3', 'Upbr...</td>\n",
       "      <td>{'parent': defaultdict(&lt;class 'dict'&gt;, {'rev_m...</td>\n",
       "      <td>parent</td>\n",
       "      <td>['dad', 'quintipara', 'puerpera', 'mater', 'su...</td>\n",
       "      <td>[]</td>\n",
       "      <td>head</td>\n",
       "      <td>['ma']</td>\n",
       "      <td>[]</td>\n",
       "    </tr>\n",
       "    <tr>\n",
       "      <th>1328</th>\n",
       "      <td>1328</td>\n",
       "      <td>&lt;man&gt;</td>\n",
       "      <td>a quick google tells me that they re the famil...</td>\n",
       "      <td>man#1</td>\n",
       "      <td>man</td>\n",
       "      <td>1</td>\n",
       "      <td>0.991741</td>\n",
       "      <td>['MAN#1', 'Man#2', 'Stranger#2', 'stranger#1',...</td>\n",
       "      <td>{'person': defaultdict(&lt;class 'dict'&gt;, {'rev_m...</td>\n",
       "      <td>person</td>\n",
       "      <td>[]</td>\n",
       "      <td>[]</td>\n",
       "      <td>class</td>\n",
       "      <td>[]</td>\n",
       "      <td>[]</td>\n",
       "    </tr>\n",
       "    <tr>\n",
       "      <th>1329</th>\n",
       "      <td>1329</td>\n",
       "      <td>&lt;simpson&gt;</td>\n",
       "      <td>quick google tells me that they re the family ...</td>\n",
       "      <td>simpson#2</td>\n",
       "      <td>simpson</td>\n",
       "      <td>2</td>\n",
       "      <td>0.988171</td>\n",
       "      <td>['Simpson#2', 'ramirez#2', 'Ramirez#2', 'KENNE...</td>\n",
       "      <td>{'methylenedioxymethamphetamine': defaultdict(...</td>\n",
       "      <td>methylenedioxymethamphetamine</td>\n",
       "      <td>[]</td>\n",
       "      <td>[]</td>\n",
       "      <td>NaN</td>\n",
       "      <td>[]</td>\n",
       "      <td>[]</td>\n",
       "    </tr>\n",
       "    <tr>\n",
       "      <th>1330</th>\n",
       "      <td>1330</td>\n",
       "      <td>&lt;shift&gt;</td>\n",
       "      <td>I have a loooooooooooooooong &lt;shift&gt; today Sad\\n</td>\n",
       "      <td>shift#2</td>\n",
       "      <td>shift</td>\n",
       "      <td>2</td>\n",
       "      <td>0.791133</td>\n",
       "      <td>['SHIFT#2', 'Shift#1', 'reset#2', 'RESET#2', '...</td>\n",
       "      <td>{'change': defaultdict(&lt;class 'dict'&gt;, {'rev_m...</td>\n",
       "      <td>change</td>\n",
       "      <td>['conclude', 'decide', 'citify', 'phase_out', ...</td>\n",
       "      <td>[]</td>\n",
       "      <td>load</td>\n",
       "      <td>['decide', 'tune', 'back', 'finish', 'close', ...</td>\n",
       "      <td>[]</td>\n",
       "    </tr>\n",
       "    <tr>\n",
       "      <th>1331</th>\n",
       "      <td>1331</td>\n",
       "      <td>&lt;today&gt;</td>\n",
       "      <td>I have a loooooooooooooooong shift &lt;today&gt; Sad\\n</td>\n",
       "      <td>today#2</td>\n",
       "      <td>today</td>\n",
       "      <td>2</td>\n",
       "      <td>0.811293</td>\n",
       "      <td>['Today#1', 'TODAY#1', 'photos#2', 'Photos#1',...</td>\n",
       "      <td>{'change': defaultdict(&lt;class 'dict'&gt;, {'rev_m...</td>\n",
       "      <td>change</td>\n",
       "      <td>['flop', 'malfunction', 'break', 'slump', 'cra...</td>\n",
       "      <td>[]</td>\n",
       "      <td>pass</td>\n",
       "      <td>['break']</td>\n",
       "      <td>[]</td>\n",
       "    </tr>\n",
       "    <tr>\n",
       "      <th>1332</th>\n",
       "      <td>1332</td>\n",
       "      <td>&lt;Sad&gt;</td>\n",
       "      <td>I have a loooooooooooooooong shift today &lt;Sad&gt;\\n</td>\n",
       "      <td>Sad#2</td>\n",
       "      <td>Sad</td>\n",
       "      <td>2</td>\n",
       "      <td>0.818152</td>\n",
       "      <td>['sad#2', 'SAD#1', 'SSA#1', 'cI#3', 'ci#3', 'C...</td>\n",
       "      <td>{'radioactivity_unit': defaultdict(&lt;class 'dic...</td>\n",
       "      <td>radioactivity_unit</td>\n",
       "      <td>[]</td>\n",
       "      <td>['millicurie']</td>\n",
       "      <td>join</td>\n",
       "      <td>[]</td>\n",
       "      <td>[]</td>\n",
       "    </tr>\n",
       "    <tr>\n",
       "      <th>1333</th>\n",
       "      <td>1333</td>\n",
       "      <td>&lt;milgram&gt;</td>\n",
       "      <td>one can not help but recall the &lt;milgram&gt; expe...</td>\n",
       "      <td>milgram#0</td>\n",
       "      <td>milgram</td>\n",
       "      <td>0</td>\n",
       "      <td>1.000000</td>\n",
       "      <td>[]</td>\n",
       "      <td>defaultdict(&lt;function &lt;lambda&gt; at 0x7f73c69a91...</td>\n",
       "      <td>NaN</td>\n",
       "      <td>[]</td>\n",
       "      <td>[]</td>\n",
       "      <td>[]</td>\n",
       "      <td>[]</td>\n",
       "      <td>[]</td>\n",
       "    </tr>\n",
       "    <tr>\n",
       "      <th>1334</th>\n",
       "      <td>1334</td>\n",
       "      <td>&lt;experiment&gt;</td>\n",
       "      <td>one can not help but recall the milgram &lt;exper...</td>\n",
       "      <td>experiment#4</td>\n",
       "      <td>experiment</td>\n",
       "      <td>4</td>\n",
       "      <td>0.999259</td>\n",
       "      <td>['eXperiment#5', 'Experiment#5', 'STEP#7', 'me...</td>\n",
       "      <td>{'activity': defaultdict(&lt;class 'dict'&gt;, {'rev...</td>\n",
       "      <td>activity</td>\n",
       "      <td>['rigmarole', 'stiffening', 'mapping', 'inform...</td>\n",
       "      <td>[]</td>\n",
       "      <td>represent</td>\n",
       "      <td>['support']</td>\n",
       "      <td>[]</td>\n",
       "    </tr>\n",
       "    <tr>\n",
       "      <th>1335</th>\n",
       "      <td>1335</td>\n",
       "      <td>&lt;clipboard&gt;</td>\n",
       "      <td>one can not help but recall the milgram experi...</td>\n",
       "      <td>clipboard#1</td>\n",
       "      <td>clipboard</td>\n",
       "      <td>1</td>\n",
       "      <td>0.770075</td>\n",
       "      <td>['Clipboard#1', 'virtual_folders#1', 'Control_...</td>\n",
       "      <td>{'writing_board': defaultdict(&lt;class 'dict'&gt;, ...</td>\n",
       "      <td>writing_board</td>\n",
       "      <td>[]</td>\n",
       "      <td>[]</td>\n",
       "      <td>treat</td>\n",
       "      <td>[]</td>\n",
       "      <td>[]</td>\n",
       "    </tr>\n",
       "    <tr>\n",
       "      <th>1336</th>\n",
       "      <td>1336</td>\n",
       "      <td>&lt;authority&gt;</td>\n",
       "      <td>one can not help but recall the milgram experi...</td>\n",
       "      <td>authority#1</td>\n",
       "      <td>authority</td>\n",
       "      <td>1</td>\n",
       "      <td>0.955406</td>\n",
       "      <td>['AUTHORITY#3', 'Authority#2', 'proconsular_au...</td>\n",
       "      <td>{'state': defaultdict(&lt;class 'dict'&gt;, {'rev_ma...</td>\n",
       "      <td>state</td>\n",
       "      <td>['executive_clemency', 'hegemon', 'war_power',...</td>\n",
       "      <td>[]</td>\n",
       "      <td>market</td>\n",
       "      <td>[]</td>\n",
       "      <td>[]</td>\n",
       "    </tr>\n",
       "    <tr>\n",
       "      <th>1337</th>\n",
       "      <td>1337</td>\n",
       "      <td>&lt;circumstances&gt;</td>\n",
       "      <td>one can not help but recall the milgram experi...</td>\n",
       "      <td>circumstances#1</td>\n",
       "      <td>circumstances</td>\n",
       "      <td>1</td>\n",
       "      <td>0.861429</td>\n",
       "      <td>['extenuating_circumstances#1', 'Circumstances...</td>\n",
       "      <td>{'condition': defaultdict(&lt;class 'dict'&gt;, {'re...</td>\n",
       "      <td>condition</td>\n",
       "      <td>['soup', 'stymie', 'providence', 'failure', 'h...</td>\n",
       "      <td>[]</td>\n",
       "      <td>idea</td>\n",
       "      <td>['soup', 'hinge', 'event', 'place']</td>\n",
       "      <td>[]</td>\n",
       "    </tr>\n",
       "    <tr>\n",
       "      <th>1338</th>\n",
       "      <td>1338</td>\n",
       "      <td>&lt;cats&gt;</td>\n",
       "      <td>went to see out of &lt;cats&gt; being recorded tonig...</td>\n",
       "      <td>cats#2</td>\n",
       "      <td>cats</td>\n",
       "      <td>2</td>\n",
       "      <td>0.891644</td>\n",
       "      <td>['CATS#2', 'crows#3', 'Crows#3', 'CROWS#3', 'b...</td>\n",
       "      <td>{'boast': defaultdict(&lt;class 'dict'&gt;, {'rev_ma...</td>\n",
       "      <td>boast</td>\n",
       "      <td>['preen', 'guerrilla', 'brave', 'crusader', 's...</td>\n",
       "      <td>[]</td>\n",
       "      <td>person</td>\n",
       "      <td>[]</td>\n",
       "      <td>[]</td>\n",
       "    </tr>\n",
       "    <tr>\n",
       "      <th>1339</th>\n",
       "      <td>1339</td>\n",
       "      <td>&lt;tonight&gt;</td>\n",
       "      <td>went to see out of cats being recorded &lt;tonigh...</td>\n",
       "      <td>tonight#2</td>\n",
       "      <td>tonight</td>\n",
       "      <td>2</td>\n",
       "      <td>0.974715</td>\n",
       "      <td>['TONIGHT#2', 'Tonight#2', 'LL#6', 'freakin#2'...</td>\n",
       "      <td>{'present': defaultdict(&lt;class 'dict'&gt;, {'rev_...</td>\n",
       "      <td>present</td>\n",
       "      <td>[]</td>\n",
       "      <td>[]</td>\n",
       "      <td>present</td>\n",
       "      <td>[]</td>\n",
       "      <td>[]</td>\n",
       "    </tr>\n",
       "    <tr>\n",
       "      <th>1340</th>\n",
       "      <td>1340</td>\n",
       "      <td>&lt;white&gt;</td>\n",
       "      <td>went to see out of cats being recorded tonight...</td>\n",
       "      <td>white#7</td>\n",
       "      <td>white</td>\n",
       "      <td>7</td>\n",
       "      <td>0.962923</td>\n",
       "      <td>['red_rumped#1', 'red_bellied#1', 'brush_taile...</td>\n",
       "      <td>{'pass': defaultdict(&lt;class 'dict'&gt;, {'rev_map...</td>\n",
       "      <td>pass</td>\n",
       "      <td>[]</td>\n",
       "      <td>[]</td>\n",
       "      <td>man</td>\n",
       "      <td>[]</td>\n",
       "      <td>[]</td>\n",
       "    </tr>\n",
       "    <tr>\n",
       "      <th>1341</th>\n",
       "      <td>1341</td>\n",
       "      <td>&lt;city&gt;</td>\n",
       "      <td>went to see out of cats being recorded tonight...</td>\n",
       "      <td>city#3</td>\n",
       "      <td>city</td>\n",
       "      <td>3</td>\n",
       "      <td>0.792817</td>\n",
       "      <td>['City#3', 'CIty#2', 'Day#1', 'day#1', 'TELEVI...</td>\n",
       "      <td>{'time_period': defaultdict(&lt;class 'dict'&gt;, {'...</td>\n",
       "      <td>time_period</td>\n",
       "      <td>['week_from_monday', 'lunar_day', 'midafternoo...</td>\n",
       "      <td>['midweek', 'day_of_the_week', 'calendar_day',...</td>\n",
       "      <td>see</td>\n",
       "      <td>['evening', 'rag']</td>\n",
       "      <td>['weekend', 'morning']</td>\n",
       "    </tr>\n",
       "    <tr>\n",
       "      <th>1342</th>\n",
       "      <td>1342</td>\n",
       "      <td>&lt;infuriating&gt;</td>\n",
       "      <td>to see out of cats being recorded tonight at w...</td>\n",
       "      <td>infuriating#2</td>\n",
       "      <td>infuriating</td>\n",
       "      <td>2</td>\n",
       "      <td>0.843083</td>\n",
       "      <td>['Unkind#2', 'unkind#2', 'Obnoxious#1', 'obnox...</td>\n",
       "      <td>{'anger': defaultdict(&lt;class 'dict'&gt;, {'rev_ma...</td>\n",
       "      <td>anger</td>\n",
       "      <td>[]</td>\n",
       "      <td>[]</td>\n",
       "      <td>NaN</td>\n",
       "      <td>[]</td>\n",
       "      <td>[]</td>\n",
       "    </tr>\n",
       "    <tr>\n",
       "      <th>1343</th>\n",
       "      <td>1343</td>\n",
       "      <td>&lt;jedward&gt;</td>\n",
       "      <td>see out of cats being recorded tonight at whit...</td>\n",
       "      <td>jedward#0</td>\n",
       "      <td>jedward</td>\n",
       "      <td>0</td>\n",
       "      <td>1.000000</td>\n",
       "      <td>[]</td>\n",
       "      <td>defaultdict(&lt;function &lt;lambda&gt; at 0x7f73c66499...</td>\n",
       "      <td>NaN</td>\n",
       "      <td>[]</td>\n",
       "      <td>[]</td>\n",
       "      <td>[]</td>\n",
       "      <td>[]</td>\n",
       "      <td>[]</td>\n",
       "    </tr>\n",
       "    <tr>\n",
       "      <th>1344</th>\n",
       "      <td>1344</td>\n",
       "      <td>&lt;idiocy&gt;</td>\n",
       "      <td>out of cats being recorded tonight at white ci...</td>\n",
       "      <td>idiocy#1</td>\n",
       "      <td>idiocy</td>\n",
       "      <td>1</td>\n",
       "      <td>0.945783</td>\n",
       "      <td>['crassness#1', 'egotism#1', 'insincerity#1', ...</td>\n",
       "      <td>{'quality': defaultdict(&lt;class 'dict'&gt;, {'rev_...</td>\n",
       "      <td>quality</td>\n",
       "      <td>['unworthiness', 'inadvisability', 'undesirabi...</td>\n",
       "      <td>[]</td>\n",
       "      <td>trust</td>\n",
       "      <td>['evil']</td>\n",
       "      <td>[]</td>\n",
       "    </tr>\n",
       "    <tr>\n",
       "      <th>1345</th>\n",
       "      <td>1345</td>\n",
       "      <td>&lt;tomorrow&gt;</td>\n",
       "      <td>of cats being recorded tonight at white city w...</td>\n",
       "      <td>tomorrow#3</td>\n",
       "      <td>tomorrow</td>\n",
       "      <td>3</td>\n",
       "      <td>0.949325</td>\n",
       "      <td>['TOMORROW#3', 'Tomorrow#3', 'Yesterday#3', 'y...</td>\n",
       "      <td>{'day': defaultdict(&lt;class 'dict'&gt;, {'rev_map'...</td>\n",
       "      <td>day</td>\n",
       "      <td>[]</td>\n",
       "      <td>[]</td>\n",
       "      <td>future</td>\n",
       "      <td>[]</td>\n",
       "      <td>[]</td>\n",
       "    </tr>\n",
       "    <tr>\n",
       "      <th>1346</th>\n",
       "      <td>1346</td>\n",
       "      <td>&lt;duck&gt;</td>\n",
       "      <td>you lucky &lt;duck&gt;\\n</td>\n",
       "      <td>duck#2</td>\n",
       "      <td>duck</td>\n",
       "      <td>2</td>\n",
       "      <td>0.869252</td>\n",
       "      <td>['toucan#2', 'Toucan#2', 'frog#2', 'FROG#2', '...</td>\n",
       "      <td>{'have': defaultdict(&lt;class 'dict'&gt;, {'rev_map...</td>\n",
       "      <td>have</td>\n",
       "      <td>['carry']</td>\n",
       "      <td>[]</td>\n",
       "      <td>persuade</td>\n",
       "      <td>[]</td>\n",
       "      <td>[]</td>\n",
       "    </tr>\n",
       "    <tr>\n",
       "      <th>1347</th>\n",
       "      <td>1347</td>\n",
       "      <td>&lt;slices&gt;</td>\n",
       "      <td>not really I just had two &lt;slices&gt; of leftover...</td>\n",
       "      <td>slices#1</td>\n",
       "      <td>slices</td>\n",
       "      <td>1</td>\n",
       "      <td>0.918132</td>\n",
       "      <td>['Slices#1', 'bite_sized#1', 'fillets#1', 'Jul...</td>\n",
       "      <td>{'cook': defaultdict(&lt;class 'dict'&gt;, {'rev_map...</td>\n",
       "      <td>cook</td>\n",
       "      <td>['deep-fat-fry', 'pan-fry', 'frizzle', 'saute'...</td>\n",
       "      <td>[]</td>\n",
       "      <td>walk</td>\n",
       "      <td>[]</td>\n",
       "      <td>[]</td>\n",
       "    </tr>\n",
       "    <tr>\n",
       "      <th>1348</th>\n",
       "      <td>1348</td>\n",
       "      <td>&lt;leftover&gt;</td>\n",
       "      <td>not really I just had two slices of &lt;leftover&gt;...</td>\n",
       "      <td>leftover#1</td>\n",
       "      <td>leftover</td>\n",
       "      <td>1</td>\n",
       "      <td>0.936025</td>\n",
       "      <td>['Leftover#1', 'Scraps#1', 'scraps#1', 'scaven...</td>\n",
       "      <td>{'waste': defaultdict(&lt;class 'dict'&gt;, {'rev_ma...</td>\n",
       "      <td>waste</td>\n",
       "      <td>['litter', 'debris', 'scrap_metal']</td>\n",
       "      <td>[]</td>\n",
       "      <td>mass</td>\n",
       "      <td>[]</td>\n",
       "      <td>[]</td>\n",
       "    </tr>\n",
       "    <tr>\n",
       "      <th>1349</th>\n",
       "      <td>1349</td>\n",
       "      <td>&lt;pizza&gt;</td>\n",
       "      <td>not really I just had two slices of leftover h...</td>\n",
       "      <td>pizza#2</td>\n",
       "      <td>pizza</td>\n",
       "      <td>2</td>\n",
       "      <td>0.885774</td>\n",
       "      <td>['hamburger#1', 'Chicken_Sandwich#1', 'chicken...</td>\n",
       "      <td>{'sandwich': defaultdict(&lt;class 'dict'&gt;, {'rev...</td>\n",
       "      <td>sandwich</td>\n",
       "      <td>['chili_dog', 'cheeseburger']</td>\n",
       "      <td>['ground_beef', 'frankfurter_bun', 'frank']</td>\n",
       "      <td>potato</td>\n",
       "      <td>[]</td>\n",
       "      <td>[]</td>\n",
       "    </tr>\n",
       "    <tr>\n",
       "      <th>1350</th>\n",
       "      <td>1350</td>\n",
       "      <td>&lt;today&gt;</td>\n",
       "      <td>not really I just had two slices of leftover h...</td>\n",
       "      <td>today#6</td>\n",
       "      <td>today</td>\n",
       "      <td>6</td>\n",
       "      <td>0.951567</td>\n",
       "      <td>['modern#3', 'present#3', 'Present#3', 'olden#...</td>\n",
       "      <td>{'present': defaultdict(&lt;class 'dict'&gt;, {'rev_...</td>\n",
       "      <td>present</td>\n",
       "      <td>['amusement_park', 'village_green']</td>\n",
       "      <td>[]</td>\n",
       "      <td>tract</td>\n",
       "      <td>[]</td>\n",
       "      <td>[]</td>\n",
       "    </tr>\n",
       "  </tbody>\n",
       "</table>\n",
       "</div>"
      ],
      "text/plain": [
       "      Unnamed: 0             word  \\\n",
       "1321        1321          <Smile>   \n",
       "1322        1322           <cold>   \n",
       "1323        1323      <ignorance>   \n",
       "1324        1324         <amount>   \n",
       "1325        1325           <work>   \n",
       "1326        1326         <google>   \n",
       "1327        1327         <family>   \n",
       "1328        1328            <man>   \n",
       "1329        1329        <simpson>   \n",
       "1330        1330          <shift>   \n",
       "1331        1331          <today>   \n",
       "1332        1332            <Sad>   \n",
       "1333        1333        <milgram>   \n",
       "1334        1334     <experiment>   \n",
       "1335        1335      <clipboard>   \n",
       "1336        1336      <authority>   \n",
       "1337        1337  <circumstances>   \n",
       "1338        1338           <cats>   \n",
       "1339        1339        <tonight>   \n",
       "1340        1340          <white>   \n",
       "1341        1341           <city>   \n",
       "1342        1342    <infuriating>   \n",
       "1343        1343        <jedward>   \n",
       "1344        1344         <idiocy>   \n",
       "1345        1345       <tomorrow>   \n",
       "1346        1346           <duck>   \n",
       "1347        1347         <slices>   \n",
       "1348        1348       <leftover>   \n",
       "1349        1349          <pizza>   \n",
       "1350        1350          <today>   \n",
       "\n",
       "                                                context         sense_id  \\\n",
       "1321  good first day back at workpretty happy <Smile>\\n          Smile#2   \n",
       "1322  <cold> hard ignorance to the amount of work th...           cold#1   \n",
       "1323  cold hard <ignorance> to the amount of work th...      ignorance#1   \n",
       "1324  cold hard ignorance to the <amount> of work th...         amount#1   \n",
       "1325  cold hard ignorance to the amount of <work> th...           work#5   \n",
       "1326  a quick <google> tells me that they re the fam...         google#1   \n",
       "1327  a quick google tells me that they re the <fami...         family#4   \n",
       "1328  a quick google tells me that they re the famil...            man#1   \n",
       "1329  quick google tells me that they re the family ...        simpson#2   \n",
       "1330   I have a loooooooooooooooong <shift> today Sad\\n          shift#2   \n",
       "1331   I have a loooooooooooooooong shift <today> Sad\\n          today#2   \n",
       "1332   I have a loooooooooooooooong shift today <Sad>\\n            Sad#2   \n",
       "1333  one can not help but recall the <milgram> expe...        milgram#0   \n",
       "1334  one can not help but recall the milgram <exper...     experiment#4   \n",
       "1335  one can not help but recall the milgram experi...      clipboard#1   \n",
       "1336  one can not help but recall the milgram experi...      authority#1   \n",
       "1337  one can not help but recall the milgram experi...  circumstances#1   \n",
       "1338  went to see out of <cats> being recorded tonig...           cats#2   \n",
       "1339  went to see out of cats being recorded <tonigh...        tonight#2   \n",
       "1340  went to see out of cats being recorded tonight...          white#7   \n",
       "1341  went to see out of cats being recorded tonight...           city#3   \n",
       "1342  to see out of cats being recorded tonight at w...    infuriating#2   \n",
       "1343  see out of cats being recorded tonight at whit...        jedward#0   \n",
       "1344  out of cats being recorded tonight at white ci...         idiocy#1   \n",
       "1345  of cats being recorded tonight at white city w...       tomorrow#3   \n",
       "1346                                 you lucky <duck>\\n           duck#2   \n",
       "1347  not really I just had two <slices> of leftover...         slices#1   \n",
       "1348  not really I just had two slices of <leftover>...       leftover#1   \n",
       "1349  not really I just had two slices of leftover h...          pizza#2   \n",
       "1350  not really I just had two slices of leftover h...          today#6   \n",
       "\n",
       "     sense_group_name  sense_group_num  sense_probability  \\\n",
       "1321            Smile                2           0.975815   \n",
       "1322             cold                1           0.990678   \n",
       "1323        ignorance                1           0.941543   \n",
       "1324           amount                1           0.982760   \n",
       "1325             work                5           0.993187   \n",
       "1326           google                1           0.506213   \n",
       "1327           family                4           0.966598   \n",
       "1328              man                1           0.991741   \n",
       "1329          simpson                2           0.988171   \n",
       "1330            shift                2           0.791133   \n",
       "1331            today                2           0.811293   \n",
       "1332              Sad                2           0.818152   \n",
       "1333          milgram                0           1.000000   \n",
       "1334       experiment                4           0.999259   \n",
       "1335        clipboard                1           0.770075   \n",
       "1336        authority                1           0.955406   \n",
       "1337    circumstances                1           0.861429   \n",
       "1338             cats                2           0.891644   \n",
       "1339          tonight                2           0.974715   \n",
       "1340            white                7           0.962923   \n",
       "1341             city                3           0.792817   \n",
       "1342      infuriating                2           0.843083   \n",
       "1343          jedward                0           1.000000   \n",
       "1344           idiocy                1           0.945783   \n",
       "1345         tomorrow                3           0.949325   \n",
       "1346             duck                2           0.869252   \n",
       "1347           slices                1           0.918132   \n",
       "1348         leftover                1           0.936025   \n",
       "1349            pizza                2           0.885774   \n",
       "1350            today                6           0.951567   \n",
       "\n",
       "                                         related_senses  \\\n",
       "1321  ['smile#1', 'wink#2', 'Wink#2', 'WINK#1', 'smi...   \n",
       "1322  ['COLD#2', 'Cold#2', 'cool#3', 'hot#4', 'windy...   \n",
       "1323  ['Ignorance#2', 'Willful#3', 'Malice#2', 'Gree...   \n",
       "1324  ['Amount#2', 'Quantity#2', 'Proportion#2', 'Nu...   \n",
       "1325  ['Endeavours#1', 'laborious_task#5', 'Professi...   \n",
       "1326  ['Google_Analytics#1', 'Gmail_Google#1', 'Ever...   \n",
       "1327  ['FAMILY#2', 'Family#2', 'upbringing#3', 'Upbr...   \n",
       "1328  ['MAN#1', 'Man#2', 'Stranger#2', 'stranger#1',...   \n",
       "1329  ['Simpson#2', 'ramirez#2', 'Ramirez#2', 'KENNE...   \n",
       "1330  ['SHIFT#2', 'Shift#1', 'reset#2', 'RESET#2', '...   \n",
       "1331  ['Today#1', 'TODAY#1', 'photos#2', 'Photos#1',...   \n",
       "1332  ['sad#2', 'SAD#1', 'SSA#1', 'cI#3', 'ci#3', 'C...   \n",
       "1333                                                 []   \n",
       "1334  ['eXperiment#5', 'Experiment#5', 'STEP#7', 'me...   \n",
       "1335  ['Clipboard#1', 'virtual_folders#1', 'Control_...   \n",
       "1336  ['AUTHORITY#3', 'Authority#2', 'proconsular_au...   \n",
       "1337  ['extenuating_circumstances#1', 'Circumstances...   \n",
       "1338  ['CATS#2', 'crows#3', 'Crows#3', 'CROWS#3', 'b...   \n",
       "1339  ['TONIGHT#2', 'Tonight#2', 'LL#6', 'freakin#2'...   \n",
       "1340  ['red_rumped#1', 'red_bellied#1', 'brush_taile...   \n",
       "1341  ['City#3', 'CIty#2', 'Day#1', 'day#1', 'TELEVI...   \n",
       "1342  ['Unkind#2', 'unkind#2', 'Obnoxious#1', 'obnox...   \n",
       "1343                                                 []   \n",
       "1344  ['crassness#1', 'egotism#1', 'insincerity#1', ...   \n",
       "1345  ['TOMORROW#3', 'Tomorrow#3', 'Yesterday#3', 'y...   \n",
       "1346  ['toucan#2', 'Toucan#2', 'frog#2', 'FROG#2', '...   \n",
       "1347  ['Slices#1', 'bite_sized#1', 'fillets#1', 'Jul...   \n",
       "1348  ['Leftover#1', 'Scraps#1', 'scraps#1', 'scaven...   \n",
       "1349  ['hamburger#1', 'Chicken_Sandwich#1', 'chicken...   \n",
       "1350  ['modern#3', 'present#3', 'Present#3', 'olden#...   \n",
       "\n",
       "                                                hhm_map  \\\n",
       "1321  {'facial_expression': defaultdict(<class 'dict...   \n",
       "1322  {'change': defaultdict(<class 'dict'>, {'rev_m...   \n",
       "1323  {'malevolence': defaultdict(<class 'dict'>, {'...   \n",
       "1324  {'magnitude': defaultdict(<class 'dict'>, {'re...   \n",
       "1325  {'activity': defaultdict(<class 'dict'>, {'rev...   \n",
       "1326  {'research': defaultdict(<class 'dict'>, {'rev...   \n",
       "1327  {'parent': defaultdict(<class 'dict'>, {'rev_m...   \n",
       "1328  {'person': defaultdict(<class 'dict'>, {'rev_m...   \n",
       "1329  {'methylenedioxymethamphetamine': defaultdict(...   \n",
       "1330  {'change': defaultdict(<class 'dict'>, {'rev_m...   \n",
       "1331  {'change': defaultdict(<class 'dict'>, {'rev_m...   \n",
       "1332  {'radioactivity_unit': defaultdict(<class 'dic...   \n",
       "1333  defaultdict(<function <lambda> at 0x7f73c69a91...   \n",
       "1334  {'activity': defaultdict(<class 'dict'>, {'rev...   \n",
       "1335  {'writing_board': defaultdict(<class 'dict'>, ...   \n",
       "1336  {'state': defaultdict(<class 'dict'>, {'rev_ma...   \n",
       "1337  {'condition': defaultdict(<class 'dict'>, {'re...   \n",
       "1338  {'boast': defaultdict(<class 'dict'>, {'rev_ma...   \n",
       "1339  {'present': defaultdict(<class 'dict'>, {'rev_...   \n",
       "1340  {'pass': defaultdict(<class 'dict'>, {'rev_map...   \n",
       "1341  {'time_period': defaultdict(<class 'dict'>, {'...   \n",
       "1342  {'anger': defaultdict(<class 'dict'>, {'rev_ma...   \n",
       "1343  defaultdict(<function <lambda> at 0x7f73c66499...   \n",
       "1344  {'quality': defaultdict(<class 'dict'>, {'rev_...   \n",
       "1345  {'day': defaultdict(<class 'dict'>, {'rev_map'...   \n",
       "1346  {'have': defaultdict(<class 'dict'>, {'rev_map...   \n",
       "1347  {'cook': defaultdict(<class 'dict'>, {'rev_map...   \n",
       "1348  {'waste': defaultdict(<class 'dict'>, {'rev_ma...   \n",
       "1349  {'sandwich': defaultdict(<class 'dict'>, {'rev...   \n",
       "1350  {'present': defaultdict(<class 'dict'>, {'rev_...   \n",
       "\n",
       "                           hypernym  \\\n",
       "1321              facial_expression   \n",
       "1322                         change   \n",
       "1323                    malevolence   \n",
       "1324                      magnitude   \n",
       "1325                       activity   \n",
       "1326                       research   \n",
       "1327                         parent   \n",
       "1328                         person   \n",
       "1329  methylenedioxymethamphetamine   \n",
       "1330                         change   \n",
       "1331                         change   \n",
       "1332             radioactivity_unit   \n",
       "1333                            NaN   \n",
       "1334                       activity   \n",
       "1335                  writing_board   \n",
       "1336                          state   \n",
       "1337                      condition   \n",
       "1338                          boast   \n",
       "1339                        present   \n",
       "1340                           pass   \n",
       "1341                    time_period   \n",
       "1342                          anger   \n",
       "1343                            NaN   \n",
       "1344                        quality   \n",
       "1345                            day   \n",
       "1346                           have   \n",
       "1347                           cook   \n",
       "1348                          waste   \n",
       "1349                       sandwich   \n",
       "1350                        present   \n",
       "\n",
       "                                                hyponym  \\\n",
       "1321          ['pout', 'simper', 'smirk', 'cheap_shot']   \n",
       "1322  ['quench', 'drip-dry', 'spray-dry', 'dehydrate...   \n",
       "1323        ['malice', 'vindictiveness', 'maleficence']   \n",
       "1324  ['decrease', 'quantity', 'critical_mass', 'dol...   \n",
       "1325  ['logging', 'undertaking', 'foray', 'loose_end...   \n",
       "1326                                                 []   \n",
       "1327  ['dad', 'quintipara', 'puerpera', 'mater', 'su...   \n",
       "1328                                                 []   \n",
       "1329                                                 []   \n",
       "1330  ['conclude', 'decide', 'citify', 'phase_out', ...   \n",
       "1331  ['flop', 'malfunction', 'break', 'slump', 'cra...   \n",
       "1332                                                 []   \n",
       "1333                                                 []   \n",
       "1334  ['rigmarole', 'stiffening', 'mapping', 'inform...   \n",
       "1335                                                 []   \n",
       "1336  ['executive_clemency', 'hegemon', 'war_power',...   \n",
       "1337  ['soup', 'stymie', 'providence', 'failure', 'h...   \n",
       "1338  ['preen', 'guerrilla', 'brave', 'crusader', 's...   \n",
       "1339                                                 []   \n",
       "1340                                                 []   \n",
       "1341  ['week_from_monday', 'lunar_day', 'midafternoo...   \n",
       "1342                                                 []   \n",
       "1343                                                 []   \n",
       "1344  ['unworthiness', 'inadvisability', 'undesirabi...   \n",
       "1345                                                 []   \n",
       "1346                                          ['carry']   \n",
       "1347  ['deep-fat-fry', 'pan-fry', 'frizzle', 'saute'...   \n",
       "1348                ['litter', 'debris', 'scrap_metal']   \n",
       "1349                      ['chili_dog', 'cheeseburger']   \n",
       "1350                ['amusement_park', 'village_green']   \n",
       "\n",
       "                                                meronym hypernym_from_corpus  \\\n",
       "1321                                                 []               remark   \n",
       "1322                                                 []                 make   \n",
       "1323                                                 []                 hate   \n",
       "1324                                                 []                 name   \n",
       "1325                                                 []                 body   \n",
       "1326                                                 []                utter   \n",
       "1327                                                 []                 head   \n",
       "1328                                                 []                class   \n",
       "1329                                                 []                  NaN   \n",
       "1330                                                 []                 load   \n",
       "1331                                                 []                 pass   \n",
       "1332                                     ['millicurie']                 join   \n",
       "1333                                                 []                   []   \n",
       "1334                                                 []            represent   \n",
       "1335                                                 []                treat   \n",
       "1336                                                 []               market   \n",
       "1337                                                 []                 idea   \n",
       "1338                                                 []               person   \n",
       "1339                                                 []              present   \n",
       "1340                                                 []                  man   \n",
       "1341  ['midweek', 'day_of_the_week', 'calendar_day',...                  see   \n",
       "1342                                                 []                  NaN   \n",
       "1343                                                 []                   []   \n",
       "1344                                                 []                trust   \n",
       "1345                                                 []               future   \n",
       "1346                                                 []             persuade   \n",
       "1347                                                 []                 walk   \n",
       "1348                                                 []                 mass   \n",
       "1349        ['ground_beef', 'frankfurter_bun', 'frank']               potato   \n",
       "1350                                                 []                tract   \n",
       "\n",
       "                                    hyponym_from_corpus  \\\n",
       "1321                                                 []   \n",
       "1322                            ['air', 'ice', 'water']   \n",
       "1323                                                 []   \n",
       "1324                                         ['number']   \n",
       "1325                   ['best', 'care', 'essay', 'job']   \n",
       "1326                                                 []   \n",
       "1327                                             ['ma']   \n",
       "1328                                                 []   \n",
       "1329                                                 []   \n",
       "1330  ['decide', 'tune', 'back', 'finish', 'close', ...   \n",
       "1331                                          ['break']   \n",
       "1332                                                 []   \n",
       "1333                                                 []   \n",
       "1334                                        ['support']   \n",
       "1335                                                 []   \n",
       "1336                                                 []   \n",
       "1337                ['soup', 'hinge', 'event', 'place']   \n",
       "1338                                                 []   \n",
       "1339                                                 []   \n",
       "1340                                                 []   \n",
       "1341                                 ['evening', 'rag']   \n",
       "1342                                                 []   \n",
       "1343                                                 []   \n",
       "1344                                           ['evil']   \n",
       "1345                                                 []   \n",
       "1346                                                 []   \n",
       "1347                                                 []   \n",
       "1348                                                 []   \n",
       "1349                                                 []   \n",
       "1350                                                 []   \n",
       "\n",
       "         meronym_from_corpus  \n",
       "1321                      []  \n",
       "1322                      []  \n",
       "1323                      []  \n",
       "1324                      []  \n",
       "1325                      []  \n",
       "1326                      []  \n",
       "1327                      []  \n",
       "1328                      []  \n",
       "1329                      []  \n",
       "1330                      []  \n",
       "1331                      []  \n",
       "1332                      []  \n",
       "1333                      []  \n",
       "1334                      []  \n",
       "1335                      []  \n",
       "1336                      []  \n",
       "1337                      []  \n",
       "1338                      []  \n",
       "1339                      []  \n",
       "1340                      []  \n",
       "1341  ['weekend', 'morning']  \n",
       "1342                      []  \n",
       "1343                      []  \n",
       "1344                      []  \n",
       "1345                      []  \n",
       "1346                      []  \n",
       "1347                      []  \n",
       "1348                      []  \n",
       "1349                      []  \n",
       "1350                      []  "
      ]
     },
     "execution_count": 454,
     "metadata": {},
     "output_type": "execute_result"
    }
   ],
   "source": [
    "sense_group_dataframe.tail(n=30)"
   ]
  },
  {
   "cell_type": "code",
   "execution_count": 561,
   "metadata": {},
   "outputs": [],
   "source": [
    "word = \"day\"\n",
    "\n",
    "subset_df = sense_group_dataframe[sense_group_dataframe[\"sense_group_name\"]==word]"
   ]
  },
  {
   "cell_type": "code",
   "execution_count": 562,
   "metadata": {},
   "outputs": [
    {
     "data": {
      "text/html": [
       "<div>\n",
       "<style scoped>\n",
       "    .dataframe tbody tr th:only-of-type {\n",
       "        vertical-align: middle;\n",
       "    }\n",
       "\n",
       "    .dataframe tbody tr th {\n",
       "        vertical-align: top;\n",
       "    }\n",
       "\n",
       "    .dataframe thead th {\n",
       "        text-align: right;\n",
       "    }\n",
       "</style>\n",
       "<table border=\"1\" class=\"dataframe\">\n",
       "  <thead>\n",
       "    <tr style=\"text-align: right;\">\n",
       "      <th></th>\n",
       "      <th>Unnamed: 0</th>\n",
       "      <th>word</th>\n",
       "      <th>context</th>\n",
       "      <th>sense_id</th>\n",
       "      <th>sense_group_name</th>\n",
       "      <th>sense_group_num</th>\n",
       "      <th>sense_probability</th>\n",
       "      <th>related_senses</th>\n",
       "      <th>hhm_map</th>\n",
       "      <th>hypernym</th>\n",
       "      <th>hyponym</th>\n",
       "      <th>meronym</th>\n",
       "      <th>hypernym_from_corpus</th>\n",
       "      <th>hyponym_from_corpus</th>\n",
       "      <th>meronym_from_corpus</th>\n",
       "    </tr>\n",
       "  </thead>\n",
       "  <tbody>\n",
       "    <tr>\n",
       "      <th>29</th>\n",
       "      <td>29</td>\n",
       "      <td>&lt;day&gt;</td>\n",
       "      <td>this is a big &lt;day&gt; last day Ill ever put on m...</td>\n",
       "      <td>day#3</td>\n",
       "      <td>day</td>\n",
       "      <td>3</td>\n",
       "      <td>0.999606</td>\n",
       "      <td>['DAY#3', 'SESSION#4', 'Session#4', 'session#5...</td>\n",
       "      <td>{'time_period': defaultdict(&lt;class 'dict'&gt;, {'...</td>\n",
       "      <td>time_period</td>\n",
       "      <td>['week_from_monday', 'wedding_night', 'lunar_d...</td>\n",
       "      <td>['late-night_hour', 'midweek', 'day_of_the_wee...</td>\n",
       "      <td>hour</td>\n",
       "      <td>['evening', 'rag', 'night']</td>\n",
       "      <td>['weekend', 'evening', 'morning']</td>\n",
       "    </tr>\n",
       "    <tr>\n",
       "      <th>30</th>\n",
       "      <td>30</td>\n",
       "      <td>&lt;day&gt;</td>\n",
       "      <td>this is a big day last &lt;day&gt; Ill ever put on m...</td>\n",
       "      <td>day#3</td>\n",
       "      <td>day</td>\n",
       "      <td>3</td>\n",
       "      <td>0.999606</td>\n",
       "      <td>['DAY#3', 'SESSION#4', 'Session#4', 'session#5...</td>\n",
       "      <td>{'time_period': defaultdict(&lt;class 'dict'&gt;, {'...</td>\n",
       "      <td>time_period</td>\n",
       "      <td>['week_from_monday', 'wedding_night', 'lunar_d...</td>\n",
       "      <td>['late-night_hour', 'midweek', 'day_of_the_wee...</td>\n",
       "      <td>hour</td>\n",
       "      <td>['evening', 'rag', 'night']</td>\n",
       "      <td>['weekend', 'evening', 'morning']</td>\n",
       "    </tr>\n",
       "    <tr>\n",
       "      <th>32</th>\n",
       "      <td>32</td>\n",
       "      <td>&lt;day&gt;</td>\n",
       "      <td>this is a big day last day Ill ever put on my ...</td>\n",
       "      <td>day#3</td>\n",
       "      <td>day</td>\n",
       "      <td>3</td>\n",
       "      <td>0.737632</td>\n",
       "      <td>['DAY#3', 'SESSION#4', 'Session#4', 'session#5...</td>\n",
       "      <td>{'time_period': defaultdict(&lt;class 'dict'&gt;, {'...</td>\n",
       "      <td>time_period</td>\n",
       "      <td>['week_from_monday', 'wedding_night', 'lunar_d...</td>\n",
       "      <td>['late-night_hour', 'midweek', 'day_of_the_wee...</td>\n",
       "      <td>hour</td>\n",
       "      <td>['evening', 'rag', 'night']</td>\n",
       "      <td>['weekend', 'evening', 'morning']</td>\n",
       "    </tr>\n",
       "    <tr>\n",
       "      <th>34</th>\n",
       "      <td>34</td>\n",
       "      <td>&lt;day&gt;</td>\n",
       "      <td>last day Ill ever put on my leotard last day o...</td>\n",
       "      <td>day#3</td>\n",
       "      <td>day</td>\n",
       "      <td>3</td>\n",
       "      <td>0.737632</td>\n",
       "      <td>['DAY#3', 'SESSION#4', 'Session#4', 'session#5...</td>\n",
       "      <td>{'time_period': defaultdict(&lt;class 'dict'&gt;, {'...</td>\n",
       "      <td>time_period</td>\n",
       "      <td>['week_from_monday', 'wedding_night', 'lunar_d...</td>\n",
       "      <td>['late-night_hour', 'midweek', 'day_of_the_wee...</td>\n",
       "      <td>hour</td>\n",
       "      <td>['evening', 'rag', 'night']</td>\n",
       "      <td>['weekend', 'evening', 'morning']</td>\n",
       "    </tr>\n",
       "    <tr>\n",
       "      <th>196</th>\n",
       "      <td>196</td>\n",
       "      <td>&lt;day&gt;</td>\n",
       "      <td>I ve been in bed all &lt;day&gt;\\n</td>\n",
       "      <td>day#3</td>\n",
       "      <td>day</td>\n",
       "      <td>3</td>\n",
       "      <td>0.972958</td>\n",
       "      <td>['DAY#3', 'SESSION#4', 'Session#4', 'session#5...</td>\n",
       "      <td>{'time_period': defaultdict(&lt;class 'dict'&gt;, {'...</td>\n",
       "      <td>time_period</td>\n",
       "      <td>['week_from_monday', 'wedding_night', 'lunar_d...</td>\n",
       "      <td>['late-night_hour', 'midweek', 'day_of_the_wee...</td>\n",
       "      <td>hour</td>\n",
       "      <td>['evening', 'rag', 'night']</td>\n",
       "      <td>['weekend', 'evening', 'morning']</td>\n",
       "    </tr>\n",
       "    <tr>\n",
       "      <th>322</th>\n",
       "      <td>322</td>\n",
       "      <td>&lt;day&gt;</td>\n",
       "      <td>happy fathers &lt;day&gt; to mr chalkley I was gon n...</td>\n",
       "      <td>day#3</td>\n",
       "      <td>day</td>\n",
       "      <td>3</td>\n",
       "      <td>0.662118</td>\n",
       "      <td>['DAY#3', 'SESSION#4', 'Session#4', 'session#5...</td>\n",
       "      <td>{'time_period': defaultdict(&lt;class 'dict'&gt;, {'...</td>\n",
       "      <td>time_period</td>\n",
       "      <td>['week_from_monday', 'wedding_night', 'lunar_d...</td>\n",
       "      <td>['late-night_hour', 'midweek', 'day_of_the_wee...</td>\n",
       "      <td>hour</td>\n",
       "      <td>['evening', 'rag', 'night']</td>\n",
       "      <td>['weekend', 'evening', 'morning']</td>\n",
       "    </tr>\n",
       "    <tr>\n",
       "      <th>334</th>\n",
       "      <td>334</td>\n",
       "      <td>&lt;day&gt;</td>\n",
       "      <td>with do I actually have to do I d be here all ...</td>\n",
       "      <td>day#3</td>\n",
       "      <td>day</td>\n",
       "      <td>3</td>\n",
       "      <td>0.795181</td>\n",
       "      <td>['DAY#3', 'SESSION#4', 'Session#4', 'session#5...</td>\n",
       "      <td>{'time_period': defaultdict(&lt;class 'dict'&gt;, {'...</td>\n",
       "      <td>time_period</td>\n",
       "      <td>['week_from_monday', 'wedding_night', 'lunar_d...</td>\n",
       "      <td>['late-night_hour', 'midweek', 'day_of_the_wee...</td>\n",
       "      <td>hour</td>\n",
       "      <td>['evening', 'rag', 'night']</td>\n",
       "      <td>['weekend', 'evening', 'morning']</td>\n",
       "    </tr>\n",
       "    <tr>\n",
       "      <th>363</th>\n",
       "      <td>363</td>\n",
       "      <td>&lt;day&gt;</td>\n",
       "      <td>I suppose I better do something with my &lt;day&gt; ...</td>\n",
       "      <td>day#3</td>\n",
       "      <td>day</td>\n",
       "      <td>3</td>\n",
       "      <td>0.891535</td>\n",
       "      <td>['DAY#3', 'SESSION#4', 'Session#4', 'session#5...</td>\n",
       "      <td>{'time_period': defaultdict(&lt;class 'dict'&gt;, {'...</td>\n",
       "      <td>time_period</td>\n",
       "      <td>['week_from_monday', 'wedding_night', 'lunar_d...</td>\n",
       "      <td>['late-night_hour', 'midweek', 'day_of_the_wee...</td>\n",
       "      <td>hour</td>\n",
       "      <td>['evening', 'rag', 'night']</td>\n",
       "      <td>['weekend', 'evening', 'morning']</td>\n",
       "    </tr>\n",
       "    <tr>\n",
       "      <th>449</th>\n",
       "      <td>449</td>\n",
       "      <td>&lt;day&gt;</td>\n",
       "      <td>one &lt;day&gt; in uni another long weekend\\n</td>\n",
       "      <td>day#3</td>\n",
       "      <td>day</td>\n",
       "      <td>3</td>\n",
       "      <td>0.941290</td>\n",
       "      <td>['DAY#3', 'SESSION#4', 'Session#4', 'session#5...</td>\n",
       "      <td>{'time_period': defaultdict(&lt;class 'dict'&gt;, {'...</td>\n",
       "      <td>time_period</td>\n",
       "      <td>['week_from_monday', 'wedding_night', 'lunar_d...</td>\n",
       "      <td>['late-night_hour', 'midweek', 'day_of_the_wee...</td>\n",
       "      <td>hour</td>\n",
       "      <td>['evening', 'rag', 'night']</td>\n",
       "      <td>['weekend', 'evening', 'morning']</td>\n",
       "    </tr>\n",
       "    <tr>\n",
       "      <th>455</th>\n",
       "      <td>455</td>\n",
       "      <td>&lt;day&gt;</td>\n",
       "      <td>wicked sticks what &lt;day&gt; are you movingSmile\\n</td>\n",
       "      <td>day#3</td>\n",
       "      <td>day</td>\n",
       "      <td>3</td>\n",
       "      <td>0.712711</td>\n",
       "      <td>['DAY#3', 'SESSION#4', 'Session#4', 'session#5...</td>\n",
       "      <td>{'time_period': defaultdict(&lt;class 'dict'&gt;, {'...</td>\n",
       "      <td>time_period</td>\n",
       "      <td>['week_from_monday', 'wedding_night', 'lunar_d...</td>\n",
       "      <td>['late-night_hour', 'midweek', 'day_of_the_wee...</td>\n",
       "      <td>hour</td>\n",
       "      <td>['evening', 'rag', 'night']</td>\n",
       "      <td>['weekend', 'evening', 'morning']</td>\n",
       "    </tr>\n",
       "    <tr>\n",
       "      <th>484</th>\n",
       "      <td>484</td>\n",
       "      <td>&lt;day&gt;</td>\n",
       "      <td>you lot are making me smile after a very long ...</td>\n",
       "      <td>day#3</td>\n",
       "      <td>day</td>\n",
       "      <td>3</td>\n",
       "      <td>0.987598</td>\n",
       "      <td>['DAY#3', 'SESSION#4', 'Session#4', 'session#5...</td>\n",
       "      <td>{'time_period': defaultdict(&lt;class 'dict'&gt;, {'...</td>\n",
       "      <td>time_period</td>\n",
       "      <td>['week_from_monday', 'wedding_night', 'lunar_d...</td>\n",
       "      <td>['late-night_hour', 'midweek', 'day_of_the_wee...</td>\n",
       "      <td>hour</td>\n",
       "      <td>['evening', 'rag', 'night']</td>\n",
       "      <td>['weekend', 'evening', 'morning']</td>\n",
       "    </tr>\n",
       "    <tr>\n",
       "      <th>530</th>\n",
       "      <td>530</td>\n",
       "      <td>&lt;day&gt;</td>\n",
       "      <td>nice to see a productive &lt;day&gt; of essay writin...</td>\n",
       "      <td>day#4</td>\n",
       "      <td>day</td>\n",
       "      <td>4</td>\n",
       "      <td>0.778570</td>\n",
       "      <td>['DAY#4', 'Fan_Appreciation#1', 'reunion#3', '...</td>\n",
       "      <td>{'time_period': defaultdict(&lt;class 'dict'&gt;, {'...</td>\n",
       "      <td>time_period</td>\n",
       "      <td>['evening', 'afternoon', 'lunar_day', 'midafte...</td>\n",
       "      <td>['morning', 'sunday', 'saturday']</td>\n",
       "      <td>eat</td>\n",
       "      <td>['evening']</td>\n",
       "      <td>['morning', 'sunday', 'saturday']</td>\n",
       "    </tr>\n",
       "    <tr>\n",
       "      <th>587</th>\n",
       "      <td>587</td>\n",
       "      <td>&lt;day&gt;</td>\n",
       "      <td>been awake for minutes I will continue to be a...</td>\n",
       "      <td>day#3</td>\n",
       "      <td>day</td>\n",
       "      <td>3</td>\n",
       "      <td>0.999400</td>\n",
       "      <td>['DAY#3', 'SESSION#4', 'Session#4', 'session#5...</td>\n",
       "      <td>{'time_period': defaultdict(&lt;class 'dict'&gt;, {'...</td>\n",
       "      <td>time_period</td>\n",
       "      <td>['week_from_monday', 'wedding_night', 'lunar_d...</td>\n",
       "      <td>['late-night_hour', 'midweek', 'day_of_the_wee...</td>\n",
       "      <td>hour</td>\n",
       "      <td>['evening', 'rag', 'night']</td>\n",
       "      <td>['weekend', 'evening', 'morning']</td>\n",
       "    </tr>\n",
       "    <tr>\n",
       "      <th>707</th>\n",
       "      <td>707</td>\n",
       "      <td>&lt;day&gt;</td>\n",
       "      <td>&lt;day&gt; before show day woohoo\\n</td>\n",
       "      <td>day#3</td>\n",
       "      <td>day</td>\n",
       "      <td>3</td>\n",
       "      <td>0.999995</td>\n",
       "      <td>['DAY#3', 'SESSION#4', 'Session#4', 'session#5...</td>\n",
       "      <td>{'time_period': defaultdict(&lt;class 'dict'&gt;, {'...</td>\n",
       "      <td>time_period</td>\n",
       "      <td>['week_from_monday', 'wedding_night', 'lunar_d...</td>\n",
       "      <td>['late-night_hour', 'midweek', 'day_of_the_wee...</td>\n",
       "      <td>hour</td>\n",
       "      <td>['evening', 'rag', 'night']</td>\n",
       "      <td>['weekend', 'evening', 'morning']</td>\n",
       "    </tr>\n",
       "    <tr>\n",
       "      <th>709</th>\n",
       "      <td>709</td>\n",
       "      <td>&lt;day&gt;</td>\n",
       "      <td>day before show &lt;day&gt; woohoo\\n</td>\n",
       "      <td>day#3</td>\n",
       "      <td>day</td>\n",
       "      <td>3</td>\n",
       "      <td>0.999995</td>\n",
       "      <td>['DAY#3', 'SESSION#4', 'Session#4', 'session#5...</td>\n",
       "      <td>{'time_period': defaultdict(&lt;class 'dict'&gt;, {'...</td>\n",
       "      <td>time_period</td>\n",
       "      <td>['week_from_monday', 'wedding_night', 'lunar_d...</td>\n",
       "      <td>['late-night_hour', 'midweek', 'day_of_the_wee...</td>\n",
       "      <td>hour</td>\n",
       "      <td>['evening', 'rag', 'night']</td>\n",
       "      <td>['weekend', 'evening', 'morning']</td>\n",
       "    </tr>\n",
       "    <tr>\n",
       "      <th>823</th>\n",
       "      <td>823</td>\n",
       "      <td>&lt;day&gt;</td>\n",
       "      <td>&lt;day&gt; completely and utterly made by a very lo...</td>\n",
       "      <td>day#3</td>\n",
       "      <td>day</td>\n",
       "      <td>3</td>\n",
       "      <td>0.907649</td>\n",
       "      <td>['DAY#3', 'SESSION#4', 'Session#4', 'session#5...</td>\n",
       "      <td>{'time_period': defaultdict(&lt;class 'dict'&gt;, {'...</td>\n",
       "      <td>time_period</td>\n",
       "      <td>['week_from_monday', 'wedding_night', 'lunar_d...</td>\n",
       "      <td>['late-night_hour', 'midweek', 'day_of_the_wee...</td>\n",
       "      <td>hour</td>\n",
       "      <td>['evening', 'rag', 'night']</td>\n",
       "      <td>['weekend', 'evening', 'morning']</td>\n",
       "    </tr>\n",
       "    <tr>\n",
       "      <th>835</th>\n",
       "      <td>835</td>\n",
       "      <td>&lt;day&gt;</td>\n",
       "      <td>has had her &lt;day&gt; redeemed by her lovely house...</td>\n",
       "      <td>day#3</td>\n",
       "      <td>day</td>\n",
       "      <td>3</td>\n",
       "      <td>0.995853</td>\n",
       "      <td>['DAY#3', 'SESSION#4', 'Session#4', 'session#5...</td>\n",
       "      <td>{'time_period': defaultdict(&lt;class 'dict'&gt;, {'...</td>\n",
       "      <td>time_period</td>\n",
       "      <td>['week_from_monday', 'wedding_night', 'lunar_d...</td>\n",
       "      <td>['late-night_hour', 'midweek', 'day_of_the_wee...</td>\n",
       "      <td>hour</td>\n",
       "      <td>['evening', 'rag', 'night']</td>\n",
       "      <td>['weekend', 'evening', 'morning']</td>\n",
       "    </tr>\n",
       "    <tr>\n",
       "      <th>885</th>\n",
       "      <td>885</td>\n",
       "      <td>&lt;day&gt;</td>\n",
       "      <td>infuriating how I have a long days off to rest...</td>\n",
       "      <td>day#3</td>\n",
       "      <td>day</td>\n",
       "      <td>3</td>\n",
       "      <td>0.999767</td>\n",
       "      <td>['DAY#3', 'SESSION#4', 'Session#4', 'session#5...</td>\n",
       "      <td>{'time_period': defaultdict(&lt;class 'dict'&gt;, {'...</td>\n",
       "      <td>time_period</td>\n",
       "      <td>['week_from_monday', 'wedding_night', 'lunar_d...</td>\n",
       "      <td>['late-night_hour', 'midweek', 'day_of_the_wee...</td>\n",
       "      <td>hour</td>\n",
       "      <td>['evening', 'rag', 'night']</td>\n",
       "      <td>['weekend', 'evening', 'morning']</td>\n",
       "    </tr>\n",
       "    <tr>\n",
       "      <th>904</th>\n",
       "      <td>904</td>\n",
       "      <td>&lt;day&gt;</td>\n",
       "      <td>bird walked back from station bird is struttin...</td>\n",
       "      <td>day#3</td>\n",
       "      <td>day</td>\n",
       "      <td>3</td>\n",
       "      <td>0.978405</td>\n",
       "      <td>['DAY#3', 'SESSION#4', 'Session#4', 'session#5...</td>\n",
       "      <td>{'time_period': defaultdict(&lt;class 'dict'&gt;, {'...</td>\n",
       "      <td>time_period</td>\n",
       "      <td>['week_from_monday', 'wedding_night', 'lunar_d...</td>\n",
       "      <td>['late-night_hour', 'midweek', 'day_of_the_wee...</td>\n",
       "      <td>hour</td>\n",
       "      <td>['evening', 'rag', 'night']</td>\n",
       "      <td>['weekend', 'evening', 'morning']</td>\n",
       "    </tr>\n",
       "    <tr>\n",
       "      <th>981</th>\n",
       "      <td>981</td>\n",
       "      <td>&lt;day&gt;</td>\n",
       "      <td>on an unrelated note I would sleep all &lt;day&gt; a...</td>\n",
       "      <td>day#3</td>\n",
       "      <td>day</td>\n",
       "      <td>3</td>\n",
       "      <td>0.968245</td>\n",
       "      <td>['DAY#3', 'SESSION#4', 'Session#4', 'session#5...</td>\n",
       "      <td>{'time_period': defaultdict(&lt;class 'dict'&gt;, {'...</td>\n",
       "      <td>time_period</td>\n",
       "      <td>['week_from_monday', 'wedding_night', 'lunar_d...</td>\n",
       "      <td>['late-night_hour', 'midweek', 'day_of_the_wee...</td>\n",
       "      <td>hour</td>\n",
       "      <td>['evening', 'rag', 'night']</td>\n",
       "      <td>['weekend', 'evening', 'morning']</td>\n",
       "    </tr>\n",
       "    <tr>\n",
       "      <th>1014</th>\n",
       "      <td>1014</td>\n",
       "      <td>&lt;day&gt;</td>\n",
       "      <td>very shit abstract I am stopping for the &lt;day&gt;\\n</td>\n",
       "      <td>day#3</td>\n",
       "      <td>day</td>\n",
       "      <td>3</td>\n",
       "      <td>0.787680</td>\n",
       "      <td>['DAY#3', 'SESSION#4', 'Session#4', 'session#5...</td>\n",
       "      <td>{'time_period': defaultdict(&lt;class 'dict'&gt;, {'...</td>\n",
       "      <td>time_period</td>\n",
       "      <td>['week_from_monday', 'wedding_night', 'lunar_d...</td>\n",
       "      <td>['late-night_hour', 'midweek', 'day_of_the_wee...</td>\n",
       "      <td>hour</td>\n",
       "      <td>['evening', 'rag', 'night']</td>\n",
       "      <td>['weekend', 'evening', 'morning']</td>\n",
       "    </tr>\n",
       "    <tr>\n",
       "      <th>1047</th>\n",
       "      <td>1047</td>\n",
       "      <td>&lt;day&gt;</td>\n",
       "      <td>my productive &lt;day&gt; has resulted in my housema...</td>\n",
       "      <td>day#3</td>\n",
       "      <td>day</td>\n",
       "      <td>3</td>\n",
       "      <td>0.969622</td>\n",
       "      <td>['DAY#3', 'SESSION#4', 'Session#4', 'session#5...</td>\n",
       "      <td>{'time_period': defaultdict(&lt;class 'dict'&gt;, {'...</td>\n",
       "      <td>time_period</td>\n",
       "      <td>['week_from_monday', 'wedding_night', 'lunar_d...</td>\n",
       "      <td>['late-night_hour', 'midweek', 'day_of_the_wee...</td>\n",
       "      <td>hour</td>\n",
       "      <td>['evening', 'rag', 'night']</td>\n",
       "      <td>['weekend', 'evening', 'morning']</td>\n",
       "    </tr>\n",
       "    <tr>\n",
       "      <th>1224</th>\n",
       "      <td>1224</td>\n",
       "      <td>&lt;day&gt;</td>\n",
       "      <td>aaw you re welcome poppet hope you had a good ...</td>\n",
       "      <td>day#3</td>\n",
       "      <td>day</td>\n",
       "      <td>3</td>\n",
       "      <td>0.853889</td>\n",
       "      <td>['DAY#3', 'SESSION#4', 'Session#4', 'session#5...</td>\n",
       "      <td>{'time_period': defaultdict(&lt;class 'dict'&gt;, {'...</td>\n",
       "      <td>time_period</td>\n",
       "      <td>['week_from_monday', 'wedding_night', 'lunar_d...</td>\n",
       "      <td>['late-night_hour', 'midweek', 'day_of_the_wee...</td>\n",
       "      <td>hour</td>\n",
       "      <td>['evening', 'rag', 'night']</td>\n",
       "      <td>['weekend', 'evening', 'morning']</td>\n",
       "    </tr>\n",
       "    <tr>\n",
       "      <th>1319</th>\n",
       "      <td>1319</td>\n",
       "      <td>&lt;day&gt;</td>\n",
       "      <td>good first &lt;day&gt; back at workpretty happy Smile\\n</td>\n",
       "      <td>day#3</td>\n",
       "      <td>day</td>\n",
       "      <td>3</td>\n",
       "      <td>0.955629</td>\n",
       "      <td>['DAY#3', 'SESSION#4', 'Session#4', 'session#5...</td>\n",
       "      <td>{'time_period': defaultdict(&lt;class 'dict'&gt;, {'...</td>\n",
       "      <td>time_period</td>\n",
       "      <td>['week_from_monday', 'wedding_night', 'lunar_d...</td>\n",
       "      <td>['late-night_hour', 'midweek', 'day_of_the_wee...</td>\n",
       "      <td>hour</td>\n",
       "      <td>['evening', 'rag', 'night']</td>\n",
       "      <td>['weekend', 'evening', 'morning']</td>\n",
       "    </tr>\n",
       "  </tbody>\n",
       "</table>\n",
       "</div>"
      ],
      "text/plain": [
       "      Unnamed: 0   word                                            context  \\\n",
       "29            29  <day>  this is a big <day> last day Ill ever put on m...   \n",
       "30            30  <day>  this is a big day last <day> Ill ever put on m...   \n",
       "32            32  <day>  this is a big day last day Ill ever put on my ...   \n",
       "34            34  <day>  last day Ill ever put on my leotard last day o...   \n",
       "196          196  <day>                       I ve been in bed all <day>\\n   \n",
       "322          322  <day>  happy fathers <day> to mr chalkley I was gon n...   \n",
       "334          334  <day>  with do I actually have to do I d be here all ...   \n",
       "363          363  <day>  I suppose I better do something with my <day> ...   \n",
       "449          449  <day>            one <day> in uni another long weekend\\n   \n",
       "455          455  <day>     wicked sticks what <day> are you movingSmile\\n   \n",
       "484          484  <day>  you lot are making me smile after a very long ...   \n",
       "530          530  <day>  nice to see a productive <day> of essay writin...   \n",
       "587          587  <day>  been awake for minutes I will continue to be a...   \n",
       "707          707  <day>                     <day> before show day woohoo\\n   \n",
       "709          709  <day>                     day before show <day> woohoo\\n   \n",
       "823          823  <day>  <day> completely and utterly made by a very lo...   \n",
       "835          835  <day>  has had her <day> redeemed by her lovely house...   \n",
       "885          885  <day>  infuriating how I have a long days off to rest...   \n",
       "904          904  <day>  bird walked back from station bird is struttin...   \n",
       "981          981  <day>  on an unrelated note I would sleep all <day> a...   \n",
       "1014        1014  <day>   very shit abstract I am stopping for the <day>\\n   \n",
       "1047        1047  <day>  my productive <day> has resulted in my housema...   \n",
       "1224        1224  <day>  aaw you re welcome poppet hope you had a good ...   \n",
       "1319        1319  <day>  good first <day> back at workpretty happy Smile\\n   \n",
       "\n",
       "     sense_id sense_group_name  sense_group_num  sense_probability  \\\n",
       "29      day#3              day                3           0.999606   \n",
       "30      day#3              day                3           0.999606   \n",
       "32      day#3              day                3           0.737632   \n",
       "34      day#3              day                3           0.737632   \n",
       "196     day#3              day                3           0.972958   \n",
       "322     day#3              day                3           0.662118   \n",
       "334     day#3              day                3           0.795181   \n",
       "363     day#3              day                3           0.891535   \n",
       "449     day#3              day                3           0.941290   \n",
       "455     day#3              day                3           0.712711   \n",
       "484     day#3              day                3           0.987598   \n",
       "530     day#4              day                4           0.778570   \n",
       "587     day#3              day                3           0.999400   \n",
       "707     day#3              day                3           0.999995   \n",
       "709     day#3              day                3           0.999995   \n",
       "823     day#3              day                3           0.907649   \n",
       "835     day#3              day                3           0.995853   \n",
       "885     day#3              day                3           0.999767   \n",
       "904     day#3              day                3           0.978405   \n",
       "981     day#3              day                3           0.968245   \n",
       "1014    day#3              day                3           0.787680   \n",
       "1047    day#3              day                3           0.969622   \n",
       "1224    day#3              day                3           0.853889   \n",
       "1319    day#3              day                3           0.955629   \n",
       "\n",
       "                                         related_senses  \\\n",
       "29    ['DAY#3', 'SESSION#4', 'Session#4', 'session#5...   \n",
       "30    ['DAY#3', 'SESSION#4', 'Session#4', 'session#5...   \n",
       "32    ['DAY#3', 'SESSION#4', 'Session#4', 'session#5...   \n",
       "34    ['DAY#3', 'SESSION#4', 'Session#4', 'session#5...   \n",
       "196   ['DAY#3', 'SESSION#4', 'Session#4', 'session#5...   \n",
       "322   ['DAY#3', 'SESSION#4', 'Session#4', 'session#5...   \n",
       "334   ['DAY#3', 'SESSION#4', 'Session#4', 'session#5...   \n",
       "363   ['DAY#3', 'SESSION#4', 'Session#4', 'session#5...   \n",
       "449   ['DAY#3', 'SESSION#4', 'Session#4', 'session#5...   \n",
       "455   ['DAY#3', 'SESSION#4', 'Session#4', 'session#5...   \n",
       "484   ['DAY#3', 'SESSION#4', 'Session#4', 'session#5...   \n",
       "530   ['DAY#4', 'Fan_Appreciation#1', 'reunion#3', '...   \n",
       "587   ['DAY#3', 'SESSION#4', 'Session#4', 'session#5...   \n",
       "707   ['DAY#3', 'SESSION#4', 'Session#4', 'session#5...   \n",
       "709   ['DAY#3', 'SESSION#4', 'Session#4', 'session#5...   \n",
       "823   ['DAY#3', 'SESSION#4', 'Session#4', 'session#5...   \n",
       "835   ['DAY#3', 'SESSION#4', 'Session#4', 'session#5...   \n",
       "885   ['DAY#3', 'SESSION#4', 'Session#4', 'session#5...   \n",
       "904   ['DAY#3', 'SESSION#4', 'Session#4', 'session#5...   \n",
       "981   ['DAY#3', 'SESSION#4', 'Session#4', 'session#5...   \n",
       "1014  ['DAY#3', 'SESSION#4', 'Session#4', 'session#5...   \n",
       "1047  ['DAY#3', 'SESSION#4', 'Session#4', 'session#5...   \n",
       "1224  ['DAY#3', 'SESSION#4', 'Session#4', 'session#5...   \n",
       "1319  ['DAY#3', 'SESSION#4', 'Session#4', 'session#5...   \n",
       "\n",
       "                                                hhm_map     hypernym  \\\n",
       "29    {'time_period': defaultdict(<class 'dict'>, {'...  time_period   \n",
       "30    {'time_period': defaultdict(<class 'dict'>, {'...  time_period   \n",
       "32    {'time_period': defaultdict(<class 'dict'>, {'...  time_period   \n",
       "34    {'time_period': defaultdict(<class 'dict'>, {'...  time_period   \n",
       "196   {'time_period': defaultdict(<class 'dict'>, {'...  time_period   \n",
       "322   {'time_period': defaultdict(<class 'dict'>, {'...  time_period   \n",
       "334   {'time_period': defaultdict(<class 'dict'>, {'...  time_period   \n",
       "363   {'time_period': defaultdict(<class 'dict'>, {'...  time_period   \n",
       "449   {'time_period': defaultdict(<class 'dict'>, {'...  time_period   \n",
       "455   {'time_period': defaultdict(<class 'dict'>, {'...  time_period   \n",
       "484   {'time_period': defaultdict(<class 'dict'>, {'...  time_period   \n",
       "530   {'time_period': defaultdict(<class 'dict'>, {'...  time_period   \n",
       "587   {'time_period': defaultdict(<class 'dict'>, {'...  time_period   \n",
       "707   {'time_period': defaultdict(<class 'dict'>, {'...  time_period   \n",
       "709   {'time_period': defaultdict(<class 'dict'>, {'...  time_period   \n",
       "823   {'time_period': defaultdict(<class 'dict'>, {'...  time_period   \n",
       "835   {'time_period': defaultdict(<class 'dict'>, {'...  time_period   \n",
       "885   {'time_period': defaultdict(<class 'dict'>, {'...  time_period   \n",
       "904   {'time_period': defaultdict(<class 'dict'>, {'...  time_period   \n",
       "981   {'time_period': defaultdict(<class 'dict'>, {'...  time_period   \n",
       "1014  {'time_period': defaultdict(<class 'dict'>, {'...  time_period   \n",
       "1047  {'time_period': defaultdict(<class 'dict'>, {'...  time_period   \n",
       "1224  {'time_period': defaultdict(<class 'dict'>, {'...  time_period   \n",
       "1319  {'time_period': defaultdict(<class 'dict'>, {'...  time_period   \n",
       "\n",
       "                                                hyponym  \\\n",
       "29    ['week_from_monday', 'wedding_night', 'lunar_d...   \n",
       "30    ['week_from_monday', 'wedding_night', 'lunar_d...   \n",
       "32    ['week_from_monday', 'wedding_night', 'lunar_d...   \n",
       "34    ['week_from_monday', 'wedding_night', 'lunar_d...   \n",
       "196   ['week_from_monday', 'wedding_night', 'lunar_d...   \n",
       "322   ['week_from_monday', 'wedding_night', 'lunar_d...   \n",
       "334   ['week_from_monday', 'wedding_night', 'lunar_d...   \n",
       "363   ['week_from_monday', 'wedding_night', 'lunar_d...   \n",
       "449   ['week_from_monday', 'wedding_night', 'lunar_d...   \n",
       "455   ['week_from_monday', 'wedding_night', 'lunar_d...   \n",
       "484   ['week_from_monday', 'wedding_night', 'lunar_d...   \n",
       "530   ['evening', 'afternoon', 'lunar_day', 'midafte...   \n",
       "587   ['week_from_monday', 'wedding_night', 'lunar_d...   \n",
       "707   ['week_from_monday', 'wedding_night', 'lunar_d...   \n",
       "709   ['week_from_monday', 'wedding_night', 'lunar_d...   \n",
       "823   ['week_from_monday', 'wedding_night', 'lunar_d...   \n",
       "835   ['week_from_monday', 'wedding_night', 'lunar_d...   \n",
       "885   ['week_from_monday', 'wedding_night', 'lunar_d...   \n",
       "904   ['week_from_monday', 'wedding_night', 'lunar_d...   \n",
       "981   ['week_from_monday', 'wedding_night', 'lunar_d...   \n",
       "1014  ['week_from_monday', 'wedding_night', 'lunar_d...   \n",
       "1047  ['week_from_monday', 'wedding_night', 'lunar_d...   \n",
       "1224  ['week_from_monday', 'wedding_night', 'lunar_d...   \n",
       "1319  ['week_from_monday', 'wedding_night', 'lunar_d...   \n",
       "\n",
       "                                                meronym hypernym_from_corpus  \\\n",
       "29    ['late-night_hour', 'midweek', 'day_of_the_wee...                 hour   \n",
       "30    ['late-night_hour', 'midweek', 'day_of_the_wee...                 hour   \n",
       "32    ['late-night_hour', 'midweek', 'day_of_the_wee...                 hour   \n",
       "34    ['late-night_hour', 'midweek', 'day_of_the_wee...                 hour   \n",
       "196   ['late-night_hour', 'midweek', 'day_of_the_wee...                 hour   \n",
       "322   ['late-night_hour', 'midweek', 'day_of_the_wee...                 hour   \n",
       "334   ['late-night_hour', 'midweek', 'day_of_the_wee...                 hour   \n",
       "363   ['late-night_hour', 'midweek', 'day_of_the_wee...                 hour   \n",
       "449   ['late-night_hour', 'midweek', 'day_of_the_wee...                 hour   \n",
       "455   ['late-night_hour', 'midweek', 'day_of_the_wee...                 hour   \n",
       "484   ['late-night_hour', 'midweek', 'day_of_the_wee...                 hour   \n",
       "530                   ['morning', 'sunday', 'saturday']                  eat   \n",
       "587   ['late-night_hour', 'midweek', 'day_of_the_wee...                 hour   \n",
       "707   ['late-night_hour', 'midweek', 'day_of_the_wee...                 hour   \n",
       "709   ['late-night_hour', 'midweek', 'day_of_the_wee...                 hour   \n",
       "823   ['late-night_hour', 'midweek', 'day_of_the_wee...                 hour   \n",
       "835   ['late-night_hour', 'midweek', 'day_of_the_wee...                 hour   \n",
       "885   ['late-night_hour', 'midweek', 'day_of_the_wee...                 hour   \n",
       "904   ['late-night_hour', 'midweek', 'day_of_the_wee...                 hour   \n",
       "981   ['late-night_hour', 'midweek', 'day_of_the_wee...                 hour   \n",
       "1014  ['late-night_hour', 'midweek', 'day_of_the_wee...                 hour   \n",
       "1047  ['late-night_hour', 'midweek', 'day_of_the_wee...                 hour   \n",
       "1224  ['late-night_hour', 'midweek', 'day_of_the_wee...                 hour   \n",
       "1319  ['late-night_hour', 'midweek', 'day_of_the_wee...                 hour   \n",
       "\n",
       "              hyponym_from_corpus                meronym_from_corpus  \n",
       "29    ['evening', 'rag', 'night']  ['weekend', 'evening', 'morning']  \n",
       "30    ['evening', 'rag', 'night']  ['weekend', 'evening', 'morning']  \n",
       "32    ['evening', 'rag', 'night']  ['weekend', 'evening', 'morning']  \n",
       "34    ['evening', 'rag', 'night']  ['weekend', 'evening', 'morning']  \n",
       "196   ['evening', 'rag', 'night']  ['weekend', 'evening', 'morning']  \n",
       "322   ['evening', 'rag', 'night']  ['weekend', 'evening', 'morning']  \n",
       "334   ['evening', 'rag', 'night']  ['weekend', 'evening', 'morning']  \n",
       "363   ['evening', 'rag', 'night']  ['weekend', 'evening', 'morning']  \n",
       "449   ['evening', 'rag', 'night']  ['weekend', 'evening', 'morning']  \n",
       "455   ['evening', 'rag', 'night']  ['weekend', 'evening', 'morning']  \n",
       "484   ['evening', 'rag', 'night']  ['weekend', 'evening', 'morning']  \n",
       "530                   ['evening']  ['morning', 'sunday', 'saturday']  \n",
       "587   ['evening', 'rag', 'night']  ['weekend', 'evening', 'morning']  \n",
       "707   ['evening', 'rag', 'night']  ['weekend', 'evening', 'morning']  \n",
       "709   ['evening', 'rag', 'night']  ['weekend', 'evening', 'morning']  \n",
       "823   ['evening', 'rag', 'night']  ['weekend', 'evening', 'morning']  \n",
       "835   ['evening', 'rag', 'night']  ['weekend', 'evening', 'morning']  \n",
       "885   ['evening', 'rag', 'night']  ['weekend', 'evening', 'morning']  \n",
       "904   ['evening', 'rag', 'night']  ['weekend', 'evening', 'morning']  \n",
       "981   ['evening', 'rag', 'night']  ['weekend', 'evening', 'morning']  \n",
       "1014  ['evening', 'rag', 'night']  ['weekend', 'evening', 'morning']  \n",
       "1047  ['evening', 'rag', 'night']  ['weekend', 'evening', 'morning']  \n",
       "1224  ['evening', 'rag', 'night']  ['weekend', 'evening', 'morning']  \n",
       "1319  ['evening', 'rag', 'night']  ['weekend', 'evening', 'morning']  "
      ]
     },
     "execution_count": 562,
     "metadata": {},
     "output_type": "execute_result"
    }
   ],
   "source": [
    "subset_df"
   ]
  },
  {
   "cell_type": "code",
   "execution_count": 563,
   "metadata": {},
   "outputs": [],
   "source": [
    "unq_hypernyms = list(set(subset_df[\"hypernym\"].values))\n",
    "unq_hypernyms_from_cropus = list(set(subset_df[\"hypernym_from_corpus\"].values))"
   ]
  },
  {
   "cell_type": "code",
   "execution_count": 564,
   "metadata": {},
   "outputs": [],
   "source": [
    "hypo_mero_map = {}\n",
    "unq_hyponyms_from_corpus = []\n",
    "unq_meronyms_from_corpus = []\n",
    "hyper_node_sizes = len(unq_hypernyms_from_cropus)\n",
    "hypo_node_sizes = []\n",
    "mero_node_sizes = []\n",
    "for hyp in unq_hypernyms_from_cropus:\n",
    "    hyper_df = subset_df[subset_df[\"hypernym_from_corpus\"]==hyp]\n",
    "    hyponyms = []\n",
    "    meronyms = []\n",
    "    for _, row in hyper_df[[\"hyponym_from_corpus\", \"meronym_from_corpus\"]].iterrows():\n",
    "        hypo, mero = row\n",
    "        hyponyms += ast.literal_eval(hypo)\n",
    "        meronyms += ast.literal_eval(mero)\n",
    "    unq_hyponyms_from_corpus += hyponyms\n",
    "    unq_meronyms_from_corpus += meronyms\n",
    "    \n",
    "    hypo_node_sizes.append(len(list(set(hyponyms))))\n",
    "    mero_node_sizes.append(len(list(set(meronyms))))\n",
    "    hypo_mero_map[hyp] = {\n",
    "        \"hyponyms\": list(set(hyponyms)),\n",
    "        \"meronyms\": list(set(meronyms))\n",
    "    }\n",
    "\n",
    "unq_hyponyms_from_corpus = list(set(unq_hyponyms_from_corpus))\n",
    "unq_meronyms_from_corpus = list(set(unq_meronyms_from_corpus))\n"
   ]
  },
  {
   "cell_type": "code",
   "execution_count": 565,
   "metadata": {},
   "outputs": [
    {
     "data": {
      "text/plain": [
       "['time_period']"
      ]
     },
     "execution_count": 565,
     "metadata": {},
     "output_type": "execute_result"
    }
   ],
   "source": [
    "unq_hypernyms"
   ]
  },
  {
   "cell_type": "code",
   "execution_count": 566,
   "metadata": {},
   "outputs": [
    {
     "data": {
      "text/plain": [
       "['eat', 'hour']"
      ]
     },
     "execution_count": 566,
     "metadata": {},
     "output_type": "execute_result"
    }
   ],
   "source": [
    "unq_hypernyms_from_cropus"
   ]
  },
  {
   "cell_type": "code",
   "execution_count": 567,
   "metadata": {},
   "outputs": [
    {
     "data": {
      "text/plain": [
       "{'eat': {'hyponyms': ['evening'],\n",
       "  'meronyms': ['sunday', 'morning', 'saturday']},\n",
       " 'hour': {'hyponyms': ['night', 'rag', 'evening'],\n",
       "  'meronyms': ['weekend', 'morning', 'evening']}}"
      ]
     },
     "execution_count": 567,
     "metadata": {},
     "output_type": "execute_result"
    }
   ],
   "source": [
    "hypo_mero_map"
   ]
  },
  {
   "cell_type": "code",
   "execution_count": 568,
   "metadata": {},
   "outputs": [
    {
     "data": {
      "text/plain": [
       "[3, 3]"
      ]
     },
     "execution_count": 568,
     "metadata": {},
     "output_type": "execute_result"
    }
   ],
   "source": [
    "mero_node_sizes"
   ]
  },
  {
   "cell_type": "code",
   "execution_count": 569,
   "metadata": {},
   "outputs": [
    {
     "data": {
      "text/plain": [
       "4"
      ]
     },
     "execution_count": 569,
     "metadata": {},
     "output_type": "execute_result"
    }
   ],
   "source": [
    "max(hyper_node_sizes, sum(hypo_node_sizes))"
   ]
  },
  {
   "cell_type": "code",
   "execution_count": 570,
   "metadata": {},
   "outputs": [
    {
     "data": {
      "text/plain": [
       "72"
      ]
     },
     "execution_count": 570,
     "metadata": {},
     "output_type": "execute_result"
    }
   ],
   "source": [
    "max_nodes"
   ]
  },
  {
   "cell_type": "code",
   "execution_count": 571,
   "metadata": {},
   "outputs": [
    {
     "data": {
      "text/plain": [
       "['sunday', 'saturday', 'morning', 'weekend', 'evening']"
      ]
     },
     "execution_count": 571,
     "metadata": {},
     "output_type": "execute_result"
    }
   ],
   "source": [
    "unq_meronyms_from_corpus"
   ]
  },
  {
   "cell_type": "code",
   "execution_count": 572,
   "metadata": {},
   "outputs": [
    {
     "data": {
      "text/plain": [
       "['night', 'rag', 'evening']"
      ]
     },
     "execution_count": 572,
     "metadata": {},
     "output_type": "execute_result"
    }
   ],
   "source": [
    "unq_hyponyms_from_corpus"
   ]
  },
  {
   "cell_type": "code",
   "execution_count": null,
   "metadata": {},
   "outputs": [],
   "source": []
  },
  {
   "cell_type": "code",
   "execution_count": null,
   "metadata": {},
   "outputs": [],
   "source": []
  },
  {
   "cell_type": "code",
   "execution_count": 573,
   "metadata": {},
   "outputs": [],
   "source": [
    "import plotly.graph_objects as go\n",
    "import igraph\n",
    "from igraph import Graph, EdgeSeq"
   ]
  },
  {
   "cell_type": "code",
   "execution_count": 574,
   "metadata": {},
   "outputs": [
    {
     "data": {
      "text/plain": [
       "igraph.Vertex(<igraph.Graph object at 0x7f8f753316d8>, 0, {'name': 'day'})"
      ]
     },
     "execution_count": 574,
     "metadata": {},
     "output_type": "execute_result"
    }
   ],
   "source": [
    "G = Graph()\n",
    "G.add_vertex(word)"
   ]
  },
  {
   "cell_type": "code",
   "execution_count": 575,
   "metadata": {},
   "outputs": [
    {
     "name": "stdout",
     "output_type": "stream",
     "text": [
      "night\n",
      "sunday\n",
      "rag\n",
      "saturday\n",
      "eat\n",
      "morning\n",
      "weekend\n",
      "evening\n",
      "hour\n"
     ]
    }
   ],
   "source": [
    "vertices = list(set(unq_hyponyms_from_corpus+unq_hypernyms_from_cropus+unq_meronyms_from_corpus))\n",
    "for n in vertices:\n",
    "    print(n)\n",
    "    G.add_vertex(n)\n",
    "# G.add_vertex(\"pqr\")\n",
    "# G.add_vertex(\"xyz\")\n",
    "# G.add_vertex(\"mno\")\n"
   ]
  },
  {
   "cell_type": "code",
   "execution_count": 576,
   "metadata": {},
   "outputs": [
    {
     "name": "stdout",
     "output_type": "stream",
     "text": [
      "Adding edge - day-eat\n",
      "Adding edge - day-hour\n"
     ]
    }
   ],
   "source": [
    "for h in unq_hypernyms_from_cropus:\n",
    "    print(f\"Adding edge - {word}-{h}\")\n",
    "    G.add_edge(word, h)"
   ]
  },
  {
   "cell_type": "code",
   "execution_count": 577,
   "metadata": {},
   "outputs": [
    {
     "name": "stdout",
     "output_type": "stream",
     "text": [
      "Adding edges : eat-evening\n",
      "Adding edges : eat-sunday\n",
      "Adding edges : eat-morning\n",
      "Adding edges : eat-saturday\n",
      "Adding edges : hour-night\n",
      "Adding edges : hour-rag\n",
      "Adding edges : hour-evening\n",
      "Adding edges : hour-weekend\n",
      "Adding edges : hour-morning\n",
      "Adding edges : hour-evening\n"
     ]
    }
   ],
   "source": [
    "for hyper, mapping in hypo_mero_map.items():\n",
    "    for hypo in mapping[\"hyponyms\"]:\n",
    "        print(f\"Adding edges : {hyper}-{hypo}\")\n",
    "        G.add_edge(hyper, hypo)\n",
    "    for mero in mapping[\"meronyms\"]:\n",
    "        print(f\"Adding edges : {hyper}-{mero}\")\n",
    "        G.add_edge(hyper, mero)"
   ]
  },
  {
   "cell_type": "code",
   "execution_count": 578,
   "metadata": {},
   "outputs": [],
   "source": [
    "# G.add_edges([(\"abc\", \"pqr\"), (\"pqr\", \"mno\"), (\"mno\", \"xyz\"), (\"xyz\", \"pqr\")])"
   ]
  },
  {
   "cell_type": "code",
   "execution_count": 579,
   "metadata": {},
   "outputs": [],
   "source": [
    "\n",
    "# nr_vertices = 25\n",
    "# v_label = list(map(str, range(nr_vertices)))\n",
    "# G = Graph.Tree(nr_vertices, 2) # 2 stands for children number\n",
    "lay = G.layout('auto')"
   ]
  },
  {
   "cell_type": "code",
   "execution_count": null,
   "metadata": {},
   "outputs": [],
   "source": []
  },
  {
   "cell_type": "code",
   "execution_count": 580,
   "metadata": {},
   "outputs": [],
   "source": [
    "nr_vertices = 1 + len(vertices)\n",
    "v_label = [word] + vertices\n",
    "position = {k: lay[k] for k in range(nr_vertices)}\n",
    "Y = [lay[k][1] for k in range(nr_vertices)]\n",
    "M = max(Y)\n",
    "\n",
    "es = EdgeSeq(G) # sequence of edges\n",
    "E = [e.tuple for e in G.es] # list of edges\n",
    "\n",
    "L = len(position)\n",
    "Xn = [position[k][0] for k in range(L)]\n",
    "Yn = [position[k][1] for k in range(L)]\n",
    "# Yn = [2*M-position[k][1] for k in range(L)]\n",
    "Xe = []\n",
    "Ye = []\n",
    "for edge in E:\n",
    "    Xe+=[position[edge[0]][0],position[edge[1]][0], None]\n",
    "#     Ye+=[2*M-position[edge[0]][1],2*M-position[edge[1]][1], None]\n",
    "    Ye+=[position[edge[0]][1],position[edge[1]][1], None]\n",
    "\n",
    "labels = v_label"
   ]
  },
  {
   "cell_type": "code",
   "execution_count": 581,
   "metadata": {},
   "outputs": [
    {
     "data": {
      "text/plain": [
       "{0: [0.13205307577144823, 0.07506480854265077],\n",
       " 1: [1.204969293063682, -1.1472790075655315],\n",
       " 2: [-0.3423112928170799, 1.5248673427059654],\n",
       " 3: [1.5421541264193852, -0.27785656186951097],\n",
       " 4: [-1.2440076411292238, 0.7334004719056273],\n",
       " 5: [-0.3611737836099297, 0.6369845482077239],\n",
       " 6: [-0.3198690865594072, -0.31802005673395584],\n",
       " 7: [0.29916760808886905, -1.3688919774521184],\n",
       " 8: [0.5804142850851812, 0.4722065692503996],\n",
       " 9: [0.6340553088097759, -0.4968524719841706]}"
      ]
     },
     "execution_count": 581,
     "metadata": {},
     "output_type": "execute_result"
    }
   ],
   "source": [
    "position"
   ]
  },
  {
   "cell_type": "code",
   "execution_count": 582,
   "metadata": {},
   "outputs": [
    {
     "data": {
      "text/plain": [
       "[(0, 5),\n",
       " (0, 9),\n",
       " (5, 8),\n",
       " (2, 5),\n",
       " (5, 6),\n",
       " (4, 5),\n",
       " (1, 9),\n",
       " (3, 9),\n",
       " (8, 9),\n",
       " (7, 9),\n",
       " (6, 9),\n",
       " (8, 9)]"
      ]
     },
     "execution_count": 582,
     "metadata": {},
     "output_type": "execute_result"
    }
   ],
   "source": [
    "E"
   ]
  },
  {
   "cell_type": "code",
   "execution_count": 583,
   "metadata": {},
   "outputs": [
    {
     "data": {
      "text/plain": [
       "['day',\n",
       " 'night',\n",
       " 'sunday',\n",
       " 'rag',\n",
       " 'saturday',\n",
       " 'eat',\n",
       " 'morning',\n",
       " 'weekend',\n",
       " 'evening',\n",
       " 'hour']"
      ]
     },
     "execution_count": 583,
     "metadata": {},
     "output_type": "execute_result"
    }
   ],
   "source": [
    "labels"
   ]
  },
  {
   "cell_type": "code",
   "execution_count": 584,
   "metadata": {},
   "outputs": [
    {
     "data": {
      "text/plain": [
       "[0.07506480854265077,\n",
       " -1.1472790075655315,\n",
       " 1.5248673427059654,\n",
       " -0.27785656186951097,\n",
       " 0.7334004719056273,\n",
       " 0.6369845482077239,\n",
       " -0.31802005673395584,\n",
       " -1.3688919774521184,\n",
       " 0.4722065692503996,\n",
       " -0.4968524719841706]"
      ]
     },
     "execution_count": 584,
     "metadata": {},
     "output_type": "execute_result"
    }
   ],
   "source": [
    "Yn"
   ]
  },
  {
   "cell_type": "code",
   "execution_count": 585,
   "metadata": {},
   "outputs": [
    {
     "data": {
      "text/plain": [
       "[0.13205307577144823,\n",
       " 1.204969293063682,\n",
       " -0.3423112928170799,\n",
       " 1.5421541264193852,\n",
       " -1.2440076411292238,\n",
       " -0.3611737836099297,\n",
       " -0.3198690865594072,\n",
       " 0.29916760808886905,\n",
       " 0.5804142850851812,\n",
       " 0.6340553088097759]"
      ]
     },
     "execution_count": 585,
     "metadata": {},
     "output_type": "execute_result"
    }
   ],
   "source": [
    "Xn"
   ]
  },
  {
   "cell_type": "code",
   "execution_count": 586,
   "metadata": {},
   "outputs": [
    {
     "data": {
      "application/vnd.plotly.v1+json": {
       "config": {
        "plotlyServerURL": "https://plot.ly"
       },
       "data": [
        {
         "hoverinfo": "none",
         "line": {
          "color": "rgb(210,210,210)",
          "width": 1
         },
         "mode": "lines",
         "type": "scatter",
         "x": [
          0.13205307577144823,
          -0.3611737836099297,
          null,
          0.13205307577144823,
          0.6340553088097759,
          null,
          -0.3611737836099297,
          0.5804142850851812,
          null,
          -0.3423112928170799,
          -0.3611737836099297,
          null,
          -0.3611737836099297,
          -0.3198690865594072,
          null,
          -1.2440076411292238,
          -0.3611737836099297,
          null,
          1.204969293063682,
          0.6340553088097759,
          null,
          1.5421541264193852,
          0.6340553088097759,
          null,
          0.5804142850851812,
          0.6340553088097759,
          null,
          0.29916760808886905,
          0.6340553088097759,
          null,
          -0.3198690865594072,
          0.6340553088097759,
          null,
          0.5804142850851812,
          0.6340553088097759,
          null
         ],
         "y": [
          0.07506480854265077,
          0.6369845482077239,
          null,
          0.07506480854265077,
          -0.4968524719841706,
          null,
          0.6369845482077239,
          0.4722065692503996,
          null,
          1.5248673427059654,
          0.6369845482077239,
          null,
          0.6369845482077239,
          -0.31802005673395584,
          null,
          0.7334004719056273,
          0.6369845482077239,
          null,
          -1.1472790075655315,
          -0.4968524719841706,
          null,
          -0.27785656186951097,
          -0.4968524719841706,
          null,
          0.4722065692503996,
          -0.4968524719841706,
          null,
          -1.3688919774521184,
          -0.4968524719841706,
          null,
          -0.31802005673395584,
          -0.4968524719841706,
          null,
          0.4722065692503996,
          -0.4968524719841706,
          null
         ]
        },
        {
         "hoverinfo": "text",
         "marker": {
          "color": "#6175c1",
          "line": {
           "color": "rgb(50,50,50)",
           "width": 1
          },
          "size": 18,
          "symbol": "circle-dot"
         },
         "mode": "markers",
         "name": "bla",
         "opacity": 0.8,
         "text": [
          "day",
          "night",
          "sunday",
          "rag",
          "saturday",
          "eat",
          "morning",
          "weekend",
          "evening",
          "hour"
         ],
         "type": "scatter",
         "x": [
          0.13205307577144823,
          1.204969293063682,
          -0.3423112928170799,
          1.5421541264193852,
          -1.2440076411292238,
          -0.3611737836099297,
          -0.3198690865594072,
          0.29916760808886905,
          0.5804142850851812,
          0.6340553088097759
         ],
         "y": [
          0.07506480854265077,
          -1.1472790075655315,
          1.5248673427059654,
          -0.27785656186951097,
          0.7334004719056273,
          0.6369845482077239,
          -0.31802005673395584,
          -1.3688919774521184,
          0.4722065692503996,
          -0.4968524719841706
         ]
        }
       ],
       "layout": {
        "template": {
         "data": {
          "bar": [
           {
            "error_x": {
             "color": "#2a3f5f"
            },
            "error_y": {
             "color": "#2a3f5f"
            },
            "marker": {
             "line": {
              "color": "#E5ECF6",
              "width": 0.5
             }
            },
            "type": "bar"
           }
          ],
          "barpolar": [
           {
            "marker": {
             "line": {
              "color": "#E5ECF6",
              "width": 0.5
             }
            },
            "type": "barpolar"
           }
          ],
          "carpet": [
           {
            "aaxis": {
             "endlinecolor": "#2a3f5f",
             "gridcolor": "white",
             "linecolor": "white",
             "minorgridcolor": "white",
             "startlinecolor": "#2a3f5f"
            },
            "baxis": {
             "endlinecolor": "#2a3f5f",
             "gridcolor": "white",
             "linecolor": "white",
             "minorgridcolor": "white",
             "startlinecolor": "#2a3f5f"
            },
            "type": "carpet"
           }
          ],
          "choropleth": [
           {
            "colorbar": {
             "outlinewidth": 0,
             "ticks": ""
            },
            "type": "choropleth"
           }
          ],
          "contour": [
           {
            "colorbar": {
             "outlinewidth": 0,
             "ticks": ""
            },
            "colorscale": [
             [
              0,
              "#0d0887"
             ],
             [
              0.1111111111111111,
              "#46039f"
             ],
             [
              0.2222222222222222,
              "#7201a8"
             ],
             [
              0.3333333333333333,
              "#9c179e"
             ],
             [
              0.4444444444444444,
              "#bd3786"
             ],
             [
              0.5555555555555556,
              "#d8576b"
             ],
             [
              0.6666666666666666,
              "#ed7953"
             ],
             [
              0.7777777777777778,
              "#fb9f3a"
             ],
             [
              0.8888888888888888,
              "#fdca26"
             ],
             [
              1,
              "#f0f921"
             ]
            ],
            "type": "contour"
           }
          ],
          "contourcarpet": [
           {
            "colorbar": {
             "outlinewidth": 0,
             "ticks": ""
            },
            "type": "contourcarpet"
           }
          ],
          "heatmap": [
           {
            "colorbar": {
             "outlinewidth": 0,
             "ticks": ""
            },
            "colorscale": [
             [
              0,
              "#0d0887"
             ],
             [
              0.1111111111111111,
              "#46039f"
             ],
             [
              0.2222222222222222,
              "#7201a8"
             ],
             [
              0.3333333333333333,
              "#9c179e"
             ],
             [
              0.4444444444444444,
              "#bd3786"
             ],
             [
              0.5555555555555556,
              "#d8576b"
             ],
             [
              0.6666666666666666,
              "#ed7953"
             ],
             [
              0.7777777777777778,
              "#fb9f3a"
             ],
             [
              0.8888888888888888,
              "#fdca26"
             ],
             [
              1,
              "#f0f921"
             ]
            ],
            "type": "heatmap"
           }
          ],
          "heatmapgl": [
           {
            "colorbar": {
             "outlinewidth": 0,
             "ticks": ""
            },
            "colorscale": [
             [
              0,
              "#0d0887"
             ],
             [
              0.1111111111111111,
              "#46039f"
             ],
             [
              0.2222222222222222,
              "#7201a8"
             ],
             [
              0.3333333333333333,
              "#9c179e"
             ],
             [
              0.4444444444444444,
              "#bd3786"
             ],
             [
              0.5555555555555556,
              "#d8576b"
             ],
             [
              0.6666666666666666,
              "#ed7953"
             ],
             [
              0.7777777777777778,
              "#fb9f3a"
             ],
             [
              0.8888888888888888,
              "#fdca26"
             ],
             [
              1,
              "#f0f921"
             ]
            ],
            "type": "heatmapgl"
           }
          ],
          "histogram": [
           {
            "marker": {
             "colorbar": {
              "outlinewidth": 0,
              "ticks": ""
             }
            },
            "type": "histogram"
           }
          ],
          "histogram2d": [
           {
            "colorbar": {
             "outlinewidth": 0,
             "ticks": ""
            },
            "colorscale": [
             [
              0,
              "#0d0887"
             ],
             [
              0.1111111111111111,
              "#46039f"
             ],
             [
              0.2222222222222222,
              "#7201a8"
             ],
             [
              0.3333333333333333,
              "#9c179e"
             ],
             [
              0.4444444444444444,
              "#bd3786"
             ],
             [
              0.5555555555555556,
              "#d8576b"
             ],
             [
              0.6666666666666666,
              "#ed7953"
             ],
             [
              0.7777777777777778,
              "#fb9f3a"
             ],
             [
              0.8888888888888888,
              "#fdca26"
             ],
             [
              1,
              "#f0f921"
             ]
            ],
            "type": "histogram2d"
           }
          ],
          "histogram2dcontour": [
           {
            "colorbar": {
             "outlinewidth": 0,
             "ticks": ""
            },
            "colorscale": [
             [
              0,
              "#0d0887"
             ],
             [
              0.1111111111111111,
              "#46039f"
             ],
             [
              0.2222222222222222,
              "#7201a8"
             ],
             [
              0.3333333333333333,
              "#9c179e"
             ],
             [
              0.4444444444444444,
              "#bd3786"
             ],
             [
              0.5555555555555556,
              "#d8576b"
             ],
             [
              0.6666666666666666,
              "#ed7953"
             ],
             [
              0.7777777777777778,
              "#fb9f3a"
             ],
             [
              0.8888888888888888,
              "#fdca26"
             ],
             [
              1,
              "#f0f921"
             ]
            ],
            "type": "histogram2dcontour"
           }
          ],
          "mesh3d": [
           {
            "colorbar": {
             "outlinewidth": 0,
             "ticks": ""
            },
            "type": "mesh3d"
           }
          ],
          "parcoords": [
           {
            "line": {
             "colorbar": {
              "outlinewidth": 0,
              "ticks": ""
             }
            },
            "type": "parcoords"
           }
          ],
          "pie": [
           {
            "automargin": true,
            "type": "pie"
           }
          ],
          "scatter": [
           {
            "marker": {
             "colorbar": {
              "outlinewidth": 0,
              "ticks": ""
             }
            },
            "type": "scatter"
           }
          ],
          "scatter3d": [
           {
            "line": {
             "colorbar": {
              "outlinewidth": 0,
              "ticks": ""
             }
            },
            "marker": {
             "colorbar": {
              "outlinewidth": 0,
              "ticks": ""
             }
            },
            "type": "scatter3d"
           }
          ],
          "scattercarpet": [
           {
            "marker": {
             "colorbar": {
              "outlinewidth": 0,
              "ticks": ""
             }
            },
            "type": "scattercarpet"
           }
          ],
          "scattergeo": [
           {
            "marker": {
             "colorbar": {
              "outlinewidth": 0,
              "ticks": ""
             }
            },
            "type": "scattergeo"
           }
          ],
          "scattergl": [
           {
            "marker": {
             "colorbar": {
              "outlinewidth": 0,
              "ticks": ""
             }
            },
            "type": "scattergl"
           }
          ],
          "scattermapbox": [
           {
            "marker": {
             "colorbar": {
              "outlinewidth": 0,
              "ticks": ""
             }
            },
            "type": "scattermapbox"
           }
          ],
          "scatterpolar": [
           {
            "marker": {
             "colorbar": {
              "outlinewidth": 0,
              "ticks": ""
             }
            },
            "type": "scatterpolar"
           }
          ],
          "scatterpolargl": [
           {
            "marker": {
             "colorbar": {
              "outlinewidth": 0,
              "ticks": ""
             }
            },
            "type": "scatterpolargl"
           }
          ],
          "scatterternary": [
           {
            "marker": {
             "colorbar": {
              "outlinewidth": 0,
              "ticks": ""
             }
            },
            "type": "scatterternary"
           }
          ],
          "surface": [
           {
            "colorbar": {
             "outlinewidth": 0,
             "ticks": ""
            },
            "colorscale": [
             [
              0,
              "#0d0887"
             ],
             [
              0.1111111111111111,
              "#46039f"
             ],
             [
              0.2222222222222222,
              "#7201a8"
             ],
             [
              0.3333333333333333,
              "#9c179e"
             ],
             [
              0.4444444444444444,
              "#bd3786"
             ],
             [
              0.5555555555555556,
              "#d8576b"
             ],
             [
              0.6666666666666666,
              "#ed7953"
             ],
             [
              0.7777777777777778,
              "#fb9f3a"
             ],
             [
              0.8888888888888888,
              "#fdca26"
             ],
             [
              1,
              "#f0f921"
             ]
            ],
            "type": "surface"
           }
          ],
          "table": [
           {
            "cells": {
             "fill": {
              "color": "#EBF0F8"
             },
             "line": {
              "color": "white"
             }
            },
            "header": {
             "fill": {
              "color": "#C8D4E3"
             },
             "line": {
              "color": "white"
             }
            },
            "type": "table"
           }
          ]
         },
         "layout": {
          "annotationdefaults": {
           "arrowcolor": "#2a3f5f",
           "arrowhead": 0,
           "arrowwidth": 1
          },
          "coloraxis": {
           "colorbar": {
            "outlinewidth": 0,
            "ticks": ""
           }
          },
          "colorscale": {
           "diverging": [
            [
             0,
             "#8e0152"
            ],
            [
             0.1,
             "#c51b7d"
            ],
            [
             0.2,
             "#de77ae"
            ],
            [
             0.3,
             "#f1b6da"
            ],
            [
             0.4,
             "#fde0ef"
            ],
            [
             0.5,
             "#f7f7f7"
            ],
            [
             0.6,
             "#e6f5d0"
            ],
            [
             0.7,
             "#b8e186"
            ],
            [
             0.8,
             "#7fbc41"
            ],
            [
             0.9,
             "#4d9221"
            ],
            [
             1,
             "#276419"
            ]
           ],
           "sequential": [
            [
             0,
             "#0d0887"
            ],
            [
             0.1111111111111111,
             "#46039f"
            ],
            [
             0.2222222222222222,
             "#7201a8"
            ],
            [
             0.3333333333333333,
             "#9c179e"
            ],
            [
             0.4444444444444444,
             "#bd3786"
            ],
            [
             0.5555555555555556,
             "#d8576b"
            ],
            [
             0.6666666666666666,
             "#ed7953"
            ],
            [
             0.7777777777777778,
             "#fb9f3a"
            ],
            [
             0.8888888888888888,
             "#fdca26"
            ],
            [
             1,
             "#f0f921"
            ]
           ],
           "sequentialminus": [
            [
             0,
             "#0d0887"
            ],
            [
             0.1111111111111111,
             "#46039f"
            ],
            [
             0.2222222222222222,
             "#7201a8"
            ],
            [
             0.3333333333333333,
             "#9c179e"
            ],
            [
             0.4444444444444444,
             "#bd3786"
            ],
            [
             0.5555555555555556,
             "#d8576b"
            ],
            [
             0.6666666666666666,
             "#ed7953"
            ],
            [
             0.7777777777777778,
             "#fb9f3a"
            ],
            [
             0.8888888888888888,
             "#fdca26"
            ],
            [
             1,
             "#f0f921"
            ]
           ]
          },
          "colorway": [
           "#636efa",
           "#EF553B",
           "#00cc96",
           "#ab63fa",
           "#FFA15A",
           "#19d3f3",
           "#FF6692",
           "#B6E880",
           "#FF97FF",
           "#FECB52"
          ],
          "font": {
           "color": "#2a3f5f"
          },
          "geo": {
           "bgcolor": "white",
           "lakecolor": "white",
           "landcolor": "#E5ECF6",
           "showlakes": true,
           "showland": true,
           "subunitcolor": "white"
          },
          "hoverlabel": {
           "align": "left"
          },
          "hovermode": "closest",
          "mapbox": {
           "style": "light"
          },
          "paper_bgcolor": "white",
          "plot_bgcolor": "#E5ECF6",
          "polar": {
           "angularaxis": {
            "gridcolor": "white",
            "linecolor": "white",
            "ticks": ""
           },
           "bgcolor": "#E5ECF6",
           "radialaxis": {
            "gridcolor": "white",
            "linecolor": "white",
            "ticks": ""
           }
          },
          "scene": {
           "xaxis": {
            "backgroundcolor": "#E5ECF6",
            "gridcolor": "white",
            "gridwidth": 2,
            "linecolor": "white",
            "showbackground": true,
            "ticks": "",
            "zerolinecolor": "white"
           },
           "yaxis": {
            "backgroundcolor": "#E5ECF6",
            "gridcolor": "white",
            "gridwidth": 2,
            "linecolor": "white",
            "showbackground": true,
            "ticks": "",
            "zerolinecolor": "white"
           },
           "zaxis": {
            "backgroundcolor": "#E5ECF6",
            "gridcolor": "white",
            "gridwidth": 2,
            "linecolor": "white",
            "showbackground": true,
            "ticks": "",
            "zerolinecolor": "white"
           }
          },
          "shapedefaults": {
           "line": {
            "color": "#2a3f5f"
           }
          },
          "ternary": {
           "aaxis": {
            "gridcolor": "white",
            "linecolor": "white",
            "ticks": ""
           },
           "baxis": {
            "gridcolor": "white",
            "linecolor": "white",
            "ticks": ""
           },
           "bgcolor": "#E5ECF6",
           "caxis": {
            "gridcolor": "white",
            "linecolor": "white",
            "ticks": ""
           }
          },
          "title": {
           "x": 0.05
          },
          "xaxis": {
           "automargin": true,
           "gridcolor": "white",
           "linecolor": "white",
           "ticks": "",
           "title": {
            "standoff": 15
           },
           "zerolinecolor": "white",
           "zerolinewidth": 2
          },
          "yaxis": {
           "automargin": true,
           "gridcolor": "white",
           "linecolor": "white",
           "ticks": "",
           "title": {
            "standoff": 15
           },
           "zerolinecolor": "white",
           "zerolinewidth": 2
          }
         }
        }
       }
      },
      "text/html": [
       "<div>\n",
       "        \n",
       "        \n",
       "            <div id=\"0113d0f1-a534-4052-a7cd-7c8a98cc0782\" class=\"plotly-graph-div\" style=\"height:525px; width:100%;\"></div>\n",
       "            <script type=\"text/javascript\">\n",
       "                require([\"plotly\"], function(Plotly) {\n",
       "                    window.PLOTLYENV=window.PLOTLYENV || {};\n",
       "                    \n",
       "                if (document.getElementById(\"0113d0f1-a534-4052-a7cd-7c8a98cc0782\")) {\n",
       "                    Plotly.newPlot(\n",
       "                        '0113d0f1-a534-4052-a7cd-7c8a98cc0782',\n",
       "                        [{\"hoverinfo\": \"none\", \"line\": {\"color\": \"rgb(210,210,210)\", \"width\": 1}, \"mode\": \"lines\", \"type\": \"scatter\", \"x\": [0.13205307577144823, -0.3611737836099297, null, 0.13205307577144823, 0.6340553088097759, null, -0.3611737836099297, 0.5804142850851812, null, -0.3423112928170799, -0.3611737836099297, null, -0.3611737836099297, -0.3198690865594072, null, -1.2440076411292238, -0.3611737836099297, null, 1.204969293063682, 0.6340553088097759, null, 1.5421541264193852, 0.6340553088097759, null, 0.5804142850851812, 0.6340553088097759, null, 0.29916760808886905, 0.6340553088097759, null, -0.3198690865594072, 0.6340553088097759, null, 0.5804142850851812, 0.6340553088097759, null], \"y\": [0.07506480854265077, 0.6369845482077239, null, 0.07506480854265077, -0.4968524719841706, null, 0.6369845482077239, 0.4722065692503996, null, 1.5248673427059654, 0.6369845482077239, null, 0.6369845482077239, -0.31802005673395584, null, 0.7334004719056273, 0.6369845482077239, null, -1.1472790075655315, -0.4968524719841706, null, -0.27785656186951097, -0.4968524719841706, null, 0.4722065692503996, -0.4968524719841706, null, -1.3688919774521184, -0.4968524719841706, null, -0.31802005673395584, -0.4968524719841706, null, 0.4722065692503996, -0.4968524719841706, null]}, {\"hoverinfo\": \"text\", \"marker\": {\"color\": \"#6175c1\", \"line\": {\"color\": \"rgb(50,50,50)\", \"width\": 1}, \"size\": 18, \"symbol\": \"circle-dot\"}, \"mode\": \"markers\", \"name\": \"bla\", \"opacity\": 0.8, \"text\": [\"day\", \"night\", \"sunday\", \"rag\", \"saturday\", \"eat\", \"morning\", \"weekend\", \"evening\", \"hour\"], \"type\": \"scatter\", \"x\": [0.13205307577144823, 1.204969293063682, -0.3423112928170799, 1.5421541264193852, -1.2440076411292238, -0.3611737836099297, -0.3198690865594072, 0.29916760808886905, 0.5804142850851812, 0.6340553088097759], \"y\": [0.07506480854265077, -1.1472790075655315, 1.5248673427059654, -0.27785656186951097, 0.7334004719056273, 0.6369845482077239, -0.31802005673395584, -1.3688919774521184, 0.4722065692503996, -0.4968524719841706]}],\n",
       "                        {\"template\": {\"data\": {\"bar\": [{\"error_x\": {\"color\": \"#2a3f5f\"}, \"error_y\": {\"color\": \"#2a3f5f\"}, \"marker\": {\"line\": {\"color\": \"#E5ECF6\", \"width\": 0.5}}, \"type\": \"bar\"}], \"barpolar\": [{\"marker\": {\"line\": {\"color\": \"#E5ECF6\", \"width\": 0.5}}, \"type\": \"barpolar\"}], \"carpet\": [{\"aaxis\": {\"endlinecolor\": \"#2a3f5f\", \"gridcolor\": \"white\", \"linecolor\": \"white\", \"minorgridcolor\": \"white\", \"startlinecolor\": \"#2a3f5f\"}, \"baxis\": {\"endlinecolor\": \"#2a3f5f\", \"gridcolor\": \"white\", \"linecolor\": \"white\", \"minorgridcolor\": \"white\", \"startlinecolor\": \"#2a3f5f\"}, \"type\": \"carpet\"}], \"choropleth\": [{\"colorbar\": {\"outlinewidth\": 0, \"ticks\": \"\"}, \"type\": \"choropleth\"}], \"contour\": [{\"colorbar\": {\"outlinewidth\": 0, \"ticks\": \"\"}, \"colorscale\": [[0.0, \"#0d0887\"], [0.1111111111111111, \"#46039f\"], [0.2222222222222222, \"#7201a8\"], [0.3333333333333333, \"#9c179e\"], [0.4444444444444444, \"#bd3786\"], [0.5555555555555556, \"#d8576b\"], [0.6666666666666666, \"#ed7953\"], [0.7777777777777778, \"#fb9f3a\"], [0.8888888888888888, \"#fdca26\"], [1.0, \"#f0f921\"]], \"type\": \"contour\"}], \"contourcarpet\": [{\"colorbar\": {\"outlinewidth\": 0, \"ticks\": \"\"}, \"type\": \"contourcarpet\"}], \"heatmap\": [{\"colorbar\": {\"outlinewidth\": 0, \"ticks\": \"\"}, \"colorscale\": [[0.0, \"#0d0887\"], [0.1111111111111111, \"#46039f\"], [0.2222222222222222, \"#7201a8\"], [0.3333333333333333, \"#9c179e\"], [0.4444444444444444, \"#bd3786\"], [0.5555555555555556, \"#d8576b\"], [0.6666666666666666, \"#ed7953\"], [0.7777777777777778, \"#fb9f3a\"], [0.8888888888888888, \"#fdca26\"], [1.0, \"#f0f921\"]], \"type\": \"heatmap\"}], \"heatmapgl\": [{\"colorbar\": {\"outlinewidth\": 0, \"ticks\": \"\"}, \"colorscale\": [[0.0, \"#0d0887\"], [0.1111111111111111, \"#46039f\"], [0.2222222222222222, \"#7201a8\"], [0.3333333333333333, \"#9c179e\"], [0.4444444444444444, \"#bd3786\"], [0.5555555555555556, \"#d8576b\"], [0.6666666666666666, \"#ed7953\"], [0.7777777777777778, \"#fb9f3a\"], [0.8888888888888888, \"#fdca26\"], [1.0, \"#f0f921\"]], \"type\": \"heatmapgl\"}], \"histogram\": [{\"marker\": {\"colorbar\": {\"outlinewidth\": 0, \"ticks\": \"\"}}, \"type\": \"histogram\"}], \"histogram2d\": [{\"colorbar\": {\"outlinewidth\": 0, \"ticks\": \"\"}, \"colorscale\": [[0.0, \"#0d0887\"], [0.1111111111111111, \"#46039f\"], [0.2222222222222222, \"#7201a8\"], [0.3333333333333333, \"#9c179e\"], [0.4444444444444444, \"#bd3786\"], [0.5555555555555556, \"#d8576b\"], [0.6666666666666666, \"#ed7953\"], [0.7777777777777778, \"#fb9f3a\"], [0.8888888888888888, \"#fdca26\"], [1.0, \"#f0f921\"]], \"type\": \"histogram2d\"}], \"histogram2dcontour\": [{\"colorbar\": {\"outlinewidth\": 0, \"ticks\": \"\"}, \"colorscale\": [[0.0, \"#0d0887\"], [0.1111111111111111, \"#46039f\"], [0.2222222222222222, \"#7201a8\"], [0.3333333333333333, \"#9c179e\"], [0.4444444444444444, \"#bd3786\"], [0.5555555555555556, \"#d8576b\"], [0.6666666666666666, \"#ed7953\"], [0.7777777777777778, \"#fb9f3a\"], [0.8888888888888888, \"#fdca26\"], [1.0, \"#f0f921\"]], \"type\": \"histogram2dcontour\"}], \"mesh3d\": [{\"colorbar\": {\"outlinewidth\": 0, \"ticks\": \"\"}, \"type\": \"mesh3d\"}], \"parcoords\": [{\"line\": {\"colorbar\": {\"outlinewidth\": 0, \"ticks\": \"\"}}, \"type\": \"parcoords\"}], \"pie\": [{\"automargin\": true, \"type\": \"pie\"}], \"scatter\": [{\"marker\": {\"colorbar\": {\"outlinewidth\": 0, \"ticks\": \"\"}}, \"type\": \"scatter\"}], \"scatter3d\": [{\"line\": {\"colorbar\": {\"outlinewidth\": 0, \"ticks\": \"\"}}, \"marker\": {\"colorbar\": {\"outlinewidth\": 0, \"ticks\": \"\"}}, \"type\": \"scatter3d\"}], \"scattercarpet\": [{\"marker\": {\"colorbar\": {\"outlinewidth\": 0, \"ticks\": \"\"}}, \"type\": \"scattercarpet\"}], \"scattergeo\": [{\"marker\": {\"colorbar\": {\"outlinewidth\": 0, \"ticks\": \"\"}}, \"type\": \"scattergeo\"}], \"scattergl\": [{\"marker\": {\"colorbar\": {\"outlinewidth\": 0, \"ticks\": \"\"}}, \"type\": \"scattergl\"}], \"scattermapbox\": [{\"marker\": {\"colorbar\": {\"outlinewidth\": 0, \"ticks\": \"\"}}, \"type\": \"scattermapbox\"}], \"scatterpolar\": [{\"marker\": {\"colorbar\": {\"outlinewidth\": 0, \"ticks\": \"\"}}, \"type\": \"scatterpolar\"}], \"scatterpolargl\": [{\"marker\": {\"colorbar\": {\"outlinewidth\": 0, \"ticks\": \"\"}}, \"type\": \"scatterpolargl\"}], \"scatterternary\": [{\"marker\": {\"colorbar\": {\"outlinewidth\": 0, \"ticks\": \"\"}}, \"type\": \"scatterternary\"}], \"surface\": [{\"colorbar\": {\"outlinewidth\": 0, \"ticks\": \"\"}, \"colorscale\": [[0.0, \"#0d0887\"], [0.1111111111111111, \"#46039f\"], [0.2222222222222222, \"#7201a8\"], [0.3333333333333333, \"#9c179e\"], [0.4444444444444444, \"#bd3786\"], [0.5555555555555556, \"#d8576b\"], [0.6666666666666666, \"#ed7953\"], [0.7777777777777778, \"#fb9f3a\"], [0.8888888888888888, \"#fdca26\"], [1.0, \"#f0f921\"]], \"type\": \"surface\"}], \"table\": [{\"cells\": {\"fill\": {\"color\": \"#EBF0F8\"}, \"line\": {\"color\": \"white\"}}, \"header\": {\"fill\": {\"color\": \"#C8D4E3\"}, \"line\": {\"color\": \"white\"}}, \"type\": \"table\"}]}, \"layout\": {\"annotationdefaults\": {\"arrowcolor\": \"#2a3f5f\", \"arrowhead\": 0, \"arrowwidth\": 1}, \"coloraxis\": {\"colorbar\": {\"outlinewidth\": 0, \"ticks\": \"\"}}, \"colorscale\": {\"diverging\": [[0, \"#8e0152\"], [0.1, \"#c51b7d\"], [0.2, \"#de77ae\"], [0.3, \"#f1b6da\"], [0.4, \"#fde0ef\"], [0.5, \"#f7f7f7\"], [0.6, \"#e6f5d0\"], [0.7, \"#b8e186\"], [0.8, \"#7fbc41\"], [0.9, \"#4d9221\"], [1, \"#276419\"]], \"sequential\": [[0.0, \"#0d0887\"], [0.1111111111111111, \"#46039f\"], [0.2222222222222222, \"#7201a8\"], [0.3333333333333333, \"#9c179e\"], [0.4444444444444444, \"#bd3786\"], [0.5555555555555556, \"#d8576b\"], [0.6666666666666666, \"#ed7953\"], [0.7777777777777778, \"#fb9f3a\"], [0.8888888888888888, \"#fdca26\"], [1.0, \"#f0f921\"]], \"sequentialminus\": [[0.0, \"#0d0887\"], [0.1111111111111111, \"#46039f\"], [0.2222222222222222, \"#7201a8\"], [0.3333333333333333, \"#9c179e\"], [0.4444444444444444, \"#bd3786\"], [0.5555555555555556, \"#d8576b\"], [0.6666666666666666, \"#ed7953\"], [0.7777777777777778, \"#fb9f3a\"], [0.8888888888888888, \"#fdca26\"], [1.0, \"#f0f921\"]]}, \"colorway\": [\"#636efa\", \"#EF553B\", \"#00cc96\", \"#ab63fa\", \"#FFA15A\", \"#19d3f3\", \"#FF6692\", \"#B6E880\", \"#FF97FF\", \"#FECB52\"], \"font\": {\"color\": \"#2a3f5f\"}, \"geo\": {\"bgcolor\": \"white\", \"lakecolor\": \"white\", \"landcolor\": \"#E5ECF6\", \"showlakes\": true, \"showland\": true, \"subunitcolor\": \"white\"}, \"hoverlabel\": {\"align\": \"left\"}, \"hovermode\": \"closest\", \"mapbox\": {\"style\": \"light\"}, \"paper_bgcolor\": \"white\", \"plot_bgcolor\": \"#E5ECF6\", \"polar\": {\"angularaxis\": {\"gridcolor\": \"white\", \"linecolor\": \"white\", \"ticks\": \"\"}, \"bgcolor\": \"#E5ECF6\", \"radialaxis\": {\"gridcolor\": \"white\", \"linecolor\": \"white\", \"ticks\": \"\"}}, \"scene\": {\"xaxis\": {\"backgroundcolor\": \"#E5ECF6\", \"gridcolor\": \"white\", \"gridwidth\": 2, \"linecolor\": \"white\", \"showbackground\": true, \"ticks\": \"\", \"zerolinecolor\": \"white\"}, \"yaxis\": {\"backgroundcolor\": \"#E5ECF6\", \"gridcolor\": \"white\", \"gridwidth\": 2, \"linecolor\": \"white\", \"showbackground\": true, \"ticks\": \"\", \"zerolinecolor\": \"white\"}, \"zaxis\": {\"backgroundcolor\": \"#E5ECF6\", \"gridcolor\": \"white\", \"gridwidth\": 2, \"linecolor\": \"white\", \"showbackground\": true, \"ticks\": \"\", \"zerolinecolor\": \"white\"}}, \"shapedefaults\": {\"line\": {\"color\": \"#2a3f5f\"}}, \"ternary\": {\"aaxis\": {\"gridcolor\": \"white\", \"linecolor\": \"white\", \"ticks\": \"\"}, \"baxis\": {\"gridcolor\": \"white\", \"linecolor\": \"white\", \"ticks\": \"\"}, \"bgcolor\": \"#E5ECF6\", \"caxis\": {\"gridcolor\": \"white\", \"linecolor\": \"white\", \"ticks\": \"\"}}, \"title\": {\"x\": 0.05}, \"xaxis\": {\"automargin\": true, \"gridcolor\": \"white\", \"linecolor\": \"white\", \"ticks\": \"\", \"title\": {\"standoff\": 15}, \"zerolinecolor\": \"white\", \"zerolinewidth\": 2}, \"yaxis\": {\"automargin\": true, \"gridcolor\": \"white\", \"linecolor\": \"white\", \"ticks\": \"\", \"title\": {\"standoff\": 15}, \"zerolinecolor\": \"white\", \"zerolinewidth\": 2}}}},\n",
       "                        {\"responsive\": true}\n",
       "                    ).then(function(){\n",
       "                            \n",
       "var gd = document.getElementById('0113d0f1-a534-4052-a7cd-7c8a98cc0782');\n",
       "var x = new MutationObserver(function (mutations, observer) {{\n",
       "        var display = window.getComputedStyle(gd).display;\n",
       "        if (!display || display === 'none') {{\n",
       "            console.log([gd, 'removed!']);\n",
       "            Plotly.purge(gd);\n",
       "            observer.disconnect();\n",
       "        }}\n",
       "}});\n",
       "\n",
       "// Listen for the removal of the full notebook cells\n",
       "var notebookContainer = gd.closest('#notebook-container');\n",
       "if (notebookContainer) {{\n",
       "    x.observe(notebookContainer, {childList: true});\n",
       "}}\n",
       "\n",
       "// Listen for the clearing of the current output cell\n",
       "var outputEl = gd.closest('.output');\n",
       "if (outputEl) {{\n",
       "    x.observe(outputEl, {childList: true});\n",
       "}}\n",
       "\n",
       "                        })\n",
       "                };\n",
       "                });\n",
       "            </script>\n",
       "        </div>"
      ]
     },
     "metadata": {},
     "output_type": "display_data"
    }
   ],
   "source": [
    "\n",
    "fig = go.Figure()\n",
    "fig.add_trace(go.Scatter(x=Xe,\n",
    "                   y=Ye,\n",
    "                   mode='lines',\n",
    "                   line=dict(color='rgb(210,210,210)', width=1),\n",
    "                   hoverinfo='none'\n",
    "                   ))\n",
    "fig.add_trace(go.Scatter(y=Yn,\n",
    "                  x=Xn,\n",
    "                  mode='markers',\n",
    "                  name='bla',\n",
    "                  marker=dict(symbol='circle-dot',\n",
    "                                size=18,\n",
    "                                color='#6175c1',    #'#DB4551',\n",
    "                                line=dict(color='rgb(50,50,50)', width=1)\n",
    "                                ),\n",
    "                  text=labels,\n",
    "                  hoverinfo='text',\n",
    "                  opacity=0.8\n",
    "                  ))\n",
    "fig.show()"
   ]
  },
  {
   "cell_type": "code",
   "execution_count": 587,
   "metadata": {},
   "outputs": [
    {
     "data": {
      "text/plain": [
       "{'eat': {'hyponyms': ['evening'],\n",
       "  'meronyms': ['sunday', 'morning', 'saturday']},\n",
       " 'hour': {'hyponyms': ['night', 'rag', 'evening'],\n",
       "  'meronyms': ['weekend', 'morning', 'evening']}}"
      ]
     },
     "execution_count": 587,
     "metadata": {},
     "output_type": "execute_result"
    }
   ],
   "source": [
    "hypo_mero_map"
   ]
  },
  {
   "cell_type": "code",
   "execution_count": 588,
   "metadata": {},
   "outputs": [],
   "source": [
    "def make_annotations(pos, text, font_size=10, font_color='rgb(250,250,250)'):\n",
    "    L=len(pos)\n",
    "    if len(text)!=L:\n",
    "        raise ValueError('The lists pos and text must have the same len')\n",
    "    annotations = []\n",
    "    for k in range(L):\n",
    "        annotations.append(\n",
    "            dict(\n",
    "                text=labels[k], # or replace labels with a different list for the text within the circle\n",
    "                x=pos[k][0], y=2*M-position[k][1],\n",
    "                xref='x1', yref='y1',\n",
    "                font=dict(color=font_color, size=font_size),\n",
    "                showarrow=False)\n",
    "        )\n",
    "    return annotations\n"
   ]
  },
  {
   "cell_type": "code",
   "execution_count": 589,
   "metadata": {},
   "outputs": [
    {
     "data": {
      "application/vnd.plotly.v1+json": {
       "config": {
        "plotlyServerURL": "https://plot.ly"
       },
       "data": [
        {
         "hoverinfo": "none",
         "line": {
          "color": "rgb(210,210,210)",
          "width": 1
         },
         "mode": "lines",
         "type": "scatter",
         "x": [
          0.13205307577144823,
          -0.3611737836099297,
          null,
          0.13205307577144823,
          0.6340553088097759,
          null,
          -0.3611737836099297,
          0.5804142850851812,
          null,
          -0.3423112928170799,
          -0.3611737836099297,
          null,
          -0.3611737836099297,
          -0.3198690865594072,
          null,
          -1.2440076411292238,
          -0.3611737836099297,
          null,
          1.204969293063682,
          0.6340553088097759,
          null,
          1.5421541264193852,
          0.6340553088097759,
          null,
          0.5804142850851812,
          0.6340553088097759,
          null,
          0.29916760808886905,
          0.6340553088097759,
          null,
          -0.3198690865594072,
          0.6340553088097759,
          null,
          0.5804142850851812,
          0.6340553088097759,
          null
         ],
         "y": [
          0.07506480854265077,
          0.6369845482077239,
          null,
          0.07506480854265077,
          -0.4968524719841706,
          null,
          0.6369845482077239,
          0.4722065692503996,
          null,
          1.5248673427059654,
          0.6369845482077239,
          null,
          0.6369845482077239,
          -0.31802005673395584,
          null,
          0.7334004719056273,
          0.6369845482077239,
          null,
          -1.1472790075655315,
          -0.4968524719841706,
          null,
          -0.27785656186951097,
          -0.4968524719841706,
          null,
          0.4722065692503996,
          -0.4968524719841706,
          null,
          -1.3688919774521184,
          -0.4968524719841706,
          null,
          -0.31802005673395584,
          -0.4968524719841706,
          null,
          0.4722065692503996,
          -0.4968524719841706,
          null
         ]
        },
        {
         "hoverinfo": "text",
         "marker": {
          "color": "#6175c1",
          "line": {
           "color": "rgb(50,50,50)",
           "width": 1
          },
          "size": 18,
          "symbol": "circle-dot"
         },
         "mode": "markers",
         "name": "bla",
         "opacity": 0.8,
         "text": [
          "day",
          "night",
          "sunday",
          "rag",
          "saturday",
          "eat",
          "morning",
          "weekend",
          "evening",
          "hour"
         ],
         "type": "scatter",
         "x": [
          0.13205307577144823,
          1.204969293063682,
          -0.3423112928170799,
          1.5421541264193852,
          -1.2440076411292238,
          -0.3611737836099297,
          -0.3198690865594072,
          0.29916760808886905,
          0.5804142850851812,
          0.6340553088097759
         ],
         "y": [
          0.07506480854265077,
          -1.1472790075655315,
          1.5248673427059654,
          -0.27785656186951097,
          0.7334004719056273,
          0.6369845482077239,
          -0.31802005673395584,
          -1.3688919774521184,
          0.4722065692503996,
          -0.4968524719841706
         ]
        }
       ],
       "layout": {
        "annotations": [
         {
          "font": {
           "color": "rgb(250,250,250)",
           "size": 10
          },
          "showarrow": false,
          "text": "day",
          "x": 0.13205307577144823,
          "xref": "x",
          "y": 2.97466987686928,
          "yref": "y"
         },
         {
          "font": {
           "color": "rgb(250,250,250)",
           "size": 10
          },
          "showarrow": false,
          "text": "night",
          "x": 1.204969293063682,
          "xref": "x",
          "y": 4.197013692977462,
          "yref": "y"
         },
         {
          "font": {
           "color": "rgb(250,250,250)",
           "size": 10
          },
          "showarrow": false,
          "text": "sunday",
          "x": -0.3423112928170799,
          "xref": "x",
          "y": 1.5248673427059654,
          "yref": "y"
         },
         {
          "font": {
           "color": "rgb(250,250,250)",
           "size": 10
          },
          "showarrow": false,
          "text": "rag",
          "x": 1.5421541264193852,
          "xref": "x",
          "y": 3.3275912472814415,
          "yref": "y"
         },
         {
          "font": {
           "color": "rgb(250,250,250)",
           "size": 10
          },
          "showarrow": false,
          "text": "saturday",
          "x": -1.2440076411292238,
          "xref": "x",
          "y": 2.3163342135063036,
          "yref": "y"
         },
         {
          "font": {
           "color": "rgb(250,250,250)",
           "size": 10
          },
          "showarrow": false,
          "text": "eat",
          "x": -0.3611737836099297,
          "xref": "x",
          "y": 2.412750137204207,
          "yref": "y"
         },
         {
          "font": {
           "color": "rgb(250,250,250)",
           "size": 10
          },
          "showarrow": false,
          "text": "morning",
          "x": -0.3198690865594072,
          "xref": "x",
          "y": 3.3677547421458867,
          "yref": "y"
         },
         {
          "font": {
           "color": "rgb(250,250,250)",
           "size": 10
          },
          "showarrow": false,
          "text": "weekend",
          "x": 0.29916760808886905,
          "xref": "x",
          "y": 4.41862666286405,
          "yref": "y"
         },
         {
          "font": {
           "color": "rgb(250,250,250)",
           "size": 10
          },
          "showarrow": false,
          "text": "evening",
          "x": 0.5804142850851812,
          "xref": "x",
          "y": 2.577528116161531,
          "yref": "y"
         },
         {
          "font": {
           "color": "rgb(250,250,250)",
           "size": 10
          },
          "showarrow": false,
          "text": "hour",
          "x": 0.6340553088097759,
          "xref": "x",
          "y": 3.546587157396101,
          "yref": "y"
         }
        ],
        "font": {
         "size": 12
        },
        "hovermode": "closest",
        "margin": {
         "b": 85,
         "l": 40,
         "r": 40,
         "t": 100
        },
        "plot_bgcolor": "rgb(248,248,248)",
        "showlegend": false,
        "template": {
         "data": {
          "bar": [
           {
            "error_x": {
             "color": "#2a3f5f"
            },
            "error_y": {
             "color": "#2a3f5f"
            },
            "marker": {
             "line": {
              "color": "#E5ECF6",
              "width": 0.5
             }
            },
            "type": "bar"
           }
          ],
          "barpolar": [
           {
            "marker": {
             "line": {
              "color": "#E5ECF6",
              "width": 0.5
             }
            },
            "type": "barpolar"
           }
          ],
          "carpet": [
           {
            "aaxis": {
             "endlinecolor": "#2a3f5f",
             "gridcolor": "white",
             "linecolor": "white",
             "minorgridcolor": "white",
             "startlinecolor": "#2a3f5f"
            },
            "baxis": {
             "endlinecolor": "#2a3f5f",
             "gridcolor": "white",
             "linecolor": "white",
             "minorgridcolor": "white",
             "startlinecolor": "#2a3f5f"
            },
            "type": "carpet"
           }
          ],
          "choropleth": [
           {
            "colorbar": {
             "outlinewidth": 0,
             "ticks": ""
            },
            "type": "choropleth"
           }
          ],
          "contour": [
           {
            "colorbar": {
             "outlinewidth": 0,
             "ticks": ""
            },
            "colorscale": [
             [
              0,
              "#0d0887"
             ],
             [
              0.1111111111111111,
              "#46039f"
             ],
             [
              0.2222222222222222,
              "#7201a8"
             ],
             [
              0.3333333333333333,
              "#9c179e"
             ],
             [
              0.4444444444444444,
              "#bd3786"
             ],
             [
              0.5555555555555556,
              "#d8576b"
             ],
             [
              0.6666666666666666,
              "#ed7953"
             ],
             [
              0.7777777777777778,
              "#fb9f3a"
             ],
             [
              0.8888888888888888,
              "#fdca26"
             ],
             [
              1,
              "#f0f921"
             ]
            ],
            "type": "contour"
           }
          ],
          "contourcarpet": [
           {
            "colorbar": {
             "outlinewidth": 0,
             "ticks": ""
            },
            "type": "contourcarpet"
           }
          ],
          "heatmap": [
           {
            "colorbar": {
             "outlinewidth": 0,
             "ticks": ""
            },
            "colorscale": [
             [
              0,
              "#0d0887"
             ],
             [
              0.1111111111111111,
              "#46039f"
             ],
             [
              0.2222222222222222,
              "#7201a8"
             ],
             [
              0.3333333333333333,
              "#9c179e"
             ],
             [
              0.4444444444444444,
              "#bd3786"
             ],
             [
              0.5555555555555556,
              "#d8576b"
             ],
             [
              0.6666666666666666,
              "#ed7953"
             ],
             [
              0.7777777777777778,
              "#fb9f3a"
             ],
             [
              0.8888888888888888,
              "#fdca26"
             ],
             [
              1,
              "#f0f921"
             ]
            ],
            "type": "heatmap"
           }
          ],
          "heatmapgl": [
           {
            "colorbar": {
             "outlinewidth": 0,
             "ticks": ""
            },
            "colorscale": [
             [
              0,
              "#0d0887"
             ],
             [
              0.1111111111111111,
              "#46039f"
             ],
             [
              0.2222222222222222,
              "#7201a8"
             ],
             [
              0.3333333333333333,
              "#9c179e"
             ],
             [
              0.4444444444444444,
              "#bd3786"
             ],
             [
              0.5555555555555556,
              "#d8576b"
             ],
             [
              0.6666666666666666,
              "#ed7953"
             ],
             [
              0.7777777777777778,
              "#fb9f3a"
             ],
             [
              0.8888888888888888,
              "#fdca26"
             ],
             [
              1,
              "#f0f921"
             ]
            ],
            "type": "heatmapgl"
           }
          ],
          "histogram": [
           {
            "marker": {
             "colorbar": {
              "outlinewidth": 0,
              "ticks": ""
             }
            },
            "type": "histogram"
           }
          ],
          "histogram2d": [
           {
            "colorbar": {
             "outlinewidth": 0,
             "ticks": ""
            },
            "colorscale": [
             [
              0,
              "#0d0887"
             ],
             [
              0.1111111111111111,
              "#46039f"
             ],
             [
              0.2222222222222222,
              "#7201a8"
             ],
             [
              0.3333333333333333,
              "#9c179e"
             ],
             [
              0.4444444444444444,
              "#bd3786"
             ],
             [
              0.5555555555555556,
              "#d8576b"
             ],
             [
              0.6666666666666666,
              "#ed7953"
             ],
             [
              0.7777777777777778,
              "#fb9f3a"
             ],
             [
              0.8888888888888888,
              "#fdca26"
             ],
             [
              1,
              "#f0f921"
             ]
            ],
            "type": "histogram2d"
           }
          ],
          "histogram2dcontour": [
           {
            "colorbar": {
             "outlinewidth": 0,
             "ticks": ""
            },
            "colorscale": [
             [
              0,
              "#0d0887"
             ],
             [
              0.1111111111111111,
              "#46039f"
             ],
             [
              0.2222222222222222,
              "#7201a8"
             ],
             [
              0.3333333333333333,
              "#9c179e"
             ],
             [
              0.4444444444444444,
              "#bd3786"
             ],
             [
              0.5555555555555556,
              "#d8576b"
             ],
             [
              0.6666666666666666,
              "#ed7953"
             ],
             [
              0.7777777777777778,
              "#fb9f3a"
             ],
             [
              0.8888888888888888,
              "#fdca26"
             ],
             [
              1,
              "#f0f921"
             ]
            ],
            "type": "histogram2dcontour"
           }
          ],
          "mesh3d": [
           {
            "colorbar": {
             "outlinewidth": 0,
             "ticks": ""
            },
            "type": "mesh3d"
           }
          ],
          "parcoords": [
           {
            "line": {
             "colorbar": {
              "outlinewidth": 0,
              "ticks": ""
             }
            },
            "type": "parcoords"
           }
          ],
          "pie": [
           {
            "automargin": true,
            "type": "pie"
           }
          ],
          "scatter": [
           {
            "marker": {
             "colorbar": {
              "outlinewidth": 0,
              "ticks": ""
             }
            },
            "type": "scatter"
           }
          ],
          "scatter3d": [
           {
            "line": {
             "colorbar": {
              "outlinewidth": 0,
              "ticks": ""
             }
            },
            "marker": {
             "colorbar": {
              "outlinewidth": 0,
              "ticks": ""
             }
            },
            "type": "scatter3d"
           }
          ],
          "scattercarpet": [
           {
            "marker": {
             "colorbar": {
              "outlinewidth": 0,
              "ticks": ""
             }
            },
            "type": "scattercarpet"
           }
          ],
          "scattergeo": [
           {
            "marker": {
             "colorbar": {
              "outlinewidth": 0,
              "ticks": ""
             }
            },
            "type": "scattergeo"
           }
          ],
          "scattergl": [
           {
            "marker": {
             "colorbar": {
              "outlinewidth": 0,
              "ticks": ""
             }
            },
            "type": "scattergl"
           }
          ],
          "scattermapbox": [
           {
            "marker": {
             "colorbar": {
              "outlinewidth": 0,
              "ticks": ""
             }
            },
            "type": "scattermapbox"
           }
          ],
          "scatterpolar": [
           {
            "marker": {
             "colorbar": {
              "outlinewidth": 0,
              "ticks": ""
             }
            },
            "type": "scatterpolar"
           }
          ],
          "scatterpolargl": [
           {
            "marker": {
             "colorbar": {
              "outlinewidth": 0,
              "ticks": ""
             }
            },
            "type": "scatterpolargl"
           }
          ],
          "scatterternary": [
           {
            "marker": {
             "colorbar": {
              "outlinewidth": 0,
              "ticks": ""
             }
            },
            "type": "scatterternary"
           }
          ],
          "surface": [
           {
            "colorbar": {
             "outlinewidth": 0,
             "ticks": ""
            },
            "colorscale": [
             [
              0,
              "#0d0887"
             ],
             [
              0.1111111111111111,
              "#46039f"
             ],
             [
              0.2222222222222222,
              "#7201a8"
             ],
             [
              0.3333333333333333,
              "#9c179e"
             ],
             [
              0.4444444444444444,
              "#bd3786"
             ],
             [
              0.5555555555555556,
              "#d8576b"
             ],
             [
              0.6666666666666666,
              "#ed7953"
             ],
             [
              0.7777777777777778,
              "#fb9f3a"
             ],
             [
              0.8888888888888888,
              "#fdca26"
             ],
             [
              1,
              "#f0f921"
             ]
            ],
            "type": "surface"
           }
          ],
          "table": [
           {
            "cells": {
             "fill": {
              "color": "#EBF0F8"
             },
             "line": {
              "color": "white"
             }
            },
            "header": {
             "fill": {
              "color": "#C8D4E3"
             },
             "line": {
              "color": "white"
             }
            },
            "type": "table"
           }
          ]
         },
         "layout": {
          "annotationdefaults": {
           "arrowcolor": "#2a3f5f",
           "arrowhead": 0,
           "arrowwidth": 1
          },
          "coloraxis": {
           "colorbar": {
            "outlinewidth": 0,
            "ticks": ""
           }
          },
          "colorscale": {
           "diverging": [
            [
             0,
             "#8e0152"
            ],
            [
             0.1,
             "#c51b7d"
            ],
            [
             0.2,
             "#de77ae"
            ],
            [
             0.3,
             "#f1b6da"
            ],
            [
             0.4,
             "#fde0ef"
            ],
            [
             0.5,
             "#f7f7f7"
            ],
            [
             0.6,
             "#e6f5d0"
            ],
            [
             0.7,
             "#b8e186"
            ],
            [
             0.8,
             "#7fbc41"
            ],
            [
             0.9,
             "#4d9221"
            ],
            [
             1,
             "#276419"
            ]
           ],
           "sequential": [
            [
             0,
             "#0d0887"
            ],
            [
             0.1111111111111111,
             "#46039f"
            ],
            [
             0.2222222222222222,
             "#7201a8"
            ],
            [
             0.3333333333333333,
             "#9c179e"
            ],
            [
             0.4444444444444444,
             "#bd3786"
            ],
            [
             0.5555555555555556,
             "#d8576b"
            ],
            [
             0.6666666666666666,
             "#ed7953"
            ],
            [
             0.7777777777777778,
             "#fb9f3a"
            ],
            [
             0.8888888888888888,
             "#fdca26"
            ],
            [
             1,
             "#f0f921"
            ]
           ],
           "sequentialminus": [
            [
             0,
             "#0d0887"
            ],
            [
             0.1111111111111111,
             "#46039f"
            ],
            [
             0.2222222222222222,
             "#7201a8"
            ],
            [
             0.3333333333333333,
             "#9c179e"
            ],
            [
             0.4444444444444444,
             "#bd3786"
            ],
            [
             0.5555555555555556,
             "#d8576b"
            ],
            [
             0.6666666666666666,
             "#ed7953"
            ],
            [
             0.7777777777777778,
             "#fb9f3a"
            ],
            [
             0.8888888888888888,
             "#fdca26"
            ],
            [
             1,
             "#f0f921"
            ]
           ]
          },
          "colorway": [
           "#636efa",
           "#EF553B",
           "#00cc96",
           "#ab63fa",
           "#FFA15A",
           "#19d3f3",
           "#FF6692",
           "#B6E880",
           "#FF97FF",
           "#FECB52"
          ],
          "font": {
           "color": "#2a3f5f"
          },
          "geo": {
           "bgcolor": "white",
           "lakecolor": "white",
           "landcolor": "#E5ECF6",
           "showlakes": true,
           "showland": true,
           "subunitcolor": "white"
          },
          "hoverlabel": {
           "align": "left"
          },
          "hovermode": "closest",
          "mapbox": {
           "style": "light"
          },
          "paper_bgcolor": "white",
          "plot_bgcolor": "#E5ECF6",
          "polar": {
           "angularaxis": {
            "gridcolor": "white",
            "linecolor": "white",
            "ticks": ""
           },
           "bgcolor": "#E5ECF6",
           "radialaxis": {
            "gridcolor": "white",
            "linecolor": "white",
            "ticks": ""
           }
          },
          "scene": {
           "xaxis": {
            "backgroundcolor": "#E5ECF6",
            "gridcolor": "white",
            "gridwidth": 2,
            "linecolor": "white",
            "showbackground": true,
            "ticks": "",
            "zerolinecolor": "white"
           },
           "yaxis": {
            "backgroundcolor": "#E5ECF6",
            "gridcolor": "white",
            "gridwidth": 2,
            "linecolor": "white",
            "showbackground": true,
            "ticks": "",
            "zerolinecolor": "white"
           },
           "zaxis": {
            "backgroundcolor": "#E5ECF6",
            "gridcolor": "white",
            "gridwidth": 2,
            "linecolor": "white",
            "showbackground": true,
            "ticks": "",
            "zerolinecolor": "white"
           }
          },
          "shapedefaults": {
           "line": {
            "color": "#2a3f5f"
           }
          },
          "ternary": {
           "aaxis": {
            "gridcolor": "white",
            "linecolor": "white",
            "ticks": ""
           },
           "baxis": {
            "gridcolor": "white",
            "linecolor": "white",
            "ticks": ""
           },
           "bgcolor": "#E5ECF6",
           "caxis": {
            "gridcolor": "white",
            "linecolor": "white",
            "ticks": ""
           }
          },
          "title": {
           "x": 0.05
          },
          "xaxis": {
           "automargin": true,
           "gridcolor": "white",
           "linecolor": "white",
           "ticks": "",
           "title": {
            "standoff": 15
           },
           "zerolinecolor": "white",
           "zerolinewidth": 2
          },
          "yaxis": {
           "automargin": true,
           "gridcolor": "white",
           "linecolor": "white",
           "ticks": "",
           "title": {
            "standoff": 15
           },
           "zerolinecolor": "white",
           "zerolinewidth": 2
          }
         }
        },
        "title": {
         "text": "Tree with Reingold-Tilford Layout"
        },
        "xaxis": {
         "showgrid": false,
         "showline": false,
         "showticklabels": false,
         "zeroline": false
        },
        "yaxis": {
         "showgrid": false,
         "showline": false,
         "showticklabels": false,
         "zeroline": false
        }
       }
      },
      "text/html": [
       "<div>\n",
       "        \n",
       "        \n",
       "            <div id=\"aea2a10a-03cb-4d99-8be9-4e53ab24cf8c\" class=\"plotly-graph-div\" style=\"height:525px; width:100%;\"></div>\n",
       "            <script type=\"text/javascript\">\n",
       "                require([\"plotly\"], function(Plotly) {\n",
       "                    window.PLOTLYENV=window.PLOTLYENV || {};\n",
       "                    \n",
       "                if (document.getElementById(\"aea2a10a-03cb-4d99-8be9-4e53ab24cf8c\")) {\n",
       "                    Plotly.newPlot(\n",
       "                        'aea2a10a-03cb-4d99-8be9-4e53ab24cf8c',\n",
       "                        [{\"hoverinfo\": \"none\", \"line\": {\"color\": \"rgb(210,210,210)\", \"width\": 1}, \"mode\": \"lines\", \"type\": \"scatter\", \"x\": [0.13205307577144823, -0.3611737836099297, null, 0.13205307577144823, 0.6340553088097759, null, -0.3611737836099297, 0.5804142850851812, null, -0.3423112928170799, -0.3611737836099297, null, -0.3611737836099297, -0.3198690865594072, null, -1.2440076411292238, -0.3611737836099297, null, 1.204969293063682, 0.6340553088097759, null, 1.5421541264193852, 0.6340553088097759, null, 0.5804142850851812, 0.6340553088097759, null, 0.29916760808886905, 0.6340553088097759, null, -0.3198690865594072, 0.6340553088097759, null, 0.5804142850851812, 0.6340553088097759, null], \"y\": [0.07506480854265077, 0.6369845482077239, null, 0.07506480854265077, -0.4968524719841706, null, 0.6369845482077239, 0.4722065692503996, null, 1.5248673427059654, 0.6369845482077239, null, 0.6369845482077239, -0.31802005673395584, null, 0.7334004719056273, 0.6369845482077239, null, -1.1472790075655315, -0.4968524719841706, null, -0.27785656186951097, -0.4968524719841706, null, 0.4722065692503996, -0.4968524719841706, null, -1.3688919774521184, -0.4968524719841706, null, -0.31802005673395584, -0.4968524719841706, null, 0.4722065692503996, -0.4968524719841706, null]}, {\"hoverinfo\": \"text\", \"marker\": {\"color\": \"#6175c1\", \"line\": {\"color\": \"rgb(50,50,50)\", \"width\": 1}, \"size\": 18, \"symbol\": \"circle-dot\"}, \"mode\": \"markers\", \"name\": \"bla\", \"opacity\": 0.8, \"text\": [\"day\", \"night\", \"sunday\", \"rag\", \"saturday\", \"eat\", \"morning\", \"weekend\", \"evening\", \"hour\"], \"type\": \"scatter\", \"x\": [0.13205307577144823, 1.204969293063682, -0.3423112928170799, 1.5421541264193852, -1.2440076411292238, -0.3611737836099297, -0.3198690865594072, 0.29916760808886905, 0.5804142850851812, 0.6340553088097759], \"y\": [0.07506480854265077, -1.1472790075655315, 1.5248673427059654, -0.27785656186951097, 0.7334004719056273, 0.6369845482077239, -0.31802005673395584, -1.3688919774521184, 0.4722065692503996, -0.4968524719841706]}],\n",
       "                        {\"annotations\": [{\"font\": {\"color\": \"rgb(250,250,250)\", \"size\": 10}, \"showarrow\": false, \"text\": \"day\", \"x\": 0.13205307577144823, \"xref\": \"x\", \"y\": 2.97466987686928, \"yref\": \"y\"}, {\"font\": {\"color\": \"rgb(250,250,250)\", \"size\": 10}, \"showarrow\": false, \"text\": \"night\", \"x\": 1.204969293063682, \"xref\": \"x\", \"y\": 4.197013692977462, \"yref\": \"y\"}, {\"font\": {\"color\": \"rgb(250,250,250)\", \"size\": 10}, \"showarrow\": false, \"text\": \"sunday\", \"x\": -0.3423112928170799, \"xref\": \"x\", \"y\": 1.5248673427059654, \"yref\": \"y\"}, {\"font\": {\"color\": \"rgb(250,250,250)\", \"size\": 10}, \"showarrow\": false, \"text\": \"rag\", \"x\": 1.5421541264193852, \"xref\": \"x\", \"y\": 3.3275912472814415, \"yref\": \"y\"}, {\"font\": {\"color\": \"rgb(250,250,250)\", \"size\": 10}, \"showarrow\": false, \"text\": \"saturday\", \"x\": -1.2440076411292238, \"xref\": \"x\", \"y\": 2.3163342135063036, \"yref\": \"y\"}, {\"font\": {\"color\": \"rgb(250,250,250)\", \"size\": 10}, \"showarrow\": false, \"text\": \"eat\", \"x\": -0.3611737836099297, \"xref\": \"x\", \"y\": 2.412750137204207, \"yref\": \"y\"}, {\"font\": {\"color\": \"rgb(250,250,250)\", \"size\": 10}, \"showarrow\": false, \"text\": \"morning\", \"x\": -0.3198690865594072, \"xref\": \"x\", \"y\": 3.3677547421458867, \"yref\": \"y\"}, {\"font\": {\"color\": \"rgb(250,250,250)\", \"size\": 10}, \"showarrow\": false, \"text\": \"weekend\", \"x\": 0.29916760808886905, \"xref\": \"x\", \"y\": 4.41862666286405, \"yref\": \"y\"}, {\"font\": {\"color\": \"rgb(250,250,250)\", \"size\": 10}, \"showarrow\": false, \"text\": \"evening\", \"x\": 0.5804142850851812, \"xref\": \"x\", \"y\": 2.577528116161531, \"yref\": \"y\"}, {\"font\": {\"color\": \"rgb(250,250,250)\", \"size\": 10}, \"showarrow\": false, \"text\": \"hour\", \"x\": 0.6340553088097759, \"xref\": \"x\", \"y\": 3.546587157396101, \"yref\": \"y\"}], \"font\": {\"size\": 12}, \"hovermode\": \"closest\", \"margin\": {\"b\": 85, \"l\": 40, \"r\": 40, \"t\": 100}, \"plot_bgcolor\": \"rgb(248,248,248)\", \"showlegend\": false, \"template\": {\"data\": {\"bar\": [{\"error_x\": {\"color\": \"#2a3f5f\"}, \"error_y\": {\"color\": \"#2a3f5f\"}, \"marker\": {\"line\": {\"color\": \"#E5ECF6\", \"width\": 0.5}}, \"type\": \"bar\"}], \"barpolar\": [{\"marker\": {\"line\": {\"color\": \"#E5ECF6\", \"width\": 0.5}}, \"type\": \"barpolar\"}], \"carpet\": [{\"aaxis\": {\"endlinecolor\": \"#2a3f5f\", \"gridcolor\": \"white\", \"linecolor\": \"white\", \"minorgridcolor\": \"white\", \"startlinecolor\": \"#2a3f5f\"}, \"baxis\": {\"endlinecolor\": \"#2a3f5f\", \"gridcolor\": \"white\", \"linecolor\": \"white\", \"minorgridcolor\": \"white\", \"startlinecolor\": \"#2a3f5f\"}, \"type\": \"carpet\"}], \"choropleth\": [{\"colorbar\": {\"outlinewidth\": 0, \"ticks\": \"\"}, \"type\": \"choropleth\"}], \"contour\": [{\"colorbar\": {\"outlinewidth\": 0, \"ticks\": \"\"}, \"colorscale\": [[0.0, \"#0d0887\"], [0.1111111111111111, \"#46039f\"], [0.2222222222222222, \"#7201a8\"], [0.3333333333333333, \"#9c179e\"], [0.4444444444444444, \"#bd3786\"], [0.5555555555555556, \"#d8576b\"], [0.6666666666666666, \"#ed7953\"], [0.7777777777777778, \"#fb9f3a\"], [0.8888888888888888, \"#fdca26\"], [1.0, \"#f0f921\"]], \"type\": \"contour\"}], \"contourcarpet\": [{\"colorbar\": {\"outlinewidth\": 0, \"ticks\": \"\"}, \"type\": \"contourcarpet\"}], \"heatmap\": [{\"colorbar\": {\"outlinewidth\": 0, \"ticks\": \"\"}, \"colorscale\": [[0.0, \"#0d0887\"], [0.1111111111111111, \"#46039f\"], [0.2222222222222222, \"#7201a8\"], [0.3333333333333333, \"#9c179e\"], [0.4444444444444444, \"#bd3786\"], [0.5555555555555556, \"#d8576b\"], [0.6666666666666666, \"#ed7953\"], [0.7777777777777778, \"#fb9f3a\"], [0.8888888888888888, \"#fdca26\"], [1.0, \"#f0f921\"]], \"type\": \"heatmap\"}], \"heatmapgl\": [{\"colorbar\": {\"outlinewidth\": 0, \"ticks\": \"\"}, \"colorscale\": [[0.0, \"#0d0887\"], [0.1111111111111111, \"#46039f\"], [0.2222222222222222, \"#7201a8\"], [0.3333333333333333, \"#9c179e\"], [0.4444444444444444, \"#bd3786\"], [0.5555555555555556, \"#d8576b\"], [0.6666666666666666, \"#ed7953\"], [0.7777777777777778, \"#fb9f3a\"], [0.8888888888888888, \"#fdca26\"], [1.0, \"#f0f921\"]], \"type\": \"heatmapgl\"}], \"histogram\": [{\"marker\": {\"colorbar\": {\"outlinewidth\": 0, \"ticks\": \"\"}}, \"type\": \"histogram\"}], \"histogram2d\": [{\"colorbar\": {\"outlinewidth\": 0, \"ticks\": \"\"}, \"colorscale\": [[0.0, \"#0d0887\"], [0.1111111111111111, \"#46039f\"], [0.2222222222222222, \"#7201a8\"], [0.3333333333333333, \"#9c179e\"], [0.4444444444444444, \"#bd3786\"], [0.5555555555555556, \"#d8576b\"], [0.6666666666666666, \"#ed7953\"], [0.7777777777777778, \"#fb9f3a\"], [0.8888888888888888, \"#fdca26\"], [1.0, \"#f0f921\"]], \"type\": \"histogram2d\"}], \"histogram2dcontour\": [{\"colorbar\": {\"outlinewidth\": 0, \"ticks\": \"\"}, \"colorscale\": [[0.0, \"#0d0887\"], [0.1111111111111111, \"#46039f\"], [0.2222222222222222, \"#7201a8\"], [0.3333333333333333, \"#9c179e\"], [0.4444444444444444, \"#bd3786\"], [0.5555555555555556, \"#d8576b\"], [0.6666666666666666, \"#ed7953\"], [0.7777777777777778, \"#fb9f3a\"], [0.8888888888888888, \"#fdca26\"], [1.0, \"#f0f921\"]], \"type\": \"histogram2dcontour\"}], \"mesh3d\": [{\"colorbar\": {\"outlinewidth\": 0, \"ticks\": \"\"}, \"type\": \"mesh3d\"}], \"parcoords\": [{\"line\": {\"colorbar\": {\"outlinewidth\": 0, \"ticks\": \"\"}}, \"type\": \"parcoords\"}], \"pie\": [{\"automargin\": true, \"type\": \"pie\"}], \"scatter\": [{\"marker\": {\"colorbar\": {\"outlinewidth\": 0, \"ticks\": \"\"}}, \"type\": \"scatter\"}], \"scatter3d\": [{\"line\": {\"colorbar\": {\"outlinewidth\": 0, \"ticks\": \"\"}}, \"marker\": {\"colorbar\": {\"outlinewidth\": 0, \"ticks\": \"\"}}, \"type\": \"scatter3d\"}], \"scattercarpet\": [{\"marker\": {\"colorbar\": {\"outlinewidth\": 0, \"ticks\": \"\"}}, \"type\": \"scattercarpet\"}], \"scattergeo\": [{\"marker\": {\"colorbar\": {\"outlinewidth\": 0, \"ticks\": \"\"}}, \"type\": \"scattergeo\"}], \"scattergl\": [{\"marker\": {\"colorbar\": {\"outlinewidth\": 0, \"ticks\": \"\"}}, \"type\": \"scattergl\"}], \"scattermapbox\": [{\"marker\": {\"colorbar\": {\"outlinewidth\": 0, \"ticks\": \"\"}}, \"type\": \"scattermapbox\"}], \"scatterpolar\": [{\"marker\": {\"colorbar\": {\"outlinewidth\": 0, \"ticks\": \"\"}}, \"type\": \"scatterpolar\"}], \"scatterpolargl\": [{\"marker\": {\"colorbar\": {\"outlinewidth\": 0, \"ticks\": \"\"}}, \"type\": \"scatterpolargl\"}], \"scatterternary\": [{\"marker\": {\"colorbar\": {\"outlinewidth\": 0, \"ticks\": \"\"}}, \"type\": \"scatterternary\"}], \"surface\": [{\"colorbar\": {\"outlinewidth\": 0, \"ticks\": \"\"}, \"colorscale\": [[0.0, \"#0d0887\"], [0.1111111111111111, \"#46039f\"], [0.2222222222222222, \"#7201a8\"], [0.3333333333333333, \"#9c179e\"], [0.4444444444444444, \"#bd3786\"], [0.5555555555555556, \"#d8576b\"], [0.6666666666666666, \"#ed7953\"], [0.7777777777777778, \"#fb9f3a\"], [0.8888888888888888, \"#fdca26\"], [1.0, \"#f0f921\"]], \"type\": \"surface\"}], \"table\": [{\"cells\": {\"fill\": {\"color\": \"#EBF0F8\"}, \"line\": {\"color\": \"white\"}}, \"header\": {\"fill\": {\"color\": \"#C8D4E3\"}, \"line\": {\"color\": \"white\"}}, \"type\": \"table\"}]}, \"layout\": {\"annotationdefaults\": {\"arrowcolor\": \"#2a3f5f\", \"arrowhead\": 0, \"arrowwidth\": 1}, \"coloraxis\": {\"colorbar\": {\"outlinewidth\": 0, \"ticks\": \"\"}}, \"colorscale\": {\"diverging\": [[0, \"#8e0152\"], [0.1, \"#c51b7d\"], [0.2, \"#de77ae\"], [0.3, \"#f1b6da\"], [0.4, \"#fde0ef\"], [0.5, \"#f7f7f7\"], [0.6, \"#e6f5d0\"], [0.7, \"#b8e186\"], [0.8, \"#7fbc41\"], [0.9, \"#4d9221\"], [1, \"#276419\"]], \"sequential\": [[0.0, \"#0d0887\"], [0.1111111111111111, \"#46039f\"], [0.2222222222222222, \"#7201a8\"], [0.3333333333333333, \"#9c179e\"], [0.4444444444444444, \"#bd3786\"], [0.5555555555555556, \"#d8576b\"], [0.6666666666666666, \"#ed7953\"], [0.7777777777777778, \"#fb9f3a\"], [0.8888888888888888, \"#fdca26\"], [1.0, \"#f0f921\"]], \"sequentialminus\": [[0.0, \"#0d0887\"], [0.1111111111111111, \"#46039f\"], [0.2222222222222222, \"#7201a8\"], [0.3333333333333333, \"#9c179e\"], [0.4444444444444444, \"#bd3786\"], [0.5555555555555556, \"#d8576b\"], [0.6666666666666666, \"#ed7953\"], [0.7777777777777778, \"#fb9f3a\"], [0.8888888888888888, \"#fdca26\"], [1.0, \"#f0f921\"]]}, \"colorway\": [\"#636efa\", \"#EF553B\", \"#00cc96\", \"#ab63fa\", \"#FFA15A\", \"#19d3f3\", \"#FF6692\", \"#B6E880\", \"#FF97FF\", \"#FECB52\"], \"font\": {\"color\": \"#2a3f5f\"}, \"geo\": {\"bgcolor\": \"white\", \"lakecolor\": \"white\", \"landcolor\": \"#E5ECF6\", \"showlakes\": true, \"showland\": true, \"subunitcolor\": \"white\"}, \"hoverlabel\": {\"align\": \"left\"}, \"hovermode\": \"closest\", \"mapbox\": {\"style\": \"light\"}, \"paper_bgcolor\": \"white\", \"plot_bgcolor\": \"#E5ECF6\", \"polar\": {\"angularaxis\": {\"gridcolor\": \"white\", \"linecolor\": \"white\", \"ticks\": \"\"}, \"bgcolor\": \"#E5ECF6\", \"radialaxis\": {\"gridcolor\": \"white\", \"linecolor\": \"white\", \"ticks\": \"\"}}, \"scene\": {\"xaxis\": {\"backgroundcolor\": \"#E5ECF6\", \"gridcolor\": \"white\", \"gridwidth\": 2, \"linecolor\": \"white\", \"showbackground\": true, \"ticks\": \"\", \"zerolinecolor\": \"white\"}, \"yaxis\": {\"backgroundcolor\": \"#E5ECF6\", \"gridcolor\": \"white\", \"gridwidth\": 2, \"linecolor\": \"white\", \"showbackground\": true, \"ticks\": \"\", \"zerolinecolor\": \"white\"}, \"zaxis\": {\"backgroundcolor\": \"#E5ECF6\", \"gridcolor\": \"white\", \"gridwidth\": 2, \"linecolor\": \"white\", \"showbackground\": true, \"ticks\": \"\", \"zerolinecolor\": \"white\"}}, \"shapedefaults\": {\"line\": {\"color\": \"#2a3f5f\"}}, \"ternary\": {\"aaxis\": {\"gridcolor\": \"white\", \"linecolor\": \"white\", \"ticks\": \"\"}, \"baxis\": {\"gridcolor\": \"white\", \"linecolor\": \"white\", \"ticks\": \"\"}, \"bgcolor\": \"#E5ECF6\", \"caxis\": {\"gridcolor\": \"white\", \"linecolor\": \"white\", \"ticks\": \"\"}}, \"title\": {\"x\": 0.05}, \"xaxis\": {\"automargin\": true, \"gridcolor\": \"white\", \"linecolor\": \"white\", \"ticks\": \"\", \"title\": {\"standoff\": 15}, \"zerolinecolor\": \"white\", \"zerolinewidth\": 2}, \"yaxis\": {\"automargin\": true, \"gridcolor\": \"white\", \"linecolor\": \"white\", \"ticks\": \"\", \"title\": {\"standoff\": 15}, \"zerolinecolor\": \"white\", \"zerolinewidth\": 2}}}, \"title\": {\"text\": \"Tree with Reingold-Tilford Layout\"}, \"xaxis\": {\"showgrid\": false, \"showline\": false, \"showticklabels\": false, \"zeroline\": false}, \"yaxis\": {\"showgrid\": false, \"showline\": false, \"showticklabels\": false, \"zeroline\": false}},\n",
       "                        {\"responsive\": true}\n",
       "                    ).then(function(){\n",
       "                            \n",
       "var gd = document.getElementById('aea2a10a-03cb-4d99-8be9-4e53ab24cf8c');\n",
       "var x = new MutationObserver(function (mutations, observer) {{\n",
       "        var display = window.getComputedStyle(gd).display;\n",
       "        if (!display || display === 'none') {{\n",
       "            console.log([gd, 'removed!']);\n",
       "            Plotly.purge(gd);\n",
       "            observer.disconnect();\n",
       "        }}\n",
       "}});\n",
       "\n",
       "// Listen for the removal of the full notebook cells\n",
       "var notebookContainer = gd.closest('#notebook-container');\n",
       "if (notebookContainer) {{\n",
       "    x.observe(notebookContainer, {childList: true});\n",
       "}}\n",
       "\n",
       "// Listen for the clearing of the current output cell\n",
       "var outputEl = gd.closest('.output');\n",
       "if (outputEl) {{\n",
       "    x.observe(outputEl, {childList: true});\n",
       "}}\n",
       "\n",
       "                        })\n",
       "                };\n",
       "                });\n",
       "            </script>\n",
       "        </div>"
      ]
     },
     "metadata": {},
     "output_type": "display_data"
    }
   ],
   "source": [
    "axis = dict(showline=False, # hide axis line, grid, ticklabels and  title\n",
    "            zeroline=False,\n",
    "            showgrid=False,\n",
    "            showticklabels=False,\n",
    "            )\n",
    "\n",
    "fig.update_layout(title= 'Tree with Reingold-Tilford Layout',\n",
    "              annotations=make_annotations(position, v_label),\n",
    "              font_size=12,\n",
    "              showlegend=False,\n",
    "              xaxis=axis,\n",
    "              yaxis=axis,\n",
    "              margin=dict(l=40, r=40, b=85, t=100),\n",
    "              hovermode='closest',\n",
    "              plot_bgcolor='rgb(248,248,248)'\n",
    "              )\n",
    "fig.show()"
   ]
  },
  {
   "cell_type": "code",
   "execution_count": 590,
   "metadata": {},
   "outputs": [
    {
     "data": {
      "text/plain": [
       "[(0, 5),\n",
       " (0, 9),\n",
       " (5, 8),\n",
       " (2, 5),\n",
       " (5, 6),\n",
       " (4, 5),\n",
       " (1, 9),\n",
       " (3, 9),\n",
       " (8, 9),\n",
       " (7, 9),\n",
       " (6, 9),\n",
       " (8, 9)]"
      ]
     },
     "execution_count": 590,
     "metadata": {},
     "output_type": "execute_result"
    }
   ],
   "source": [
    "E"
   ]
  },
  {
   "cell_type": "code",
   "execution_count": null,
   "metadata": {},
   "outputs": [],
   "source": []
  },
  {
   "cell_type": "code",
   "execution_count": null,
   "metadata": {},
   "outputs": [],
   "source": []
  },
  {
   "cell_type": "markdown",
   "metadata": {},
   "source": [
    "#### Custom Graph"
   ]
  },
  {
   "cell_type": "code",
   "execution_count": 591,
   "metadata": {},
   "outputs": [],
   "source": [
    "import math"
   ]
  },
  {
   "cell_type": "code",
   "execution_count": 592,
   "metadata": {},
   "outputs": [
    {
     "data": {
      "text/plain": [
       "{'eat': {'hyponyms': ['evening'],\n",
       "  'meronyms': ['sunday', 'morning', 'saturday']},\n",
       " 'hour': {'hyponyms': ['night', 'rag', 'evening'],\n",
       "  'meronyms': ['weekend', 'morning', 'evening']}}"
      ]
     },
     "execution_count": 592,
     "metadata": {},
     "output_type": "execute_result"
    }
   ],
   "source": [
    "hypo_mero_map"
   ]
  },
  {
   "cell_type": "code",
   "execution_count": 593,
   "metadata": {},
   "outputs": [],
   "source": [
    "hyper_start = 0"
   ]
  },
  {
   "cell_type": "code",
   "execution_count": 594,
   "metadata": {},
   "outputs": [],
   "source": [
    "word_y = 4\n",
    "word_x = math.ceil(len(hypo_mero_map)/2) if len(hypo_mero_map)>1 else 0\n",
    "hyper_y = 6\n",
    "hyper_x = 0\n",
    "\n",
    "hypo_y = 2\n",
    "mero_y = 0\n",
    "\n",
    "label_x = -2"
   ]
  },
  {
   "cell_type": "code",
   "execution_count": 595,
   "metadata": {},
   "outputs": [],
   "source": [
    "position = {\n",
    "    \"Hypernyms ->\": [label_x, hyper_y],\n",
    "    \"Word ->\": [label_x, word_y],\n",
    "    \"Hyponyms ->\": [label_x, hypo_y],\n",
    "    \"Meronyms ->\": [label_x, mero_y]\n",
    "}\n",
    "edges = []"
   ]
  },
  {
   "cell_type": "code",
   "execution_count": 597,
   "metadata": {},
   "outputs": [],
   "source": [
    "hyper = \"eat\"\n",
    "hypo = hypo_mero_map[hyper]['hyponyms']\n",
    "mero = hypo_mero_map[hyper]['meronyms']"
   ]
  },
  {
   "cell_type": "code",
   "execution_count": 598,
   "metadata": {},
   "outputs": [],
   "source": [
    "for i in range(len(hypo)):\n",
    "    if i!=0 and i%5==0:\n",
    "        hypo.insert(i, \"\\n\")\n",
    "        \n",
    "for i in range(len(mero)):\n",
    "    if i!=0 and i%5==0:\n",
    "        mero.insert(i, \"\\n\")"
   ]
  },
  {
   "cell_type": "code",
   "execution_count": 599,
   "metadata": {},
   "outputs": [],
   "source": [
    "\n",
    "position[word] = [word_x, word_y]"
   ]
  },
  {
   "cell_type": "code",
   "execution_count": 600,
   "metadata": {},
   "outputs": [],
   "source": [
    "position[hyper] = [hyper_x, hyper_y]\n",
    "edges.append((word, hyper))\n",
    "hyper_x +=2\n",
    "# hypo_start = 0 - math.ceil(len(hypo)/2) if len(hypo)>1 else 0\n",
    "hypo_start = 0\n",
    "hypo_x = hypo_start\n",
    "\n",
    "hypo_group = ', '.join(hypo)\n",
    "position[hypo_group] = [hypo_x, hypo_y]\n",
    "edges.append((word, hypo_group))\n",
    "hypo_x +=2\n",
    "\n",
    "# mero_start = 0 - math.ceil(len(mero)/2) if len(mero)>1 else 0\n",
    "mero_start = 0\n",
    "mero_x = mero_start  \n",
    "\n",
    "mero_group = ', '.join(mero)\n",
    "position[mero_group] = [mero_x, mero_y]\n",
    "edges.append((hypo_group, mero_group))\n",
    "mero_x +=2\n"
   ]
  },
  {
   "cell_type": "code",
   "execution_count": 601,
   "metadata": {},
   "outputs": [],
   "source": [
    "hyper = \"hour\"\n",
    "hypo = hypo_mero_map[hyper]['hyponyms']\n",
    "mero = hypo_mero_map[hyper]['meronyms']"
   ]
  },
  {
   "cell_type": "code",
   "execution_count": 602,
   "metadata": {},
   "outputs": [],
   "source": [
    "position[hyper] = [hyper_x, hyper_y]\n",
    "edges.append((word, hyper))\n",
    "hyper_x +=2\n",
    "\n",
    "hypo_group = ', '.join(hypo)\n",
    "position[hypo_group] = [hypo_x, hypo_y]\n",
    "edges.append((word, hypo_group))\n",
    "hypo_x +=2\n",
    "\n",
    "mero_group = ', '.join(mero)\n",
    "position[mero_group] = [mero_x, mero_y]\n",
    "edges.append((hypo_group, mero_group))\n",
    "mero_x +=2\n",
    "\n"
   ]
  },
  {
   "cell_type": "code",
   "execution_count": 603,
   "metadata": {},
   "outputs": [
    {
     "data": {
      "text/plain": [
       "{'Hypernyms ->': [-2, 6],\n",
       " 'Word ->': [-2, 4],\n",
       " 'Hyponyms ->': [-2, 2],\n",
       " 'Meronyms ->': [-2, 0],\n",
       " 'day': [1, 4],\n",
       " 'eat': [0, 6],\n",
       " 'evening': [0, 2],\n",
       " 'sunday, morning, saturday': [0, 0],\n",
       " 'hour': [2, 6],\n",
       " 'night, rag, evening': [2, 2],\n",
       " 'weekend, morning, evening': [2, 0]}"
      ]
     },
     "execution_count": 603,
     "metadata": {},
     "output_type": "execute_result"
    }
   ],
   "source": [
    "position"
   ]
  },
  {
   "cell_type": "code",
   "execution_count": 604,
   "metadata": {},
   "outputs": [
    {
     "data": {
      "text/plain": [
       "[('day', 'eat'),\n",
       " ('day', 'evening'),\n",
       " ('evening', 'sunday, morning, saturday'),\n",
       " ('day', 'hour'),\n",
       " ('day', 'night, rag, evening'),\n",
       " ('night, rag, evening', 'weekend, morning, evening')]"
      ]
     },
     "execution_count": 604,
     "metadata": {},
     "output_type": "execute_result"
    }
   ],
   "source": [
    "edges"
   ]
  },
  {
   "cell_type": "code",
   "execution_count": 605,
   "metadata": {},
   "outputs": [],
   "source": [
    "labels = list(position.keys())\n",
    "Xn = [position[k][0] for k in labels]\n",
    "Yn = [position[k][1] for k in labels]\n",
    "\n",
    "Xe = []\n",
    "Ye = []\n",
    "for edge in edges:\n",
    "    Xe+=[position[edge[0]][0],position[edge[1]][0], None]\n",
    "#     Ye+=[2*M-position[edge[0]][1],2*M-position[edge[1]][1], None]\n",
    "    Ye+=[position[edge[0]][1],position[edge[1]][1], None]\n"
   ]
  },
  {
   "cell_type": "code",
   "execution_count": 606,
   "metadata": {},
   "outputs": [
    {
     "data": {
      "application/vnd.plotly.v1+json": {
       "config": {
        "plotlyServerURL": "https://plot.ly"
       },
       "data": [
        {
         "hoverinfo": "none",
         "line": {
          "color": "rgb(210,210,210)",
          "width": 1
         },
         "mode": "lines",
         "type": "scatter",
         "x": [
          1,
          0,
          null,
          1,
          0,
          null,
          0,
          0,
          null,
          1,
          2,
          null,
          1,
          2,
          null,
          2,
          2,
          null
         ],
         "y": [
          4,
          6,
          null,
          4,
          2,
          null,
          2,
          0,
          null,
          4,
          6,
          null,
          4,
          2,
          null,
          2,
          0,
          null
         ]
        },
        {
         "hoverinfo": "text",
         "marker": {
          "color": "#6175c1",
          "line": {
           "color": "rgb(50,50,50)",
           "width": 1
          },
          "size": 0.0001,
          "symbol": "circle-dot"
         },
         "mode": "markers",
         "name": "bla",
         "opacity": 0.8,
         "text": [
          "Hypernyms ->",
          "Word ->",
          "Hyponyms ->",
          "Meronyms ->",
          "day",
          "eat",
          "evening",
          "sunday, morning, saturday",
          "hour",
          "night, rag, evening",
          "weekend, morning, evening"
         ],
         "type": "scatter",
         "x": [
          -2,
          -2,
          -2,
          -2,
          1,
          0,
          0,
          0,
          2,
          2,
          2
         ],
         "y": [
          6,
          4,
          2,
          0,
          4,
          6,
          2,
          0,
          6,
          2,
          0
         ]
        }
       ],
       "layout": {
        "template": {
         "data": {
          "bar": [
           {
            "error_x": {
             "color": "#2a3f5f"
            },
            "error_y": {
             "color": "#2a3f5f"
            },
            "marker": {
             "line": {
              "color": "#E5ECF6",
              "width": 0.5
             }
            },
            "type": "bar"
           }
          ],
          "barpolar": [
           {
            "marker": {
             "line": {
              "color": "#E5ECF6",
              "width": 0.5
             }
            },
            "type": "barpolar"
           }
          ],
          "carpet": [
           {
            "aaxis": {
             "endlinecolor": "#2a3f5f",
             "gridcolor": "white",
             "linecolor": "white",
             "minorgridcolor": "white",
             "startlinecolor": "#2a3f5f"
            },
            "baxis": {
             "endlinecolor": "#2a3f5f",
             "gridcolor": "white",
             "linecolor": "white",
             "minorgridcolor": "white",
             "startlinecolor": "#2a3f5f"
            },
            "type": "carpet"
           }
          ],
          "choropleth": [
           {
            "colorbar": {
             "outlinewidth": 0,
             "ticks": ""
            },
            "type": "choropleth"
           }
          ],
          "contour": [
           {
            "colorbar": {
             "outlinewidth": 0,
             "ticks": ""
            },
            "colorscale": [
             [
              0,
              "#0d0887"
             ],
             [
              0.1111111111111111,
              "#46039f"
             ],
             [
              0.2222222222222222,
              "#7201a8"
             ],
             [
              0.3333333333333333,
              "#9c179e"
             ],
             [
              0.4444444444444444,
              "#bd3786"
             ],
             [
              0.5555555555555556,
              "#d8576b"
             ],
             [
              0.6666666666666666,
              "#ed7953"
             ],
             [
              0.7777777777777778,
              "#fb9f3a"
             ],
             [
              0.8888888888888888,
              "#fdca26"
             ],
             [
              1,
              "#f0f921"
             ]
            ],
            "type": "contour"
           }
          ],
          "contourcarpet": [
           {
            "colorbar": {
             "outlinewidth": 0,
             "ticks": ""
            },
            "type": "contourcarpet"
           }
          ],
          "heatmap": [
           {
            "colorbar": {
             "outlinewidth": 0,
             "ticks": ""
            },
            "colorscale": [
             [
              0,
              "#0d0887"
             ],
             [
              0.1111111111111111,
              "#46039f"
             ],
             [
              0.2222222222222222,
              "#7201a8"
             ],
             [
              0.3333333333333333,
              "#9c179e"
             ],
             [
              0.4444444444444444,
              "#bd3786"
             ],
             [
              0.5555555555555556,
              "#d8576b"
             ],
             [
              0.6666666666666666,
              "#ed7953"
             ],
             [
              0.7777777777777778,
              "#fb9f3a"
             ],
             [
              0.8888888888888888,
              "#fdca26"
             ],
             [
              1,
              "#f0f921"
             ]
            ],
            "type": "heatmap"
           }
          ],
          "heatmapgl": [
           {
            "colorbar": {
             "outlinewidth": 0,
             "ticks": ""
            },
            "colorscale": [
             [
              0,
              "#0d0887"
             ],
             [
              0.1111111111111111,
              "#46039f"
             ],
             [
              0.2222222222222222,
              "#7201a8"
             ],
             [
              0.3333333333333333,
              "#9c179e"
             ],
             [
              0.4444444444444444,
              "#bd3786"
             ],
             [
              0.5555555555555556,
              "#d8576b"
             ],
             [
              0.6666666666666666,
              "#ed7953"
             ],
             [
              0.7777777777777778,
              "#fb9f3a"
             ],
             [
              0.8888888888888888,
              "#fdca26"
             ],
             [
              1,
              "#f0f921"
             ]
            ],
            "type": "heatmapgl"
           }
          ],
          "histogram": [
           {
            "marker": {
             "colorbar": {
              "outlinewidth": 0,
              "ticks": ""
             }
            },
            "type": "histogram"
           }
          ],
          "histogram2d": [
           {
            "colorbar": {
             "outlinewidth": 0,
             "ticks": ""
            },
            "colorscale": [
             [
              0,
              "#0d0887"
             ],
             [
              0.1111111111111111,
              "#46039f"
             ],
             [
              0.2222222222222222,
              "#7201a8"
             ],
             [
              0.3333333333333333,
              "#9c179e"
             ],
             [
              0.4444444444444444,
              "#bd3786"
             ],
             [
              0.5555555555555556,
              "#d8576b"
             ],
             [
              0.6666666666666666,
              "#ed7953"
             ],
             [
              0.7777777777777778,
              "#fb9f3a"
             ],
             [
              0.8888888888888888,
              "#fdca26"
             ],
             [
              1,
              "#f0f921"
             ]
            ],
            "type": "histogram2d"
           }
          ],
          "histogram2dcontour": [
           {
            "colorbar": {
             "outlinewidth": 0,
             "ticks": ""
            },
            "colorscale": [
             [
              0,
              "#0d0887"
             ],
             [
              0.1111111111111111,
              "#46039f"
             ],
             [
              0.2222222222222222,
              "#7201a8"
             ],
             [
              0.3333333333333333,
              "#9c179e"
             ],
             [
              0.4444444444444444,
              "#bd3786"
             ],
             [
              0.5555555555555556,
              "#d8576b"
             ],
             [
              0.6666666666666666,
              "#ed7953"
             ],
             [
              0.7777777777777778,
              "#fb9f3a"
             ],
             [
              0.8888888888888888,
              "#fdca26"
             ],
             [
              1,
              "#f0f921"
             ]
            ],
            "type": "histogram2dcontour"
           }
          ],
          "mesh3d": [
           {
            "colorbar": {
             "outlinewidth": 0,
             "ticks": ""
            },
            "type": "mesh3d"
           }
          ],
          "parcoords": [
           {
            "line": {
             "colorbar": {
              "outlinewidth": 0,
              "ticks": ""
             }
            },
            "type": "parcoords"
           }
          ],
          "pie": [
           {
            "automargin": true,
            "type": "pie"
           }
          ],
          "scatter": [
           {
            "marker": {
             "colorbar": {
              "outlinewidth": 0,
              "ticks": ""
             }
            },
            "type": "scatter"
           }
          ],
          "scatter3d": [
           {
            "line": {
             "colorbar": {
              "outlinewidth": 0,
              "ticks": ""
             }
            },
            "marker": {
             "colorbar": {
              "outlinewidth": 0,
              "ticks": ""
             }
            },
            "type": "scatter3d"
           }
          ],
          "scattercarpet": [
           {
            "marker": {
             "colorbar": {
              "outlinewidth": 0,
              "ticks": ""
             }
            },
            "type": "scattercarpet"
           }
          ],
          "scattergeo": [
           {
            "marker": {
             "colorbar": {
              "outlinewidth": 0,
              "ticks": ""
             }
            },
            "type": "scattergeo"
           }
          ],
          "scattergl": [
           {
            "marker": {
             "colorbar": {
              "outlinewidth": 0,
              "ticks": ""
             }
            },
            "type": "scattergl"
           }
          ],
          "scattermapbox": [
           {
            "marker": {
             "colorbar": {
              "outlinewidth": 0,
              "ticks": ""
             }
            },
            "type": "scattermapbox"
           }
          ],
          "scatterpolar": [
           {
            "marker": {
             "colorbar": {
              "outlinewidth": 0,
              "ticks": ""
             }
            },
            "type": "scatterpolar"
           }
          ],
          "scatterpolargl": [
           {
            "marker": {
             "colorbar": {
              "outlinewidth": 0,
              "ticks": ""
             }
            },
            "type": "scatterpolargl"
           }
          ],
          "scatterternary": [
           {
            "marker": {
             "colorbar": {
              "outlinewidth": 0,
              "ticks": ""
             }
            },
            "type": "scatterternary"
           }
          ],
          "surface": [
           {
            "colorbar": {
             "outlinewidth": 0,
             "ticks": ""
            },
            "colorscale": [
             [
              0,
              "#0d0887"
             ],
             [
              0.1111111111111111,
              "#46039f"
             ],
             [
              0.2222222222222222,
              "#7201a8"
             ],
             [
              0.3333333333333333,
              "#9c179e"
             ],
             [
              0.4444444444444444,
              "#bd3786"
             ],
             [
              0.5555555555555556,
              "#d8576b"
             ],
             [
              0.6666666666666666,
              "#ed7953"
             ],
             [
              0.7777777777777778,
              "#fb9f3a"
             ],
             [
              0.8888888888888888,
              "#fdca26"
             ],
             [
              1,
              "#f0f921"
             ]
            ],
            "type": "surface"
           }
          ],
          "table": [
           {
            "cells": {
             "fill": {
              "color": "#EBF0F8"
             },
             "line": {
              "color": "white"
             }
            },
            "header": {
             "fill": {
              "color": "#C8D4E3"
             },
             "line": {
              "color": "white"
             }
            },
            "type": "table"
           }
          ]
         },
         "layout": {
          "annotationdefaults": {
           "arrowcolor": "#2a3f5f",
           "arrowhead": 0,
           "arrowwidth": 1
          },
          "coloraxis": {
           "colorbar": {
            "outlinewidth": 0,
            "ticks": ""
           }
          },
          "colorscale": {
           "diverging": [
            [
             0,
             "#8e0152"
            ],
            [
             0.1,
             "#c51b7d"
            ],
            [
             0.2,
             "#de77ae"
            ],
            [
             0.3,
             "#f1b6da"
            ],
            [
             0.4,
             "#fde0ef"
            ],
            [
             0.5,
             "#f7f7f7"
            ],
            [
             0.6,
             "#e6f5d0"
            ],
            [
             0.7,
             "#b8e186"
            ],
            [
             0.8,
             "#7fbc41"
            ],
            [
             0.9,
             "#4d9221"
            ],
            [
             1,
             "#276419"
            ]
           ],
           "sequential": [
            [
             0,
             "#0d0887"
            ],
            [
             0.1111111111111111,
             "#46039f"
            ],
            [
             0.2222222222222222,
             "#7201a8"
            ],
            [
             0.3333333333333333,
             "#9c179e"
            ],
            [
             0.4444444444444444,
             "#bd3786"
            ],
            [
             0.5555555555555556,
             "#d8576b"
            ],
            [
             0.6666666666666666,
             "#ed7953"
            ],
            [
             0.7777777777777778,
             "#fb9f3a"
            ],
            [
             0.8888888888888888,
             "#fdca26"
            ],
            [
             1,
             "#f0f921"
            ]
           ],
           "sequentialminus": [
            [
             0,
             "#0d0887"
            ],
            [
             0.1111111111111111,
             "#46039f"
            ],
            [
             0.2222222222222222,
             "#7201a8"
            ],
            [
             0.3333333333333333,
             "#9c179e"
            ],
            [
             0.4444444444444444,
             "#bd3786"
            ],
            [
             0.5555555555555556,
             "#d8576b"
            ],
            [
             0.6666666666666666,
             "#ed7953"
            ],
            [
             0.7777777777777778,
             "#fb9f3a"
            ],
            [
             0.8888888888888888,
             "#fdca26"
            ],
            [
             1,
             "#f0f921"
            ]
           ]
          },
          "colorway": [
           "#636efa",
           "#EF553B",
           "#00cc96",
           "#ab63fa",
           "#FFA15A",
           "#19d3f3",
           "#FF6692",
           "#B6E880",
           "#FF97FF",
           "#FECB52"
          ],
          "font": {
           "color": "#2a3f5f"
          },
          "geo": {
           "bgcolor": "white",
           "lakecolor": "white",
           "landcolor": "#E5ECF6",
           "showlakes": true,
           "showland": true,
           "subunitcolor": "white"
          },
          "hoverlabel": {
           "align": "left"
          },
          "hovermode": "closest",
          "mapbox": {
           "style": "light"
          },
          "paper_bgcolor": "white",
          "plot_bgcolor": "#E5ECF6",
          "polar": {
           "angularaxis": {
            "gridcolor": "white",
            "linecolor": "white",
            "ticks": ""
           },
           "bgcolor": "#E5ECF6",
           "radialaxis": {
            "gridcolor": "white",
            "linecolor": "white",
            "ticks": ""
           }
          },
          "scene": {
           "xaxis": {
            "backgroundcolor": "#E5ECF6",
            "gridcolor": "white",
            "gridwidth": 2,
            "linecolor": "white",
            "showbackground": true,
            "ticks": "",
            "zerolinecolor": "white"
           },
           "yaxis": {
            "backgroundcolor": "#E5ECF6",
            "gridcolor": "white",
            "gridwidth": 2,
            "linecolor": "white",
            "showbackground": true,
            "ticks": "",
            "zerolinecolor": "white"
           },
           "zaxis": {
            "backgroundcolor": "#E5ECF6",
            "gridcolor": "white",
            "gridwidth": 2,
            "linecolor": "white",
            "showbackground": true,
            "ticks": "",
            "zerolinecolor": "white"
           }
          },
          "shapedefaults": {
           "line": {
            "color": "#2a3f5f"
           }
          },
          "ternary": {
           "aaxis": {
            "gridcolor": "white",
            "linecolor": "white",
            "ticks": ""
           },
           "baxis": {
            "gridcolor": "white",
            "linecolor": "white",
            "ticks": ""
           },
           "bgcolor": "#E5ECF6",
           "caxis": {
            "gridcolor": "white",
            "linecolor": "white",
            "ticks": ""
           }
          },
          "title": {
           "x": 0.05
          },
          "xaxis": {
           "automargin": true,
           "gridcolor": "white",
           "linecolor": "white",
           "ticks": "",
           "title": {
            "standoff": 15
           },
           "zerolinecolor": "white",
           "zerolinewidth": 2
          },
          "yaxis": {
           "automargin": true,
           "gridcolor": "white",
           "linecolor": "white",
           "ticks": "",
           "title": {
            "standoff": 15
           },
           "zerolinecolor": "white",
           "zerolinewidth": 2
          }
         }
        }
       }
      },
      "text/html": [
       "<div>\n",
       "        \n",
       "        \n",
       "            <div id=\"9bbc767a-ada4-4299-904c-337253fc49fc\" class=\"plotly-graph-div\" style=\"height:525px; width:100%;\"></div>\n",
       "            <script type=\"text/javascript\">\n",
       "                require([\"plotly\"], function(Plotly) {\n",
       "                    window.PLOTLYENV=window.PLOTLYENV || {};\n",
       "                    \n",
       "                if (document.getElementById(\"9bbc767a-ada4-4299-904c-337253fc49fc\")) {\n",
       "                    Plotly.newPlot(\n",
       "                        '9bbc767a-ada4-4299-904c-337253fc49fc',\n",
       "                        [{\"hoverinfo\": \"none\", \"line\": {\"color\": \"rgb(210,210,210)\", \"width\": 1}, \"mode\": \"lines\", \"type\": \"scatter\", \"x\": [1, 0, null, 1, 0, null, 0, 0, null, 1, 2, null, 1, 2, null, 2, 2, null], \"y\": [4, 6, null, 4, 2, null, 2, 0, null, 4, 6, null, 4, 2, null, 2, 0, null]}, {\"hoverinfo\": \"text\", \"marker\": {\"color\": \"#6175c1\", \"line\": {\"color\": \"rgb(50,50,50)\", \"width\": 1}, \"size\": 0.0001, \"symbol\": \"circle-dot\"}, \"mode\": \"markers\", \"name\": \"bla\", \"opacity\": 0.8, \"text\": [\"Hypernyms ->\", \"Word ->\", \"Hyponyms ->\", \"Meronyms ->\", \"day\", \"eat\", \"evening\", \"sunday, morning, saturday\", \"hour\", \"night, rag, evening\", \"weekend, morning, evening\"], \"type\": \"scatter\", \"x\": [-2, -2, -2, -2, 1, 0, 0, 0, 2, 2, 2], \"y\": [6, 4, 2, 0, 4, 6, 2, 0, 6, 2, 0]}],\n",
       "                        {\"template\": {\"data\": {\"bar\": [{\"error_x\": {\"color\": \"#2a3f5f\"}, \"error_y\": {\"color\": \"#2a3f5f\"}, \"marker\": {\"line\": {\"color\": \"#E5ECF6\", \"width\": 0.5}}, \"type\": \"bar\"}], \"barpolar\": [{\"marker\": {\"line\": {\"color\": \"#E5ECF6\", \"width\": 0.5}}, \"type\": \"barpolar\"}], \"carpet\": [{\"aaxis\": {\"endlinecolor\": \"#2a3f5f\", \"gridcolor\": \"white\", \"linecolor\": \"white\", \"minorgridcolor\": \"white\", \"startlinecolor\": \"#2a3f5f\"}, \"baxis\": {\"endlinecolor\": \"#2a3f5f\", \"gridcolor\": \"white\", \"linecolor\": \"white\", \"minorgridcolor\": \"white\", \"startlinecolor\": \"#2a3f5f\"}, \"type\": \"carpet\"}], \"choropleth\": [{\"colorbar\": {\"outlinewidth\": 0, \"ticks\": \"\"}, \"type\": \"choropleth\"}], \"contour\": [{\"colorbar\": {\"outlinewidth\": 0, \"ticks\": \"\"}, \"colorscale\": [[0.0, \"#0d0887\"], [0.1111111111111111, \"#46039f\"], [0.2222222222222222, \"#7201a8\"], [0.3333333333333333, \"#9c179e\"], [0.4444444444444444, \"#bd3786\"], [0.5555555555555556, \"#d8576b\"], [0.6666666666666666, \"#ed7953\"], [0.7777777777777778, \"#fb9f3a\"], [0.8888888888888888, \"#fdca26\"], [1.0, \"#f0f921\"]], \"type\": \"contour\"}], \"contourcarpet\": [{\"colorbar\": {\"outlinewidth\": 0, \"ticks\": \"\"}, \"type\": \"contourcarpet\"}], \"heatmap\": [{\"colorbar\": {\"outlinewidth\": 0, \"ticks\": \"\"}, \"colorscale\": [[0.0, \"#0d0887\"], [0.1111111111111111, \"#46039f\"], [0.2222222222222222, \"#7201a8\"], [0.3333333333333333, \"#9c179e\"], [0.4444444444444444, \"#bd3786\"], [0.5555555555555556, \"#d8576b\"], [0.6666666666666666, \"#ed7953\"], [0.7777777777777778, \"#fb9f3a\"], [0.8888888888888888, \"#fdca26\"], [1.0, \"#f0f921\"]], \"type\": \"heatmap\"}], \"heatmapgl\": [{\"colorbar\": {\"outlinewidth\": 0, \"ticks\": \"\"}, \"colorscale\": [[0.0, \"#0d0887\"], [0.1111111111111111, \"#46039f\"], [0.2222222222222222, \"#7201a8\"], [0.3333333333333333, \"#9c179e\"], [0.4444444444444444, \"#bd3786\"], [0.5555555555555556, \"#d8576b\"], [0.6666666666666666, \"#ed7953\"], [0.7777777777777778, \"#fb9f3a\"], [0.8888888888888888, \"#fdca26\"], [1.0, \"#f0f921\"]], \"type\": \"heatmapgl\"}], \"histogram\": [{\"marker\": {\"colorbar\": {\"outlinewidth\": 0, \"ticks\": \"\"}}, \"type\": \"histogram\"}], \"histogram2d\": [{\"colorbar\": {\"outlinewidth\": 0, \"ticks\": \"\"}, \"colorscale\": [[0.0, \"#0d0887\"], [0.1111111111111111, \"#46039f\"], [0.2222222222222222, \"#7201a8\"], [0.3333333333333333, \"#9c179e\"], [0.4444444444444444, \"#bd3786\"], [0.5555555555555556, \"#d8576b\"], [0.6666666666666666, \"#ed7953\"], [0.7777777777777778, \"#fb9f3a\"], [0.8888888888888888, \"#fdca26\"], [1.0, \"#f0f921\"]], \"type\": \"histogram2d\"}], \"histogram2dcontour\": [{\"colorbar\": {\"outlinewidth\": 0, \"ticks\": \"\"}, \"colorscale\": [[0.0, \"#0d0887\"], [0.1111111111111111, \"#46039f\"], [0.2222222222222222, \"#7201a8\"], [0.3333333333333333, \"#9c179e\"], [0.4444444444444444, \"#bd3786\"], [0.5555555555555556, \"#d8576b\"], [0.6666666666666666, \"#ed7953\"], [0.7777777777777778, \"#fb9f3a\"], [0.8888888888888888, \"#fdca26\"], [1.0, \"#f0f921\"]], \"type\": \"histogram2dcontour\"}], \"mesh3d\": [{\"colorbar\": {\"outlinewidth\": 0, \"ticks\": \"\"}, \"type\": \"mesh3d\"}], \"parcoords\": [{\"line\": {\"colorbar\": {\"outlinewidth\": 0, \"ticks\": \"\"}}, \"type\": \"parcoords\"}], \"pie\": [{\"automargin\": true, \"type\": \"pie\"}], \"scatter\": [{\"marker\": {\"colorbar\": {\"outlinewidth\": 0, \"ticks\": \"\"}}, \"type\": \"scatter\"}], \"scatter3d\": [{\"line\": {\"colorbar\": {\"outlinewidth\": 0, \"ticks\": \"\"}}, \"marker\": {\"colorbar\": {\"outlinewidth\": 0, \"ticks\": \"\"}}, \"type\": \"scatter3d\"}], \"scattercarpet\": [{\"marker\": {\"colorbar\": {\"outlinewidth\": 0, \"ticks\": \"\"}}, \"type\": \"scattercarpet\"}], \"scattergeo\": [{\"marker\": {\"colorbar\": {\"outlinewidth\": 0, \"ticks\": \"\"}}, \"type\": \"scattergeo\"}], \"scattergl\": [{\"marker\": {\"colorbar\": {\"outlinewidth\": 0, \"ticks\": \"\"}}, \"type\": \"scattergl\"}], \"scattermapbox\": [{\"marker\": {\"colorbar\": {\"outlinewidth\": 0, \"ticks\": \"\"}}, \"type\": \"scattermapbox\"}], \"scatterpolar\": [{\"marker\": {\"colorbar\": {\"outlinewidth\": 0, \"ticks\": \"\"}}, \"type\": \"scatterpolar\"}], \"scatterpolargl\": [{\"marker\": {\"colorbar\": {\"outlinewidth\": 0, \"ticks\": \"\"}}, \"type\": \"scatterpolargl\"}], \"scatterternary\": [{\"marker\": {\"colorbar\": {\"outlinewidth\": 0, \"ticks\": \"\"}}, \"type\": \"scatterternary\"}], \"surface\": [{\"colorbar\": {\"outlinewidth\": 0, \"ticks\": \"\"}, \"colorscale\": [[0.0, \"#0d0887\"], [0.1111111111111111, \"#46039f\"], [0.2222222222222222, \"#7201a8\"], [0.3333333333333333, \"#9c179e\"], [0.4444444444444444, \"#bd3786\"], [0.5555555555555556, \"#d8576b\"], [0.6666666666666666, \"#ed7953\"], [0.7777777777777778, \"#fb9f3a\"], [0.8888888888888888, \"#fdca26\"], [1.0, \"#f0f921\"]], \"type\": \"surface\"}], \"table\": [{\"cells\": {\"fill\": {\"color\": \"#EBF0F8\"}, \"line\": {\"color\": \"white\"}}, \"header\": {\"fill\": {\"color\": \"#C8D4E3\"}, \"line\": {\"color\": \"white\"}}, \"type\": \"table\"}]}, \"layout\": {\"annotationdefaults\": {\"arrowcolor\": \"#2a3f5f\", \"arrowhead\": 0, \"arrowwidth\": 1}, \"coloraxis\": {\"colorbar\": {\"outlinewidth\": 0, \"ticks\": \"\"}}, \"colorscale\": {\"diverging\": [[0, \"#8e0152\"], [0.1, \"#c51b7d\"], [0.2, \"#de77ae\"], [0.3, \"#f1b6da\"], [0.4, \"#fde0ef\"], [0.5, \"#f7f7f7\"], [0.6, \"#e6f5d0\"], [0.7, \"#b8e186\"], [0.8, \"#7fbc41\"], [0.9, \"#4d9221\"], [1, \"#276419\"]], \"sequential\": [[0.0, \"#0d0887\"], [0.1111111111111111, \"#46039f\"], [0.2222222222222222, \"#7201a8\"], [0.3333333333333333, \"#9c179e\"], [0.4444444444444444, \"#bd3786\"], [0.5555555555555556, \"#d8576b\"], [0.6666666666666666, \"#ed7953\"], [0.7777777777777778, \"#fb9f3a\"], [0.8888888888888888, \"#fdca26\"], [1.0, \"#f0f921\"]], \"sequentialminus\": [[0.0, \"#0d0887\"], [0.1111111111111111, \"#46039f\"], [0.2222222222222222, \"#7201a8\"], [0.3333333333333333, \"#9c179e\"], [0.4444444444444444, \"#bd3786\"], [0.5555555555555556, \"#d8576b\"], [0.6666666666666666, \"#ed7953\"], [0.7777777777777778, \"#fb9f3a\"], [0.8888888888888888, \"#fdca26\"], [1.0, \"#f0f921\"]]}, \"colorway\": [\"#636efa\", \"#EF553B\", \"#00cc96\", \"#ab63fa\", \"#FFA15A\", \"#19d3f3\", \"#FF6692\", \"#B6E880\", \"#FF97FF\", \"#FECB52\"], \"font\": {\"color\": \"#2a3f5f\"}, \"geo\": {\"bgcolor\": \"white\", \"lakecolor\": \"white\", \"landcolor\": \"#E5ECF6\", \"showlakes\": true, \"showland\": true, \"subunitcolor\": \"white\"}, \"hoverlabel\": {\"align\": \"left\"}, \"hovermode\": \"closest\", \"mapbox\": {\"style\": \"light\"}, \"paper_bgcolor\": \"white\", \"plot_bgcolor\": \"#E5ECF6\", \"polar\": {\"angularaxis\": {\"gridcolor\": \"white\", \"linecolor\": \"white\", \"ticks\": \"\"}, \"bgcolor\": \"#E5ECF6\", \"radialaxis\": {\"gridcolor\": \"white\", \"linecolor\": \"white\", \"ticks\": \"\"}}, \"scene\": {\"xaxis\": {\"backgroundcolor\": \"#E5ECF6\", \"gridcolor\": \"white\", \"gridwidth\": 2, \"linecolor\": \"white\", \"showbackground\": true, \"ticks\": \"\", \"zerolinecolor\": \"white\"}, \"yaxis\": {\"backgroundcolor\": \"#E5ECF6\", \"gridcolor\": \"white\", \"gridwidth\": 2, \"linecolor\": \"white\", \"showbackground\": true, \"ticks\": \"\", \"zerolinecolor\": \"white\"}, \"zaxis\": {\"backgroundcolor\": \"#E5ECF6\", \"gridcolor\": \"white\", \"gridwidth\": 2, \"linecolor\": \"white\", \"showbackground\": true, \"ticks\": \"\", \"zerolinecolor\": \"white\"}}, \"shapedefaults\": {\"line\": {\"color\": \"#2a3f5f\"}}, \"ternary\": {\"aaxis\": {\"gridcolor\": \"white\", \"linecolor\": \"white\", \"ticks\": \"\"}, \"baxis\": {\"gridcolor\": \"white\", \"linecolor\": \"white\", \"ticks\": \"\"}, \"bgcolor\": \"#E5ECF6\", \"caxis\": {\"gridcolor\": \"white\", \"linecolor\": \"white\", \"ticks\": \"\"}}, \"title\": {\"x\": 0.05}, \"xaxis\": {\"automargin\": true, \"gridcolor\": \"white\", \"linecolor\": \"white\", \"ticks\": \"\", \"title\": {\"standoff\": 15}, \"zerolinecolor\": \"white\", \"zerolinewidth\": 2}, \"yaxis\": {\"automargin\": true, \"gridcolor\": \"white\", \"linecolor\": \"white\", \"ticks\": \"\", \"title\": {\"standoff\": 15}, \"zerolinecolor\": \"white\", \"zerolinewidth\": 2}}}},\n",
       "                        {\"responsive\": true}\n",
       "                    ).then(function(){\n",
       "                            \n",
       "var gd = document.getElementById('9bbc767a-ada4-4299-904c-337253fc49fc');\n",
       "var x = new MutationObserver(function (mutations, observer) {{\n",
       "        var display = window.getComputedStyle(gd).display;\n",
       "        if (!display || display === 'none') {{\n",
       "            console.log([gd, 'removed!']);\n",
       "            Plotly.purge(gd);\n",
       "            observer.disconnect();\n",
       "        }}\n",
       "}});\n",
       "\n",
       "// Listen for the removal of the full notebook cells\n",
       "var notebookContainer = gd.closest('#notebook-container');\n",
       "if (notebookContainer) {{\n",
       "    x.observe(notebookContainer, {childList: true});\n",
       "}}\n",
       "\n",
       "// Listen for the clearing of the current output cell\n",
       "var outputEl = gd.closest('.output');\n",
       "if (outputEl) {{\n",
       "    x.observe(outputEl, {childList: true});\n",
       "}}\n",
       "\n",
       "                        })\n",
       "                };\n",
       "                });\n",
       "            </script>\n",
       "        </div>"
      ]
     },
     "metadata": {},
     "output_type": "display_data"
    }
   ],
   "source": [
    "\n",
    "fig = go.Figure()\n",
    "fig.add_trace(go.Scatter(x=Xe,\n",
    "                   y=Ye,\n",
    "                   mode='lines',\n",
    "                   line=dict(color='rgb(210,210,210)', width=1),\n",
    "                   hoverinfo='none'\n",
    "                   ))\n",
    "fig.add_trace(go.Scatter(y=Yn,\n",
    "                  x=Xn,\n",
    "                  mode='markers',\n",
    "                  name='bla',\n",
    "                  marker=dict(symbol='circle-dot',\n",
    "                                size=0.0001,\n",
    "                                color='#6175c1',    #'#DB4551',\n",
    "                                line=dict(color='rgb(50,50,50)', width=1)\n",
    "                                ),\n",
    "                  text=labels,\n",
    "                  hoverinfo='text',\n",
    "                  opacity=0.8\n",
    "                  ))\n",
    "fig.show()"
   ]
  },
  {
   "cell_type": "code",
   "execution_count": 607,
   "metadata": {},
   "outputs": [],
   "source": [
    "def make_annotations(pos, text, font_size=10, font_color='rgb(0,0,0)'):\n",
    "    L=len(pos)\n",
    "    if len(text)!=L:\n",
    "        raise ValueError('The lists pos and text must have the same len')\n",
    "    annotations = []\n",
    "    for n, k in enumerate(list(pos.keys())):\n",
    "        annotations.append(\n",
    "            dict(\n",
    "                text=labels[n], # or replace labels with a different list for the text within the circle\n",
    "                x=pos[k][0], y=pos[k][1],\n",
    "                xref='x1', yref='y1',\n",
    "                font=dict(color=font_color, size=font_size),\n",
    "                showarrow=False)\n",
    "        )\n",
    "    return annotations\n"
   ]
  },
  {
   "cell_type": "code",
   "execution_count": 608,
   "metadata": {},
   "outputs": [
    {
     "data": {
      "application/vnd.plotly.v1+json": {
       "config": {
        "plotlyServerURL": "https://plot.ly"
       },
       "data": [
        {
         "hoverinfo": "none",
         "line": {
          "color": "rgb(210,210,210)",
          "width": 1
         },
         "mode": "lines",
         "type": "scatter",
         "x": [
          1,
          0,
          null,
          1,
          0,
          null,
          0,
          0,
          null,
          1,
          2,
          null,
          1,
          2,
          null,
          2,
          2,
          null
         ],
         "y": [
          4,
          6,
          null,
          4,
          2,
          null,
          2,
          0,
          null,
          4,
          6,
          null,
          4,
          2,
          null,
          2,
          0,
          null
         ]
        },
        {
         "hoverinfo": "text",
         "marker": {
          "color": "#6175c1",
          "line": {
           "color": "rgb(50,50,50)",
           "width": 1
          },
          "size": 0.0001,
          "symbol": "circle-dot"
         },
         "mode": "markers",
         "name": "bla",
         "opacity": 0.8,
         "text": [
          "Hypernyms ->",
          "Word ->",
          "Hyponyms ->",
          "Meronyms ->",
          "day",
          "eat",
          "evening",
          "sunday, morning, saturday",
          "hour",
          "night, rag, evening",
          "weekend, morning, evening"
         ],
         "type": "scatter",
         "x": [
          -2,
          -2,
          -2,
          -2,
          1,
          0,
          0,
          0,
          2,
          2,
          2
         ],
         "y": [
          6,
          4,
          2,
          0,
          4,
          6,
          2,
          0,
          6,
          2,
          0
         ]
        }
       ],
       "layout": {
        "annotations": [
         {
          "font": {
           "color": "rgb(0,0,0)",
           "size": 10
          },
          "showarrow": false,
          "text": "Hypernyms ->",
          "x": -2,
          "xref": "x",
          "y": 6,
          "yref": "y"
         },
         {
          "font": {
           "color": "rgb(0,0,0)",
           "size": 10
          },
          "showarrow": false,
          "text": "Word ->",
          "x": -2,
          "xref": "x",
          "y": 4,
          "yref": "y"
         },
         {
          "font": {
           "color": "rgb(0,0,0)",
           "size": 10
          },
          "showarrow": false,
          "text": "Hyponyms ->",
          "x": -2,
          "xref": "x",
          "y": 2,
          "yref": "y"
         },
         {
          "font": {
           "color": "rgb(0,0,0)",
           "size": 10
          },
          "showarrow": false,
          "text": "Meronyms ->",
          "x": -2,
          "xref": "x",
          "y": 0,
          "yref": "y"
         },
         {
          "font": {
           "color": "rgb(0,0,0)",
           "size": 10
          },
          "showarrow": false,
          "text": "day",
          "x": 1,
          "xref": "x",
          "y": 4,
          "yref": "y"
         },
         {
          "font": {
           "color": "rgb(0,0,0)",
           "size": 10
          },
          "showarrow": false,
          "text": "eat",
          "x": 0,
          "xref": "x",
          "y": 6,
          "yref": "y"
         },
         {
          "font": {
           "color": "rgb(0,0,0)",
           "size": 10
          },
          "showarrow": false,
          "text": "evening",
          "x": 0,
          "xref": "x",
          "y": 2,
          "yref": "y"
         },
         {
          "font": {
           "color": "rgb(0,0,0)",
           "size": 10
          },
          "showarrow": false,
          "text": "sunday, morning, saturday",
          "x": 0,
          "xref": "x",
          "y": 0,
          "yref": "y"
         },
         {
          "font": {
           "color": "rgb(0,0,0)",
           "size": 10
          },
          "showarrow": false,
          "text": "hour",
          "x": 2,
          "xref": "x",
          "y": 6,
          "yref": "y"
         },
         {
          "font": {
           "color": "rgb(0,0,0)",
           "size": 10
          },
          "showarrow": false,
          "text": "night, rag, evening",
          "x": 2,
          "xref": "x",
          "y": 2,
          "yref": "y"
         },
         {
          "font": {
           "color": "rgb(0,0,0)",
           "size": 10
          },
          "showarrow": false,
          "text": "weekend, morning, evening",
          "x": 2,
          "xref": "x",
          "y": 0,
          "yref": "y"
         }
        ],
        "font": {
         "size": 12
        },
        "hovermode": "closest",
        "margin": {
         "b": 85,
         "l": 40,
         "r": 40,
         "t": 100
        },
        "plot_bgcolor": "rgb(248,248,248)",
        "showlegend": false,
        "template": {
         "data": {
          "bar": [
           {
            "error_x": {
             "color": "#2a3f5f"
            },
            "error_y": {
             "color": "#2a3f5f"
            },
            "marker": {
             "line": {
              "color": "#E5ECF6",
              "width": 0.5
             }
            },
            "type": "bar"
           }
          ],
          "barpolar": [
           {
            "marker": {
             "line": {
              "color": "#E5ECF6",
              "width": 0.5
             }
            },
            "type": "barpolar"
           }
          ],
          "carpet": [
           {
            "aaxis": {
             "endlinecolor": "#2a3f5f",
             "gridcolor": "white",
             "linecolor": "white",
             "minorgridcolor": "white",
             "startlinecolor": "#2a3f5f"
            },
            "baxis": {
             "endlinecolor": "#2a3f5f",
             "gridcolor": "white",
             "linecolor": "white",
             "minorgridcolor": "white",
             "startlinecolor": "#2a3f5f"
            },
            "type": "carpet"
           }
          ],
          "choropleth": [
           {
            "colorbar": {
             "outlinewidth": 0,
             "ticks": ""
            },
            "type": "choropleth"
           }
          ],
          "contour": [
           {
            "colorbar": {
             "outlinewidth": 0,
             "ticks": ""
            },
            "colorscale": [
             [
              0,
              "#0d0887"
             ],
             [
              0.1111111111111111,
              "#46039f"
             ],
             [
              0.2222222222222222,
              "#7201a8"
             ],
             [
              0.3333333333333333,
              "#9c179e"
             ],
             [
              0.4444444444444444,
              "#bd3786"
             ],
             [
              0.5555555555555556,
              "#d8576b"
             ],
             [
              0.6666666666666666,
              "#ed7953"
             ],
             [
              0.7777777777777778,
              "#fb9f3a"
             ],
             [
              0.8888888888888888,
              "#fdca26"
             ],
             [
              1,
              "#f0f921"
             ]
            ],
            "type": "contour"
           }
          ],
          "contourcarpet": [
           {
            "colorbar": {
             "outlinewidth": 0,
             "ticks": ""
            },
            "type": "contourcarpet"
           }
          ],
          "heatmap": [
           {
            "colorbar": {
             "outlinewidth": 0,
             "ticks": ""
            },
            "colorscale": [
             [
              0,
              "#0d0887"
             ],
             [
              0.1111111111111111,
              "#46039f"
             ],
             [
              0.2222222222222222,
              "#7201a8"
             ],
             [
              0.3333333333333333,
              "#9c179e"
             ],
             [
              0.4444444444444444,
              "#bd3786"
             ],
             [
              0.5555555555555556,
              "#d8576b"
             ],
             [
              0.6666666666666666,
              "#ed7953"
             ],
             [
              0.7777777777777778,
              "#fb9f3a"
             ],
             [
              0.8888888888888888,
              "#fdca26"
             ],
             [
              1,
              "#f0f921"
             ]
            ],
            "type": "heatmap"
           }
          ],
          "heatmapgl": [
           {
            "colorbar": {
             "outlinewidth": 0,
             "ticks": ""
            },
            "colorscale": [
             [
              0,
              "#0d0887"
             ],
             [
              0.1111111111111111,
              "#46039f"
             ],
             [
              0.2222222222222222,
              "#7201a8"
             ],
             [
              0.3333333333333333,
              "#9c179e"
             ],
             [
              0.4444444444444444,
              "#bd3786"
             ],
             [
              0.5555555555555556,
              "#d8576b"
             ],
             [
              0.6666666666666666,
              "#ed7953"
             ],
             [
              0.7777777777777778,
              "#fb9f3a"
             ],
             [
              0.8888888888888888,
              "#fdca26"
             ],
             [
              1,
              "#f0f921"
             ]
            ],
            "type": "heatmapgl"
           }
          ],
          "histogram": [
           {
            "marker": {
             "colorbar": {
              "outlinewidth": 0,
              "ticks": ""
             }
            },
            "type": "histogram"
           }
          ],
          "histogram2d": [
           {
            "colorbar": {
             "outlinewidth": 0,
             "ticks": ""
            },
            "colorscale": [
             [
              0,
              "#0d0887"
             ],
             [
              0.1111111111111111,
              "#46039f"
             ],
             [
              0.2222222222222222,
              "#7201a8"
             ],
             [
              0.3333333333333333,
              "#9c179e"
             ],
             [
              0.4444444444444444,
              "#bd3786"
             ],
             [
              0.5555555555555556,
              "#d8576b"
             ],
             [
              0.6666666666666666,
              "#ed7953"
             ],
             [
              0.7777777777777778,
              "#fb9f3a"
             ],
             [
              0.8888888888888888,
              "#fdca26"
             ],
             [
              1,
              "#f0f921"
             ]
            ],
            "type": "histogram2d"
           }
          ],
          "histogram2dcontour": [
           {
            "colorbar": {
             "outlinewidth": 0,
             "ticks": ""
            },
            "colorscale": [
             [
              0,
              "#0d0887"
             ],
             [
              0.1111111111111111,
              "#46039f"
             ],
             [
              0.2222222222222222,
              "#7201a8"
             ],
             [
              0.3333333333333333,
              "#9c179e"
             ],
             [
              0.4444444444444444,
              "#bd3786"
             ],
             [
              0.5555555555555556,
              "#d8576b"
             ],
             [
              0.6666666666666666,
              "#ed7953"
             ],
             [
              0.7777777777777778,
              "#fb9f3a"
             ],
             [
              0.8888888888888888,
              "#fdca26"
             ],
             [
              1,
              "#f0f921"
             ]
            ],
            "type": "histogram2dcontour"
           }
          ],
          "mesh3d": [
           {
            "colorbar": {
             "outlinewidth": 0,
             "ticks": ""
            },
            "type": "mesh3d"
           }
          ],
          "parcoords": [
           {
            "line": {
             "colorbar": {
              "outlinewidth": 0,
              "ticks": ""
             }
            },
            "type": "parcoords"
           }
          ],
          "pie": [
           {
            "automargin": true,
            "type": "pie"
           }
          ],
          "scatter": [
           {
            "marker": {
             "colorbar": {
              "outlinewidth": 0,
              "ticks": ""
             }
            },
            "type": "scatter"
           }
          ],
          "scatter3d": [
           {
            "line": {
             "colorbar": {
              "outlinewidth": 0,
              "ticks": ""
             }
            },
            "marker": {
             "colorbar": {
              "outlinewidth": 0,
              "ticks": ""
             }
            },
            "type": "scatter3d"
           }
          ],
          "scattercarpet": [
           {
            "marker": {
             "colorbar": {
              "outlinewidth": 0,
              "ticks": ""
             }
            },
            "type": "scattercarpet"
           }
          ],
          "scattergeo": [
           {
            "marker": {
             "colorbar": {
              "outlinewidth": 0,
              "ticks": ""
             }
            },
            "type": "scattergeo"
           }
          ],
          "scattergl": [
           {
            "marker": {
             "colorbar": {
              "outlinewidth": 0,
              "ticks": ""
             }
            },
            "type": "scattergl"
           }
          ],
          "scattermapbox": [
           {
            "marker": {
             "colorbar": {
              "outlinewidth": 0,
              "ticks": ""
             }
            },
            "type": "scattermapbox"
           }
          ],
          "scatterpolar": [
           {
            "marker": {
             "colorbar": {
              "outlinewidth": 0,
              "ticks": ""
             }
            },
            "type": "scatterpolar"
           }
          ],
          "scatterpolargl": [
           {
            "marker": {
             "colorbar": {
              "outlinewidth": 0,
              "ticks": ""
             }
            },
            "type": "scatterpolargl"
           }
          ],
          "scatterternary": [
           {
            "marker": {
             "colorbar": {
              "outlinewidth": 0,
              "ticks": ""
             }
            },
            "type": "scatterternary"
           }
          ],
          "surface": [
           {
            "colorbar": {
             "outlinewidth": 0,
             "ticks": ""
            },
            "colorscale": [
             [
              0,
              "#0d0887"
             ],
             [
              0.1111111111111111,
              "#46039f"
             ],
             [
              0.2222222222222222,
              "#7201a8"
             ],
             [
              0.3333333333333333,
              "#9c179e"
             ],
             [
              0.4444444444444444,
              "#bd3786"
             ],
             [
              0.5555555555555556,
              "#d8576b"
             ],
             [
              0.6666666666666666,
              "#ed7953"
             ],
             [
              0.7777777777777778,
              "#fb9f3a"
             ],
             [
              0.8888888888888888,
              "#fdca26"
             ],
             [
              1,
              "#f0f921"
             ]
            ],
            "type": "surface"
           }
          ],
          "table": [
           {
            "cells": {
             "fill": {
              "color": "#EBF0F8"
             },
             "line": {
              "color": "white"
             }
            },
            "header": {
             "fill": {
              "color": "#C8D4E3"
             },
             "line": {
              "color": "white"
             }
            },
            "type": "table"
           }
          ]
         },
         "layout": {
          "annotationdefaults": {
           "arrowcolor": "#2a3f5f",
           "arrowhead": 0,
           "arrowwidth": 1
          },
          "coloraxis": {
           "colorbar": {
            "outlinewidth": 0,
            "ticks": ""
           }
          },
          "colorscale": {
           "diverging": [
            [
             0,
             "#8e0152"
            ],
            [
             0.1,
             "#c51b7d"
            ],
            [
             0.2,
             "#de77ae"
            ],
            [
             0.3,
             "#f1b6da"
            ],
            [
             0.4,
             "#fde0ef"
            ],
            [
             0.5,
             "#f7f7f7"
            ],
            [
             0.6,
             "#e6f5d0"
            ],
            [
             0.7,
             "#b8e186"
            ],
            [
             0.8,
             "#7fbc41"
            ],
            [
             0.9,
             "#4d9221"
            ],
            [
             1,
             "#276419"
            ]
           ],
           "sequential": [
            [
             0,
             "#0d0887"
            ],
            [
             0.1111111111111111,
             "#46039f"
            ],
            [
             0.2222222222222222,
             "#7201a8"
            ],
            [
             0.3333333333333333,
             "#9c179e"
            ],
            [
             0.4444444444444444,
             "#bd3786"
            ],
            [
             0.5555555555555556,
             "#d8576b"
            ],
            [
             0.6666666666666666,
             "#ed7953"
            ],
            [
             0.7777777777777778,
             "#fb9f3a"
            ],
            [
             0.8888888888888888,
             "#fdca26"
            ],
            [
             1,
             "#f0f921"
            ]
           ],
           "sequentialminus": [
            [
             0,
             "#0d0887"
            ],
            [
             0.1111111111111111,
             "#46039f"
            ],
            [
             0.2222222222222222,
             "#7201a8"
            ],
            [
             0.3333333333333333,
             "#9c179e"
            ],
            [
             0.4444444444444444,
             "#bd3786"
            ],
            [
             0.5555555555555556,
             "#d8576b"
            ],
            [
             0.6666666666666666,
             "#ed7953"
            ],
            [
             0.7777777777777778,
             "#fb9f3a"
            ],
            [
             0.8888888888888888,
             "#fdca26"
            ],
            [
             1,
             "#f0f921"
            ]
           ]
          },
          "colorway": [
           "#636efa",
           "#EF553B",
           "#00cc96",
           "#ab63fa",
           "#FFA15A",
           "#19d3f3",
           "#FF6692",
           "#B6E880",
           "#FF97FF",
           "#FECB52"
          ],
          "font": {
           "color": "#2a3f5f"
          },
          "geo": {
           "bgcolor": "white",
           "lakecolor": "white",
           "landcolor": "#E5ECF6",
           "showlakes": true,
           "showland": true,
           "subunitcolor": "white"
          },
          "hoverlabel": {
           "align": "left"
          },
          "hovermode": "closest",
          "mapbox": {
           "style": "light"
          },
          "paper_bgcolor": "white",
          "plot_bgcolor": "#E5ECF6",
          "polar": {
           "angularaxis": {
            "gridcolor": "white",
            "linecolor": "white",
            "ticks": ""
           },
           "bgcolor": "#E5ECF6",
           "radialaxis": {
            "gridcolor": "white",
            "linecolor": "white",
            "ticks": ""
           }
          },
          "scene": {
           "xaxis": {
            "backgroundcolor": "#E5ECF6",
            "gridcolor": "white",
            "gridwidth": 2,
            "linecolor": "white",
            "showbackground": true,
            "ticks": "",
            "zerolinecolor": "white"
           },
           "yaxis": {
            "backgroundcolor": "#E5ECF6",
            "gridcolor": "white",
            "gridwidth": 2,
            "linecolor": "white",
            "showbackground": true,
            "ticks": "",
            "zerolinecolor": "white"
           },
           "zaxis": {
            "backgroundcolor": "#E5ECF6",
            "gridcolor": "white",
            "gridwidth": 2,
            "linecolor": "white",
            "showbackground": true,
            "ticks": "",
            "zerolinecolor": "white"
           }
          },
          "shapedefaults": {
           "line": {
            "color": "#2a3f5f"
           }
          },
          "ternary": {
           "aaxis": {
            "gridcolor": "white",
            "linecolor": "white",
            "ticks": ""
           },
           "baxis": {
            "gridcolor": "white",
            "linecolor": "white",
            "ticks": ""
           },
           "bgcolor": "#E5ECF6",
           "caxis": {
            "gridcolor": "white",
            "linecolor": "white",
            "ticks": ""
           }
          },
          "title": {
           "x": 0.05
          },
          "xaxis": {
           "automargin": true,
           "gridcolor": "white",
           "linecolor": "white",
           "ticks": "",
           "title": {
            "standoff": 15
           },
           "zerolinecolor": "white",
           "zerolinewidth": 2
          },
          "yaxis": {
           "automargin": true,
           "gridcolor": "white",
           "linecolor": "white",
           "ticks": "",
           "title": {
            "standoff": 15
           },
           "zerolinecolor": "white",
           "zerolinewidth": 2
          }
         }
        },
        "title": {
         "text": "Hypernym-Hyponym-Meronym Tree"
        },
        "xaxis": {
         "showgrid": false,
         "showline": false,
         "showticklabels": false,
         "zeroline": false
        },
        "yaxis": {
         "showgrid": false,
         "showline": false,
         "showticklabels": false,
         "zeroline": false
        }
       }
      },
      "text/html": [
       "<div>\n",
       "        \n",
       "        \n",
       "            <div id=\"9ecb336f-268d-4fb8-a111-8b21d6f30926\" class=\"plotly-graph-div\" style=\"height:525px; width:100%;\"></div>\n",
       "            <script type=\"text/javascript\">\n",
       "                require([\"plotly\"], function(Plotly) {\n",
       "                    window.PLOTLYENV=window.PLOTLYENV || {};\n",
       "                    \n",
       "                if (document.getElementById(\"9ecb336f-268d-4fb8-a111-8b21d6f30926\")) {\n",
       "                    Plotly.newPlot(\n",
       "                        '9ecb336f-268d-4fb8-a111-8b21d6f30926',\n",
       "                        [{\"hoverinfo\": \"none\", \"line\": {\"color\": \"rgb(210,210,210)\", \"width\": 1}, \"mode\": \"lines\", \"type\": \"scatter\", \"x\": [1, 0, null, 1, 0, null, 0, 0, null, 1, 2, null, 1, 2, null, 2, 2, null], \"y\": [4, 6, null, 4, 2, null, 2, 0, null, 4, 6, null, 4, 2, null, 2, 0, null]}, {\"hoverinfo\": \"text\", \"marker\": {\"color\": \"#6175c1\", \"line\": {\"color\": \"rgb(50,50,50)\", \"width\": 1}, \"size\": 0.0001, \"symbol\": \"circle-dot\"}, \"mode\": \"markers\", \"name\": \"bla\", \"opacity\": 0.8, \"text\": [\"Hypernyms ->\", \"Word ->\", \"Hyponyms ->\", \"Meronyms ->\", \"day\", \"eat\", \"evening\", \"sunday, morning, saturday\", \"hour\", \"night, rag, evening\", \"weekend, morning, evening\"], \"type\": \"scatter\", \"x\": [-2, -2, -2, -2, 1, 0, 0, 0, 2, 2, 2], \"y\": [6, 4, 2, 0, 4, 6, 2, 0, 6, 2, 0]}],\n",
       "                        {\"annotations\": [{\"font\": {\"color\": \"rgb(0,0,0)\", \"size\": 10}, \"showarrow\": false, \"text\": \"Hypernyms ->\", \"x\": -2, \"xref\": \"x\", \"y\": 6, \"yref\": \"y\"}, {\"font\": {\"color\": \"rgb(0,0,0)\", \"size\": 10}, \"showarrow\": false, \"text\": \"Word ->\", \"x\": -2, \"xref\": \"x\", \"y\": 4, \"yref\": \"y\"}, {\"font\": {\"color\": \"rgb(0,0,0)\", \"size\": 10}, \"showarrow\": false, \"text\": \"Hyponyms ->\", \"x\": -2, \"xref\": \"x\", \"y\": 2, \"yref\": \"y\"}, {\"font\": {\"color\": \"rgb(0,0,0)\", \"size\": 10}, \"showarrow\": false, \"text\": \"Meronyms ->\", \"x\": -2, \"xref\": \"x\", \"y\": 0, \"yref\": \"y\"}, {\"font\": {\"color\": \"rgb(0,0,0)\", \"size\": 10}, \"showarrow\": false, \"text\": \"day\", \"x\": 1, \"xref\": \"x\", \"y\": 4, \"yref\": \"y\"}, {\"font\": {\"color\": \"rgb(0,0,0)\", \"size\": 10}, \"showarrow\": false, \"text\": \"eat\", \"x\": 0, \"xref\": \"x\", \"y\": 6, \"yref\": \"y\"}, {\"font\": {\"color\": \"rgb(0,0,0)\", \"size\": 10}, \"showarrow\": false, \"text\": \"evening\", \"x\": 0, \"xref\": \"x\", \"y\": 2, \"yref\": \"y\"}, {\"font\": {\"color\": \"rgb(0,0,0)\", \"size\": 10}, \"showarrow\": false, \"text\": \"sunday, morning, saturday\", \"x\": 0, \"xref\": \"x\", \"y\": 0, \"yref\": \"y\"}, {\"font\": {\"color\": \"rgb(0,0,0)\", \"size\": 10}, \"showarrow\": false, \"text\": \"hour\", \"x\": 2, \"xref\": \"x\", \"y\": 6, \"yref\": \"y\"}, {\"font\": {\"color\": \"rgb(0,0,0)\", \"size\": 10}, \"showarrow\": false, \"text\": \"night, rag, evening\", \"x\": 2, \"xref\": \"x\", \"y\": 2, \"yref\": \"y\"}, {\"font\": {\"color\": \"rgb(0,0,0)\", \"size\": 10}, \"showarrow\": false, \"text\": \"weekend, morning, evening\", \"x\": 2, \"xref\": \"x\", \"y\": 0, \"yref\": \"y\"}], \"font\": {\"size\": 12}, \"hovermode\": \"closest\", \"margin\": {\"b\": 85, \"l\": 40, \"r\": 40, \"t\": 100}, \"plot_bgcolor\": \"rgb(248,248,248)\", \"showlegend\": false, \"template\": {\"data\": {\"bar\": [{\"error_x\": {\"color\": \"#2a3f5f\"}, \"error_y\": {\"color\": \"#2a3f5f\"}, \"marker\": {\"line\": {\"color\": \"#E5ECF6\", \"width\": 0.5}}, \"type\": \"bar\"}], \"barpolar\": [{\"marker\": {\"line\": {\"color\": \"#E5ECF6\", \"width\": 0.5}}, \"type\": \"barpolar\"}], \"carpet\": [{\"aaxis\": {\"endlinecolor\": \"#2a3f5f\", \"gridcolor\": \"white\", \"linecolor\": \"white\", \"minorgridcolor\": \"white\", \"startlinecolor\": \"#2a3f5f\"}, \"baxis\": {\"endlinecolor\": \"#2a3f5f\", \"gridcolor\": \"white\", \"linecolor\": \"white\", \"minorgridcolor\": \"white\", \"startlinecolor\": \"#2a3f5f\"}, \"type\": \"carpet\"}], \"choropleth\": [{\"colorbar\": {\"outlinewidth\": 0, \"ticks\": \"\"}, \"type\": \"choropleth\"}], \"contour\": [{\"colorbar\": {\"outlinewidth\": 0, \"ticks\": \"\"}, \"colorscale\": [[0.0, \"#0d0887\"], [0.1111111111111111, \"#46039f\"], [0.2222222222222222, \"#7201a8\"], [0.3333333333333333, \"#9c179e\"], [0.4444444444444444, \"#bd3786\"], [0.5555555555555556, \"#d8576b\"], [0.6666666666666666, \"#ed7953\"], [0.7777777777777778, \"#fb9f3a\"], [0.8888888888888888, \"#fdca26\"], [1.0, \"#f0f921\"]], \"type\": \"contour\"}], \"contourcarpet\": [{\"colorbar\": {\"outlinewidth\": 0, \"ticks\": \"\"}, \"type\": \"contourcarpet\"}], \"heatmap\": [{\"colorbar\": {\"outlinewidth\": 0, \"ticks\": \"\"}, \"colorscale\": [[0.0, \"#0d0887\"], [0.1111111111111111, \"#46039f\"], [0.2222222222222222, \"#7201a8\"], [0.3333333333333333, \"#9c179e\"], [0.4444444444444444, \"#bd3786\"], [0.5555555555555556, \"#d8576b\"], [0.6666666666666666, \"#ed7953\"], [0.7777777777777778, \"#fb9f3a\"], [0.8888888888888888, \"#fdca26\"], [1.0, \"#f0f921\"]], \"type\": \"heatmap\"}], \"heatmapgl\": [{\"colorbar\": {\"outlinewidth\": 0, \"ticks\": \"\"}, \"colorscale\": [[0.0, \"#0d0887\"], [0.1111111111111111, \"#46039f\"], [0.2222222222222222, \"#7201a8\"], [0.3333333333333333, \"#9c179e\"], [0.4444444444444444, \"#bd3786\"], [0.5555555555555556, \"#d8576b\"], [0.6666666666666666, \"#ed7953\"], [0.7777777777777778, \"#fb9f3a\"], [0.8888888888888888, \"#fdca26\"], [1.0, \"#f0f921\"]], \"type\": \"heatmapgl\"}], \"histogram\": [{\"marker\": {\"colorbar\": {\"outlinewidth\": 0, \"ticks\": \"\"}}, \"type\": \"histogram\"}], \"histogram2d\": [{\"colorbar\": {\"outlinewidth\": 0, \"ticks\": \"\"}, \"colorscale\": [[0.0, \"#0d0887\"], [0.1111111111111111, \"#46039f\"], [0.2222222222222222, \"#7201a8\"], [0.3333333333333333, \"#9c179e\"], [0.4444444444444444, \"#bd3786\"], [0.5555555555555556, \"#d8576b\"], [0.6666666666666666, \"#ed7953\"], [0.7777777777777778, \"#fb9f3a\"], [0.8888888888888888, \"#fdca26\"], [1.0, \"#f0f921\"]], \"type\": \"histogram2d\"}], \"histogram2dcontour\": [{\"colorbar\": {\"outlinewidth\": 0, \"ticks\": \"\"}, \"colorscale\": [[0.0, \"#0d0887\"], [0.1111111111111111, \"#46039f\"], [0.2222222222222222, \"#7201a8\"], [0.3333333333333333, \"#9c179e\"], [0.4444444444444444, \"#bd3786\"], [0.5555555555555556, \"#d8576b\"], [0.6666666666666666, \"#ed7953\"], [0.7777777777777778, \"#fb9f3a\"], [0.8888888888888888, \"#fdca26\"], [1.0, \"#f0f921\"]], \"type\": \"histogram2dcontour\"}], \"mesh3d\": [{\"colorbar\": {\"outlinewidth\": 0, \"ticks\": \"\"}, \"type\": \"mesh3d\"}], \"parcoords\": [{\"line\": {\"colorbar\": {\"outlinewidth\": 0, \"ticks\": \"\"}}, \"type\": \"parcoords\"}], \"pie\": [{\"automargin\": true, \"type\": \"pie\"}], \"scatter\": [{\"marker\": {\"colorbar\": {\"outlinewidth\": 0, \"ticks\": \"\"}}, \"type\": \"scatter\"}], \"scatter3d\": [{\"line\": {\"colorbar\": {\"outlinewidth\": 0, \"ticks\": \"\"}}, \"marker\": {\"colorbar\": {\"outlinewidth\": 0, \"ticks\": \"\"}}, \"type\": \"scatter3d\"}], \"scattercarpet\": [{\"marker\": {\"colorbar\": {\"outlinewidth\": 0, \"ticks\": \"\"}}, \"type\": \"scattercarpet\"}], \"scattergeo\": [{\"marker\": {\"colorbar\": {\"outlinewidth\": 0, \"ticks\": \"\"}}, \"type\": \"scattergeo\"}], \"scattergl\": [{\"marker\": {\"colorbar\": {\"outlinewidth\": 0, \"ticks\": \"\"}}, \"type\": \"scattergl\"}], \"scattermapbox\": [{\"marker\": {\"colorbar\": {\"outlinewidth\": 0, \"ticks\": \"\"}}, \"type\": \"scattermapbox\"}], \"scatterpolar\": [{\"marker\": {\"colorbar\": {\"outlinewidth\": 0, \"ticks\": \"\"}}, \"type\": \"scatterpolar\"}], \"scatterpolargl\": [{\"marker\": {\"colorbar\": {\"outlinewidth\": 0, \"ticks\": \"\"}}, \"type\": \"scatterpolargl\"}], \"scatterternary\": [{\"marker\": {\"colorbar\": {\"outlinewidth\": 0, \"ticks\": \"\"}}, \"type\": \"scatterternary\"}], \"surface\": [{\"colorbar\": {\"outlinewidth\": 0, \"ticks\": \"\"}, \"colorscale\": [[0.0, \"#0d0887\"], [0.1111111111111111, \"#46039f\"], [0.2222222222222222, \"#7201a8\"], [0.3333333333333333, \"#9c179e\"], [0.4444444444444444, \"#bd3786\"], [0.5555555555555556, \"#d8576b\"], [0.6666666666666666, \"#ed7953\"], [0.7777777777777778, \"#fb9f3a\"], [0.8888888888888888, \"#fdca26\"], [1.0, \"#f0f921\"]], \"type\": \"surface\"}], \"table\": [{\"cells\": {\"fill\": {\"color\": \"#EBF0F8\"}, \"line\": {\"color\": \"white\"}}, \"header\": {\"fill\": {\"color\": \"#C8D4E3\"}, \"line\": {\"color\": \"white\"}}, \"type\": \"table\"}]}, \"layout\": {\"annotationdefaults\": {\"arrowcolor\": \"#2a3f5f\", \"arrowhead\": 0, \"arrowwidth\": 1}, \"coloraxis\": {\"colorbar\": {\"outlinewidth\": 0, \"ticks\": \"\"}}, \"colorscale\": {\"diverging\": [[0, \"#8e0152\"], [0.1, \"#c51b7d\"], [0.2, \"#de77ae\"], [0.3, \"#f1b6da\"], [0.4, \"#fde0ef\"], [0.5, \"#f7f7f7\"], [0.6, \"#e6f5d0\"], [0.7, \"#b8e186\"], [0.8, \"#7fbc41\"], [0.9, \"#4d9221\"], [1, \"#276419\"]], \"sequential\": [[0.0, \"#0d0887\"], [0.1111111111111111, \"#46039f\"], [0.2222222222222222, \"#7201a8\"], [0.3333333333333333, \"#9c179e\"], [0.4444444444444444, \"#bd3786\"], [0.5555555555555556, \"#d8576b\"], [0.6666666666666666, \"#ed7953\"], [0.7777777777777778, \"#fb9f3a\"], [0.8888888888888888, \"#fdca26\"], [1.0, \"#f0f921\"]], \"sequentialminus\": [[0.0, \"#0d0887\"], [0.1111111111111111, \"#46039f\"], [0.2222222222222222, \"#7201a8\"], [0.3333333333333333, \"#9c179e\"], [0.4444444444444444, \"#bd3786\"], [0.5555555555555556, \"#d8576b\"], [0.6666666666666666, \"#ed7953\"], [0.7777777777777778, \"#fb9f3a\"], [0.8888888888888888, \"#fdca26\"], [1.0, \"#f0f921\"]]}, \"colorway\": [\"#636efa\", \"#EF553B\", \"#00cc96\", \"#ab63fa\", \"#FFA15A\", \"#19d3f3\", \"#FF6692\", \"#B6E880\", \"#FF97FF\", \"#FECB52\"], \"font\": {\"color\": \"#2a3f5f\"}, \"geo\": {\"bgcolor\": \"white\", \"lakecolor\": \"white\", \"landcolor\": \"#E5ECF6\", \"showlakes\": true, \"showland\": true, \"subunitcolor\": \"white\"}, \"hoverlabel\": {\"align\": \"left\"}, \"hovermode\": \"closest\", \"mapbox\": {\"style\": \"light\"}, \"paper_bgcolor\": \"white\", \"plot_bgcolor\": \"#E5ECF6\", \"polar\": {\"angularaxis\": {\"gridcolor\": \"white\", \"linecolor\": \"white\", \"ticks\": \"\"}, \"bgcolor\": \"#E5ECF6\", \"radialaxis\": {\"gridcolor\": \"white\", \"linecolor\": \"white\", \"ticks\": \"\"}}, \"scene\": {\"xaxis\": {\"backgroundcolor\": \"#E5ECF6\", \"gridcolor\": \"white\", \"gridwidth\": 2, \"linecolor\": \"white\", \"showbackground\": true, \"ticks\": \"\", \"zerolinecolor\": \"white\"}, \"yaxis\": {\"backgroundcolor\": \"#E5ECF6\", \"gridcolor\": \"white\", \"gridwidth\": 2, \"linecolor\": \"white\", \"showbackground\": true, \"ticks\": \"\", \"zerolinecolor\": \"white\"}, \"zaxis\": {\"backgroundcolor\": \"#E5ECF6\", \"gridcolor\": \"white\", \"gridwidth\": 2, \"linecolor\": \"white\", \"showbackground\": true, \"ticks\": \"\", \"zerolinecolor\": \"white\"}}, \"shapedefaults\": {\"line\": {\"color\": \"#2a3f5f\"}}, \"ternary\": {\"aaxis\": {\"gridcolor\": \"white\", \"linecolor\": \"white\", \"ticks\": \"\"}, \"baxis\": {\"gridcolor\": \"white\", \"linecolor\": \"white\", \"ticks\": \"\"}, \"bgcolor\": \"#E5ECF6\", \"caxis\": {\"gridcolor\": \"white\", \"linecolor\": \"white\", \"ticks\": \"\"}}, \"title\": {\"x\": 0.05}, \"xaxis\": {\"automargin\": true, \"gridcolor\": \"white\", \"linecolor\": \"white\", \"ticks\": \"\", \"title\": {\"standoff\": 15}, \"zerolinecolor\": \"white\", \"zerolinewidth\": 2}, \"yaxis\": {\"automargin\": true, \"gridcolor\": \"white\", \"linecolor\": \"white\", \"ticks\": \"\", \"title\": {\"standoff\": 15}, \"zerolinecolor\": \"white\", \"zerolinewidth\": 2}}}, \"title\": {\"text\": \"Hypernym-Hyponym-Meronym Tree\"}, \"xaxis\": {\"showgrid\": false, \"showline\": false, \"showticklabels\": false, \"zeroline\": false}, \"yaxis\": {\"showgrid\": false, \"showline\": false, \"showticklabels\": false, \"zeroline\": false}},\n",
       "                        {\"responsive\": true}\n",
       "                    ).then(function(){\n",
       "                            \n",
       "var gd = document.getElementById('9ecb336f-268d-4fb8-a111-8b21d6f30926');\n",
       "var x = new MutationObserver(function (mutations, observer) {{\n",
       "        var display = window.getComputedStyle(gd).display;\n",
       "        if (!display || display === 'none') {{\n",
       "            console.log([gd, 'removed!']);\n",
       "            Plotly.purge(gd);\n",
       "            observer.disconnect();\n",
       "        }}\n",
       "}});\n",
       "\n",
       "// Listen for the removal of the full notebook cells\n",
       "var notebookContainer = gd.closest('#notebook-container');\n",
       "if (notebookContainer) {{\n",
       "    x.observe(notebookContainer, {childList: true});\n",
       "}}\n",
       "\n",
       "// Listen for the clearing of the current output cell\n",
       "var outputEl = gd.closest('.output');\n",
       "if (outputEl) {{\n",
       "    x.observe(outputEl, {childList: true});\n",
       "}}\n",
       "\n",
       "                        })\n",
       "                };\n",
       "                });\n",
       "            </script>\n",
       "        </div>"
      ]
     },
     "metadata": {},
     "output_type": "display_data"
    }
   ],
   "source": [
    "axis = dict(showline=False, # hide axis line, grid, ticklabels and  title\n",
    "            zeroline=False,\n",
    "            showgrid=False,\n",
    "            showticklabels=False,\n",
    "            )\n",
    "\n",
    "fig.update_layout(title= 'Hypernym-Hyponym-Meronym Tree',\n",
    "              annotations=make_annotations(position, labels),\n",
    "              font_size=12,\n",
    "              showlegend=False,\n",
    "              xaxis=axis,\n",
    "              yaxis=axis,\n",
    "              margin=dict(l=40, r=40, b=85, t=100),\n",
    "              hovermode='closest',\n",
    "              plot_bgcolor='rgb(248,248,248)'\n",
    "              )\n",
    "fig.show()"
   ]
  },
  {
   "cell_type": "code",
   "execution_count": 401,
   "metadata": {},
   "outputs": [
    {
     "data": {
      "text/plain": [
       "{'eat': {'hyponyms': ['evening'],\n",
       "  'meronyms': ['sunday', 'morning', 'saturday']},\n",
       " 'hour': {'hyponyms': ['night', 'rag', 'evening'],\n",
       "  'meronyms': ['weekend', 'morning', 'evening']}}"
      ]
     },
     "execution_count": 401,
     "metadata": {},
     "output_type": "execute_result"
    }
   ],
   "source": [
    "hypo_mero_map"
   ]
  },
  {
   "cell_type": "code",
   "execution_count": null,
   "metadata": {},
   "outputs": [],
   "source": []
  },
  {
   "cell_type": "code",
   "execution_count": null,
   "metadata": {},
   "outputs": [],
   "source": []
  }
 ],
 "metadata": {
  "kernelspec": {
   "display_name": "Python 3",
   "language": "python",
   "name": "python3"
  },
  "language_info": {
   "codemirror_mode": {
    "name": "ipython",
    "version": 3
   },
   "file_extension": ".py",
   "mimetype": "text/x-python",
   "name": "python",
   "nbconvert_exporter": "python",
   "pygments_lexer": "ipython3",
   "version": "3.6.10"
  }
 },
 "nbformat": 4,
 "nbformat_minor": 4
}
