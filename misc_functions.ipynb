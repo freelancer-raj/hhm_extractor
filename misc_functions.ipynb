{
 "cells": [
  {
   "cell_type": "code",
   "execution_count": null,
   "metadata": {},
   "outputs": [],
   "source": [
    "!pip freeze > requirements.txt"
   ]
  },
  {
   "cell_type": "code",
   "execution_count": 1,
   "metadata": {},
   "outputs": [],
   "source": [
    "import spacy\n",
    "import os\n",
    "import pandas as pd\n",
    "from spacy_wordnet.wordnet_annotator import WordnetAnnotator \n",
    "from collections import defaultdict\n",
    "import ast\n",
    "from tqdm import tqdm"
   ]
  },
  {
   "cell_type": "markdown",
   "metadata": {},
   "source": [
    "###### Constants"
   ]
  },
  {
   "cell_type": "code",
   "execution_count": null,
   "metadata": {},
   "outputs": [],
   "source": [
    "window = 15"
   ]
  },
  {
   "cell_type": "code",
   "execution_count": null,
   "metadata": {},
   "outputs": [],
   "source": []
  },
  {
   "cell_type": "code",
   "execution_count": null,
   "metadata": {},
   "outputs": [],
   "source": [
    "data_directory = os.path.join(os.getcwd(), \"data\")\n",
    "corpus_fpath = os.path.join(data_directory, \"corpus.txt\")\n",
    "out_file = os.path.join(data_directory, \"noun_context_corpus.txt\")"
   ]
  },
  {
   "cell_type": "code",
   "execution_count": null,
   "metadata": {},
   "outputs": [],
   "source": [
    "with open(corpus_fpath, \"r\") as f:\n",
    "    corpus_data = f.readlines()\n"
   ]
  },
  {
   "cell_type": "code",
   "execution_count": null,
   "metadata": {},
   "outputs": [],
   "source": [
    "with open(out_file, \"w\") as f:\n",
    "    for txt_line in corpus_data:\n",
    "        nlp_data = nlp(txt_line.replace(\"\\n\", \"\"))\n",
    "        max_tokens = len(nlp_data)\n",
    "        for i, tok in enumerate(nlp_data):\n",
    "            if \"NN\" in tok.tag_:\n",
    "                start = max(0, i-window)\n",
    "                end = min(i+window, max_tokens)\n",
    "                left_context = [t.text for t in nlp_data[start:i]]\n",
    "                right_context = [t.text for t in nlp_data[i:end]]\n",
    "                noun_in_context = \" \".join(left_context + right_context)\n",
    "                f.write(f\"{tok.text} - {noun_in_context}\\n\")"
   ]
  },
  {
   "cell_type": "code",
   "execution_count": null,
   "metadata": {},
   "outputs": [],
   "source": [
    "nlp_data[2]"
   ]
  },
  {
   "cell_type": "code",
   "execution_count": null,
   "metadata": {},
   "outputs": [],
   "source": [
    "def prepare_corpus_data_with_context(corpus_filepath, window=5, force_update=False):\n",
    "    nlp = spacy.load('en')\n",
    "    with open(corpus_fpath, \"r\") as f:\n",
    "        corpus_data = f.readlines()\n",
    "    out_file = os.path.join(os.path.dirname(corpus_fpath), f\"window_{window}_context_corpus.txt\")\n",
    "    contextual_data = []\n",
    "    if os.path.exists(out_file) and (not force_update):\n",
    "        print(\"Found preexisting file. Loading context data from file\")\n",
    "        with open(out_file, \"r\") as f:\n",
    "            contextual_data = f.readlines()\n",
    "    else:\n",
    "        print(\"No pre created corpus found, or force update flag is true. Generating contextual data from corpus\")\n",
    "        with open(out_file, \"w\") as f:\n",
    "            for txt_line in corpus_data:\n",
    "                nlp_data = nlp(txt_line.replace(\"\\n\", \"\"))\n",
    "                max_tokens = len(nlp_data)\n",
    "                for i, tok in enumerate(nlp_data):\n",
    "                    if \"NN\" in tok.tag_:\n",
    "                        start = max(0, i-window)\n",
    "                        end = min(i+window, max_tokens)\n",
    "                        left_context = [t.text for t in nlp_data[start:i]] + [f\"<{tok.text}>\"]\n",
    "                        right_context = [t.text for t in nlp_data[i+1:end]]\n",
    "                        noun_in_context = f\"<{tok.text}> - {' '.join(left_context + right_context)}\"\n",
    "                        contextual_data.append(noun_in_context)\n",
    "                        f.write(noun_in_context + \"\\n\")\n",
    "    return contextual_data\n"
   ]
  },
  {
   "cell_type": "code",
   "execution_count": null,
   "metadata": {},
   "outputs": [],
   "source": [
    "contextual_data = prepare_corpus_data_with_context(corpus_fpath, window, force_update=True)"
   ]
  },
  {
   "cell_type": "code",
   "execution_count": null,
   "metadata": {},
   "outputs": [],
   "source": [
    "contextual_data"
   ]
  },
  {
   "cell_type": "code",
   "execution_count": null,
   "metadata": {},
   "outputs": [],
   "source": [
    "def get_sense_group_from_corpus(context_data, wsd_model, sense_vectors, output_file):\n",
    "    output = {\n",
    "        \"word\": [],\n",
    "        \"context\": [],\n",
    "        \"sense_id\": [],\n",
    "        \"sense_group_name\": [],\n",
    "        \"sense_group_num\": [],\n",
    "        \"sense_probability\": [],\n",
    "        \"related_senses\": []\n",
    "    }\n",
    "    \n",
    "    for row in context_data:\n",
    "        word, ctx = row.split(' - ')\n",
    "        sense_id, sense_probs = wsd_model.disambiguate(corpus_data, test_word)\n",
    "        sense_probability = max(sense_probs)\n",
    "        sense_group_name, sense_group_num = sense_id.split(\"#\")\n",
    "        related_senses = [r_senseid for r_senseid,_ in sense_vectors.wv.most_similar(sense_id)]\n",
    "        related_senses_l2 = [r_senseid for r_senseid,_ in sense_vectors.wv.most_similar(related_sense) for related_sense in related_senses]\n",
    "        output[\"word\"].append(word)\n",
    "        output[\"context\"].append(ctx)\n",
    "        output[\"sense_id\"].append(sense_id)\n",
    "        output[\"sense_group_name\"].append(sense_group_name)\n",
    "        output[\"sense_group_num\"].append(sense_group_num)\n",
    "        output[\"sense_probability\"].append(sense_probability)\n",
    "        output[\"related_senses\"].append(related_senses+related_senses_l2)\n",
    "    \n",
    "    output_df = pd.DataFrame(output)\n",
    "    output_df.to_csv(output_file, index=False)\n",
    "    \n",
    "    return output_df"
   ]
  },
  {
   "cell_type": "code",
   "execution_count": null,
   "metadata": {},
   "outputs": [],
   "source": [
    "import nltk\n",
    "nltk.download('wordnet')\n",
    "from nltk.corpus import wordnet as wn"
   ]
  },
  {
   "cell_type": "code",
   "execution_count": null,
   "metadata": {},
   "outputs": [],
   "source": [
    "nlp = spacy.load(\"en\")\n",
    "nlp.add_pipe(WordnetAnnotator(nlp.lang), after='tagger')"
   ]
  },
  {
   "cell_type": "code",
   "execution_count": null,
   "metadata": {},
   "outputs": [],
   "source": [
    "token = nlp('prices')[0]"
   ]
  },
  {
   "cell_type": "code",
   "execution_count": null,
   "metadata": {},
   "outputs": [],
   "source": [
    "token._.wordnet.synsets()[0].hyponyms()"
   ]
  },
  {
   "cell_type": "code",
   "execution_count": null,
   "metadata": {},
   "outputs": [],
   "source": [
    "token._.wordnet.synsets()[0].part_meronyms()  "
   ]
  },
  {
   "cell_type": "markdown",
   "metadata": {},
   "source": [
    "#### HHM Algo - \n",
    "\n",
    "###### For hypernym extraction\n",
    "1. Create empty dict of hypernyms  -   \n",
    "    ```\n",
    "    {\n",
    "\t\"word_num\": [{\n",
    "\t\t\"hypernym_1\": {\n",
    "\t\t\t\"rev_map\": {\n",
    "\t\t\t\t\"direct\": [{\n",
    "\t\t\t\t\t\"sense_id\": synset_object\n",
    "\t\t\t\t}],\n",
    "\t\t\t\t\"L1\": [{}],\n",
    "\t\t\t\t\"L2\": [{}]\n",
    "\t\t\t},\n",
    "\t\t\t\"weight\": num\n",
    "\t\t},\n",
    "\t\t\"hypernym_2\": {}\n",
    "\t}]}\n",
    "    ```\n",
    "- For each word in data \n",
    "    - extract hypernym from synset mappings for word#number - Highest weight(8)\n",
    "    - extract hypernym for all other synset mappings(5)\n",
    "    - For each related word level 1 \n",
    "        - Extract hypernym for word#number - weight(3)\n",
    "        - Extract hypernym for all others - weight(2)\n",
    "    - For each related word level 2\n",
    "        - Extract hypernym for word#number - weight(1)\n",
    "        - Extract hypernym for all others - weight(0.5)\n",
    "    - Keep adding the hypernym weight to the right key. \n",
    "    - Identify the right hypernym - One with highest weight and present in data, else next highest, and so on.\n",
    "    - maintain a reverse map for each hypernym(for hyponymy calculation)\n",
    "\n",
    "##### For hyponymy\n",
    "1. Initialize dict for hyponyms - ```{word: [hyponym1, hyponym2, ...]}```\n",
    "- Use rev map created in previous step to identify hyponyms of the noun under consideration.\n",
    "- For each entry in rev_map, get hyponyms from the synset object. Maintain the direct, L1, L2 structure.\n",
    "- Extract and preserve hyponyms that exist in the data\n",
    "\n",
    "##### For meronymy\n",
    "1. Use hypernymy-hyponymy relation to create a tree structure. \n",
    "2. For each level of the tree, identify meronyms for each node, and preserve common meronyms, that are also present in the data."
   ]
  },
  {
   "cell_type": "markdown",
   "metadata": {},
   "source": [
    "#### Hypernymy extractor"
   ]
  },
  {
   "cell_type": "code",
   "execution_count": null,
   "metadata": {},
   "outputs": [],
   "source": [
    "weights = {\n",
    "    \"direct_match\": 8,\n",
    "    \"direct_nomatch\": 5,\n",
    "    \"l1_match\": 3,\n",
    "    \"l1_nomatch\": 2,\n",
    "    \"l2_match\": 1,\n",
    "    \"l2_nomatch\": 0.5,\n",
    "}"
   ]
  },
  {
   "cell_type": "code",
   "execution_count": null,
   "metadata": {},
   "outputs": [],
   "source": [
    "import spacy\n",
    "import os\n",
    "import pandas as pd\n",
    "from spacy_wordnet.wordnet_annotator import WordnetAnnotator \n",
    "\n",
    "nlp = spacy.load(\"en\")\n",
    "nlp.add_pipe(WordnetAnnotator(nlp.lang), after='tagger')\n",
    "\n",
    "\n",
    "df = pd.read_csv(\"corpus_sense_mapping.csv\")\n",
    "df.head(n=20)"
   ]
  },
  {
   "cell_type": "code",
   "execution_count": null,
   "metadata": {},
   "outputs": [],
   "source": [
    "def generate_hypernymy(word, idx, hypernymy_dict, level=\"l1\"):\n",
    "    token = nlp(str(word))[0]\n",
    "    synsets = token._.wordnet.synsets()\n",
    "    for syn in synsets:\n",
    "        if syn.name().split(\".n.\")[0] == word and int(syn.name().split(\".n.\")[1]) == idx:\n",
    "            match_str = \"match\"\n",
    "        else:\n",
    "            match_str = \"nomatch\"\n",
    "\n",
    "        hypernym_syn = syn.hypernyms()\n",
    "        hyponym_syn = syn.hyponyms()\n",
    "        meronym_syn = syn.part_meronyms()\n",
    "        if len(hypernym_syn) >0:\n",
    "            hypernym = hypernym_syn[0].name().split('.')[0]\n",
    "            rev_map = {\n",
    "                f\"{word}#{idx}\":syn,\n",
    "                \"hyponyms\": [hyp.name().split(\".\")[0] for hyp in hyponym_syn],\n",
    "                \"meronyms\": [mero.name().split(\".\")[0] for mero in meronym_syn]\n",
    "            }\n",
    "            if level in hypernymy_dict[hypernym][\"rev_map\"]:\n",
    "                hypernymy_dict[hypernym][\"rev_map\"][level].append(rev_map) \n",
    "            else:\n",
    "                hypernymy_dict[hypernym][\"rev_map\"][level] = [rev_map]\n",
    "\n",
    "            if \"sum_weight\" in hypernymy_dict[hypernym]:\n",
    "                hypernymy_dict[hypernym][\"sum_weight\"] += weights[f\"{level}_{match_str}\"]\n",
    "            else:\n",
    "                hypernymy_dict[hypernym][\"sum_weight\"] = weights[f\"{level}_{match_str}\"]"
   ]
  },
  {
   "cell_type": "code",
   "execution_count": null,
   "metadata": {},
   "outputs": [],
   "source": [
    "def extract_hyponyms_meronym(hypernymy_dict, hypernym, kind=\"hyponyms\"):\n",
    "    nym = []\n",
    "    reverse_map = hypernymy_dict[hypernym]['rev_map']\n",
    "    extract_from = []\n",
    "    if \"direct\" in reverse_map:\n",
    "        extract_from.append(\"direct\")\n",
    "    if \"l1\" in reverse_map:\n",
    "        extract_from.append(\"l1\")\n",
    "    \n",
    "    for relation in extract_from:\n",
    "        num_relations = len(reverse_map[relation])\n",
    "        for i in range(num_relations):\n",
    "            nym += reverse_map[relation][i][kind]\n",
    "            \n",
    "    return list(set(nym))\n",
    "            "
   ]
  },
  {
   "cell_type": "code",
   "execution_count": null,
   "metadata": {},
   "outputs": [],
   "source": [
    "all_hypernymy = []\n",
    "all_hhm_map = []\n",
    "all_hyponyms = []\n",
    "all_meronyms = []\n",
    "num_words = len(df)\n",
    "for _, row in tqdm(df[[\"sense_group_name\", \"sense_group_num\", \"related_senses\"]].iterrows(), total=num_words):\n",
    "    word, idx, r_senses = row\n",
    "    \n",
    "    hypernymy_dict = defaultdict(lambda: defaultdict(dict))\n",
    "    generate_hypernymy(word, idx, hypernymy_dict, level=\"direct\")\n",
    "    r_senses_list = ast.literal_eval(r_senses)\n",
    "    for w in r_senses_list:\n",
    "        related_word, related_idx = str(w).split(\"#\")\n",
    "        generate_hypernymy(related_word, related_idx, hypernymy_dict)\n",
    "    if len(hypernymy_dict)>0:\n",
    "        hypernymy_dict_sorted = {k: v for k, v in sorted(hypernymy_dict.items(), key=lambda item: item[1]['sum_weight'], reverse=True)}\n",
    "        hypernym_name = list(hypernymy_dict_sorted.keys())[0]\n",
    "        \n",
    "        hyponyms = extract_hyponyms_meronym(hypernymy_dict_sorted, hypernym_name, kind=\"hyponyms\")\n",
    "        meronyms = extract_hyponyms_meronym(hypernymy_dict_sorted, hypernym_name, kind=\"meronyms\")\n",
    "        \n",
    "        all_hypernyms.append(hypernym_name)\n",
    "        all_hyponyms.append(hyponyms)\n",
    "        all_meronyms.append(meronyms)\n",
    "        all_hhm_map.append(hypernymy_dict_sorted)\n",
    "    else:\n",
    "        all_hypernyms.append(\"--NA--\")\n",
    "        all_hyponyms.append(\"--NA--\")\n",
    "        all_meronyms.append(\"--NA--\")\n",
    "        all_hhm_map.append(hypernymy_dict)"
   ]
  },
  {
   "cell_type": "code",
   "execution_count": null,
   "metadata": {},
   "outputs": [],
   "source": [
    "extract_hyponyms_meronym(all_hhm_map[0], 'sanskrit', kind=\"hyponyms\")"
   ]
  },
  {
   "cell_type": "code",
   "execution_count": null,
   "metadata": {},
   "outputs": [],
   "source": [
    "all_meronyms"
   ]
  },
  {
   "cell_type": "markdown",
   "metadata": {},
   "source": [
    "#### Hyponymy"
   ]
  },
  {
   "cell_type": "code",
   "execution_count": null,
   "metadata": {
    "scrolled": true
   },
   "outputs": [],
   "source": [
    "num_vals = len(all_hypernymy[2][all_hypernyms[2]][\"rev_map\"][\"direct\"])\n",
    "hyponyms = []\n",
    "meronyms = []\n",
    "for i in range(0,num_vals):\n",
    "    print(list(all_hypernymy[2][all_hypernyms[2]][\"rev_map\"][\"direct\"][i].values())[0].part_meronyms())"
   ]
  },
  {
   "cell_type": "code",
   "execution_count": null,
   "metadata": {},
   "outputs": [],
   "source": [
    "num_vals2 = len(all_hypernymy[0][all_hypernyms[0]][\"rev_map\"][\"l1\"])\n",
    "for i in range(0,num_vals2):\n",
    "    print(list(all_hypernymy[0][all_hypernyms[0]][\"rev_map\"][\"l1\"][i].values())[0].part_meronyms())"
   ]
  },
  {
   "cell_type": "markdown",
   "metadata": {},
   "source": [
    "#### Graph"
   ]
  },
  {
   "cell_type": "code",
   "execution_count": 2,
   "metadata": {},
   "outputs": [],
   "source": [
    "hhm_mappings_file = os.path.join(\"hhm_mappings.csv\")\n",
    "sense_group_dataframe = pd.read_csv(hhm_mappings_file)"
   ]
  },
  {
   "cell_type": "code",
   "execution_count": 3,
   "metadata": {},
   "outputs": [],
   "source": [
    "word = \"day\"\n",
    "\n",
    "subset_df = sense_group_dataframe[sense_group_dataframe[\"sense_group_name\"]==word]"
   ]
  },
  {
   "cell_type": "code",
   "execution_count": 4,
   "metadata": {},
   "outputs": [
    {
     "data": {
      "text/html": [
       "<div>\n",
       "<style scoped>\n",
       "    .dataframe tbody tr th:only-of-type {\n",
       "        vertical-align: middle;\n",
       "    }\n",
       "\n",
       "    .dataframe tbody tr th {\n",
       "        vertical-align: top;\n",
       "    }\n",
       "\n",
       "    .dataframe thead th {\n",
       "        text-align: right;\n",
       "    }\n",
       "</style>\n",
       "<table border=\"1\" class=\"dataframe\">\n",
       "  <thead>\n",
       "    <tr style=\"text-align: right;\">\n",
       "      <th></th>\n",
       "      <th>Unnamed: 0</th>\n",
       "      <th>word</th>\n",
       "      <th>context</th>\n",
       "      <th>sense_id</th>\n",
       "      <th>sense_group_name</th>\n",
       "      <th>sense_group_num</th>\n",
       "      <th>sense_probability</th>\n",
       "      <th>related_senses</th>\n",
       "      <th>hhm_map</th>\n",
       "      <th>hypernym</th>\n",
       "      <th>hyponym</th>\n",
       "      <th>meronym</th>\n",
       "      <th>hypernym_from_corpus</th>\n",
       "      <th>hyponym_from_corpus</th>\n",
       "      <th>meronym_from_corpus</th>\n",
       "    </tr>\n",
       "  </thead>\n",
       "  <tbody>\n",
       "    <tr>\n",
       "      <th>29</th>\n",
       "      <td>29</td>\n",
       "      <td>&lt;day&gt;</td>\n",
       "      <td>this is a big &lt;day&gt; last day Ill ever put on m...</td>\n",
       "      <td>day#3</td>\n",
       "      <td>day</td>\n",
       "      <td>3</td>\n",
       "      <td>0.999606</td>\n",
       "      <td>['DAY#3', 'SESSION#4', 'Session#4', 'session#5...</td>\n",
       "      <td>{'time_period': defaultdict(&lt;class 'dict'&gt;, {'...</td>\n",
       "      <td>time_period</td>\n",
       "      <td>['week_from_monday', 'wedding_night', 'lunar_d...</td>\n",
       "      <td>['late-night_hour', 'midweek', 'day_of_the_wee...</td>\n",
       "      <td>hour</td>\n",
       "      <td>['evening', 'rag', 'night']</td>\n",
       "      <td>['weekend', 'evening', 'morning']</td>\n",
       "    </tr>\n",
       "    <tr>\n",
       "      <th>30</th>\n",
       "      <td>30</td>\n",
       "      <td>&lt;day&gt;</td>\n",
       "      <td>this is a big day last &lt;day&gt; Ill ever put on m...</td>\n",
       "      <td>day#3</td>\n",
       "      <td>day</td>\n",
       "      <td>3</td>\n",
       "      <td>0.999606</td>\n",
       "      <td>['DAY#3', 'SESSION#4', 'Session#4', 'session#5...</td>\n",
       "      <td>{'time_period': defaultdict(&lt;class 'dict'&gt;, {'...</td>\n",
       "      <td>time_period</td>\n",
       "      <td>['week_from_monday', 'wedding_night', 'lunar_d...</td>\n",
       "      <td>['late-night_hour', 'midweek', 'day_of_the_wee...</td>\n",
       "      <td>hour</td>\n",
       "      <td>['evening', 'rag', 'night']</td>\n",
       "      <td>['weekend', 'evening', 'morning']</td>\n",
       "    </tr>\n",
       "    <tr>\n",
       "      <th>32</th>\n",
       "      <td>32</td>\n",
       "      <td>&lt;day&gt;</td>\n",
       "      <td>this is a big day last day Ill ever put on my ...</td>\n",
       "      <td>day#3</td>\n",
       "      <td>day</td>\n",
       "      <td>3</td>\n",
       "      <td>0.737632</td>\n",
       "      <td>['DAY#3', 'SESSION#4', 'Session#4', 'session#5...</td>\n",
       "      <td>{'time_period': defaultdict(&lt;class 'dict'&gt;, {'...</td>\n",
       "      <td>time_period</td>\n",
       "      <td>['week_from_monday', 'wedding_night', 'lunar_d...</td>\n",
       "      <td>['late-night_hour', 'midweek', 'day_of_the_wee...</td>\n",
       "      <td>hour</td>\n",
       "      <td>['evening', 'rag', 'night']</td>\n",
       "      <td>['weekend', 'evening', 'morning']</td>\n",
       "    </tr>\n",
       "    <tr>\n",
       "      <th>34</th>\n",
       "      <td>34</td>\n",
       "      <td>&lt;day&gt;</td>\n",
       "      <td>last day Ill ever put on my leotard last day o...</td>\n",
       "      <td>day#3</td>\n",
       "      <td>day</td>\n",
       "      <td>3</td>\n",
       "      <td>0.737632</td>\n",
       "      <td>['DAY#3', 'SESSION#4', 'Session#4', 'session#5...</td>\n",
       "      <td>{'time_period': defaultdict(&lt;class 'dict'&gt;, {'...</td>\n",
       "      <td>time_period</td>\n",
       "      <td>['week_from_monday', 'wedding_night', 'lunar_d...</td>\n",
       "      <td>['late-night_hour', 'midweek', 'day_of_the_wee...</td>\n",
       "      <td>hour</td>\n",
       "      <td>['evening', 'rag', 'night']</td>\n",
       "      <td>['weekend', 'evening', 'morning']</td>\n",
       "    </tr>\n",
       "    <tr>\n",
       "      <th>196</th>\n",
       "      <td>196</td>\n",
       "      <td>&lt;day&gt;</td>\n",
       "      <td>I ve been in bed all &lt;day&gt;\\n</td>\n",
       "      <td>day#3</td>\n",
       "      <td>day</td>\n",
       "      <td>3</td>\n",
       "      <td>0.972958</td>\n",
       "      <td>['DAY#3', 'SESSION#4', 'Session#4', 'session#5...</td>\n",
       "      <td>{'time_period': defaultdict(&lt;class 'dict'&gt;, {'...</td>\n",
       "      <td>time_period</td>\n",
       "      <td>['week_from_monday', 'wedding_night', 'lunar_d...</td>\n",
       "      <td>['late-night_hour', 'midweek', 'day_of_the_wee...</td>\n",
       "      <td>hour</td>\n",
       "      <td>['evening', 'rag', 'night']</td>\n",
       "      <td>['weekend', 'evening', 'morning']</td>\n",
       "    </tr>\n",
       "    <tr>\n",
       "      <th>322</th>\n",
       "      <td>322</td>\n",
       "      <td>&lt;day&gt;</td>\n",
       "      <td>happy fathers &lt;day&gt; to mr chalkley I was gon n...</td>\n",
       "      <td>day#3</td>\n",
       "      <td>day</td>\n",
       "      <td>3</td>\n",
       "      <td>0.662118</td>\n",
       "      <td>['DAY#3', 'SESSION#4', 'Session#4', 'session#5...</td>\n",
       "      <td>{'time_period': defaultdict(&lt;class 'dict'&gt;, {'...</td>\n",
       "      <td>time_period</td>\n",
       "      <td>['week_from_monday', 'wedding_night', 'lunar_d...</td>\n",
       "      <td>['late-night_hour', 'midweek', 'day_of_the_wee...</td>\n",
       "      <td>hour</td>\n",
       "      <td>['evening', 'rag', 'night']</td>\n",
       "      <td>['weekend', 'evening', 'morning']</td>\n",
       "    </tr>\n",
       "    <tr>\n",
       "      <th>334</th>\n",
       "      <td>334</td>\n",
       "      <td>&lt;day&gt;</td>\n",
       "      <td>with do I actually have to do I d be here all ...</td>\n",
       "      <td>day#3</td>\n",
       "      <td>day</td>\n",
       "      <td>3</td>\n",
       "      <td>0.795181</td>\n",
       "      <td>['DAY#3', 'SESSION#4', 'Session#4', 'session#5...</td>\n",
       "      <td>{'time_period': defaultdict(&lt;class 'dict'&gt;, {'...</td>\n",
       "      <td>time_period</td>\n",
       "      <td>['week_from_monday', 'wedding_night', 'lunar_d...</td>\n",
       "      <td>['late-night_hour', 'midweek', 'day_of_the_wee...</td>\n",
       "      <td>hour</td>\n",
       "      <td>['evening', 'rag', 'night']</td>\n",
       "      <td>['weekend', 'evening', 'morning']</td>\n",
       "    </tr>\n",
       "    <tr>\n",
       "      <th>363</th>\n",
       "      <td>363</td>\n",
       "      <td>&lt;day&gt;</td>\n",
       "      <td>I suppose I better do something with my &lt;day&gt; ...</td>\n",
       "      <td>day#3</td>\n",
       "      <td>day</td>\n",
       "      <td>3</td>\n",
       "      <td>0.891535</td>\n",
       "      <td>['DAY#3', 'SESSION#4', 'Session#4', 'session#5...</td>\n",
       "      <td>{'time_period': defaultdict(&lt;class 'dict'&gt;, {'...</td>\n",
       "      <td>time_period</td>\n",
       "      <td>['week_from_monday', 'wedding_night', 'lunar_d...</td>\n",
       "      <td>['late-night_hour', 'midweek', 'day_of_the_wee...</td>\n",
       "      <td>hour</td>\n",
       "      <td>['evening', 'rag', 'night']</td>\n",
       "      <td>['weekend', 'evening', 'morning']</td>\n",
       "    </tr>\n",
       "    <tr>\n",
       "      <th>449</th>\n",
       "      <td>449</td>\n",
       "      <td>&lt;day&gt;</td>\n",
       "      <td>one &lt;day&gt; in uni another long weekend\\n</td>\n",
       "      <td>day#3</td>\n",
       "      <td>day</td>\n",
       "      <td>3</td>\n",
       "      <td>0.941290</td>\n",
       "      <td>['DAY#3', 'SESSION#4', 'Session#4', 'session#5...</td>\n",
       "      <td>{'time_period': defaultdict(&lt;class 'dict'&gt;, {'...</td>\n",
       "      <td>time_period</td>\n",
       "      <td>['week_from_monday', 'wedding_night', 'lunar_d...</td>\n",
       "      <td>['late-night_hour', 'midweek', 'day_of_the_wee...</td>\n",
       "      <td>hour</td>\n",
       "      <td>['evening', 'rag', 'night']</td>\n",
       "      <td>['weekend', 'evening', 'morning']</td>\n",
       "    </tr>\n",
       "    <tr>\n",
       "      <th>455</th>\n",
       "      <td>455</td>\n",
       "      <td>&lt;day&gt;</td>\n",
       "      <td>wicked sticks what &lt;day&gt; are you movingSmile\\n</td>\n",
       "      <td>day#3</td>\n",
       "      <td>day</td>\n",
       "      <td>3</td>\n",
       "      <td>0.712711</td>\n",
       "      <td>['DAY#3', 'SESSION#4', 'Session#4', 'session#5...</td>\n",
       "      <td>{'time_period': defaultdict(&lt;class 'dict'&gt;, {'...</td>\n",
       "      <td>time_period</td>\n",
       "      <td>['week_from_monday', 'wedding_night', 'lunar_d...</td>\n",
       "      <td>['late-night_hour', 'midweek', 'day_of_the_wee...</td>\n",
       "      <td>hour</td>\n",
       "      <td>['evening', 'rag', 'night']</td>\n",
       "      <td>['weekend', 'evening', 'morning']</td>\n",
       "    </tr>\n",
       "    <tr>\n",
       "      <th>484</th>\n",
       "      <td>484</td>\n",
       "      <td>&lt;day&gt;</td>\n",
       "      <td>you lot are making me smile after a very long ...</td>\n",
       "      <td>day#3</td>\n",
       "      <td>day</td>\n",
       "      <td>3</td>\n",
       "      <td>0.987598</td>\n",
       "      <td>['DAY#3', 'SESSION#4', 'Session#4', 'session#5...</td>\n",
       "      <td>{'time_period': defaultdict(&lt;class 'dict'&gt;, {'...</td>\n",
       "      <td>time_period</td>\n",
       "      <td>['week_from_monday', 'wedding_night', 'lunar_d...</td>\n",
       "      <td>['late-night_hour', 'midweek', 'day_of_the_wee...</td>\n",
       "      <td>hour</td>\n",
       "      <td>['evening', 'rag', 'night']</td>\n",
       "      <td>['weekend', 'evening', 'morning']</td>\n",
       "    </tr>\n",
       "    <tr>\n",
       "      <th>530</th>\n",
       "      <td>530</td>\n",
       "      <td>&lt;day&gt;</td>\n",
       "      <td>nice to see a productive &lt;day&gt; of essay writin...</td>\n",
       "      <td>day#4</td>\n",
       "      <td>day</td>\n",
       "      <td>4</td>\n",
       "      <td>0.778570</td>\n",
       "      <td>['DAY#4', 'Fan_Appreciation#1', 'reunion#3', '...</td>\n",
       "      <td>{'time_period': defaultdict(&lt;class 'dict'&gt;, {'...</td>\n",
       "      <td>time_period</td>\n",
       "      <td>['evening', 'afternoon', 'lunar_day', 'midafte...</td>\n",
       "      <td>['morning', 'sunday', 'saturday']</td>\n",
       "      <td>eat</td>\n",
       "      <td>['evening']</td>\n",
       "      <td>['morning', 'sunday', 'saturday']</td>\n",
       "    </tr>\n",
       "    <tr>\n",
       "      <th>587</th>\n",
       "      <td>587</td>\n",
       "      <td>&lt;day&gt;</td>\n",
       "      <td>been awake for minutes I will continue to be a...</td>\n",
       "      <td>day#3</td>\n",
       "      <td>day</td>\n",
       "      <td>3</td>\n",
       "      <td>0.999400</td>\n",
       "      <td>['DAY#3', 'SESSION#4', 'Session#4', 'session#5...</td>\n",
       "      <td>{'time_period': defaultdict(&lt;class 'dict'&gt;, {'...</td>\n",
       "      <td>time_period</td>\n",
       "      <td>['week_from_monday', 'wedding_night', 'lunar_d...</td>\n",
       "      <td>['late-night_hour', 'midweek', 'day_of_the_wee...</td>\n",
       "      <td>hour</td>\n",
       "      <td>['evening', 'rag', 'night']</td>\n",
       "      <td>['weekend', 'evening', 'morning']</td>\n",
       "    </tr>\n",
       "    <tr>\n",
       "      <th>707</th>\n",
       "      <td>707</td>\n",
       "      <td>&lt;day&gt;</td>\n",
       "      <td>&lt;day&gt; before show day woohoo\\n</td>\n",
       "      <td>day#3</td>\n",
       "      <td>day</td>\n",
       "      <td>3</td>\n",
       "      <td>0.999995</td>\n",
       "      <td>['DAY#3', 'SESSION#4', 'Session#4', 'session#5...</td>\n",
       "      <td>{'time_period': defaultdict(&lt;class 'dict'&gt;, {'...</td>\n",
       "      <td>time_period</td>\n",
       "      <td>['week_from_monday', 'wedding_night', 'lunar_d...</td>\n",
       "      <td>['late-night_hour', 'midweek', 'day_of_the_wee...</td>\n",
       "      <td>hour</td>\n",
       "      <td>['evening', 'rag', 'night']</td>\n",
       "      <td>['weekend', 'evening', 'morning']</td>\n",
       "    </tr>\n",
       "    <tr>\n",
       "      <th>709</th>\n",
       "      <td>709</td>\n",
       "      <td>&lt;day&gt;</td>\n",
       "      <td>day before show &lt;day&gt; woohoo\\n</td>\n",
       "      <td>day#3</td>\n",
       "      <td>day</td>\n",
       "      <td>3</td>\n",
       "      <td>0.999995</td>\n",
       "      <td>['DAY#3', 'SESSION#4', 'Session#4', 'session#5...</td>\n",
       "      <td>{'time_period': defaultdict(&lt;class 'dict'&gt;, {'...</td>\n",
       "      <td>time_period</td>\n",
       "      <td>['week_from_monday', 'wedding_night', 'lunar_d...</td>\n",
       "      <td>['late-night_hour', 'midweek', 'day_of_the_wee...</td>\n",
       "      <td>hour</td>\n",
       "      <td>['evening', 'rag', 'night']</td>\n",
       "      <td>['weekend', 'evening', 'morning']</td>\n",
       "    </tr>\n",
       "    <tr>\n",
       "      <th>823</th>\n",
       "      <td>823</td>\n",
       "      <td>&lt;day&gt;</td>\n",
       "      <td>&lt;day&gt; completely and utterly made by a very lo...</td>\n",
       "      <td>day#3</td>\n",
       "      <td>day</td>\n",
       "      <td>3</td>\n",
       "      <td>0.907649</td>\n",
       "      <td>['DAY#3', 'SESSION#4', 'Session#4', 'session#5...</td>\n",
       "      <td>{'time_period': defaultdict(&lt;class 'dict'&gt;, {'...</td>\n",
       "      <td>time_period</td>\n",
       "      <td>['week_from_monday', 'wedding_night', 'lunar_d...</td>\n",
       "      <td>['late-night_hour', 'midweek', 'day_of_the_wee...</td>\n",
       "      <td>hour</td>\n",
       "      <td>['evening', 'rag', 'night']</td>\n",
       "      <td>['weekend', 'evening', 'morning']</td>\n",
       "    </tr>\n",
       "    <tr>\n",
       "      <th>835</th>\n",
       "      <td>835</td>\n",
       "      <td>&lt;day&gt;</td>\n",
       "      <td>has had her &lt;day&gt; redeemed by her lovely house...</td>\n",
       "      <td>day#3</td>\n",
       "      <td>day</td>\n",
       "      <td>3</td>\n",
       "      <td>0.995853</td>\n",
       "      <td>['DAY#3', 'SESSION#4', 'Session#4', 'session#5...</td>\n",
       "      <td>{'time_period': defaultdict(&lt;class 'dict'&gt;, {'...</td>\n",
       "      <td>time_period</td>\n",
       "      <td>['week_from_monday', 'wedding_night', 'lunar_d...</td>\n",
       "      <td>['late-night_hour', 'midweek', 'day_of_the_wee...</td>\n",
       "      <td>hour</td>\n",
       "      <td>['evening', 'rag', 'night']</td>\n",
       "      <td>['weekend', 'evening', 'morning']</td>\n",
       "    </tr>\n",
       "    <tr>\n",
       "      <th>885</th>\n",
       "      <td>885</td>\n",
       "      <td>&lt;day&gt;</td>\n",
       "      <td>infuriating how I have a long days off to rest...</td>\n",
       "      <td>day#3</td>\n",
       "      <td>day</td>\n",
       "      <td>3</td>\n",
       "      <td>0.999767</td>\n",
       "      <td>['DAY#3', 'SESSION#4', 'Session#4', 'session#5...</td>\n",
       "      <td>{'time_period': defaultdict(&lt;class 'dict'&gt;, {'...</td>\n",
       "      <td>time_period</td>\n",
       "      <td>['week_from_monday', 'wedding_night', 'lunar_d...</td>\n",
       "      <td>['late-night_hour', 'midweek', 'day_of_the_wee...</td>\n",
       "      <td>hour</td>\n",
       "      <td>['evening', 'rag', 'night']</td>\n",
       "      <td>['weekend', 'evening', 'morning']</td>\n",
       "    </tr>\n",
       "    <tr>\n",
       "      <th>904</th>\n",
       "      <td>904</td>\n",
       "      <td>&lt;day&gt;</td>\n",
       "      <td>bird walked back from station bird is struttin...</td>\n",
       "      <td>day#3</td>\n",
       "      <td>day</td>\n",
       "      <td>3</td>\n",
       "      <td>0.978405</td>\n",
       "      <td>['DAY#3', 'SESSION#4', 'Session#4', 'session#5...</td>\n",
       "      <td>{'time_period': defaultdict(&lt;class 'dict'&gt;, {'...</td>\n",
       "      <td>time_period</td>\n",
       "      <td>['week_from_monday', 'wedding_night', 'lunar_d...</td>\n",
       "      <td>['late-night_hour', 'midweek', 'day_of_the_wee...</td>\n",
       "      <td>hour</td>\n",
       "      <td>['evening', 'rag', 'night']</td>\n",
       "      <td>['weekend', 'evening', 'morning']</td>\n",
       "    </tr>\n",
       "    <tr>\n",
       "      <th>981</th>\n",
       "      <td>981</td>\n",
       "      <td>&lt;day&gt;</td>\n",
       "      <td>on an unrelated note I would sleep all &lt;day&gt; a...</td>\n",
       "      <td>day#3</td>\n",
       "      <td>day</td>\n",
       "      <td>3</td>\n",
       "      <td>0.968245</td>\n",
       "      <td>['DAY#3', 'SESSION#4', 'Session#4', 'session#5...</td>\n",
       "      <td>{'time_period': defaultdict(&lt;class 'dict'&gt;, {'...</td>\n",
       "      <td>time_period</td>\n",
       "      <td>['week_from_monday', 'wedding_night', 'lunar_d...</td>\n",
       "      <td>['late-night_hour', 'midweek', 'day_of_the_wee...</td>\n",
       "      <td>hour</td>\n",
       "      <td>['evening', 'rag', 'night']</td>\n",
       "      <td>['weekend', 'evening', 'morning']</td>\n",
       "    </tr>\n",
       "    <tr>\n",
       "      <th>1014</th>\n",
       "      <td>1014</td>\n",
       "      <td>&lt;day&gt;</td>\n",
       "      <td>very shit abstract I am stopping for the &lt;day&gt;\\n</td>\n",
       "      <td>day#3</td>\n",
       "      <td>day</td>\n",
       "      <td>3</td>\n",
       "      <td>0.787680</td>\n",
       "      <td>['DAY#3', 'SESSION#4', 'Session#4', 'session#5...</td>\n",
       "      <td>{'time_period': defaultdict(&lt;class 'dict'&gt;, {'...</td>\n",
       "      <td>time_period</td>\n",
       "      <td>['week_from_monday', 'wedding_night', 'lunar_d...</td>\n",
       "      <td>['late-night_hour', 'midweek', 'day_of_the_wee...</td>\n",
       "      <td>hour</td>\n",
       "      <td>['evening', 'rag', 'night']</td>\n",
       "      <td>['weekend', 'evening', 'morning']</td>\n",
       "    </tr>\n",
       "    <tr>\n",
       "      <th>1047</th>\n",
       "      <td>1047</td>\n",
       "      <td>&lt;day&gt;</td>\n",
       "      <td>my productive &lt;day&gt; has resulted in my housema...</td>\n",
       "      <td>day#3</td>\n",
       "      <td>day</td>\n",
       "      <td>3</td>\n",
       "      <td>0.969622</td>\n",
       "      <td>['DAY#3', 'SESSION#4', 'Session#4', 'session#5...</td>\n",
       "      <td>{'time_period': defaultdict(&lt;class 'dict'&gt;, {'...</td>\n",
       "      <td>time_period</td>\n",
       "      <td>['week_from_monday', 'wedding_night', 'lunar_d...</td>\n",
       "      <td>['late-night_hour', 'midweek', 'day_of_the_wee...</td>\n",
       "      <td>hour</td>\n",
       "      <td>['evening', 'rag', 'night']</td>\n",
       "      <td>['weekend', 'evening', 'morning']</td>\n",
       "    </tr>\n",
       "    <tr>\n",
       "      <th>1224</th>\n",
       "      <td>1224</td>\n",
       "      <td>&lt;day&gt;</td>\n",
       "      <td>aaw you re welcome poppet hope you had a good ...</td>\n",
       "      <td>day#3</td>\n",
       "      <td>day</td>\n",
       "      <td>3</td>\n",
       "      <td>0.853889</td>\n",
       "      <td>['DAY#3', 'SESSION#4', 'Session#4', 'session#5...</td>\n",
       "      <td>{'time_period': defaultdict(&lt;class 'dict'&gt;, {'...</td>\n",
       "      <td>time_period</td>\n",
       "      <td>['week_from_monday', 'wedding_night', 'lunar_d...</td>\n",
       "      <td>['late-night_hour', 'midweek', 'day_of_the_wee...</td>\n",
       "      <td>hour</td>\n",
       "      <td>['evening', 'rag', 'night']</td>\n",
       "      <td>['weekend', 'evening', 'morning']</td>\n",
       "    </tr>\n",
       "    <tr>\n",
       "      <th>1319</th>\n",
       "      <td>1319</td>\n",
       "      <td>&lt;day&gt;</td>\n",
       "      <td>good first &lt;day&gt; back at workpretty happy Smile\\n</td>\n",
       "      <td>day#3</td>\n",
       "      <td>day</td>\n",
       "      <td>3</td>\n",
       "      <td>0.955629</td>\n",
       "      <td>['DAY#3', 'SESSION#4', 'Session#4', 'session#5...</td>\n",
       "      <td>{'time_period': defaultdict(&lt;class 'dict'&gt;, {'...</td>\n",
       "      <td>time_period</td>\n",
       "      <td>['week_from_monday', 'wedding_night', 'lunar_d...</td>\n",
       "      <td>['late-night_hour', 'midweek', 'day_of_the_wee...</td>\n",
       "      <td>hour</td>\n",
       "      <td>['evening', 'rag', 'night']</td>\n",
       "      <td>['weekend', 'evening', 'morning']</td>\n",
       "    </tr>\n",
       "  </tbody>\n",
       "</table>\n",
       "</div>"
      ],
      "text/plain": [
       "      Unnamed: 0   word                                            context  \\\n",
       "29            29  <day>  this is a big <day> last day Ill ever put on m...   \n",
       "30            30  <day>  this is a big day last <day> Ill ever put on m...   \n",
       "32            32  <day>  this is a big day last day Ill ever put on my ...   \n",
       "34            34  <day>  last day Ill ever put on my leotard last day o...   \n",
       "196          196  <day>                       I ve been in bed all <day>\\n   \n",
       "322          322  <day>  happy fathers <day> to mr chalkley I was gon n...   \n",
       "334          334  <day>  with do I actually have to do I d be here all ...   \n",
       "363          363  <day>  I suppose I better do something with my <day> ...   \n",
       "449          449  <day>            one <day> in uni another long weekend\\n   \n",
       "455          455  <day>     wicked sticks what <day> are you movingSmile\\n   \n",
       "484          484  <day>  you lot are making me smile after a very long ...   \n",
       "530          530  <day>  nice to see a productive <day> of essay writin...   \n",
       "587          587  <day>  been awake for minutes I will continue to be a...   \n",
       "707          707  <day>                     <day> before show day woohoo\\n   \n",
       "709          709  <day>                     day before show <day> woohoo\\n   \n",
       "823          823  <day>  <day> completely and utterly made by a very lo...   \n",
       "835          835  <day>  has had her <day> redeemed by her lovely house...   \n",
       "885          885  <day>  infuriating how I have a long days off to rest...   \n",
       "904          904  <day>  bird walked back from station bird is struttin...   \n",
       "981          981  <day>  on an unrelated note I would sleep all <day> a...   \n",
       "1014        1014  <day>   very shit abstract I am stopping for the <day>\\n   \n",
       "1047        1047  <day>  my productive <day> has resulted in my housema...   \n",
       "1224        1224  <day>  aaw you re welcome poppet hope you had a good ...   \n",
       "1319        1319  <day>  good first <day> back at workpretty happy Smile\\n   \n",
       "\n",
       "     sense_id sense_group_name  sense_group_num  sense_probability  \\\n",
       "29      day#3              day                3           0.999606   \n",
       "30      day#3              day                3           0.999606   \n",
       "32      day#3              day                3           0.737632   \n",
       "34      day#3              day                3           0.737632   \n",
       "196     day#3              day                3           0.972958   \n",
       "322     day#3              day                3           0.662118   \n",
       "334     day#3              day                3           0.795181   \n",
       "363     day#3              day                3           0.891535   \n",
       "449     day#3              day                3           0.941290   \n",
       "455     day#3              day                3           0.712711   \n",
       "484     day#3              day                3           0.987598   \n",
       "530     day#4              day                4           0.778570   \n",
       "587     day#3              day                3           0.999400   \n",
       "707     day#3              day                3           0.999995   \n",
       "709     day#3              day                3           0.999995   \n",
       "823     day#3              day                3           0.907649   \n",
       "835     day#3              day                3           0.995853   \n",
       "885     day#3              day                3           0.999767   \n",
       "904     day#3              day                3           0.978405   \n",
       "981     day#3              day                3           0.968245   \n",
       "1014    day#3              day                3           0.787680   \n",
       "1047    day#3              day                3           0.969622   \n",
       "1224    day#3              day                3           0.853889   \n",
       "1319    day#3              day                3           0.955629   \n",
       "\n",
       "                                         related_senses  \\\n",
       "29    ['DAY#3', 'SESSION#4', 'Session#4', 'session#5...   \n",
       "30    ['DAY#3', 'SESSION#4', 'Session#4', 'session#5...   \n",
       "32    ['DAY#3', 'SESSION#4', 'Session#4', 'session#5...   \n",
       "34    ['DAY#3', 'SESSION#4', 'Session#4', 'session#5...   \n",
       "196   ['DAY#3', 'SESSION#4', 'Session#4', 'session#5...   \n",
       "322   ['DAY#3', 'SESSION#4', 'Session#4', 'session#5...   \n",
       "334   ['DAY#3', 'SESSION#4', 'Session#4', 'session#5...   \n",
       "363   ['DAY#3', 'SESSION#4', 'Session#4', 'session#5...   \n",
       "449   ['DAY#3', 'SESSION#4', 'Session#4', 'session#5...   \n",
       "455   ['DAY#3', 'SESSION#4', 'Session#4', 'session#5...   \n",
       "484   ['DAY#3', 'SESSION#4', 'Session#4', 'session#5...   \n",
       "530   ['DAY#4', 'Fan_Appreciation#1', 'reunion#3', '...   \n",
       "587   ['DAY#3', 'SESSION#4', 'Session#4', 'session#5...   \n",
       "707   ['DAY#3', 'SESSION#4', 'Session#4', 'session#5...   \n",
       "709   ['DAY#3', 'SESSION#4', 'Session#4', 'session#5...   \n",
       "823   ['DAY#3', 'SESSION#4', 'Session#4', 'session#5...   \n",
       "835   ['DAY#3', 'SESSION#4', 'Session#4', 'session#5...   \n",
       "885   ['DAY#3', 'SESSION#4', 'Session#4', 'session#5...   \n",
       "904   ['DAY#3', 'SESSION#4', 'Session#4', 'session#5...   \n",
       "981   ['DAY#3', 'SESSION#4', 'Session#4', 'session#5...   \n",
       "1014  ['DAY#3', 'SESSION#4', 'Session#4', 'session#5...   \n",
       "1047  ['DAY#3', 'SESSION#4', 'Session#4', 'session#5...   \n",
       "1224  ['DAY#3', 'SESSION#4', 'Session#4', 'session#5...   \n",
       "1319  ['DAY#3', 'SESSION#4', 'Session#4', 'session#5...   \n",
       "\n",
       "                                                hhm_map     hypernym  \\\n",
       "29    {'time_period': defaultdict(<class 'dict'>, {'...  time_period   \n",
       "30    {'time_period': defaultdict(<class 'dict'>, {'...  time_period   \n",
       "32    {'time_period': defaultdict(<class 'dict'>, {'...  time_period   \n",
       "34    {'time_period': defaultdict(<class 'dict'>, {'...  time_period   \n",
       "196   {'time_period': defaultdict(<class 'dict'>, {'...  time_period   \n",
       "322   {'time_period': defaultdict(<class 'dict'>, {'...  time_period   \n",
       "334   {'time_period': defaultdict(<class 'dict'>, {'...  time_period   \n",
       "363   {'time_period': defaultdict(<class 'dict'>, {'...  time_period   \n",
       "449   {'time_period': defaultdict(<class 'dict'>, {'...  time_period   \n",
       "455   {'time_period': defaultdict(<class 'dict'>, {'...  time_period   \n",
       "484   {'time_period': defaultdict(<class 'dict'>, {'...  time_period   \n",
       "530   {'time_period': defaultdict(<class 'dict'>, {'...  time_period   \n",
       "587   {'time_period': defaultdict(<class 'dict'>, {'...  time_period   \n",
       "707   {'time_period': defaultdict(<class 'dict'>, {'...  time_period   \n",
       "709   {'time_period': defaultdict(<class 'dict'>, {'...  time_period   \n",
       "823   {'time_period': defaultdict(<class 'dict'>, {'...  time_period   \n",
       "835   {'time_period': defaultdict(<class 'dict'>, {'...  time_period   \n",
       "885   {'time_period': defaultdict(<class 'dict'>, {'...  time_period   \n",
       "904   {'time_period': defaultdict(<class 'dict'>, {'...  time_period   \n",
       "981   {'time_period': defaultdict(<class 'dict'>, {'...  time_period   \n",
       "1014  {'time_period': defaultdict(<class 'dict'>, {'...  time_period   \n",
       "1047  {'time_period': defaultdict(<class 'dict'>, {'...  time_period   \n",
       "1224  {'time_period': defaultdict(<class 'dict'>, {'...  time_period   \n",
       "1319  {'time_period': defaultdict(<class 'dict'>, {'...  time_period   \n",
       "\n",
       "                                                hyponym  \\\n",
       "29    ['week_from_monday', 'wedding_night', 'lunar_d...   \n",
       "30    ['week_from_monday', 'wedding_night', 'lunar_d...   \n",
       "32    ['week_from_monday', 'wedding_night', 'lunar_d...   \n",
       "34    ['week_from_monday', 'wedding_night', 'lunar_d...   \n",
       "196   ['week_from_monday', 'wedding_night', 'lunar_d...   \n",
       "322   ['week_from_monday', 'wedding_night', 'lunar_d...   \n",
       "334   ['week_from_monday', 'wedding_night', 'lunar_d...   \n",
       "363   ['week_from_monday', 'wedding_night', 'lunar_d...   \n",
       "449   ['week_from_monday', 'wedding_night', 'lunar_d...   \n",
       "455   ['week_from_monday', 'wedding_night', 'lunar_d...   \n",
       "484   ['week_from_monday', 'wedding_night', 'lunar_d...   \n",
       "530   ['evening', 'afternoon', 'lunar_day', 'midafte...   \n",
       "587   ['week_from_monday', 'wedding_night', 'lunar_d...   \n",
       "707   ['week_from_monday', 'wedding_night', 'lunar_d...   \n",
       "709   ['week_from_monday', 'wedding_night', 'lunar_d...   \n",
       "823   ['week_from_monday', 'wedding_night', 'lunar_d...   \n",
       "835   ['week_from_monday', 'wedding_night', 'lunar_d...   \n",
       "885   ['week_from_monday', 'wedding_night', 'lunar_d...   \n",
       "904   ['week_from_monday', 'wedding_night', 'lunar_d...   \n",
       "981   ['week_from_monday', 'wedding_night', 'lunar_d...   \n",
       "1014  ['week_from_monday', 'wedding_night', 'lunar_d...   \n",
       "1047  ['week_from_monday', 'wedding_night', 'lunar_d...   \n",
       "1224  ['week_from_monday', 'wedding_night', 'lunar_d...   \n",
       "1319  ['week_from_monday', 'wedding_night', 'lunar_d...   \n",
       "\n",
       "                                                meronym hypernym_from_corpus  \\\n",
       "29    ['late-night_hour', 'midweek', 'day_of_the_wee...                 hour   \n",
       "30    ['late-night_hour', 'midweek', 'day_of_the_wee...                 hour   \n",
       "32    ['late-night_hour', 'midweek', 'day_of_the_wee...                 hour   \n",
       "34    ['late-night_hour', 'midweek', 'day_of_the_wee...                 hour   \n",
       "196   ['late-night_hour', 'midweek', 'day_of_the_wee...                 hour   \n",
       "322   ['late-night_hour', 'midweek', 'day_of_the_wee...                 hour   \n",
       "334   ['late-night_hour', 'midweek', 'day_of_the_wee...                 hour   \n",
       "363   ['late-night_hour', 'midweek', 'day_of_the_wee...                 hour   \n",
       "449   ['late-night_hour', 'midweek', 'day_of_the_wee...                 hour   \n",
       "455   ['late-night_hour', 'midweek', 'day_of_the_wee...                 hour   \n",
       "484   ['late-night_hour', 'midweek', 'day_of_the_wee...                 hour   \n",
       "530                   ['morning', 'sunday', 'saturday']                  eat   \n",
       "587   ['late-night_hour', 'midweek', 'day_of_the_wee...                 hour   \n",
       "707   ['late-night_hour', 'midweek', 'day_of_the_wee...                 hour   \n",
       "709   ['late-night_hour', 'midweek', 'day_of_the_wee...                 hour   \n",
       "823   ['late-night_hour', 'midweek', 'day_of_the_wee...                 hour   \n",
       "835   ['late-night_hour', 'midweek', 'day_of_the_wee...                 hour   \n",
       "885   ['late-night_hour', 'midweek', 'day_of_the_wee...                 hour   \n",
       "904   ['late-night_hour', 'midweek', 'day_of_the_wee...                 hour   \n",
       "981   ['late-night_hour', 'midweek', 'day_of_the_wee...                 hour   \n",
       "1014  ['late-night_hour', 'midweek', 'day_of_the_wee...                 hour   \n",
       "1047  ['late-night_hour', 'midweek', 'day_of_the_wee...                 hour   \n",
       "1224  ['late-night_hour', 'midweek', 'day_of_the_wee...                 hour   \n",
       "1319  ['late-night_hour', 'midweek', 'day_of_the_wee...                 hour   \n",
       "\n",
       "              hyponym_from_corpus                meronym_from_corpus  \n",
       "29    ['evening', 'rag', 'night']  ['weekend', 'evening', 'morning']  \n",
       "30    ['evening', 'rag', 'night']  ['weekend', 'evening', 'morning']  \n",
       "32    ['evening', 'rag', 'night']  ['weekend', 'evening', 'morning']  \n",
       "34    ['evening', 'rag', 'night']  ['weekend', 'evening', 'morning']  \n",
       "196   ['evening', 'rag', 'night']  ['weekend', 'evening', 'morning']  \n",
       "322   ['evening', 'rag', 'night']  ['weekend', 'evening', 'morning']  \n",
       "334   ['evening', 'rag', 'night']  ['weekend', 'evening', 'morning']  \n",
       "363   ['evening', 'rag', 'night']  ['weekend', 'evening', 'morning']  \n",
       "449   ['evening', 'rag', 'night']  ['weekend', 'evening', 'morning']  \n",
       "455   ['evening', 'rag', 'night']  ['weekend', 'evening', 'morning']  \n",
       "484   ['evening', 'rag', 'night']  ['weekend', 'evening', 'morning']  \n",
       "530                   ['evening']  ['morning', 'sunday', 'saturday']  \n",
       "587   ['evening', 'rag', 'night']  ['weekend', 'evening', 'morning']  \n",
       "707   ['evening', 'rag', 'night']  ['weekend', 'evening', 'morning']  \n",
       "709   ['evening', 'rag', 'night']  ['weekend', 'evening', 'morning']  \n",
       "823   ['evening', 'rag', 'night']  ['weekend', 'evening', 'morning']  \n",
       "835   ['evening', 'rag', 'night']  ['weekend', 'evening', 'morning']  \n",
       "885   ['evening', 'rag', 'night']  ['weekend', 'evening', 'morning']  \n",
       "904   ['evening', 'rag', 'night']  ['weekend', 'evening', 'morning']  \n",
       "981   ['evening', 'rag', 'night']  ['weekend', 'evening', 'morning']  \n",
       "1014  ['evening', 'rag', 'night']  ['weekend', 'evening', 'morning']  \n",
       "1047  ['evening', 'rag', 'night']  ['weekend', 'evening', 'morning']  \n",
       "1224  ['evening', 'rag', 'night']  ['weekend', 'evening', 'morning']  \n",
       "1319  ['evening', 'rag', 'night']  ['weekend', 'evening', 'morning']  "
      ]
     },
     "execution_count": 4,
     "metadata": {},
     "output_type": "execute_result"
    }
   ],
   "source": [
    "subset_df"
   ]
  },
  {
   "cell_type": "code",
   "execution_count": 5,
   "metadata": {},
   "outputs": [],
   "source": [
    "unq_hypernyms = list(set(subset_df[\"hypernym\"].values))\n",
    "unq_hypernyms_from_cropus = list(set(subset_df[\"hypernym_from_corpus\"].values))"
   ]
  },
  {
   "cell_type": "code",
   "execution_count": 49,
   "metadata": {},
   "outputs": [],
   "source": [
    "hypo_mero_map = {}\n",
    "unq_hyponyms_from_corpus = []\n",
    "unq_meronyms_from_corpus = []\n",
    "hyper_node_sizes = len(unq_hypernyms_from_cropus)\n",
    "hypo_node_sizes = []\n",
    "mero_node_sizes = []\n",
    "for hyp in unq_hypernyms_from_cropus:\n",
    "    hyper_df = subset_df[subset_df[\"hypernym_from_corpus\"]==hyp]\n",
    "    hyponyms = []\n",
    "    meronyms = []\n",
    "    for _, row in hyper_df[[\"hyponym_from_corpus\", \"meronym_from_corpus\"]].iterrows():\n",
    "        hypo, mero = row\n",
    "        hyponyms += ast.literal_eval(hypo)\n",
    "        meronyms += ast.literal_eval(mero)\n",
    "    unq_hyponyms_from_corpus += hyponyms\n",
    "    unq_meronyms_from_corpus += meronyms\n",
    "    \n",
    "    hypo_node_sizes.append(len(list(set(hyponyms))))\n",
    "    mero_node_sizes.append(len(list(set(meronyms))))\n",
    "    hypo_mero_map[hyp] = {\n",
    "        \"hyponyms\": list(set(hyponyms)),\n",
    "        \"meronyms\": list(set(meronyms))\n",
    "    }\n",
    "\n",
    "unq_hyponyms_from_corpus = list(set(unq_hyponyms_from_corpus))\n",
    "unq_meronyms_from_corpus = list(set(unq_meronyms_from_corpus))\n"
   ]
  },
  {
   "cell_type": "code",
   "execution_count": 50,
   "metadata": {},
   "outputs": [
    {
     "data": {
      "text/plain": [
       "{'eat': {'hyponyms': ['evening'],\n",
       "  'meronyms': ['sunday', 'morning', 'saturday']},\n",
       " 'hour': {'hyponyms': ['night', 'rag', 'evening'],\n",
       "  'meronyms': ['weekend', 'morning', 'evening']}}"
      ]
     },
     "execution_count": 50,
     "metadata": {},
     "output_type": "execute_result"
    }
   ],
   "source": [
    "hypo_mero_map"
   ]
  },
  {
   "cell_type": "code",
   "execution_count": 54,
   "metadata": {},
   "outputs": [
    {
     "data": {
      "text/plain": [
       "[3, 3]"
      ]
     },
     "execution_count": 54,
     "metadata": {},
     "output_type": "execute_result"
    }
   ],
   "source": [
    "mero_node_sizes"
   ]
  },
  {
   "cell_type": "code",
   "execution_count": 56,
   "metadata": {},
   "outputs": [
    {
     "data": {
      "text/plain": [
       "4"
      ]
     },
     "execution_count": 56,
     "metadata": {},
     "output_type": "execute_result"
    }
   ],
   "source": [
    "max(hyper_node_sizes, sum(hypo_node_sizes))"
   ]
  },
  {
   "cell_type": "code",
   "execution_count": 41,
   "metadata": {},
   "outputs": [
    {
     "data": {
      "text/plain": [
       "72"
      ]
     },
     "execution_count": 41,
     "metadata": {},
     "output_type": "execute_result"
    }
   ],
   "source": [
    "max_nodes"
   ]
  },
  {
   "cell_type": "code",
   "execution_count": 8,
   "metadata": {},
   "outputs": [
    {
     "data": {
      "text/plain": [
       "['sunday', 'saturday', 'morning', 'weekend', 'evening']"
      ]
     },
     "execution_count": 8,
     "metadata": {},
     "output_type": "execute_result"
    }
   ],
   "source": [
    "unq_meronyms_from_corpus"
   ]
  },
  {
   "cell_type": "code",
   "execution_count": 9,
   "metadata": {},
   "outputs": [
    {
     "data": {
      "text/plain": [
       "['night', 'rag', 'evening']"
      ]
     },
     "execution_count": 9,
     "metadata": {},
     "output_type": "execute_result"
    }
   ],
   "source": [
    "unq_hyponyms_from_corpus"
   ]
  },
  {
   "cell_type": "code",
   "execution_count": null,
   "metadata": {},
   "outputs": [],
   "source": []
  },
  {
   "cell_type": "code",
   "execution_count": null,
   "metadata": {},
   "outputs": [],
   "source": []
  },
  {
   "cell_type": "code",
   "execution_count": 116,
   "metadata": {},
   "outputs": [],
   "source": [
    "import plotly.graph_objects as go\n",
    "import igraph\n",
    "from igraph import Graph, EdgeSeq"
   ]
  },
  {
   "cell_type": "code",
   "execution_count": 117,
   "metadata": {},
   "outputs": [
    {
     "data": {
      "text/plain": [
       "igraph.Vertex(<igraph.Graph object at 0x7f8f747236d8>, 0, {'name': 'day'})"
      ]
     },
     "execution_count": 117,
     "metadata": {},
     "output_type": "execute_result"
    }
   ],
   "source": [
    "G = Graph()\n",
    "G.add_vertex(word)"
   ]
  },
  {
   "cell_type": "code",
   "execution_count": 118,
   "metadata": {},
   "outputs": [
    {
     "name": "stdout",
     "output_type": "stream",
     "text": [
      "night\n",
      "sunday\n",
      "rag\n",
      "saturday\n",
      "eat\n",
      "morning\n",
      "weekend\n",
      "evening\n",
      "hour\n"
     ]
    }
   ],
   "source": [
    "vertices = list(set(unq_hyponyms_from_corpus+unq_hypernyms_from_cropus+unq_meronyms_from_corpus))\n",
    "for n in vertices:\n",
    "    print(n)\n",
    "    G.add_vertex(n)\n",
    "# G.add_vertex(\"pqr\")\n",
    "# G.add_vertex(\"xyz\")\n",
    "# G.add_vertex(\"mno\")\n"
   ]
  },
  {
   "cell_type": "code",
   "execution_count": 119,
   "metadata": {},
   "outputs": [
    {
     "name": "stdout",
     "output_type": "stream",
     "text": [
      "Adding edge - day-eat\n",
      "Adding edge - day-hour\n"
     ]
    }
   ],
   "source": [
    "for h in unq_hypernyms_from_cropus:\n",
    "    print(f\"Adding edge - {word}-{h}\")\n",
    "    G.add_edge(word, h)"
   ]
  },
  {
   "cell_type": "code",
   "execution_count": 120,
   "metadata": {},
   "outputs": [
    {
     "name": "stdout",
     "output_type": "stream",
     "text": [
      "Adding edges : eat-evening\n",
      "Adding edges : eat-sunday\n",
      "Adding edges : eat-morning\n",
      "Adding edges : eat-saturday\n",
      "Adding edges : hour-night\n",
      "Adding edges : hour-rag\n",
      "Adding edges : hour-evening\n",
      "Adding edges : hour-weekend\n",
      "Adding edges : hour-morning\n",
      "Adding edges : hour-evening\n"
     ]
    }
   ],
   "source": [
    "for hyper, mapping in hypo_mero_map.items():\n",
    "    for hypo in mapping[\"hyponyms\"]:\n",
    "        print(f\"Adding edges : {hyper}-{hypo}\")\n",
    "        G.add_edge(hyper, hypo)\n",
    "    for mero in mapping[\"meronyms\"]:\n",
    "        print(f\"Adding edges : {hyper}-{mero}\")\n",
    "        G.add_edge(hyper, mero)"
   ]
  },
  {
   "cell_type": "code",
   "execution_count": 121,
   "metadata": {},
   "outputs": [],
   "source": [
    "# G.add_edges([(\"abc\", \"pqr\"), (\"pqr\", \"mno\"), (\"mno\", \"xyz\"), (\"xyz\", \"pqr\")])"
   ]
  },
  {
   "cell_type": "code",
   "execution_count": 122,
   "metadata": {},
   "outputs": [],
   "source": [
    "\n",
    "# nr_vertices = 25\n",
    "# v_label = list(map(str, range(nr_vertices)))\n",
    "# G = Graph.Tree(nr_vertices, 2) # 2 stands for children number\n",
    "lay = G.layout('auto')"
   ]
  },
  {
   "cell_type": "code",
   "execution_count": null,
   "metadata": {},
   "outputs": [],
   "source": []
  },
  {
   "cell_type": "code",
   "execution_count": 133,
   "metadata": {},
   "outputs": [],
   "source": [
    "nr_vertices = 1 + len(vertices)\n",
    "v_label = [word] + vertices\n",
    "position = {k: lay[k] for k in range(nr_vertices)}\n",
    "Y = [lay[k][1] for k in range(nr_vertices)]\n",
    "M = max(Y)\n",
    "\n",
    "es = EdgeSeq(G) # sequence of edges\n",
    "E = [e.tuple for e in G.es] # list of edges\n",
    "\n",
    "L = len(position)\n",
    "Xn = [position[k][0] for k in range(L)]\n",
    "Yn = [position[k][1] for k in range(L)]\n",
    "# Yn = [2*M-position[k][1] for k in range(L)]\n",
    "Xe = []\n",
    "Ye = []\n",
    "for edge in E:\n",
    "    Xe+=[position[edge[0]][0],position[edge[1]][0], None]\n",
    "#     Ye+=[2*M-position[edge[0]][1],2*M-position[edge[1]][1], None]\n",
    "    Ye+=[position[edge[0]][1],position[edge[1]][1], None]\n",
    "\n",
    "labels = v_label"
   ]
  },
  {
   "cell_type": "code",
   "execution_count": 134,
   "metadata": {},
   "outputs": [
    {
     "data": {
      "text/plain": [
       "{0: [0.13205307577144823, 0.07506480854265077],\n",
       " 1: [1.204969293063682, -1.1472790075655315],\n",
       " 2: [-0.3423112928170799, 1.5248673427059654],\n",
       " 3: [1.5421541264193852, -0.27785656186951097],\n",
       " 4: [-1.2440076411292238, 0.7334004719056273],\n",
       " 5: [-0.3611737836099297, 0.6369845482077239],\n",
       " 6: [-0.3198690865594072, -0.31802005673395584],\n",
       " 7: [0.29916760808886905, -1.3688919774521184],\n",
       " 8: [0.5804142850851812, 0.4722065692503996],\n",
       " 9: [0.6340553088097759, -0.4968524719841706]}"
      ]
     },
     "execution_count": 134,
     "metadata": {},
     "output_type": "execute_result"
    }
   ],
   "source": [
    "position"
   ]
  },
  {
   "cell_type": "code",
   "execution_count": 135,
   "metadata": {},
   "outputs": [
    {
     "data": {
      "text/plain": [
       "[(0, 5),\n",
       " (0, 9),\n",
       " (5, 8),\n",
       " (2, 5),\n",
       " (5, 6),\n",
       " (4, 5),\n",
       " (1, 9),\n",
       " (3, 9),\n",
       " (8, 9),\n",
       " (7, 9),\n",
       " (6, 9),\n",
       " (8, 9)]"
      ]
     },
     "execution_count": 135,
     "metadata": {},
     "output_type": "execute_result"
    }
   ],
   "source": [
    "E"
   ]
  },
  {
   "cell_type": "code",
   "execution_count": 136,
   "metadata": {},
   "outputs": [
    {
     "data": {
      "text/plain": [
       "['day',\n",
       " 'night',\n",
       " 'sunday',\n",
       " 'rag',\n",
       " 'saturday',\n",
       " 'eat',\n",
       " 'morning',\n",
       " 'weekend',\n",
       " 'evening',\n",
       " 'hour']"
      ]
     },
     "execution_count": 136,
     "metadata": {},
     "output_type": "execute_result"
    }
   ],
   "source": [
    "labels"
   ]
  },
  {
   "cell_type": "code",
   "execution_count": 137,
   "metadata": {},
   "outputs": [
    {
     "data": {
      "text/plain": [
       "[0.07506480854265077,\n",
       " -1.1472790075655315,\n",
       " 1.5248673427059654,\n",
       " -0.27785656186951097,\n",
       " 0.7334004719056273,\n",
       " 0.6369845482077239,\n",
       " -0.31802005673395584,\n",
       " -1.3688919774521184,\n",
       " 0.4722065692503996,\n",
       " -0.4968524719841706]"
      ]
     },
     "execution_count": 137,
     "metadata": {},
     "output_type": "execute_result"
    }
   ],
   "source": [
    "Yn"
   ]
  },
  {
   "cell_type": "code",
   "execution_count": 138,
   "metadata": {},
   "outputs": [
    {
     "data": {
      "text/plain": [
       "[0.13205307577144823,\n",
       " 1.204969293063682,\n",
       " -0.3423112928170799,\n",
       " 1.5421541264193852,\n",
       " -1.2440076411292238,\n",
       " -0.3611737836099297,\n",
       " -0.3198690865594072,\n",
       " 0.29916760808886905,\n",
       " 0.5804142850851812,\n",
       " 0.6340553088097759]"
      ]
     },
     "execution_count": 138,
     "metadata": {},
     "output_type": "execute_result"
    }
   ],
   "source": [
    "Xn"
   ]
  },
  {
   "cell_type": "code",
   "execution_count": 139,
   "metadata": {},
   "outputs": [
    {
     "data": {
      "application/vnd.plotly.v1+json": {
       "config": {
        "plotlyServerURL": "https://plot.ly"
       },
       "data": [
        {
         "hoverinfo": "none",
         "line": {
          "color": "rgb(210,210,210)",
          "width": 1
         },
         "mode": "lines",
         "type": "scatter",
         "x": [
          0.13205307577144823,
          -0.3611737836099297,
          null,
          0.13205307577144823,
          0.6340553088097759,
          null,
          -0.3611737836099297,
          0.5804142850851812,
          null,
          -0.3423112928170799,
          -0.3611737836099297,
          null,
          -0.3611737836099297,
          -0.3198690865594072,
          null,
          -1.2440076411292238,
          -0.3611737836099297,
          null,
          1.204969293063682,
          0.6340553088097759,
          null,
          1.5421541264193852,
          0.6340553088097759,
          null,
          0.5804142850851812,
          0.6340553088097759,
          null,
          0.29916760808886905,
          0.6340553088097759,
          null,
          -0.3198690865594072,
          0.6340553088097759,
          null,
          0.5804142850851812,
          0.6340553088097759,
          null
         ],
         "y": [
          0.07506480854265077,
          0.6369845482077239,
          null,
          0.07506480854265077,
          -0.4968524719841706,
          null,
          0.6369845482077239,
          0.4722065692503996,
          null,
          1.5248673427059654,
          0.6369845482077239,
          null,
          0.6369845482077239,
          -0.31802005673395584,
          null,
          0.7334004719056273,
          0.6369845482077239,
          null,
          -1.1472790075655315,
          -0.4968524719841706,
          null,
          -0.27785656186951097,
          -0.4968524719841706,
          null,
          0.4722065692503996,
          -0.4968524719841706,
          null,
          -1.3688919774521184,
          -0.4968524719841706,
          null,
          -0.31802005673395584,
          -0.4968524719841706,
          null,
          0.4722065692503996,
          -0.4968524719841706,
          null
         ]
        },
        {
         "hoverinfo": "text",
         "marker": {
          "color": "#6175c1",
          "line": {
           "color": "rgb(50,50,50)",
           "width": 1
          },
          "size": 18,
          "symbol": "circle-dot"
         },
         "mode": "markers",
         "name": "bla",
         "opacity": 0.8,
         "text": [
          "day",
          "night",
          "sunday",
          "rag",
          "saturday",
          "eat",
          "morning",
          "weekend",
          "evening",
          "hour"
         ],
         "type": "scatter",
         "x": [
          0.13205307577144823,
          1.204969293063682,
          -0.3423112928170799,
          1.5421541264193852,
          -1.2440076411292238,
          -0.3611737836099297,
          -0.3198690865594072,
          0.29916760808886905,
          0.5804142850851812,
          0.6340553088097759
         ],
         "y": [
          0.07506480854265077,
          -1.1472790075655315,
          1.5248673427059654,
          -0.27785656186951097,
          0.7334004719056273,
          0.6369845482077239,
          -0.31802005673395584,
          -1.3688919774521184,
          0.4722065692503996,
          -0.4968524719841706
         ]
        }
       ],
       "layout": {
        "template": {
         "data": {
          "bar": [
           {
            "error_x": {
             "color": "#2a3f5f"
            },
            "error_y": {
             "color": "#2a3f5f"
            },
            "marker": {
             "line": {
              "color": "#E5ECF6",
              "width": 0.5
             }
            },
            "type": "bar"
           }
          ],
          "barpolar": [
           {
            "marker": {
             "line": {
              "color": "#E5ECF6",
              "width": 0.5
             }
            },
            "type": "barpolar"
           }
          ],
          "carpet": [
           {
            "aaxis": {
             "endlinecolor": "#2a3f5f",
             "gridcolor": "white",
             "linecolor": "white",
             "minorgridcolor": "white",
             "startlinecolor": "#2a3f5f"
            },
            "baxis": {
             "endlinecolor": "#2a3f5f",
             "gridcolor": "white",
             "linecolor": "white",
             "minorgridcolor": "white",
             "startlinecolor": "#2a3f5f"
            },
            "type": "carpet"
           }
          ],
          "choropleth": [
           {
            "colorbar": {
             "outlinewidth": 0,
             "ticks": ""
            },
            "type": "choropleth"
           }
          ],
          "contour": [
           {
            "colorbar": {
             "outlinewidth": 0,
             "ticks": ""
            },
            "colorscale": [
             [
              0,
              "#0d0887"
             ],
             [
              0.1111111111111111,
              "#46039f"
             ],
             [
              0.2222222222222222,
              "#7201a8"
             ],
             [
              0.3333333333333333,
              "#9c179e"
             ],
             [
              0.4444444444444444,
              "#bd3786"
             ],
             [
              0.5555555555555556,
              "#d8576b"
             ],
             [
              0.6666666666666666,
              "#ed7953"
             ],
             [
              0.7777777777777778,
              "#fb9f3a"
             ],
             [
              0.8888888888888888,
              "#fdca26"
             ],
             [
              1,
              "#f0f921"
             ]
            ],
            "type": "contour"
           }
          ],
          "contourcarpet": [
           {
            "colorbar": {
             "outlinewidth": 0,
             "ticks": ""
            },
            "type": "contourcarpet"
           }
          ],
          "heatmap": [
           {
            "colorbar": {
             "outlinewidth": 0,
             "ticks": ""
            },
            "colorscale": [
             [
              0,
              "#0d0887"
             ],
             [
              0.1111111111111111,
              "#46039f"
             ],
             [
              0.2222222222222222,
              "#7201a8"
             ],
             [
              0.3333333333333333,
              "#9c179e"
             ],
             [
              0.4444444444444444,
              "#bd3786"
             ],
             [
              0.5555555555555556,
              "#d8576b"
             ],
             [
              0.6666666666666666,
              "#ed7953"
             ],
             [
              0.7777777777777778,
              "#fb9f3a"
             ],
             [
              0.8888888888888888,
              "#fdca26"
             ],
             [
              1,
              "#f0f921"
             ]
            ],
            "type": "heatmap"
           }
          ],
          "heatmapgl": [
           {
            "colorbar": {
             "outlinewidth": 0,
             "ticks": ""
            },
            "colorscale": [
             [
              0,
              "#0d0887"
             ],
             [
              0.1111111111111111,
              "#46039f"
             ],
             [
              0.2222222222222222,
              "#7201a8"
             ],
             [
              0.3333333333333333,
              "#9c179e"
             ],
             [
              0.4444444444444444,
              "#bd3786"
             ],
             [
              0.5555555555555556,
              "#d8576b"
             ],
             [
              0.6666666666666666,
              "#ed7953"
             ],
             [
              0.7777777777777778,
              "#fb9f3a"
             ],
             [
              0.8888888888888888,
              "#fdca26"
             ],
             [
              1,
              "#f0f921"
             ]
            ],
            "type": "heatmapgl"
           }
          ],
          "histogram": [
           {
            "marker": {
             "colorbar": {
              "outlinewidth": 0,
              "ticks": ""
             }
            },
            "type": "histogram"
           }
          ],
          "histogram2d": [
           {
            "colorbar": {
             "outlinewidth": 0,
             "ticks": ""
            },
            "colorscale": [
             [
              0,
              "#0d0887"
             ],
             [
              0.1111111111111111,
              "#46039f"
             ],
             [
              0.2222222222222222,
              "#7201a8"
             ],
             [
              0.3333333333333333,
              "#9c179e"
             ],
             [
              0.4444444444444444,
              "#bd3786"
             ],
             [
              0.5555555555555556,
              "#d8576b"
             ],
             [
              0.6666666666666666,
              "#ed7953"
             ],
             [
              0.7777777777777778,
              "#fb9f3a"
             ],
             [
              0.8888888888888888,
              "#fdca26"
             ],
             [
              1,
              "#f0f921"
             ]
            ],
            "type": "histogram2d"
           }
          ],
          "histogram2dcontour": [
           {
            "colorbar": {
             "outlinewidth": 0,
             "ticks": ""
            },
            "colorscale": [
             [
              0,
              "#0d0887"
             ],
             [
              0.1111111111111111,
              "#46039f"
             ],
             [
              0.2222222222222222,
              "#7201a8"
             ],
             [
              0.3333333333333333,
              "#9c179e"
             ],
             [
              0.4444444444444444,
              "#bd3786"
             ],
             [
              0.5555555555555556,
              "#d8576b"
             ],
             [
              0.6666666666666666,
              "#ed7953"
             ],
             [
              0.7777777777777778,
              "#fb9f3a"
             ],
             [
              0.8888888888888888,
              "#fdca26"
             ],
             [
              1,
              "#f0f921"
             ]
            ],
            "type": "histogram2dcontour"
           }
          ],
          "mesh3d": [
           {
            "colorbar": {
             "outlinewidth": 0,
             "ticks": ""
            },
            "type": "mesh3d"
           }
          ],
          "parcoords": [
           {
            "line": {
             "colorbar": {
              "outlinewidth": 0,
              "ticks": ""
             }
            },
            "type": "parcoords"
           }
          ],
          "pie": [
           {
            "automargin": true,
            "type": "pie"
           }
          ],
          "scatter": [
           {
            "marker": {
             "colorbar": {
              "outlinewidth": 0,
              "ticks": ""
             }
            },
            "type": "scatter"
           }
          ],
          "scatter3d": [
           {
            "line": {
             "colorbar": {
              "outlinewidth": 0,
              "ticks": ""
             }
            },
            "marker": {
             "colorbar": {
              "outlinewidth": 0,
              "ticks": ""
             }
            },
            "type": "scatter3d"
           }
          ],
          "scattercarpet": [
           {
            "marker": {
             "colorbar": {
              "outlinewidth": 0,
              "ticks": ""
             }
            },
            "type": "scattercarpet"
           }
          ],
          "scattergeo": [
           {
            "marker": {
             "colorbar": {
              "outlinewidth": 0,
              "ticks": ""
             }
            },
            "type": "scattergeo"
           }
          ],
          "scattergl": [
           {
            "marker": {
             "colorbar": {
              "outlinewidth": 0,
              "ticks": ""
             }
            },
            "type": "scattergl"
           }
          ],
          "scattermapbox": [
           {
            "marker": {
             "colorbar": {
              "outlinewidth": 0,
              "ticks": ""
             }
            },
            "type": "scattermapbox"
           }
          ],
          "scatterpolar": [
           {
            "marker": {
             "colorbar": {
              "outlinewidth": 0,
              "ticks": ""
             }
            },
            "type": "scatterpolar"
           }
          ],
          "scatterpolargl": [
           {
            "marker": {
             "colorbar": {
              "outlinewidth": 0,
              "ticks": ""
             }
            },
            "type": "scatterpolargl"
           }
          ],
          "scatterternary": [
           {
            "marker": {
             "colorbar": {
              "outlinewidth": 0,
              "ticks": ""
             }
            },
            "type": "scatterternary"
           }
          ],
          "surface": [
           {
            "colorbar": {
             "outlinewidth": 0,
             "ticks": ""
            },
            "colorscale": [
             [
              0,
              "#0d0887"
             ],
             [
              0.1111111111111111,
              "#46039f"
             ],
             [
              0.2222222222222222,
              "#7201a8"
             ],
             [
              0.3333333333333333,
              "#9c179e"
             ],
             [
              0.4444444444444444,
              "#bd3786"
             ],
             [
              0.5555555555555556,
              "#d8576b"
             ],
             [
              0.6666666666666666,
              "#ed7953"
             ],
             [
              0.7777777777777778,
              "#fb9f3a"
             ],
             [
              0.8888888888888888,
              "#fdca26"
             ],
             [
              1,
              "#f0f921"
             ]
            ],
            "type": "surface"
           }
          ],
          "table": [
           {
            "cells": {
             "fill": {
              "color": "#EBF0F8"
             },
             "line": {
              "color": "white"
             }
            },
            "header": {
             "fill": {
              "color": "#C8D4E3"
             },
             "line": {
              "color": "white"
             }
            },
            "type": "table"
           }
          ]
         },
         "layout": {
          "annotationdefaults": {
           "arrowcolor": "#2a3f5f",
           "arrowhead": 0,
           "arrowwidth": 1
          },
          "coloraxis": {
           "colorbar": {
            "outlinewidth": 0,
            "ticks": ""
           }
          },
          "colorscale": {
           "diverging": [
            [
             0,
             "#8e0152"
            ],
            [
             0.1,
             "#c51b7d"
            ],
            [
             0.2,
             "#de77ae"
            ],
            [
             0.3,
             "#f1b6da"
            ],
            [
             0.4,
             "#fde0ef"
            ],
            [
             0.5,
             "#f7f7f7"
            ],
            [
             0.6,
             "#e6f5d0"
            ],
            [
             0.7,
             "#b8e186"
            ],
            [
             0.8,
             "#7fbc41"
            ],
            [
             0.9,
             "#4d9221"
            ],
            [
             1,
             "#276419"
            ]
           ],
           "sequential": [
            [
             0,
             "#0d0887"
            ],
            [
             0.1111111111111111,
             "#46039f"
            ],
            [
             0.2222222222222222,
             "#7201a8"
            ],
            [
             0.3333333333333333,
             "#9c179e"
            ],
            [
             0.4444444444444444,
             "#bd3786"
            ],
            [
             0.5555555555555556,
             "#d8576b"
            ],
            [
             0.6666666666666666,
             "#ed7953"
            ],
            [
             0.7777777777777778,
             "#fb9f3a"
            ],
            [
             0.8888888888888888,
             "#fdca26"
            ],
            [
             1,
             "#f0f921"
            ]
           ],
           "sequentialminus": [
            [
             0,
             "#0d0887"
            ],
            [
             0.1111111111111111,
             "#46039f"
            ],
            [
             0.2222222222222222,
             "#7201a8"
            ],
            [
             0.3333333333333333,
             "#9c179e"
            ],
            [
             0.4444444444444444,
             "#bd3786"
            ],
            [
             0.5555555555555556,
             "#d8576b"
            ],
            [
             0.6666666666666666,
             "#ed7953"
            ],
            [
             0.7777777777777778,
             "#fb9f3a"
            ],
            [
             0.8888888888888888,
             "#fdca26"
            ],
            [
             1,
             "#f0f921"
            ]
           ]
          },
          "colorway": [
           "#636efa",
           "#EF553B",
           "#00cc96",
           "#ab63fa",
           "#FFA15A",
           "#19d3f3",
           "#FF6692",
           "#B6E880",
           "#FF97FF",
           "#FECB52"
          ],
          "font": {
           "color": "#2a3f5f"
          },
          "geo": {
           "bgcolor": "white",
           "lakecolor": "white",
           "landcolor": "#E5ECF6",
           "showlakes": true,
           "showland": true,
           "subunitcolor": "white"
          },
          "hoverlabel": {
           "align": "left"
          },
          "hovermode": "closest",
          "mapbox": {
           "style": "light"
          },
          "paper_bgcolor": "white",
          "plot_bgcolor": "#E5ECF6",
          "polar": {
           "angularaxis": {
            "gridcolor": "white",
            "linecolor": "white",
            "ticks": ""
           },
           "bgcolor": "#E5ECF6",
           "radialaxis": {
            "gridcolor": "white",
            "linecolor": "white",
            "ticks": ""
           }
          },
          "scene": {
           "xaxis": {
            "backgroundcolor": "#E5ECF6",
            "gridcolor": "white",
            "gridwidth": 2,
            "linecolor": "white",
            "showbackground": true,
            "ticks": "",
            "zerolinecolor": "white"
           },
           "yaxis": {
            "backgroundcolor": "#E5ECF6",
            "gridcolor": "white",
            "gridwidth": 2,
            "linecolor": "white",
            "showbackground": true,
            "ticks": "",
            "zerolinecolor": "white"
           },
           "zaxis": {
            "backgroundcolor": "#E5ECF6",
            "gridcolor": "white",
            "gridwidth": 2,
            "linecolor": "white",
            "showbackground": true,
            "ticks": "",
            "zerolinecolor": "white"
           }
          },
          "shapedefaults": {
           "line": {
            "color": "#2a3f5f"
           }
          },
          "ternary": {
           "aaxis": {
            "gridcolor": "white",
            "linecolor": "white",
            "ticks": ""
           },
           "baxis": {
            "gridcolor": "white",
            "linecolor": "white",
            "ticks": ""
           },
           "bgcolor": "#E5ECF6",
           "caxis": {
            "gridcolor": "white",
            "linecolor": "white",
            "ticks": ""
           }
          },
          "title": {
           "x": 0.05
          },
          "xaxis": {
           "automargin": true,
           "gridcolor": "white",
           "linecolor": "white",
           "ticks": "",
           "title": {
            "standoff": 15
           },
           "zerolinecolor": "white",
           "zerolinewidth": 2
          },
          "yaxis": {
           "automargin": true,
           "gridcolor": "white",
           "linecolor": "white",
           "ticks": "",
           "title": {
            "standoff": 15
           },
           "zerolinecolor": "white",
           "zerolinewidth": 2
          }
         }
        }
       }
      },
      "text/html": [
       "<div>\n",
       "        \n",
       "        \n",
       "            <div id=\"d8b8ab09-6c1e-4eb4-82c7-109e633b4efc\" class=\"plotly-graph-div\" style=\"height:525px; width:100%;\"></div>\n",
       "            <script type=\"text/javascript\">\n",
       "                require([\"plotly\"], function(Plotly) {\n",
       "                    window.PLOTLYENV=window.PLOTLYENV || {};\n",
       "                    \n",
       "                if (document.getElementById(\"d8b8ab09-6c1e-4eb4-82c7-109e633b4efc\")) {\n",
       "                    Plotly.newPlot(\n",
       "                        'd8b8ab09-6c1e-4eb4-82c7-109e633b4efc',\n",
       "                        [{\"hoverinfo\": \"none\", \"line\": {\"color\": \"rgb(210,210,210)\", \"width\": 1}, \"mode\": \"lines\", \"type\": \"scatter\", \"x\": [0.13205307577144823, -0.3611737836099297, null, 0.13205307577144823, 0.6340553088097759, null, -0.3611737836099297, 0.5804142850851812, null, -0.3423112928170799, -0.3611737836099297, null, -0.3611737836099297, -0.3198690865594072, null, -1.2440076411292238, -0.3611737836099297, null, 1.204969293063682, 0.6340553088097759, null, 1.5421541264193852, 0.6340553088097759, null, 0.5804142850851812, 0.6340553088097759, null, 0.29916760808886905, 0.6340553088097759, null, -0.3198690865594072, 0.6340553088097759, null, 0.5804142850851812, 0.6340553088097759, null], \"y\": [0.07506480854265077, 0.6369845482077239, null, 0.07506480854265077, -0.4968524719841706, null, 0.6369845482077239, 0.4722065692503996, null, 1.5248673427059654, 0.6369845482077239, null, 0.6369845482077239, -0.31802005673395584, null, 0.7334004719056273, 0.6369845482077239, null, -1.1472790075655315, -0.4968524719841706, null, -0.27785656186951097, -0.4968524719841706, null, 0.4722065692503996, -0.4968524719841706, null, -1.3688919774521184, -0.4968524719841706, null, -0.31802005673395584, -0.4968524719841706, null, 0.4722065692503996, -0.4968524719841706, null]}, {\"hoverinfo\": \"text\", \"marker\": {\"color\": \"#6175c1\", \"line\": {\"color\": \"rgb(50,50,50)\", \"width\": 1}, \"size\": 18, \"symbol\": \"circle-dot\"}, \"mode\": \"markers\", \"name\": \"bla\", \"opacity\": 0.8, \"text\": [\"day\", \"night\", \"sunday\", \"rag\", \"saturday\", \"eat\", \"morning\", \"weekend\", \"evening\", \"hour\"], \"type\": \"scatter\", \"x\": [0.13205307577144823, 1.204969293063682, -0.3423112928170799, 1.5421541264193852, -1.2440076411292238, -0.3611737836099297, -0.3198690865594072, 0.29916760808886905, 0.5804142850851812, 0.6340553088097759], \"y\": [0.07506480854265077, -1.1472790075655315, 1.5248673427059654, -0.27785656186951097, 0.7334004719056273, 0.6369845482077239, -0.31802005673395584, -1.3688919774521184, 0.4722065692503996, -0.4968524719841706]}],\n",
       "                        {\"template\": {\"data\": {\"bar\": [{\"error_x\": {\"color\": \"#2a3f5f\"}, \"error_y\": {\"color\": \"#2a3f5f\"}, \"marker\": {\"line\": {\"color\": \"#E5ECF6\", \"width\": 0.5}}, \"type\": \"bar\"}], \"barpolar\": [{\"marker\": {\"line\": {\"color\": \"#E5ECF6\", \"width\": 0.5}}, \"type\": \"barpolar\"}], \"carpet\": [{\"aaxis\": {\"endlinecolor\": \"#2a3f5f\", \"gridcolor\": \"white\", \"linecolor\": \"white\", \"minorgridcolor\": \"white\", \"startlinecolor\": \"#2a3f5f\"}, \"baxis\": {\"endlinecolor\": \"#2a3f5f\", \"gridcolor\": \"white\", \"linecolor\": \"white\", \"minorgridcolor\": \"white\", \"startlinecolor\": \"#2a3f5f\"}, \"type\": \"carpet\"}], \"choropleth\": [{\"colorbar\": {\"outlinewidth\": 0, \"ticks\": \"\"}, \"type\": \"choropleth\"}], \"contour\": [{\"colorbar\": {\"outlinewidth\": 0, \"ticks\": \"\"}, \"colorscale\": [[0.0, \"#0d0887\"], [0.1111111111111111, \"#46039f\"], [0.2222222222222222, \"#7201a8\"], [0.3333333333333333, \"#9c179e\"], [0.4444444444444444, \"#bd3786\"], [0.5555555555555556, \"#d8576b\"], [0.6666666666666666, \"#ed7953\"], [0.7777777777777778, \"#fb9f3a\"], [0.8888888888888888, \"#fdca26\"], [1.0, \"#f0f921\"]], \"type\": \"contour\"}], \"contourcarpet\": [{\"colorbar\": {\"outlinewidth\": 0, \"ticks\": \"\"}, \"type\": \"contourcarpet\"}], \"heatmap\": [{\"colorbar\": {\"outlinewidth\": 0, \"ticks\": \"\"}, \"colorscale\": [[0.0, \"#0d0887\"], [0.1111111111111111, \"#46039f\"], [0.2222222222222222, \"#7201a8\"], [0.3333333333333333, \"#9c179e\"], [0.4444444444444444, \"#bd3786\"], [0.5555555555555556, \"#d8576b\"], [0.6666666666666666, \"#ed7953\"], [0.7777777777777778, \"#fb9f3a\"], [0.8888888888888888, \"#fdca26\"], [1.0, \"#f0f921\"]], \"type\": \"heatmap\"}], \"heatmapgl\": [{\"colorbar\": {\"outlinewidth\": 0, \"ticks\": \"\"}, \"colorscale\": [[0.0, \"#0d0887\"], [0.1111111111111111, \"#46039f\"], [0.2222222222222222, \"#7201a8\"], [0.3333333333333333, \"#9c179e\"], [0.4444444444444444, \"#bd3786\"], [0.5555555555555556, \"#d8576b\"], [0.6666666666666666, \"#ed7953\"], [0.7777777777777778, \"#fb9f3a\"], [0.8888888888888888, \"#fdca26\"], [1.0, \"#f0f921\"]], \"type\": \"heatmapgl\"}], \"histogram\": [{\"marker\": {\"colorbar\": {\"outlinewidth\": 0, \"ticks\": \"\"}}, \"type\": \"histogram\"}], \"histogram2d\": [{\"colorbar\": {\"outlinewidth\": 0, \"ticks\": \"\"}, \"colorscale\": [[0.0, \"#0d0887\"], [0.1111111111111111, \"#46039f\"], [0.2222222222222222, \"#7201a8\"], [0.3333333333333333, \"#9c179e\"], [0.4444444444444444, \"#bd3786\"], [0.5555555555555556, \"#d8576b\"], [0.6666666666666666, \"#ed7953\"], [0.7777777777777778, \"#fb9f3a\"], [0.8888888888888888, \"#fdca26\"], [1.0, \"#f0f921\"]], \"type\": \"histogram2d\"}], \"histogram2dcontour\": [{\"colorbar\": {\"outlinewidth\": 0, \"ticks\": \"\"}, \"colorscale\": [[0.0, \"#0d0887\"], [0.1111111111111111, \"#46039f\"], [0.2222222222222222, \"#7201a8\"], [0.3333333333333333, \"#9c179e\"], [0.4444444444444444, \"#bd3786\"], [0.5555555555555556, \"#d8576b\"], [0.6666666666666666, \"#ed7953\"], [0.7777777777777778, \"#fb9f3a\"], [0.8888888888888888, \"#fdca26\"], [1.0, \"#f0f921\"]], \"type\": \"histogram2dcontour\"}], \"mesh3d\": [{\"colorbar\": {\"outlinewidth\": 0, \"ticks\": \"\"}, \"type\": \"mesh3d\"}], \"parcoords\": [{\"line\": {\"colorbar\": {\"outlinewidth\": 0, \"ticks\": \"\"}}, \"type\": \"parcoords\"}], \"pie\": [{\"automargin\": true, \"type\": \"pie\"}], \"scatter\": [{\"marker\": {\"colorbar\": {\"outlinewidth\": 0, \"ticks\": \"\"}}, \"type\": \"scatter\"}], \"scatter3d\": [{\"line\": {\"colorbar\": {\"outlinewidth\": 0, \"ticks\": \"\"}}, \"marker\": {\"colorbar\": {\"outlinewidth\": 0, \"ticks\": \"\"}}, \"type\": \"scatter3d\"}], \"scattercarpet\": [{\"marker\": {\"colorbar\": {\"outlinewidth\": 0, \"ticks\": \"\"}}, \"type\": \"scattercarpet\"}], \"scattergeo\": [{\"marker\": {\"colorbar\": {\"outlinewidth\": 0, \"ticks\": \"\"}}, \"type\": \"scattergeo\"}], \"scattergl\": [{\"marker\": {\"colorbar\": {\"outlinewidth\": 0, \"ticks\": \"\"}}, \"type\": \"scattergl\"}], \"scattermapbox\": [{\"marker\": {\"colorbar\": {\"outlinewidth\": 0, \"ticks\": \"\"}}, \"type\": \"scattermapbox\"}], \"scatterpolar\": [{\"marker\": {\"colorbar\": {\"outlinewidth\": 0, \"ticks\": \"\"}}, \"type\": \"scatterpolar\"}], \"scatterpolargl\": [{\"marker\": {\"colorbar\": {\"outlinewidth\": 0, \"ticks\": \"\"}}, \"type\": \"scatterpolargl\"}], \"scatterternary\": [{\"marker\": {\"colorbar\": {\"outlinewidth\": 0, \"ticks\": \"\"}}, \"type\": \"scatterternary\"}], \"surface\": [{\"colorbar\": {\"outlinewidth\": 0, \"ticks\": \"\"}, \"colorscale\": [[0.0, \"#0d0887\"], [0.1111111111111111, \"#46039f\"], [0.2222222222222222, \"#7201a8\"], [0.3333333333333333, \"#9c179e\"], [0.4444444444444444, \"#bd3786\"], [0.5555555555555556, \"#d8576b\"], [0.6666666666666666, \"#ed7953\"], [0.7777777777777778, \"#fb9f3a\"], [0.8888888888888888, \"#fdca26\"], [1.0, \"#f0f921\"]], \"type\": \"surface\"}], \"table\": [{\"cells\": {\"fill\": {\"color\": \"#EBF0F8\"}, \"line\": {\"color\": \"white\"}}, \"header\": {\"fill\": {\"color\": \"#C8D4E3\"}, \"line\": {\"color\": \"white\"}}, \"type\": \"table\"}]}, \"layout\": {\"annotationdefaults\": {\"arrowcolor\": \"#2a3f5f\", \"arrowhead\": 0, \"arrowwidth\": 1}, \"coloraxis\": {\"colorbar\": {\"outlinewidth\": 0, \"ticks\": \"\"}}, \"colorscale\": {\"diverging\": [[0, \"#8e0152\"], [0.1, \"#c51b7d\"], [0.2, \"#de77ae\"], [0.3, \"#f1b6da\"], [0.4, \"#fde0ef\"], [0.5, \"#f7f7f7\"], [0.6, \"#e6f5d0\"], [0.7, \"#b8e186\"], [0.8, \"#7fbc41\"], [0.9, \"#4d9221\"], [1, \"#276419\"]], \"sequential\": [[0.0, \"#0d0887\"], [0.1111111111111111, \"#46039f\"], [0.2222222222222222, \"#7201a8\"], [0.3333333333333333, \"#9c179e\"], [0.4444444444444444, \"#bd3786\"], [0.5555555555555556, \"#d8576b\"], [0.6666666666666666, \"#ed7953\"], [0.7777777777777778, \"#fb9f3a\"], [0.8888888888888888, \"#fdca26\"], [1.0, \"#f0f921\"]], \"sequentialminus\": [[0.0, \"#0d0887\"], [0.1111111111111111, \"#46039f\"], [0.2222222222222222, \"#7201a8\"], [0.3333333333333333, \"#9c179e\"], [0.4444444444444444, \"#bd3786\"], [0.5555555555555556, \"#d8576b\"], [0.6666666666666666, \"#ed7953\"], [0.7777777777777778, \"#fb9f3a\"], [0.8888888888888888, \"#fdca26\"], [1.0, \"#f0f921\"]]}, \"colorway\": [\"#636efa\", \"#EF553B\", \"#00cc96\", \"#ab63fa\", \"#FFA15A\", \"#19d3f3\", \"#FF6692\", \"#B6E880\", \"#FF97FF\", \"#FECB52\"], \"font\": {\"color\": \"#2a3f5f\"}, \"geo\": {\"bgcolor\": \"white\", \"lakecolor\": \"white\", \"landcolor\": \"#E5ECF6\", \"showlakes\": true, \"showland\": true, \"subunitcolor\": \"white\"}, \"hoverlabel\": {\"align\": \"left\"}, \"hovermode\": \"closest\", \"mapbox\": {\"style\": \"light\"}, \"paper_bgcolor\": \"white\", \"plot_bgcolor\": \"#E5ECF6\", \"polar\": {\"angularaxis\": {\"gridcolor\": \"white\", \"linecolor\": \"white\", \"ticks\": \"\"}, \"bgcolor\": \"#E5ECF6\", \"radialaxis\": {\"gridcolor\": \"white\", \"linecolor\": \"white\", \"ticks\": \"\"}}, \"scene\": {\"xaxis\": {\"backgroundcolor\": \"#E5ECF6\", \"gridcolor\": \"white\", \"gridwidth\": 2, \"linecolor\": \"white\", \"showbackground\": true, \"ticks\": \"\", \"zerolinecolor\": \"white\"}, \"yaxis\": {\"backgroundcolor\": \"#E5ECF6\", \"gridcolor\": \"white\", \"gridwidth\": 2, \"linecolor\": \"white\", \"showbackground\": true, \"ticks\": \"\", \"zerolinecolor\": \"white\"}, \"zaxis\": {\"backgroundcolor\": \"#E5ECF6\", \"gridcolor\": \"white\", \"gridwidth\": 2, \"linecolor\": \"white\", \"showbackground\": true, \"ticks\": \"\", \"zerolinecolor\": \"white\"}}, \"shapedefaults\": {\"line\": {\"color\": \"#2a3f5f\"}}, \"ternary\": {\"aaxis\": {\"gridcolor\": \"white\", \"linecolor\": \"white\", \"ticks\": \"\"}, \"baxis\": {\"gridcolor\": \"white\", \"linecolor\": \"white\", \"ticks\": \"\"}, \"bgcolor\": \"#E5ECF6\", \"caxis\": {\"gridcolor\": \"white\", \"linecolor\": \"white\", \"ticks\": \"\"}}, \"title\": {\"x\": 0.05}, \"xaxis\": {\"automargin\": true, \"gridcolor\": \"white\", \"linecolor\": \"white\", \"ticks\": \"\", \"title\": {\"standoff\": 15}, \"zerolinecolor\": \"white\", \"zerolinewidth\": 2}, \"yaxis\": {\"automargin\": true, \"gridcolor\": \"white\", \"linecolor\": \"white\", \"ticks\": \"\", \"title\": {\"standoff\": 15}, \"zerolinecolor\": \"white\", \"zerolinewidth\": 2}}}},\n",
       "                        {\"responsive\": true}\n",
       "                    ).then(function(){\n",
       "                            \n",
       "var gd = document.getElementById('d8b8ab09-6c1e-4eb4-82c7-109e633b4efc');\n",
       "var x = new MutationObserver(function (mutations, observer) {{\n",
       "        var display = window.getComputedStyle(gd).display;\n",
       "        if (!display || display === 'none') {{\n",
       "            console.log([gd, 'removed!']);\n",
       "            Plotly.purge(gd);\n",
       "            observer.disconnect();\n",
       "        }}\n",
       "}});\n",
       "\n",
       "// Listen for the removal of the full notebook cells\n",
       "var notebookContainer = gd.closest('#notebook-container');\n",
       "if (notebookContainer) {{\n",
       "    x.observe(notebookContainer, {childList: true});\n",
       "}}\n",
       "\n",
       "// Listen for the clearing of the current output cell\n",
       "var outputEl = gd.closest('.output');\n",
       "if (outputEl) {{\n",
       "    x.observe(outputEl, {childList: true});\n",
       "}}\n",
       "\n",
       "                        })\n",
       "                };\n",
       "                });\n",
       "            </script>\n",
       "        </div>"
      ]
     },
     "metadata": {},
     "output_type": "display_data"
    }
   ],
   "source": [
    "\n",
    "fig = go.Figure()\n",
    "fig.add_trace(go.Scatter(x=Xe,\n",
    "                   y=Ye,\n",
    "                   mode='lines',\n",
    "                   line=dict(color='rgb(210,210,210)', width=1),\n",
    "                   hoverinfo='none'\n",
    "                   ))\n",
    "fig.add_trace(go.Scatter(y=Yn,\n",
    "                  x=Xn,\n",
    "                  mode='markers',\n",
    "                  name='bla',\n",
    "                  marker=dict(symbol='circle-dot',\n",
    "                                size=18,\n",
    "                                color='#6175c1',    #'#DB4551',\n",
    "                                line=dict(color='rgb(50,50,50)', width=1)\n",
    "                                ),\n",
    "                  text=labels,\n",
    "                  hoverinfo='text',\n",
    "                  opacity=0.8\n",
    "                  ))\n",
    "fig.show()"
   ]
  },
  {
   "cell_type": "code",
   "execution_count": 129,
   "metadata": {},
   "outputs": [
    {
     "data": {
      "text/plain": [
       "{'eat': {'hyponyms': ['evening'],\n",
       "  'meronyms': ['sunday', 'morning', 'saturday']},\n",
       " 'hour': {'hyponyms': ['night', 'rag', 'evening'],\n",
       "  'meronyms': ['weekend', 'morning', 'evening']}}"
      ]
     },
     "execution_count": 129,
     "metadata": {},
     "output_type": "execute_result"
    }
   ],
   "source": [
    "hypo_mero_map"
   ]
  },
  {
   "cell_type": "code",
   "execution_count": null,
   "metadata": {},
   "outputs": [],
   "source": [
    "def make_annotations(pos, text, font_size=10, font_color='rgb(250,250,250)'):\n",
    "    L=len(pos)\n",
    "    if len(text)!=L:\n",
    "        raise ValueError('The lists pos and text must have the same len')\n",
    "    annotations = []\n",
    "    for k in range(L):\n",
    "        annotations.append(\n",
    "            dict(\n",
    "                text=labels[k], # or replace labels with a different list for the text within the circle\n",
    "                x=pos[k][0], y=2*M-position[k][1],\n",
    "                xref='x1', yref='y1',\n",
    "                font=dict(color=font_color, size=font_size),\n",
    "                showarrow=False)\n",
    "        )\n",
    "    return annotations\n"
   ]
  },
  {
   "cell_type": "code",
   "execution_count": null,
   "metadata": {},
   "outputs": [],
   "source": [
    "axis = dict(showline=False, # hide axis line, grid, ticklabels and  title\n",
    "            zeroline=False,\n",
    "            showgrid=False,\n",
    "            showticklabels=False,\n",
    "            )\n",
    "\n",
    "fig.update_layout(title= 'Tree with Reingold-Tilford Layout',\n",
    "              annotations=make_annotations(position, v_label),\n",
    "              font_size=12,\n",
    "              showlegend=False,\n",
    "              xaxis=axis,\n",
    "              yaxis=axis,\n",
    "              margin=dict(l=40, r=40, b=85, t=100),\n",
    "              hovermode='closest',\n",
    "              plot_bgcolor='rgb(248,248,248)'\n",
    "              )\n",
    "fig.show()"
   ]
  },
  {
   "cell_type": "code",
   "execution_count": null,
   "metadata": {},
   "outputs": [],
   "source": []
  },
  {
   "cell_type": "code",
   "execution_count": null,
   "metadata": {},
   "outputs": [],
   "source": []
  },
  {
   "cell_type": "code",
   "execution_count": null,
   "metadata": {},
   "outputs": [],
   "source": []
  },
  {
   "cell_type": "markdown",
   "metadata": {},
   "source": [
    "#### Custom Graph"
   ]
  },
  {
   "cell_type": "code",
   "execution_count": 254,
   "metadata": {},
   "outputs": [],
   "source": [
    "import math"
   ]
  },
  {
   "cell_type": "code",
   "execution_count": 255,
   "metadata": {},
   "outputs": [
    {
     "data": {
      "text/plain": [
       "{'eat': {'hyponyms': ['evening'],\n",
       "  'meronyms': ['sunday', 'morning', 'saturday']},\n",
       " 'hour': {'hyponyms': ['night', 'rag', 'evening'],\n",
       "  'meronyms': ['weekend', 'morning', 'evening']}}"
      ]
     },
     "execution_count": 255,
     "metadata": {},
     "output_type": "execute_result"
    }
   ],
   "source": [
    "hypo_mero_map"
   ]
  },
  {
   "cell_type": "code",
   "execution_count": 256,
   "metadata": {},
   "outputs": [],
   "source": [
    "hyper_start = 0"
   ]
  },
  {
   "cell_type": "code",
   "execution_count": 257,
   "metadata": {},
   "outputs": [],
   "source": [
    "word_y = 0\n",
    "word_x = 0\n",
    "hyper_y = 2\n",
    "hyper_x = 0\n",
    "\n",
    "hypo_y = -2"
   ]
  },
  {
   "cell_type": "code",
   "execution_count": 258,
   "metadata": {},
   "outputs": [],
   "source": [
    "position = {}\n",
    "edges = {}"
   ]
  },
  {
   "cell_type": "code",
   "execution_count": 259,
   "metadata": {},
   "outputs": [
    {
     "data": {
      "text/plain": [
       "{'hyponyms': ['evening'], 'meronyms': ['sunday', 'morning', 'saturday']}"
      ]
     },
     "execution_count": 259,
     "metadata": {},
     "output_type": "execute_result"
    }
   ],
   "source": [
    "hypo_mero_map[\"eat\"]"
   ]
  },
  {
   "cell_type": "code",
   "execution_count": 260,
   "metadata": {},
   "outputs": [],
   "source": [
    "hyper = \"eat\"\n",
    "hypo = hypo_mero_map[hyper]['hyponyms']\n",
    "mero = hypo_mero_map[hyper]['meronyms']"
   ]
  },
  {
   "cell_type": "code",
   "execution_count": 261,
   "metadata": {},
   "outputs": [],
   "source": [
    "position[word] = [word_x, word_y]"
   ]
  },
  {
   "cell_type": "code",
   "execution_count": 262,
   "metadata": {},
   "outputs": [],
   "source": [
    "position[hyper] = [hyper_x, hyper_y]\n",
    "hyper_x +=2\n",
    "hypo_start = 0 - math.ceil(len(hypo)/2) if len(hypo)>1 else 0\n",
    "hypo_x = hypo_start\n",
    "for h in hypo:\n",
    "    if h in position:\n",
    "        position[f\"{h}_{hyper}\"] = [hypo_x, hypo_y]\n",
    "        hypo_x +=2\n",
    "    else:\n",
    "        position[h] = [hypo_x, hypo_y]\n",
    "        hypo_x +=2\n",
    "\n",
    "mero_start = 0 - math.ceil(len(mero)/2) if len(mero)>1 else 0\n",
    "mero_x = mero_start    \n",
    "for m in mero:\n",
    "    if m in position:\n",
    "        position[f\"{m}_{hyper}\"] = [mero_x, hypo_y-2]\n",
    "        mero_x +=2\n",
    "    else:\n",
    "        position[m] = [mero_x, hypo_y-2]\n",
    "        mero_x +=2\n"
   ]
  },
  {
   "cell_type": "code",
   "execution_count": 263,
   "metadata": {},
   "outputs": [],
   "source": [
    "hyper = \"hour\"\n",
    "hypo = hypo_mero_map[hyper]['hyponyms']\n",
    "mero = hypo_mero_map[hyper]['meronyms']"
   ]
  },
  {
   "cell_type": "code",
   "execution_count": 264,
   "metadata": {},
   "outputs": [],
   "source": [
    "position[hyper] = [hyper_x, hyper_y]\n",
    "hyper_x +=2\n",
    "hypo_start += 0 - math.ceil(len(hypo)/2) if len(hypo)>1 else 0\n",
    "for h in hypo:\n",
    "    if h in position:\n",
    "        position[f\"{h}_{hyper}\"] = [hypo_x, hypo_y]\n",
    "        hypo_x +=2\n",
    "    else:\n",
    "        position[h] = [hypo_x, hypo_y]\n",
    "        hypo_x +=2\n",
    "\n",
    "mero_start += 0 - math.ceil(len(mero)/2) if len(mero)>1 else 0  \n",
    "for m in mero:\n",
    "    if m in position:\n",
    "        position[f\"{m}_{hyper}\"] = [mero_x, hypo_y-2]\n",
    "        mero_x +=2\n",
    "    else:\n",
    "        position[m] = [mero_x, hypo_y-2]\n",
    "        mero_x +=2\n"
   ]
  },
  {
   "cell_type": "code",
   "execution_count": 265,
   "metadata": {},
   "outputs": [
    {
     "data": {
      "text/plain": [
       "{'day': [0, 0],\n",
       " 'eat': [0, 2],\n",
       " 'evening': [0, -2],\n",
       " 'sunday': [-2, -4],\n",
       " 'morning': [0, -4],\n",
       " 'saturday': [2, -4],\n",
       " 'hour': [2, 2],\n",
       " 'night': [2, -2],\n",
       " 'rag': [4, -2],\n",
       " 'evening_hour': [8, -4],\n",
       " 'weekend': [4, -4],\n",
       " 'morning_hour': [6, -4]}"
      ]
     },
     "execution_count": 265,
     "metadata": {},
     "output_type": "execute_result"
    }
   ],
   "source": [
    "position"
   ]
  },
  {
   "cell_type": "code",
   "execution_count": null,
   "metadata": {},
   "outputs": [],
   "source": []
  },
  {
   "cell_type": "code",
   "execution_count": 266,
   "metadata": {},
   "outputs": [],
   "source": [
    "labels = list(position.keys())\n",
    "Xn = [position[k][0] for k in labels]\n",
    "Yn = [position[k][1] for k in labels]\n"
   ]
  },
  {
   "cell_type": "code",
   "execution_count": 267,
   "metadata": {},
   "outputs": [
    {
     "data": {
      "application/vnd.plotly.v1+json": {
       "config": {
        "plotlyServerURL": "https://plot.ly"
       },
       "data": [
        {
         "hoverinfo": "text",
         "marker": {
          "color": "#6175c1",
          "line": {
           "color": "rgb(50,50,50)",
           "width": 1
          },
          "size": 18,
          "symbol": "circle-dot"
         },
         "mode": "markers",
         "name": "bla",
         "opacity": 0.8,
         "text": [
          "day",
          "eat",
          "evening",
          "sunday",
          "morning",
          "saturday",
          "hour",
          "night",
          "rag",
          "evening_hour",
          "weekend",
          "morning_hour"
         ],
         "type": "scatter",
         "x": [
          0,
          0,
          0,
          -2,
          0,
          2,
          2,
          2,
          4,
          8,
          4,
          6
         ],
         "y": [
          0,
          2,
          -2,
          -4,
          -4,
          -4,
          2,
          -2,
          -2,
          -4,
          -4,
          -4
         ]
        }
       ],
       "layout": {
        "template": {
         "data": {
          "bar": [
           {
            "error_x": {
             "color": "#2a3f5f"
            },
            "error_y": {
             "color": "#2a3f5f"
            },
            "marker": {
             "line": {
              "color": "#E5ECF6",
              "width": 0.5
             }
            },
            "type": "bar"
           }
          ],
          "barpolar": [
           {
            "marker": {
             "line": {
              "color": "#E5ECF6",
              "width": 0.5
             }
            },
            "type": "barpolar"
           }
          ],
          "carpet": [
           {
            "aaxis": {
             "endlinecolor": "#2a3f5f",
             "gridcolor": "white",
             "linecolor": "white",
             "minorgridcolor": "white",
             "startlinecolor": "#2a3f5f"
            },
            "baxis": {
             "endlinecolor": "#2a3f5f",
             "gridcolor": "white",
             "linecolor": "white",
             "minorgridcolor": "white",
             "startlinecolor": "#2a3f5f"
            },
            "type": "carpet"
           }
          ],
          "choropleth": [
           {
            "colorbar": {
             "outlinewidth": 0,
             "ticks": ""
            },
            "type": "choropleth"
           }
          ],
          "contour": [
           {
            "colorbar": {
             "outlinewidth": 0,
             "ticks": ""
            },
            "colorscale": [
             [
              0,
              "#0d0887"
             ],
             [
              0.1111111111111111,
              "#46039f"
             ],
             [
              0.2222222222222222,
              "#7201a8"
             ],
             [
              0.3333333333333333,
              "#9c179e"
             ],
             [
              0.4444444444444444,
              "#bd3786"
             ],
             [
              0.5555555555555556,
              "#d8576b"
             ],
             [
              0.6666666666666666,
              "#ed7953"
             ],
             [
              0.7777777777777778,
              "#fb9f3a"
             ],
             [
              0.8888888888888888,
              "#fdca26"
             ],
             [
              1,
              "#f0f921"
             ]
            ],
            "type": "contour"
           }
          ],
          "contourcarpet": [
           {
            "colorbar": {
             "outlinewidth": 0,
             "ticks": ""
            },
            "type": "contourcarpet"
           }
          ],
          "heatmap": [
           {
            "colorbar": {
             "outlinewidth": 0,
             "ticks": ""
            },
            "colorscale": [
             [
              0,
              "#0d0887"
             ],
             [
              0.1111111111111111,
              "#46039f"
             ],
             [
              0.2222222222222222,
              "#7201a8"
             ],
             [
              0.3333333333333333,
              "#9c179e"
             ],
             [
              0.4444444444444444,
              "#bd3786"
             ],
             [
              0.5555555555555556,
              "#d8576b"
             ],
             [
              0.6666666666666666,
              "#ed7953"
             ],
             [
              0.7777777777777778,
              "#fb9f3a"
             ],
             [
              0.8888888888888888,
              "#fdca26"
             ],
             [
              1,
              "#f0f921"
             ]
            ],
            "type": "heatmap"
           }
          ],
          "heatmapgl": [
           {
            "colorbar": {
             "outlinewidth": 0,
             "ticks": ""
            },
            "colorscale": [
             [
              0,
              "#0d0887"
             ],
             [
              0.1111111111111111,
              "#46039f"
             ],
             [
              0.2222222222222222,
              "#7201a8"
             ],
             [
              0.3333333333333333,
              "#9c179e"
             ],
             [
              0.4444444444444444,
              "#bd3786"
             ],
             [
              0.5555555555555556,
              "#d8576b"
             ],
             [
              0.6666666666666666,
              "#ed7953"
             ],
             [
              0.7777777777777778,
              "#fb9f3a"
             ],
             [
              0.8888888888888888,
              "#fdca26"
             ],
             [
              1,
              "#f0f921"
             ]
            ],
            "type": "heatmapgl"
           }
          ],
          "histogram": [
           {
            "marker": {
             "colorbar": {
              "outlinewidth": 0,
              "ticks": ""
             }
            },
            "type": "histogram"
           }
          ],
          "histogram2d": [
           {
            "colorbar": {
             "outlinewidth": 0,
             "ticks": ""
            },
            "colorscale": [
             [
              0,
              "#0d0887"
             ],
             [
              0.1111111111111111,
              "#46039f"
             ],
             [
              0.2222222222222222,
              "#7201a8"
             ],
             [
              0.3333333333333333,
              "#9c179e"
             ],
             [
              0.4444444444444444,
              "#bd3786"
             ],
             [
              0.5555555555555556,
              "#d8576b"
             ],
             [
              0.6666666666666666,
              "#ed7953"
             ],
             [
              0.7777777777777778,
              "#fb9f3a"
             ],
             [
              0.8888888888888888,
              "#fdca26"
             ],
             [
              1,
              "#f0f921"
             ]
            ],
            "type": "histogram2d"
           }
          ],
          "histogram2dcontour": [
           {
            "colorbar": {
             "outlinewidth": 0,
             "ticks": ""
            },
            "colorscale": [
             [
              0,
              "#0d0887"
             ],
             [
              0.1111111111111111,
              "#46039f"
             ],
             [
              0.2222222222222222,
              "#7201a8"
             ],
             [
              0.3333333333333333,
              "#9c179e"
             ],
             [
              0.4444444444444444,
              "#bd3786"
             ],
             [
              0.5555555555555556,
              "#d8576b"
             ],
             [
              0.6666666666666666,
              "#ed7953"
             ],
             [
              0.7777777777777778,
              "#fb9f3a"
             ],
             [
              0.8888888888888888,
              "#fdca26"
             ],
             [
              1,
              "#f0f921"
             ]
            ],
            "type": "histogram2dcontour"
           }
          ],
          "mesh3d": [
           {
            "colorbar": {
             "outlinewidth": 0,
             "ticks": ""
            },
            "type": "mesh3d"
           }
          ],
          "parcoords": [
           {
            "line": {
             "colorbar": {
              "outlinewidth": 0,
              "ticks": ""
             }
            },
            "type": "parcoords"
           }
          ],
          "pie": [
           {
            "automargin": true,
            "type": "pie"
           }
          ],
          "scatter": [
           {
            "marker": {
             "colorbar": {
              "outlinewidth": 0,
              "ticks": ""
             }
            },
            "type": "scatter"
           }
          ],
          "scatter3d": [
           {
            "line": {
             "colorbar": {
              "outlinewidth": 0,
              "ticks": ""
             }
            },
            "marker": {
             "colorbar": {
              "outlinewidth": 0,
              "ticks": ""
             }
            },
            "type": "scatter3d"
           }
          ],
          "scattercarpet": [
           {
            "marker": {
             "colorbar": {
              "outlinewidth": 0,
              "ticks": ""
             }
            },
            "type": "scattercarpet"
           }
          ],
          "scattergeo": [
           {
            "marker": {
             "colorbar": {
              "outlinewidth": 0,
              "ticks": ""
             }
            },
            "type": "scattergeo"
           }
          ],
          "scattergl": [
           {
            "marker": {
             "colorbar": {
              "outlinewidth": 0,
              "ticks": ""
             }
            },
            "type": "scattergl"
           }
          ],
          "scattermapbox": [
           {
            "marker": {
             "colorbar": {
              "outlinewidth": 0,
              "ticks": ""
             }
            },
            "type": "scattermapbox"
           }
          ],
          "scatterpolar": [
           {
            "marker": {
             "colorbar": {
              "outlinewidth": 0,
              "ticks": ""
             }
            },
            "type": "scatterpolar"
           }
          ],
          "scatterpolargl": [
           {
            "marker": {
             "colorbar": {
              "outlinewidth": 0,
              "ticks": ""
             }
            },
            "type": "scatterpolargl"
           }
          ],
          "scatterternary": [
           {
            "marker": {
             "colorbar": {
              "outlinewidth": 0,
              "ticks": ""
             }
            },
            "type": "scatterternary"
           }
          ],
          "surface": [
           {
            "colorbar": {
             "outlinewidth": 0,
             "ticks": ""
            },
            "colorscale": [
             [
              0,
              "#0d0887"
             ],
             [
              0.1111111111111111,
              "#46039f"
             ],
             [
              0.2222222222222222,
              "#7201a8"
             ],
             [
              0.3333333333333333,
              "#9c179e"
             ],
             [
              0.4444444444444444,
              "#bd3786"
             ],
             [
              0.5555555555555556,
              "#d8576b"
             ],
             [
              0.6666666666666666,
              "#ed7953"
             ],
             [
              0.7777777777777778,
              "#fb9f3a"
             ],
             [
              0.8888888888888888,
              "#fdca26"
             ],
             [
              1,
              "#f0f921"
             ]
            ],
            "type": "surface"
           }
          ],
          "table": [
           {
            "cells": {
             "fill": {
              "color": "#EBF0F8"
             },
             "line": {
              "color": "white"
             }
            },
            "header": {
             "fill": {
              "color": "#C8D4E3"
             },
             "line": {
              "color": "white"
             }
            },
            "type": "table"
           }
          ]
         },
         "layout": {
          "annotationdefaults": {
           "arrowcolor": "#2a3f5f",
           "arrowhead": 0,
           "arrowwidth": 1
          },
          "coloraxis": {
           "colorbar": {
            "outlinewidth": 0,
            "ticks": ""
           }
          },
          "colorscale": {
           "diverging": [
            [
             0,
             "#8e0152"
            ],
            [
             0.1,
             "#c51b7d"
            ],
            [
             0.2,
             "#de77ae"
            ],
            [
             0.3,
             "#f1b6da"
            ],
            [
             0.4,
             "#fde0ef"
            ],
            [
             0.5,
             "#f7f7f7"
            ],
            [
             0.6,
             "#e6f5d0"
            ],
            [
             0.7,
             "#b8e186"
            ],
            [
             0.8,
             "#7fbc41"
            ],
            [
             0.9,
             "#4d9221"
            ],
            [
             1,
             "#276419"
            ]
           ],
           "sequential": [
            [
             0,
             "#0d0887"
            ],
            [
             0.1111111111111111,
             "#46039f"
            ],
            [
             0.2222222222222222,
             "#7201a8"
            ],
            [
             0.3333333333333333,
             "#9c179e"
            ],
            [
             0.4444444444444444,
             "#bd3786"
            ],
            [
             0.5555555555555556,
             "#d8576b"
            ],
            [
             0.6666666666666666,
             "#ed7953"
            ],
            [
             0.7777777777777778,
             "#fb9f3a"
            ],
            [
             0.8888888888888888,
             "#fdca26"
            ],
            [
             1,
             "#f0f921"
            ]
           ],
           "sequentialminus": [
            [
             0,
             "#0d0887"
            ],
            [
             0.1111111111111111,
             "#46039f"
            ],
            [
             0.2222222222222222,
             "#7201a8"
            ],
            [
             0.3333333333333333,
             "#9c179e"
            ],
            [
             0.4444444444444444,
             "#bd3786"
            ],
            [
             0.5555555555555556,
             "#d8576b"
            ],
            [
             0.6666666666666666,
             "#ed7953"
            ],
            [
             0.7777777777777778,
             "#fb9f3a"
            ],
            [
             0.8888888888888888,
             "#fdca26"
            ],
            [
             1,
             "#f0f921"
            ]
           ]
          },
          "colorway": [
           "#636efa",
           "#EF553B",
           "#00cc96",
           "#ab63fa",
           "#FFA15A",
           "#19d3f3",
           "#FF6692",
           "#B6E880",
           "#FF97FF",
           "#FECB52"
          ],
          "font": {
           "color": "#2a3f5f"
          },
          "geo": {
           "bgcolor": "white",
           "lakecolor": "white",
           "landcolor": "#E5ECF6",
           "showlakes": true,
           "showland": true,
           "subunitcolor": "white"
          },
          "hoverlabel": {
           "align": "left"
          },
          "hovermode": "closest",
          "mapbox": {
           "style": "light"
          },
          "paper_bgcolor": "white",
          "plot_bgcolor": "#E5ECF6",
          "polar": {
           "angularaxis": {
            "gridcolor": "white",
            "linecolor": "white",
            "ticks": ""
           },
           "bgcolor": "#E5ECF6",
           "radialaxis": {
            "gridcolor": "white",
            "linecolor": "white",
            "ticks": ""
           }
          },
          "scene": {
           "xaxis": {
            "backgroundcolor": "#E5ECF6",
            "gridcolor": "white",
            "gridwidth": 2,
            "linecolor": "white",
            "showbackground": true,
            "ticks": "",
            "zerolinecolor": "white"
           },
           "yaxis": {
            "backgroundcolor": "#E5ECF6",
            "gridcolor": "white",
            "gridwidth": 2,
            "linecolor": "white",
            "showbackground": true,
            "ticks": "",
            "zerolinecolor": "white"
           },
           "zaxis": {
            "backgroundcolor": "#E5ECF6",
            "gridcolor": "white",
            "gridwidth": 2,
            "linecolor": "white",
            "showbackground": true,
            "ticks": "",
            "zerolinecolor": "white"
           }
          },
          "shapedefaults": {
           "line": {
            "color": "#2a3f5f"
           }
          },
          "ternary": {
           "aaxis": {
            "gridcolor": "white",
            "linecolor": "white",
            "ticks": ""
           },
           "baxis": {
            "gridcolor": "white",
            "linecolor": "white",
            "ticks": ""
           },
           "bgcolor": "#E5ECF6",
           "caxis": {
            "gridcolor": "white",
            "linecolor": "white",
            "ticks": ""
           }
          },
          "title": {
           "x": 0.05
          },
          "xaxis": {
           "automargin": true,
           "gridcolor": "white",
           "linecolor": "white",
           "ticks": "",
           "title": {
            "standoff": 15
           },
           "zerolinecolor": "white",
           "zerolinewidth": 2
          },
          "yaxis": {
           "automargin": true,
           "gridcolor": "white",
           "linecolor": "white",
           "ticks": "",
           "title": {
            "standoff": 15
           },
           "zerolinecolor": "white",
           "zerolinewidth": 2
          }
         }
        }
       }
      },
      "text/html": [
       "<div>\n",
       "        \n",
       "        \n",
       "            <div id=\"add2e305-7c3b-49a9-9e1c-03ce93ad5db3\" class=\"plotly-graph-div\" style=\"height:525px; width:100%;\"></div>\n",
       "            <script type=\"text/javascript\">\n",
       "                require([\"plotly\"], function(Plotly) {\n",
       "                    window.PLOTLYENV=window.PLOTLYENV || {};\n",
       "                    \n",
       "                if (document.getElementById(\"add2e305-7c3b-49a9-9e1c-03ce93ad5db3\")) {\n",
       "                    Plotly.newPlot(\n",
       "                        'add2e305-7c3b-49a9-9e1c-03ce93ad5db3',\n",
       "                        [{\"hoverinfo\": \"text\", \"marker\": {\"color\": \"#6175c1\", \"line\": {\"color\": \"rgb(50,50,50)\", \"width\": 1}, \"size\": 18, \"symbol\": \"circle-dot\"}, \"mode\": \"markers\", \"name\": \"bla\", \"opacity\": 0.8, \"text\": [\"day\", \"eat\", \"evening\", \"sunday\", \"morning\", \"saturday\", \"hour\", \"night\", \"rag\", \"evening_hour\", \"weekend\", \"morning_hour\"], \"type\": \"scatter\", \"x\": [0, 0, 0, -2, 0, 2, 2, 2, 4, 8, 4, 6], \"y\": [0, 2, -2, -4, -4, -4, 2, -2, -2, -4, -4, -4]}],\n",
       "                        {\"template\": {\"data\": {\"bar\": [{\"error_x\": {\"color\": \"#2a3f5f\"}, \"error_y\": {\"color\": \"#2a3f5f\"}, \"marker\": {\"line\": {\"color\": \"#E5ECF6\", \"width\": 0.5}}, \"type\": \"bar\"}], \"barpolar\": [{\"marker\": {\"line\": {\"color\": \"#E5ECF6\", \"width\": 0.5}}, \"type\": \"barpolar\"}], \"carpet\": [{\"aaxis\": {\"endlinecolor\": \"#2a3f5f\", \"gridcolor\": \"white\", \"linecolor\": \"white\", \"minorgridcolor\": \"white\", \"startlinecolor\": \"#2a3f5f\"}, \"baxis\": {\"endlinecolor\": \"#2a3f5f\", \"gridcolor\": \"white\", \"linecolor\": \"white\", \"minorgridcolor\": \"white\", \"startlinecolor\": \"#2a3f5f\"}, \"type\": \"carpet\"}], \"choropleth\": [{\"colorbar\": {\"outlinewidth\": 0, \"ticks\": \"\"}, \"type\": \"choropleth\"}], \"contour\": [{\"colorbar\": {\"outlinewidth\": 0, \"ticks\": \"\"}, \"colorscale\": [[0.0, \"#0d0887\"], [0.1111111111111111, \"#46039f\"], [0.2222222222222222, \"#7201a8\"], [0.3333333333333333, \"#9c179e\"], [0.4444444444444444, \"#bd3786\"], [0.5555555555555556, \"#d8576b\"], [0.6666666666666666, \"#ed7953\"], [0.7777777777777778, \"#fb9f3a\"], [0.8888888888888888, \"#fdca26\"], [1.0, \"#f0f921\"]], \"type\": \"contour\"}], \"contourcarpet\": [{\"colorbar\": {\"outlinewidth\": 0, \"ticks\": \"\"}, \"type\": \"contourcarpet\"}], \"heatmap\": [{\"colorbar\": {\"outlinewidth\": 0, \"ticks\": \"\"}, \"colorscale\": [[0.0, \"#0d0887\"], [0.1111111111111111, \"#46039f\"], [0.2222222222222222, \"#7201a8\"], [0.3333333333333333, \"#9c179e\"], [0.4444444444444444, \"#bd3786\"], [0.5555555555555556, \"#d8576b\"], [0.6666666666666666, \"#ed7953\"], [0.7777777777777778, \"#fb9f3a\"], [0.8888888888888888, \"#fdca26\"], [1.0, \"#f0f921\"]], \"type\": \"heatmap\"}], \"heatmapgl\": [{\"colorbar\": {\"outlinewidth\": 0, \"ticks\": \"\"}, \"colorscale\": [[0.0, \"#0d0887\"], [0.1111111111111111, \"#46039f\"], [0.2222222222222222, \"#7201a8\"], [0.3333333333333333, \"#9c179e\"], [0.4444444444444444, \"#bd3786\"], [0.5555555555555556, \"#d8576b\"], [0.6666666666666666, \"#ed7953\"], [0.7777777777777778, \"#fb9f3a\"], [0.8888888888888888, \"#fdca26\"], [1.0, \"#f0f921\"]], \"type\": \"heatmapgl\"}], \"histogram\": [{\"marker\": {\"colorbar\": {\"outlinewidth\": 0, \"ticks\": \"\"}}, \"type\": \"histogram\"}], \"histogram2d\": [{\"colorbar\": {\"outlinewidth\": 0, \"ticks\": \"\"}, \"colorscale\": [[0.0, \"#0d0887\"], [0.1111111111111111, \"#46039f\"], [0.2222222222222222, \"#7201a8\"], [0.3333333333333333, \"#9c179e\"], [0.4444444444444444, \"#bd3786\"], [0.5555555555555556, \"#d8576b\"], [0.6666666666666666, \"#ed7953\"], [0.7777777777777778, \"#fb9f3a\"], [0.8888888888888888, \"#fdca26\"], [1.0, \"#f0f921\"]], \"type\": \"histogram2d\"}], \"histogram2dcontour\": [{\"colorbar\": {\"outlinewidth\": 0, \"ticks\": \"\"}, \"colorscale\": [[0.0, \"#0d0887\"], [0.1111111111111111, \"#46039f\"], [0.2222222222222222, \"#7201a8\"], [0.3333333333333333, \"#9c179e\"], [0.4444444444444444, \"#bd3786\"], [0.5555555555555556, \"#d8576b\"], [0.6666666666666666, \"#ed7953\"], [0.7777777777777778, \"#fb9f3a\"], [0.8888888888888888, \"#fdca26\"], [1.0, \"#f0f921\"]], \"type\": \"histogram2dcontour\"}], \"mesh3d\": [{\"colorbar\": {\"outlinewidth\": 0, \"ticks\": \"\"}, \"type\": \"mesh3d\"}], \"parcoords\": [{\"line\": {\"colorbar\": {\"outlinewidth\": 0, \"ticks\": \"\"}}, \"type\": \"parcoords\"}], \"pie\": [{\"automargin\": true, \"type\": \"pie\"}], \"scatter\": [{\"marker\": {\"colorbar\": {\"outlinewidth\": 0, \"ticks\": \"\"}}, \"type\": \"scatter\"}], \"scatter3d\": [{\"line\": {\"colorbar\": {\"outlinewidth\": 0, \"ticks\": \"\"}}, \"marker\": {\"colorbar\": {\"outlinewidth\": 0, \"ticks\": \"\"}}, \"type\": \"scatter3d\"}], \"scattercarpet\": [{\"marker\": {\"colorbar\": {\"outlinewidth\": 0, \"ticks\": \"\"}}, \"type\": \"scattercarpet\"}], \"scattergeo\": [{\"marker\": {\"colorbar\": {\"outlinewidth\": 0, \"ticks\": \"\"}}, \"type\": \"scattergeo\"}], \"scattergl\": [{\"marker\": {\"colorbar\": {\"outlinewidth\": 0, \"ticks\": \"\"}}, \"type\": \"scattergl\"}], \"scattermapbox\": [{\"marker\": {\"colorbar\": {\"outlinewidth\": 0, \"ticks\": \"\"}}, \"type\": \"scattermapbox\"}], \"scatterpolar\": [{\"marker\": {\"colorbar\": {\"outlinewidth\": 0, \"ticks\": \"\"}}, \"type\": \"scatterpolar\"}], \"scatterpolargl\": [{\"marker\": {\"colorbar\": {\"outlinewidth\": 0, \"ticks\": \"\"}}, \"type\": \"scatterpolargl\"}], \"scatterternary\": [{\"marker\": {\"colorbar\": {\"outlinewidth\": 0, \"ticks\": \"\"}}, \"type\": \"scatterternary\"}], \"surface\": [{\"colorbar\": {\"outlinewidth\": 0, \"ticks\": \"\"}, \"colorscale\": [[0.0, \"#0d0887\"], [0.1111111111111111, \"#46039f\"], [0.2222222222222222, \"#7201a8\"], [0.3333333333333333, \"#9c179e\"], [0.4444444444444444, \"#bd3786\"], [0.5555555555555556, \"#d8576b\"], [0.6666666666666666, \"#ed7953\"], [0.7777777777777778, \"#fb9f3a\"], [0.8888888888888888, \"#fdca26\"], [1.0, \"#f0f921\"]], \"type\": \"surface\"}], \"table\": [{\"cells\": {\"fill\": {\"color\": \"#EBF0F8\"}, \"line\": {\"color\": \"white\"}}, \"header\": {\"fill\": {\"color\": \"#C8D4E3\"}, \"line\": {\"color\": \"white\"}}, \"type\": \"table\"}]}, \"layout\": {\"annotationdefaults\": {\"arrowcolor\": \"#2a3f5f\", \"arrowhead\": 0, \"arrowwidth\": 1}, \"coloraxis\": {\"colorbar\": {\"outlinewidth\": 0, \"ticks\": \"\"}}, \"colorscale\": {\"diverging\": [[0, \"#8e0152\"], [0.1, \"#c51b7d\"], [0.2, \"#de77ae\"], [0.3, \"#f1b6da\"], [0.4, \"#fde0ef\"], [0.5, \"#f7f7f7\"], [0.6, \"#e6f5d0\"], [0.7, \"#b8e186\"], [0.8, \"#7fbc41\"], [0.9, \"#4d9221\"], [1, \"#276419\"]], \"sequential\": [[0.0, \"#0d0887\"], [0.1111111111111111, \"#46039f\"], [0.2222222222222222, \"#7201a8\"], [0.3333333333333333, \"#9c179e\"], [0.4444444444444444, \"#bd3786\"], [0.5555555555555556, \"#d8576b\"], [0.6666666666666666, \"#ed7953\"], [0.7777777777777778, \"#fb9f3a\"], [0.8888888888888888, \"#fdca26\"], [1.0, \"#f0f921\"]], \"sequentialminus\": [[0.0, \"#0d0887\"], [0.1111111111111111, \"#46039f\"], [0.2222222222222222, \"#7201a8\"], [0.3333333333333333, \"#9c179e\"], [0.4444444444444444, \"#bd3786\"], [0.5555555555555556, \"#d8576b\"], [0.6666666666666666, \"#ed7953\"], [0.7777777777777778, \"#fb9f3a\"], [0.8888888888888888, \"#fdca26\"], [1.0, \"#f0f921\"]]}, \"colorway\": [\"#636efa\", \"#EF553B\", \"#00cc96\", \"#ab63fa\", \"#FFA15A\", \"#19d3f3\", \"#FF6692\", \"#B6E880\", \"#FF97FF\", \"#FECB52\"], \"font\": {\"color\": \"#2a3f5f\"}, \"geo\": {\"bgcolor\": \"white\", \"lakecolor\": \"white\", \"landcolor\": \"#E5ECF6\", \"showlakes\": true, \"showland\": true, \"subunitcolor\": \"white\"}, \"hoverlabel\": {\"align\": \"left\"}, \"hovermode\": \"closest\", \"mapbox\": {\"style\": \"light\"}, \"paper_bgcolor\": \"white\", \"plot_bgcolor\": \"#E5ECF6\", \"polar\": {\"angularaxis\": {\"gridcolor\": \"white\", \"linecolor\": \"white\", \"ticks\": \"\"}, \"bgcolor\": \"#E5ECF6\", \"radialaxis\": {\"gridcolor\": \"white\", \"linecolor\": \"white\", \"ticks\": \"\"}}, \"scene\": {\"xaxis\": {\"backgroundcolor\": \"#E5ECF6\", \"gridcolor\": \"white\", \"gridwidth\": 2, \"linecolor\": \"white\", \"showbackground\": true, \"ticks\": \"\", \"zerolinecolor\": \"white\"}, \"yaxis\": {\"backgroundcolor\": \"#E5ECF6\", \"gridcolor\": \"white\", \"gridwidth\": 2, \"linecolor\": \"white\", \"showbackground\": true, \"ticks\": \"\", \"zerolinecolor\": \"white\"}, \"zaxis\": {\"backgroundcolor\": \"#E5ECF6\", \"gridcolor\": \"white\", \"gridwidth\": 2, \"linecolor\": \"white\", \"showbackground\": true, \"ticks\": \"\", \"zerolinecolor\": \"white\"}}, \"shapedefaults\": {\"line\": {\"color\": \"#2a3f5f\"}}, \"ternary\": {\"aaxis\": {\"gridcolor\": \"white\", \"linecolor\": \"white\", \"ticks\": \"\"}, \"baxis\": {\"gridcolor\": \"white\", \"linecolor\": \"white\", \"ticks\": \"\"}, \"bgcolor\": \"#E5ECF6\", \"caxis\": {\"gridcolor\": \"white\", \"linecolor\": \"white\", \"ticks\": \"\"}}, \"title\": {\"x\": 0.05}, \"xaxis\": {\"automargin\": true, \"gridcolor\": \"white\", \"linecolor\": \"white\", \"ticks\": \"\", \"title\": {\"standoff\": 15}, \"zerolinecolor\": \"white\", \"zerolinewidth\": 2}, \"yaxis\": {\"automargin\": true, \"gridcolor\": \"white\", \"linecolor\": \"white\", \"ticks\": \"\", \"title\": {\"standoff\": 15}, \"zerolinecolor\": \"white\", \"zerolinewidth\": 2}}}},\n",
       "                        {\"responsive\": true}\n",
       "                    ).then(function(){\n",
       "                            \n",
       "var gd = document.getElementById('add2e305-7c3b-49a9-9e1c-03ce93ad5db3');\n",
       "var x = new MutationObserver(function (mutations, observer) {{\n",
       "        var display = window.getComputedStyle(gd).display;\n",
       "        if (!display || display === 'none') {{\n",
       "            console.log([gd, 'removed!']);\n",
       "            Plotly.purge(gd);\n",
       "            observer.disconnect();\n",
       "        }}\n",
       "}});\n",
       "\n",
       "// Listen for the removal of the full notebook cells\n",
       "var notebookContainer = gd.closest('#notebook-container');\n",
       "if (notebookContainer) {{\n",
       "    x.observe(notebookContainer, {childList: true});\n",
       "}}\n",
       "\n",
       "// Listen for the clearing of the current output cell\n",
       "var outputEl = gd.closest('.output');\n",
       "if (outputEl) {{\n",
       "    x.observe(outputEl, {childList: true});\n",
       "}}\n",
       "\n",
       "                        })\n",
       "                };\n",
       "                });\n",
       "            </script>\n",
       "        </div>"
      ]
     },
     "metadata": {},
     "output_type": "display_data"
    }
   ],
   "source": [
    "\n",
    "fig = go.Figure()\n",
    "# fig.add_trace(go.Scatter(x=Xe,\n",
    "#                    y=Ye,\n",
    "#                    mode='lines',\n",
    "#                    line=dict(color='rgb(210,210,210)', width=1),\n",
    "#                    hoverinfo='none'\n",
    "#                    ))\n",
    "fig.add_trace(go.Scatter(y=Yn,\n",
    "                  x=Xn,\n",
    "                  mode='markers',\n",
    "                  name='bla',\n",
    "                  marker=dict(symbol='circle-dot',\n",
    "                                size=18,\n",
    "                                color='#6175c1',    #'#DB4551',\n",
    "                                line=dict(color='rgb(50,50,50)', width=1)\n",
    "                                ),\n",
    "                  text=labels,\n",
    "                  hoverinfo='text',\n",
    "                  opacity=0.8\n",
    "                  ))\n",
    "fig.show()"
   ]
  },
  {
   "cell_type": "code",
   "execution_count": 253,
   "metadata": {},
   "outputs": [
    {
     "data": {
      "text/plain": [
       "{'eat': {'hyponyms': ['evening'],\n",
       "  'meronyms': ['sunday', 'morning', 'saturday']},\n",
       " 'hour': {'hyponyms': ['night', 'rag', 'evening'],\n",
       "  'meronyms': ['weekend', 'morning', 'evening']}}"
      ]
     },
     "execution_count": 253,
     "metadata": {},
     "output_type": "execute_result"
    }
   ],
   "source": [
    "hypo_mero_map"
   ]
  },
  {
   "cell_type": "code",
   "execution_count": 234,
   "metadata": {},
   "outputs": [],
   "source": []
  },
  {
   "cell_type": "code",
   "execution_count": null,
   "metadata": {},
   "outputs": [],
   "source": []
  }
 ],
 "metadata": {
  "kernelspec": {
   "display_name": "Python 3",
   "language": "python",
   "name": "python3"
  },
  "language_info": {
   "codemirror_mode": {
    "name": "ipython",
    "version": 3
   },
   "file_extension": ".py",
   "mimetype": "text/x-python",
   "name": "python",
   "nbconvert_exporter": "python",
   "pygments_lexer": "ipython3",
   "version": "3.6.10"
  }
 },
 "nbformat": 4,
 "nbformat_minor": 4
}
