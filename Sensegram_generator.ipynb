{
 "cells": [
  {
   "cell_type": "markdown",
   "metadata": {},
   "source": [
    "# **Generate Sense Embeddings from word2vec Embeddings**"
   ]
  },
  {
   "cell_type": "markdown",
   "metadata": {},
   "source": [
    "#### 0. Constants and imports"
   ]
  },
  {
   "cell_type": "code",
   "execution_count": 1,
   "metadata": {},
   "outputs": [],
   "source": [
    "import os\n",
    "import sys\n",
    "import subprocess\n",
    "from gensim.models.keyedvectors import KeyedVectors"
   ]
  },
  {
   "cell_type": "code",
   "execution_count": 4,
   "metadata": {},
   "outputs": [],
   "source": [
    "setup = True\n",
    "generate_txt_embeddings = True\n",
    "data_file = \"data/corpus.txt\"\n",
    "embeddings_file = \"data/word2vec_twitter_tokens.bin\"\n",
    "embeddings_txt_file = \"data/word2vec_twitter_tokens.word_vectors\""
   ]
  },
  {
   "cell_type": "markdown",
   "metadata": {},
   "source": [
    "#### 1. Install the packages"
   ]
  },
  {
   "cell_type": "markdown",
   "metadata": {},
   "source": [
    "All base packages are defined in the requirements file, but faiss is installed as a separate component due to it's OS compatibility issues.\n",
    "Data from spacy is downloaded using shell."
   ]
  },
  {
   "cell_type": "code",
   "execution_count": 5,
   "metadata": {},
   "outputs": [],
   "source": [
    "if setup:\n",
    "    subprocess.call(\"pip install -r requirements.txt\".split())\n",
    "    subprocess.call(\"python -m spacy download en\".split())\n",
    "    subprocess.call(\"pip install faiss-cpu\".split())"
   ]
  },
  {
   "cell_type": "markdown",
   "metadata": {},
   "source": [
    "--------"
   ]
  },
  {
   "cell_type": "markdown",
   "metadata": {},
   "source": [
    "#### 2. Generate embeddings *.txt* file\n",
    "\n",
    "As the Sensegram generator repo expects the embeddings to either be present as *.txt* or *.gz* file, we need to read in the *.bin* file obtained from the download link from Goldin's repo.  \n",
    "Generate *.txt* file using Gensim, and write to *.word_vectors* file, as mentioned by the creators of Sensegram"
   ]
  },
  {
   "cell_type": "code",
   "execution_count": 6,
   "metadata": {},
   "outputs": [],
   "source": [
    "if (not os.path.exists(embeddings_txt_file)) and generate_txt_embeddings:\n",
    "    model = KeyedVectors.load_word2vec_format(embeddings_file, binary=True, unicode_errors='ignore')\n",
    "    model.save_word2vec_format(embeddings_txt_file, binary=False)"
   ]
  },
  {
   "cell_type": "markdown",
   "metadata": {},
   "source": [
    "--------"
   ]
  },
  {
   "cell_type": "markdown",
   "metadata": {},
   "source": [
    "#### 3. Generate Sense Embeddings\n",
    "Mark the *sensegram_package* github repo as a package(by appending to system path), to allow for relative imports within the package files"
   ]
  },
  {
   "cell_type": "code",
   "execution_count": 12,
   "metadata": {},
   "outputs": [],
   "source": [
    "sys.path.append(\"sensegram_package/\")"
   ]
  },
  {
   "cell_type": "markdown",
   "metadata": {},
   "source": [
    "Run *train.py* file to generate embeddings using pretrained word2vec embeddings"
   ]
  },
  {
   "cell_type": "code",
   "execution_count": 15,
   "metadata": {},
   "outputs": [
    {
     "data": {
      "text/plain": [
       "0"
      ]
     },
     "execution_count": 15,
     "metadata": {},
     "output_type": "execute_result"
    }
   ],
   "source": [
    "subprocess.call(f\"python sensegram_package/train.py {embeddings_txt_file}\".split())"
   ]
  },
  {
   "cell_type": "code",
   "execution_count": null,
   "metadata": {},
   "outputs": [],
   "source": []
  },
  {
   "cell_type": "code",
   "execution_count": null,
   "metadata": {},
   "outputs": [],
   "source": []
  },
  {
   "cell_type": "code",
   "execution_count": null,
   "metadata": {},
   "outputs": [],
   "source": []
  }
 ],
 "metadata": {
  "kernelspec": {
   "display_name": "Python 3",
   "language": "python",
   "name": "python3"
  },
  "language_info": {
   "codemirror_mode": {
    "name": "ipython",
    "version": 3
   },
   "file_extension": ".py",
   "mimetype": "text/x-python",
   "name": "python",
   "nbconvert_exporter": "python",
   "pygments_lexer": "ipython3",
   "version": "3.6.10"
  }
 },
 "nbformat": 4,
 "nbformat_minor": 4
}
